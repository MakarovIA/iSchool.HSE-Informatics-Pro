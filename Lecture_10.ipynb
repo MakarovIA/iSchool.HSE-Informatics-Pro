{
 "cells": [
  {
   "cell_type": "markdown",
   "metadata": {},
   "source": [
    "# Порядковые статистики\n",
    "\n",
    "Часто, для массива данных необходимо посчитать порядковые статистики. Если исходный массив содержит n элементов, то k-тая порядоковая статистика - число, которое стоит на k-том месте в упорядоченном изначальном массиве. \n",
    "\n",
    "Например: минимум - это 1-ая порядковая статистика, максимум - n-ая порядковая статистика, а медиана - n/2 - порядковая статистика."
   ]
  },
  {
   "cell_type": "code",
   "execution_count": 1,
   "metadata": {
    "collapsed": false
   },
   "outputs": [
    {
     "data": {
      "text/plain": []
     },
     "execution_count": 1,
     "metadata": {},
     "output_type": "execute_result"
    }
   ],
   "source": [
    "#include <iostream>\n",
    "#include <vector>\n",
    "#include <chrono>\n",
    "#include <cstdlib>\n",
    "#include <algorithm>"
   ]
  },
  {
   "cell_type": "code",
   "execution_count": 2,
   "metadata": {
    "collapsed": false
   },
   "outputs": [
    {
     "data": {
      "text/plain": []
     },
     "execution_count": 2,
     "metadata": {},
     "output_type": "execute_result"
    }
   ],
   "source": [
    "typedef std::chrono::milliseconds Milliseconds;\n",
    "typedef std::chrono::steady_clock Clock;\n",
    "typedef Clock::time_point Time;"
   ]
  },
  {
   "cell_type": "code",
   "execution_count": 3,
   "metadata": {
    "collapsed": false
   },
   "outputs": [
    {
     "data": {
      "text/plain": [
       "(void) @0x7ffc6f385410\n"
      ]
     },
     "execution_count": 3,
     "metadata": {},
     "output_type": "execute_result"
    }
   ],
   "source": [
    "srand(time(NULL)); // для генерации чисел"
   ]
  },
  {
   "cell_type": "code",
   "execution_count": 4,
   "metadata": {
    "collapsed": false
   },
   "outputs": [
    {
     "data": {
      "text/plain": []
     },
     "execution_count": 4,
     "metadata": {},
     "output_type": "execute_result"
    }
   ],
   "source": [
    "void gen(std::vector<int> & array, int n) {\n",
    "    array.clear();\n",
    "    for(int i = 0; i < n; i++) {\n",
    "        array.push_back(rand()%n);\n",
    "    }\n",
    "} "
   ]
  },
  {
   "cell_type": "code",
   "execution_count": 5,
   "metadata": {
    "collapsed": false
   },
   "outputs": [
    {
     "data": {
      "text/plain": []
     },
     "execution_count": 5,
     "metadata": {},
     "output_type": "execute_result"
    }
   ],
   "source": [
    "void print(std::vector<int> & array){\n",
    "    for(auto i : array){\n",
    "        std::cout << i << ' ';\n",
    "    }\n",
    "    std::cout << std::endl;\n",
    "}\n",
    "// вспомогательные функции, чтобы удобнее работать с массивом"
   ]
  },
  {
   "cell_type": "code",
   "execution_count": 6,
   "metadata": {
    "collapsed": false
   },
   "outputs": [
    {
     "data": {
      "text/plain": []
     },
     "execution_count": 6,
     "metadata": {},
     "output_type": "execute_result"
    }
   ],
   "source": [
    "void print_stat(std::vector<int> array, int k) {\n",
    "    std::sort(array.begin(), array.end());\n",
    "    for(int i = 0; i < array.size(); i++) {\n",
    "        if(i == k) {\n",
    "            std::cout << '|' << array[i] << '|' << ' ';\n",
    "        } else {\n",
    "            std::cout << array[i] << ' ';   \n",
    "        }\n",
    "    }\n",
    "}"
   ]
  },
  {
   "cell_type": "markdown",
   "metadata": {},
   "source": [
    "# Подход \"В лоб\"\n",
    "\n",
    "Как видно из определения порядковой статистики, для ее нахождения можно просто упорядочить весь массив и после этого выбрать нужный элемент в массиве."
   ]
  },
  {
   "cell_type": "code",
   "execution_count": 7,
   "metadata": {
    "collapsed": false
   },
   "outputs": [
    {
     "data": {
      "text/plain": []
     },
     "execution_count": 7,
     "metadata": {},
     "output_type": "execute_result"
    }
   ],
   "source": [
    "int trivial_statistic(std::vector<int> data, int k){\n",
    "    std::sort(data.begin(), data.end()); // Сортируем изначальный массив\n",
    "    return data[k]; // Берем k-тый элемент\n",
    "}"
   ]
  },
  {
   "cell_type": "code",
   "execution_count": 8,
   "metadata": {
    "collapsed": false
   },
   "outputs": [
    {
     "name": "stdout",
     "output_type": "stream",
     "text": [
      "1 8 5 9 2 1 8 8 3 1 \n",
      "1 1 1 2 |3| 5 8 8 8 9 "
     ]
    },
    {
     "data": {
      "text/plain": [
       "(void) @0x7ffc6f385410\n"
      ]
     },
     "execution_count": 8,
     "metadata": {},
     "output_type": "execute_result"
    }
   ],
   "source": [
    "std::vector<int> array;\n",
    "gen(array, 10);\n",
    "print(array);\n",
    "print_stat(array, 4);"
   ]
  },
  {
   "cell_type": "code",
   "execution_count": 9,
   "metadata": {
    "collapsed": false
   },
   "outputs": [
    {
     "name": "stdout",
     "output_type": "stream",
     "text": [
      "3"
     ]
    },
    {
     "data": {
      "text/plain": [
       "(std::basic_ostream<char, std::char_traits<char> >::__ostream_type &) @0x7fa449ff96e0\n"
      ]
     },
     "execution_count": 9,
     "metadata": {},
     "output_type": "execute_result"
    }
   ],
   "source": [
    "std::cout << trivial_statistic(array, 4);"
   ]
  },
  {
   "cell_type": "code",
   "execution_count": 10,
   "metadata": {
    "collapsed": false
   },
   "outputs": [
    {
     "name": "stdout",
     "output_type": "stream",
     "text": [
      "В массиве из 100000 статистика нашлась за 557 миллисекунд\n"
     ]
    },
    {
     "data": {
      "text/plain": [
       "(std::basic_ostream<char, std::char_traits<char> >::__ostream_type &) @0x7fa449ff96e0\n"
      ]
     },
     "execution_count": 10,
     "metadata": {},
     "output_type": "execute_result"
    }
   ],
   "source": [
    "gen(array, 100000);\n",
    "Time start = Clock::now();\n",
    "trivial_statistic(array, 30);\n",
    "unsigned long t = std::chrono::duration_cast<Milliseconds>(Clock::now() - start).count();\n",
    "std::cout << \"В массиве из 100000 статистика нашлась за \" << t << \" миллисекунд\" << std::endl;"
   ]
  },
  {
   "cell_type": "markdown",
   "metadata": {},
   "source": [
    "Данный метод крайне прост и понятен, однако, из предыдущей лекции мы знаем, что любая сортировка, основанная на сравнениях, не может работать быстрее, чем за $N*log(N)$. Таким образом и наш алгоритм будет работать не быстрее чем $N*log(N)$.\n",
    "\n",
    "# Минимальный и максимальный элемент\n",
    "\n",
    "Однако мы точно знаем, что некоторые порядковые статистики мы может находить гораздо быстрее - например, минимум и максимум:\n",
    "* Создадим изначально новую переменную где будет в итоге лежать минимальный элемент и положим туда изначально первый элемент массива\n",
    "* Далее будем идти по массиву, и если встретим число меньшее, то запишем в нашу переменную это новое число\n",
    "* Таким образом, в конце в этой переменной будет храниться число, которое меньше всех в этом массиве, а это по определению минимум\n",
    "\n",
    "Аналогично для максимума.\n",
    "\n",
    "Видно, что данный алгоритм будет работать всего за $N$ операций, нежели $N*log(N)$ при сортировке."
   ]
  },
  {
   "cell_type": "code",
   "execution_count": 11,
   "metadata": {
    "collapsed": false
   },
   "outputs": [
    {
     "data": {
      "text/plain": []
     },
     "execution_count": 11,
     "metadata": {},
     "output_type": "execute_result"
    }
   ],
   "source": [
    "int min_elem(std::vector<int> data) {\n",
    "    int result = data[0];\n",
    "    for(int num : data){\n",
    "        if(num < result) {\n",
    "            result = num;\n",
    "        }\n",
    "    }\n",
    "    return result;\n",
    "}"
   ]
  },
  {
   "cell_type": "code",
   "execution_count": 12,
   "metadata": {
    "collapsed": false
   },
   "outputs": [
    {
     "name": "stdout",
     "output_type": "stream",
     "text": [
      "|0| 0 1 3 3 4 5 6 6 9 10 "
     ]
    },
    {
     "data": {
      "text/plain": [
       "(void) @0x7ffc6f385410\n"
      ]
     },
     "execution_count": 12,
     "metadata": {},
     "output_type": "execute_result"
    }
   ],
   "source": [
    "gen(array, 11);\n",
    "print_stat(array, 0);"
   ]
  },
  {
   "cell_type": "code",
   "execution_count": 13,
   "metadata": {
    "collapsed": false
   },
   "outputs": [
    {
     "name": "stdout",
     "output_type": "stream",
     "text": [
      "0\n"
     ]
    },
    {
     "data": {
      "text/plain": [
       "(std::basic_ostream<char, std::char_traits<char> >::__ostream_type &) @0x7fa449ff96e0\n"
      ]
     },
     "execution_count": 13,
     "metadata": {},
     "output_type": "execute_result"
    }
   ],
   "source": [
    "std::cout << min_elem(array) << std::endl;"
   ]
  },
  {
   "cell_type": "code",
   "execution_count": 18,
   "metadata": {
    "collapsed": false
   },
   "outputs": [
    {
     "name": "stdout",
     "output_type": "stream",
     "text": [
      "В массиве из 100000 статистика нашлась за 35 миллисекунд\n"
     ]
    },
    {
     "data": {
      "text/plain": [
       "(std::basic_ostream<char, std::char_traits<char> >::__ostream_type &) @0x7fa449ff96e0\n"
      ]
     },
     "execution_count": 18,
     "metadata": {},
     "output_type": "execute_result"
    }
   ],
   "source": [
    "gen(array, 100000);\n",
    "start = Clock::now();\n",
    "min_elem(array);\n",
    "t = std::chrono::duration_cast<Milliseconds>(Clock::now() - start).count();\n",
    "std::cout << \"В массиве из 100000 статистика нашлась за \" << t << \" миллисекунд\" << std::endl;"
   ]
  },
  {
   "cell_type": "markdown",
   "metadata": {},
   "source": [
    "Возникает правомерный вопрос: если мы можем посчитать крайние статистики за N, то как дела обстоят с другими порядковыми статистиками? Можем ли мы находить их также эффективно.\n",
    "\n",
    "Хорошая новость заключается в том, что да, действительно можем!"
   ]
  },
  {
   "cell_type": "markdown",
   "metadata": {},
   "source": [
    "# Выбор разбиением\n",
    "\n",
    "Вспомним подход, реализуемый в алгоритме быстрой сортировки - каждый раз мы делили массив на две части таким образом, чтобы все элементы справа были больше, а все элементы слева меньше разделительного числа и дальше применяли эту же операцию к получившимся подмассивам.\n",
    "\n",
    "Идея поиска статистики примерно такая же:\n",
    "* Пускай мы поделили массив на две части. В таком случае если в левом подмассиве элементов больше чем k, то это означает, что k-ая порядковая статистика лежим в нем. Если же меньше, то это означаем, что k-ая статистика лежив в правом подмассиве\n",
    "* Если же в левом оказалось ровно k-1 элемент, то значит наш опорный элемент и есть k-тая порядковая статистика"
   ]
  },
  {
   "cell_type": "code",
   "execution_count": 14,
   "metadata": {
    "collapsed": false
   },
   "outputs": [
    {
     "data": {
      "text/plain": []
     },
     "execution_count": 14,
     "metadata": {},
     "output_type": "execute_result"
    }
   ],
   "source": [
    "template<class Iter>\n",
    "int partition_statistic(Iter begin, Iter end, int k) {\n",
    "    int distance = end - begin;\n",
    "    if(distance <= 1) return *(begin); // если остался один элемент, значит, что он и есть нужная статистика\n",
    "\n",
    "    int t = * (begin + distance / 2 );\n",
    "    Iter middle = std::partition(begin, end, [t](int s){ return s < t;});\n",
    "    std::partition(middle, end, [t](int s){ return s == t; });\n",
    "    // функцию partition мы уже реализовывали в предыдущей лекции, поэтому не будем углубляться в ее устройство и просто\n",
    "    // воспользуемся стандартной функцией из STL\n",
    "    // Также нам нужно не просто разбить на 2 массива, а также еще, чтобы граничный элемент был на границе\n",
    "    // Поэтому проведем еще одну операцию partition, которая перетащит все граничные элементы на границу двух подмассивов\n",
    "\n",
    "    int left_size = middle - begin;\n",
    "    if(left_size == k) { // нашли нашу статистику\n",
    "        return t;\n",
    "    } else if(left_size > k) {\n",
    "        return partition_statistic(begin, middle, k);\n",
    "    } else {\n",
    "        return partition_statistic(middle+1, end, k-left_size-1);\n",
    "        // мы отняли от k размер левоц части, так как относительно правого подмассива наша статистика теперь стоит\n",
    "        // на left_size-1 позиций раньше\n",
    "        // мы не сделали так для левого массива, так как его начало совпадает с началом исходного массива и наша\n",
    "        // статистика все еще находится на правильной позиции\n",
    "    }\n",
    "}\n",
    "\n",
    "int partition_statistic(std::vector<int> data, int k) {\n",
    "    return partition_statistic(data.begin(), data.end(), k);\n",
    "    // перегрузим функцию, так как если сразу работать с итераторами, то после нахождения статистики, исходный массив\n",
    "    // будет изменен, а в этом случае он будет скопирован\n",
    "}"
   ]
  },
  {
   "cell_type": "code",
   "execution_count": 15,
   "metadata": {
    "collapsed": false
   },
   "outputs": [
    {
     "name": "stdout",
     "output_type": "stream",
     "text": [
      "0 0 0 |2| 2 3 3 3 10 10 10 "
     ]
    },
    {
     "data": {
      "text/plain": [
       "(void) @0x7ffc6f385410\n"
      ]
     },
     "execution_count": 15,
     "metadata": {},
     "output_type": "execute_result"
    }
   ],
   "source": [
    "gen(array, 11);\n",
    "print_stat(array, 3);"
   ]
  },
  {
   "cell_type": "code",
   "execution_count": 16,
   "metadata": {
    "collapsed": false
   },
   "outputs": [
    {
     "name": "stdout",
     "output_type": "stream",
     "text": [
      "2"
     ]
    },
    {
     "data": {
      "text/plain": [
       "(std::basic_ostream<char, std::char_traits<char> >::__ostream_type &) @0x7fa449ff96e0\n"
      ]
     },
     "execution_count": 16,
     "metadata": {},
     "output_type": "execute_result"
    }
   ],
   "source": [
    "std::cout << partition_statistic(array, 3);"
   ]
  },
  {
   "cell_type": "code",
   "execution_count": 19,
   "metadata": {
    "collapsed": false
   },
   "outputs": [
    {
     "name": "stdout",
     "output_type": "stream",
     "text": [
      "В массиве из 100000 статистика нашлась за 99 миллисекунд\n"
     ]
    },
    {
     "data": {
      "text/plain": [
       "(std::basic_ostream<char, std::char_traits<char> >::__ostream_type &) @0x7fa449ff96e0\n"
      ]
     },
     "execution_count": 19,
     "metadata": {},
     "output_type": "execute_result"
    }
   ],
   "source": [
    "gen(array, 100000);\n",
    "start = Clock::now();\n",
    "partition_statistic(array, 30);\n",
    "t = std::chrono::duration_cast<Milliseconds>(Clock::now() - start).count();\n",
    "std::cout << \"В массиве из 100000 статистика нашлась за \" << t << \" миллисекунд\" << std::endl;"
   ]
  },
  {
   "cell_type": "markdown",
   "metadata": {},
   "source": [
    "Видно, что данный алгоритм значительно быстрее наивной реализации через сортировку.\n",
    "\n",
    "Если бы мы каждый раз делили массив на две равные части, то тогда бы нам было бы необходимо сделать \n",
    "$N+N/2+N/4+N/8+... = N*(1+1/2+1/4+1/8+...) < N*2$. Таким образом, алгоритм работает в среднем за $N$ действий.\n",
    "\n",
    "Однако, как и быстрая сортировка, данная реализация имеет недостаток: при неудачных данных она может работать за $N^2$ действий."
   ]
  },
  {
   "cell_type": "markdown",
   "metadata": {},
   "source": [
    "Полученный результат уже очен  неплох, но можем ли мы найти нужную порядковую статистику гарантированно за N действий, а не только при удачном расположении данных?\n",
    "\n",
    "Ответ - да!"
   ]
  },
  {
   "cell_type": "markdown",
   "metadata": {},
   "source": [
    "# Медиана медиан\n",
    "\n",
    "Данный алгоритм уже достаточно сложен для понимания, поэтому приведем только его общую схему.\n",
    "\n",
    "По сути этот алгоритм - это просто улучшенная версия предыдущего. Основным отличием от него является то, как мы выбираем опорный элемент, по которому мы делим наше множество. В предыдущем алгоритме мы просто выбирали серединный (с таким же успехом, мы могли выбирать случайный элемент), и поэтому при плохих данных алгоритм может проседать по скорости. В данном же алгоритме мы выбираем опорный элемент более интеллектуально.\n",
    "\n",
    "* Поделим весь массив на небольшие массивы размера 5. (Если его размер не делится на 5, то оставшиеся несколько элементов, мы потом просто добавим к следующей стадии)\n",
    "* Отсортируем каждый их этих подмассивов любым алгоритмом сортировки и возьмем срединный элемент в каждом подмассиве (по сути мы нашли медиану в каждом из подмассивов)\n",
    " * Важным момент тут заключается в том, что хоть мы и используем здесь сортировку, но это не влияет на зависимость скорости работы всего алгоритма от количества данных, так как мы все время сортируем всего 5 элементов. Пример, если бы мы использовали даже алгоритм сортировки пузырьком: $ 5^2 + 5^2 + 5^2 + ... = N/5 * 5^2 = N * 5 $\n",
    "* Далее составим массив из этих медиан и припишем к ней оставшиеся элементы после первого пункта (если таковые имеются)\n",
    "* Рекурсивно посчитаем нашу функцию от получившегося массива - то есть найдем медиану найденных медиан.\n",
    "* Полученная медиана М - и есть тот самый \"хороший\" элемент, по которому необходимо делить наше множество.\n",
    "* Далее все также как и в предыдущем алгоритме - делим множества по этому элементу, смотрим, на размер получившихся множеств и далее определяем, где находится наша статистика и либо вызываем нашу функцию от нужного множества или сразу возвращаем медиану."
   ]
  },
  {
   "cell_type": "code",
   "execution_count": 20,
   "metadata": {
    "collapsed": false
   },
   "outputs": [
    {
     "data": {
      "text/plain": []
     },
     "execution_count": 20,
     "metadata": {},
     "output_type": "execute_result"
    }
   ],
   "source": [
    "template <class Iter>\n",
    "int median_of_medians(Iter begin, Iter end, int k) {\n",
    "    if(end - begin <= 10) { // если осталось мало элементов, то просто отсортируем и вернем k-ый элемент\n",
    "        std::sort(begin, end);\n",
    "        return *(begin + k);\n",
    "    }\n",
    "\n",
    "    std::vector<int> medians; // массив из медиан\n",
    "    Iter prev = begin;\n",
    "    Iter next = prev + 5; // делим по 5 элементов\n",
    "    while(next < end) {\n",
    "        medians.push_back(median_of_medians(prev, next, 2)); // добавляем медиану 5-ти элементного множества\n",
    "        prev += 5;\n",
    "        next += 5;\n",
    "    }\n",
    "\n",
    "    if(next != end) { // если остались еще элементы, то дописываем их\n",
    "        std::copy(prev, end, std::back_inserter(medians));\n",
    "    }\n",
    "\n",
    "    int M = median_of_medians(medians.begin(), medians.end(), int(medians.size())/2); // находим медиану медиан\n",
    "\n",
    "    // далее идет точь-в-точь предыдущий алгоритм\n",
    "    Iter middle = std::partition(begin, end, [M](int s){return s < M;});\n",
    "    std::partition(middle, end, [M](int s) {return s == M;});\n",
    "\n",
    "    int left_size = middle - begin;\n",
    "    if(left_size == k) { // нашли нашу статистику\n",
    "        return M;\n",
    "    } else if(left_size > k) {\n",
    "        return median_of_medians(begin, middle, k);\n",
    "    } else {\n",
    "        return median_of_medians(middle+1, end, k-left_size-1);\n",
    "    }\n",
    "}\n",
    "\n",
    "int median_of_medians(std::vector<int> data, int k) {\n",
    "    return median_of_medians(data.begin(), data.end(), k);\n",
    "}"
   ]
  },
  {
   "cell_type": "code",
   "execution_count": 25,
   "metadata": {
    "collapsed": false
   },
   "outputs": [
    {
     "name": "stdout",
     "output_type": "stream",
     "text": [
      "0 0 4 5 5 5 6 |6| 7 7 8 8 9 9 10 11 13 14 17 17 20 21 "
     ]
    },
    {
     "data": {
      "text/plain": [
       "(void) @0x7ffc6f385410\n"
      ]
     },
     "execution_count": 25,
     "metadata": {},
     "output_type": "execute_result"
    }
   ],
   "source": [
    "gen(array, 22);\n",
    "print_stat(array, 7);"
   ]
  },
  {
   "cell_type": "code",
   "execution_count": 26,
   "metadata": {
    "collapsed": false
   },
   "outputs": [
    {
     "name": "stdout",
     "output_type": "stream",
     "text": [
      "6\n"
     ]
    },
    {
     "data": {
      "text/plain": [
       "(std::basic_ostream<char, std::char_traits<char> >::__ostream_type &) @0x7fa449ff96e0\n"
      ]
     },
     "execution_count": 26,
     "metadata": {},
     "output_type": "execute_result"
    }
   ],
   "source": [
    "std::cout << median_of_medians(array, 7) << std::endl;"
   ]
  },
  {
   "cell_type": "code",
   "execution_count": 27,
   "metadata": {
    "collapsed": false
   },
   "outputs": [
    {
     "name": "stdout",
     "output_type": "stream",
     "text": [
      "В массиве из 100000 статистика нашлась за 327 миллисекунд\n"
     ]
    },
    {
     "data": {
      "text/plain": [
       "(std::basic_ostream<char, std::char_traits<char> >::__ostream_type &) @0x7fa449ff96e0\n"
      ]
     },
     "execution_count": 27,
     "metadata": {},
     "output_type": "execute_result"
    }
   ],
   "source": [
    "gen(array, 100000);\n",
    "start = Clock::now();\n",
    "median_of_medians(array, 30);\n",
    "t = std::chrono::duration_cast<Milliseconds>(Clock::now() - start).count();\n",
    "std::cout << \"В массиве из 100000 статистика нашлась за \" << t << \" миллисекунд\" << std::endl;"
   ]
  },
  {
   "cell_type": "markdown",
   "metadata": {},
   "source": [
    "Математика говорит, что подобный выбор опорного элемента гарантирует отброс минимум четверти всех элементов (в отличии от предыдущего алгоритма, который в некоторых случаях мог отбросить только 1 элемент). Таким образом он всегда работает за линейное время N относительно размера данных.\n",
    "\n",
    "Однако, как можно было заметить, хоть предварительный поиск медианы медиан и не влияет на линейность работы, однако все равно повышает время работы в какое-то константное количество раз. \n",
    "\n",
    "Это можно видеть на результатах работы - на небольшом массиве обычный алгоритм справился за 99 миллисекунд, а медиана медиан только за 327 миллисекунд. \n",
    "\n",
    "Таким образом, целесообразно использовать медиану медиан на больших массивах, где есть большая вероятность плохой конфигурации данных."
   ]
  },
  {
   "cell_type": "code",
   "execution_count": 28,
   "metadata": {
    "collapsed": false
   },
   "outputs": [
    {
     "name": "stdout",
     "output_type": "stream",
     "text": [
      "В массиве из 10000000 статистика нашлась за 9402 миллисекунд\n"
     ]
    },
    {
     "data": {
      "text/plain": [
       "(std::basic_ostream<char, std::char_traits<char> >::__ostream_type &) @0x7fa449ff96e0\n"
      ]
     },
     "execution_count": 28,
     "metadata": {},
     "output_type": "execute_result"
    }
   ],
   "source": [
    "gen(array, 10000000);\n",
    "std::sort(array.begin(), array.end());\n",
    "std::reverse(array.begin(), array.end());\n",
    "start = Clock::now();\n",
    "partition_statistic(array, 0); // попробуем найти минимум в этом массиве\n",
    "t = std::chrono::duration_cast<Milliseconds>(Clock::now() - start).count();\n",
    "std::cout << \"В массиве из 10000000 статистика нашлась за \" << t << \" миллисекунд\" << std::endl;"
   ]
  },
  {
   "cell_type": "code",
   "execution_count": 30,
   "metadata": {
    "collapsed": false
   },
   "outputs": [
    {
     "name": "stdout",
     "output_type": "stream",
     "text": [
      "В массиве из 10000000 статистика нашлась за 3004 миллисекунд\n"
     ]
    },
    {
     "data": {
      "text/plain": [
       "(std::basic_ostream<char, std::char_traits<char> >::__ostream_type &) @0x7fa449ff96e0\n"
      ]
     },
     "execution_count": 30,
     "metadata": {},
     "output_type": "execute_result"
    }
   ],
   "source": [
    "gen(array, 1000000);\n",
    "std::sort(array.begin(), array.end());\n",
    "std::reverse(array.begin(), array.end());\n",
    "start = Clock::now();\n",
    "median_of_medians(array, 0); // попробуем найти минимум в этом массиве\n",
    "t = std::chrono::duration_cast<Milliseconds>(Clock::now() - start).count();\n",
    "std::cout << \"В массиве из 10000000 статистика нашлась за \" << t << \" миллисекунд\" << std::endl;"
   ]
  },
  {
   "cell_type": "markdown",
   "metadata": {},
   "source": [
    "Как можно заметить, если запускать оба алгоритма на больших данных, которые обратно отсортированы и искать при этом минимальный элемент, то тогда обычный алгоритм работает за 9402 секунды против 3004 секунд у медианы медиан."
   ]
  },
  {
   "cell_type": "code",
   "execution_count": null,
   "metadata": {
    "collapsed": true
   },
   "outputs": [],
   "source": []
  }
 ],
 "metadata": {
  "anaconda-cloud": {},
  "kernelspec": {
   "display_name": "C++",
   "language": "",
   "name": "cling"
  },
  "language_info": {
   "codemirror_mode": "text/x-c++src",
   "file_extension": ".c++",
   "mimetype": " text/x-c++src",
   "name": "c++"
  }
 },
 "nbformat": 4,
 "nbformat_minor": 1
}
