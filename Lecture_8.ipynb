{
 "cells": [
  {
   "cell_type": "markdown",
   "metadata": {},
   "source": [
    "# Наследование и полиморфизм\n",
    "\n",
    "Часто один и тот же алгоритм может быть применен к различным структурам. Мы уже видели, как для того, чтобы более эффективно использовать написанный код, использовались шаблонные функции и перегруженные функции. Подобный подход часто подходит для обработки изоморфных данных (например нахождение масксимума в любой коллекции). \n",
    "\n",
    "Однако это не единственный способ обобщения алгоритмов работы с данными. С++ также поддерживает концепцию наследования и полиморфизма."
   ]
  },
  {
   "cell_type": "markdown",
   "metadata": {},
   "source": [
    "Наследование - это прием, когда для класса А создается \"родственный\" ему класс В, который обладает такой же функциональностью, что и класс А + какая-то дополнительая функциональность."
   ]
  },
  {
   "cell_type": "code",
   "execution_count": 1,
   "metadata": {
    "collapsed": false
   },
   "outputs": [
    {
     "data": {
      "text/plain": []
     },
     "execution_count": 1,
     "metadata": {},
     "output_type": "execute_result"
    }
   ],
   "source": [
    "#include <iostream>\n",
    "#include <cmath>\n",
    "#include <vector>\n",
    "#include <map>"
   ]
  },
  {
   "cell_type": "code",
   "execution_count": 2,
   "metadata": {
    "collapsed": false
   },
   "outputs": [
    {
     "data": {
      "text/plain": []
     },
     "execution_count": 2,
     "metadata": {},
     "output_type": "execute_result"
    }
   ],
   "source": [
    "class Parent {\n",
    "public:\n",
    "    void doX() {\n",
    "        std::cout << \"I do X\" << std::endl;\n",
    "    }\n",
    "};"
   ]
  },
  {
   "cell_type": "code",
   "execution_count": 3,
   "metadata": {
    "collapsed": false
   },
   "outputs": [
    {
     "data": {
      "text/plain": []
     },
     "execution_count": 3,
     "metadata": {},
     "output_type": "execute_result"
    }
   ],
   "source": [
    "class Child : public Parent /*указываем, что Child - наследник класса Parent*/  {\n",
    "public:\n",
    "    void doY() {\n",
    "        std::cout << \"I do Y\" << std::endl;\n",
    "    }\n",
    "};"
   ]
  },
  {
   "cell_type": "code",
   "execution_count": 4,
   "metadata": {
    "collapsed": false
   },
   "outputs": [
    {
     "name": "stdout",
     "output_type": "stream",
     "text": [
      "I do X\n"
     ]
    },
    {
     "data": {
      "text/plain": [
       "(void) @0x7fff23b69a90\n"
      ]
     },
     "execution_count": 4,
     "metadata": {},
     "output_type": "execute_result"
    }
   ],
   "source": [
    "Parent p;\n",
    "p.doX(); "
   ]
  },
  {
   "cell_type": "code",
   "execution_count": 5,
   "metadata": {
    "collapsed": false
   },
   "outputs": [
    {
     "name": "stdout",
     "output_type": "stream",
     "text": [
      "I do X\n",
      "I do Y\n"
     ]
    },
    {
     "data": {
      "text/plain": [
       "(void) @0x7fff23b69a90\n"
      ]
     },
     "execution_count": 5,
     "metadata": {},
     "output_type": "execute_result"
    }
   ],
   "source": [
    "Child c;\n",
    "c.doX(); // класс Child умеет все то, что умеет класс Parent\n",
    "c.doY(); // А также имеет дополнительную функциональность, которую добавит программист"
   ]
  },
  {
   "cell_type": "markdown",
   "metadata": {},
   "source": [
    "Полиморфизм - способность одинаково работать с разными типами данными, имеющих общего предка."
   ]
  },
  {
   "cell_type": "code",
   "execution_count": 6,
   "metadata": {
    "collapsed": false
   },
   "outputs": [
    {
     "name": "stdout",
     "output_type": "stream",
     "text": [
      "I do X\n"
     ]
    },
    {
     "data": {
      "text/plain": [
       "(void) @0x7fff23b69a90\n"
      ]
     },
     "execution_count": 6,
     "metadata": {},
     "output_type": "execute_result"
    }
   ],
   "source": [
    "Parent * n = new Parent();\n",
    "n->doX(); // Ничего не обычного"
   ]
  },
  {
   "cell_type": "code",
   "execution_count": 7,
   "metadata": {
    "collapsed": false
   },
   "outputs": [
    {
     "data": {
      "text/plain": [
       "(Parent *) 0x27af780\n"
      ]
     },
     "execution_count": 7,
     "metadata": {},
     "output_type": "execute_result"
    }
   ],
   "source": [
    "Parent * q = new Child(); // Несмотря на то, что q указывает на тип Parent, мы можем записать по этому указателю\n",
    "// объект с настоящим типом Child. На тип Child можно смотреть как на тип Parent с дополнительной функциональностью"
   ]
  },
  {
   "cell_type": "code",
   "execution_count": 8,
   "metadata": {
    "collapsed": false
   },
   "outputs": [
    {
     "name": "stdout",
     "output_type": "stream",
     "text": [
      "I do X\n"
     ]
    },
    {
     "data": {
      "text/plain": [
       "(void) @0x7fff23b69a90\n"
      ]
     },
     "execution_count": 8,
     "metadata": {},
     "output_type": "execute_result"
    }
   ],
   "source": [
    "q->doX(); // можно вызвать все методы, которые объявлены внутри Parent"
   ]
  },
  {
   "cell_type": "code",
   "execution_count": 9,
   "metadata": {
    "collapsed": false
   },
   "outputs": [
    {
     "name": "stderr",
     "output_type": "stream",
     "text": [
      "input_line_18:2:5: error: no member named 'doY' in 'Parent'; did you mean 'doX'?\n",
      " q->doY(); // Насмотря на то, что на самом деле q указывает на объект типа Child, нельзя вызвать метод doY\n",
      "    ^~~\n",
      "    doX\n",
      "input_line_4:3:10: note: 'doX' declared here\n",
      "    void doX() {\n",
      "         ^\n"
     ]
    },
    {
     "ename": "ename",
     "evalue": "evalue",
     "output_type": "error",
     "traceback": []
    }
   ],
   "source": [
    "q->doY(); // Насмотря на то, что на самом деле q указывает на объект типа Child, нельзя вызвать метод doY\n",
    "// так как указатель объявлен как Parent * , то от объекта Child мы можем вызывать только те методы, что достались\n",
    "// ему от Parent"
   ]
  },
  {
   "cell_type": "markdown",
   "metadata": {},
   "source": [
    "Возникает логичный вопрос - зачем же тогда требуется полиморфизм и наследование? Ответ заключается в том, что кроме обычных функций, которые вызываются в зависимости от того, какого типа указатель, существуют, так называемые, виртуальные функции, которые вызываются в зависимости от того, на какой реально объект указывает указатель."
   ]
  },
  {
   "cell_type": "code",
   "execution_count": 2,
   "metadata": {
    "collapsed": false
   },
   "outputs": [
    {
     "data": {
      "text/plain": []
     },
     "execution_count": 2,
     "metadata": {},
     "output_type": "execute_result"
    }
   ],
   "source": [
    "class One {\n",
    "public:\n",
    "    // виртуальная функция - вызывается в зависимости от объекта\n",
    "    virtual /*ключевое слово для виртуальной функции*/ void printX() { \n",
    "        std::cout << \"X from One\" << std::endl;\n",
    "    }\n",
    "    \n",
    "    // обычная функция - вызывается в зависимости от типа указателя\n",
    "    void printY() {\n",
    "        std::cout << \"Y from One\" << std::endl;\n",
    "    }\n",
    "};"
   ]
  },
  {
   "cell_type": "code",
   "execution_count": 3,
   "metadata": {
    "collapsed": false
   },
   "outputs": [
    {
     "data": {
      "text/plain": []
     },
     "execution_count": 3,
     "metadata": {},
     "output_type": "execute_result"
    }
   ],
   "source": [
    "class Two : public One {\n",
    "public:\n",
    "    virtual void printX() { // перегружаем виртуальную функцию doX класса N\n",
    "        std::cout << \"X from Two\" << std::endl;\n",
    "    }\n",
    "    \n",
    "    // перегружаем обычную функцию doY класса N\n",
    "    void printY() {\n",
    "        std::cout << \"Y from Two\" << std::endl;\n",
    "    }\n",
    "};"
   ]
  },
  {
   "cell_type": "code",
   "execution_count": 4,
   "metadata": {
    "collapsed": false
   },
   "outputs": [
    {
     "data": {
      "text/plain": [
       "(Two *) 0x282ca00\n"
      ]
     },
     "execution_count": 4,
     "metadata": {},
     "output_type": "execute_result"
    }
   ],
   "source": [
    "One * n = new One();\n",
    "Two * m = new Two();"
   ]
  },
  {
   "cell_type": "code",
   "execution_count": 5,
   "metadata": {
    "collapsed": false
   },
   "outputs": [
    {
     "name": "stdout",
     "output_type": "stream",
     "text": [
      "X from One\n",
      "Y from One\n"
     ]
    },
    {
     "data": {
      "text/plain": [
       "(void) @0x7ffda1ed3ba0\n"
      ]
     },
     "execution_count": 5,
     "metadata": {},
     "output_type": "execute_result"
    }
   ],
   "source": [
    "n->printX(); // так как в n объект типа N, то вызовется X from N\n",
    "n->printY(); // так как n объявлен как N * , то вызовется Y from N\n",
    "// пока ничего необычного"
   ]
  },
  {
   "cell_type": "code",
   "execution_count": 6,
   "metadata": {
    "collapsed": false
   },
   "outputs": [
    {
     "name": "stdout",
     "output_type": "stream",
     "text": [
      "X from Two\n",
      "Y from Two\n"
     ]
    },
    {
     "data": {
      "text/plain": [
       "(void) @0x7ffda1ed3ba0\n"
      ]
     },
     "execution_count": 6,
     "metadata": {},
     "output_type": "execute_result"
    }
   ],
   "source": [
    "m->printX();\n",
    "m->printY();\n",
    "// сейчас все также предсказуему"
   ]
  },
  {
   "cell_type": "code",
   "execution_count": 7,
   "metadata": {
    "collapsed": false
   },
   "outputs": [
    {
     "data": {
      "text/plain": [
       "(One *) 0x282ca00\n"
      ]
     },
     "execution_count": 7,
     "metadata": {},
     "output_type": "execute_result"
    }
   ],
   "source": [
    "One * k = m; // положим в указатель типа N* объект типа M"
   ]
  },
  {
   "cell_type": "code",
   "execution_count": 8,
   "metadata": {
    "collapsed": false
   },
   "outputs": [
    {
     "name": "stdout",
     "output_type": "stream",
     "text": [
      "X from Two\n",
      "Y from One\n"
     ]
    },
    {
     "data": {
      "text/plain": [
       "(void) @0x7ffda1ed3ba0\n"
      ]
     },
     "execution_count": 8,
     "metadata": {},
     "output_type": "execute_result"
    }
   ],
   "source": [
    "k->printX(); // так как в k теперь лежит объект типа M и doX - виртуальная фукнция, то вызовется doX класса M\n",
    "k->printY(); // несмотря на то, что в k лежит объект типа M, вызовется та функция doY, которая досталась\n",
    "// M в наследство от N"
   ]
  },
  {
   "cell_type": "code",
   "execution_count": 9,
   "metadata": {
    "collapsed": false
   },
   "outputs": [
    {
     "name": "stdout",
     "output_type": "stream",
     "text": [
      "X from Two\n",
      "Y from Two\n"
     ]
    },
    {
     "data": {
      "text/plain": [
       "(void) @0x7ffda1ed3ba0\n"
      ]
     },
     "execution_count": 9,
     "metadata": {},
     "output_type": "execute_result"
    }
   ],
   "source": [
    "// Однако сама функциональность никуда не делать - тип объекта можно вернуть обратно к исходному с помощью\n",
    "// dynamic_cast\n",
    "Two * repaired = dynamic_cast<Two*>(k);\n",
    "repaired->printX();\n",
    "repaired->printY();"
   ]
  },
  {
   "cell_type": "code",
   "execution_count": 10,
   "metadata": {
    "collapsed": false
   },
   "outputs": [
    {
     "name": "stdout",
     "output_type": "stream",
     "text": [
      "0\n"
     ]
    },
    {
     "data": {
      "text/plain": [
       "(std::basic_ostream<char, std::char_traits<char> >::__ostream_type &) @0x7fd2031c66e0\n"
      ]
     },
     "execution_count": 10,
     "metadata": {},
     "output_type": "execute_result"
    }
   ],
   "source": [
    "// dynamic_cast корректно сработает, только если типы совместимы \n",
    "// настоящий объект типа One привести к Two не получится\n",
    "Two * foo = dynamic_cast<Two*>(n);\n",
    "std::cout << foo << std::endl; // в объекте foo будет пустой указатель"
   ]
  },
  {
   "cell_type": "markdown",
   "metadata": {},
   "source": [
    "Таким образом, мы может определять поведение какого-то объекта в зависимости от того, какой объект мы на самом деле в него положили.\n",
    "\n",
    "Важным моментом, что мы можем вызывать у таких объектов только те методы, что определены внутри класса-родителя. (в такой ситуации говорят, что объекты имеют общий интерфейс доступа - интерфейс, предоставляемый классов-родителем)."
   ]
  },
  {
   "cell_type": "markdown",
   "metadata": {},
   "source": [
    "Для демонстрации пользы от подобной функциональности, рассмотрим, что у нас есть множество геометрических фигур (треугольники, прямоугольники и круги) и мы хотим посчитать общую площадь всех фигур."
   ]
  },
  {
   "cell_type": "code",
   "execution_count": 2,
   "metadata": {
    "collapsed": false
   },
   "outputs": [
    {
     "data": {
      "text/plain": []
     },
     "execution_count": 2,
     "metadata": {},
     "output_type": "execute_result"
    }
   ],
   "source": [
    "class Shape { // родительский класс для любой фигуры\n",
    "public:\n",
    "    // виртуальная функция площади для того, чтобы функция подсчета площади выбиралась в зависимости от \n",
    "    // конкретной фигуры\n",
    "    virtual double area() { \n",
    "        return 0; // так как данный класс не указывает какой-то конкретный класс\n",
    "        // то будем считать, что его площадь 0\n",
    "    }\n",
    "};"
   ]
  },
  {
   "cell_type": "code",
   "execution_count": 3,
   "metadata": {
    "collapsed": false
   },
   "outputs": [
    {
     "data": {
      "text/plain": []
     },
     "execution_count": 3,
     "metadata": {},
     "output_type": "execute_result"
    }
   ],
   "source": [
    "class Rectangle : public Shape /*показываем, что прямоугольник является фигурой*/ {\n",
    "public:\n",
    "    Rectangle(double w, double h) {\n",
    "        width = w;\n",
    "        height = h;\n",
    "    } // расширяем функциональность \"абстрактной\" фигуры, указывая, что у прямоугольника есть высота и ширина\n",
    "    \n",
    "    virtual double area() {\n",
    "        return width * height; // площадь прямоугольника\n",
    "    }\n",
    "    \n",
    "private:\n",
    "    double width, height;\n",
    "};"
   ]
  },
  {
   "cell_type": "code",
   "execution_count": 4,
   "metadata": {
    "collapsed": false
   },
   "outputs": [
    {
     "data": {
      "text/plain": []
     },
     "execution_count": 4,
     "metadata": {},
     "output_type": "execute_result"
    }
   ],
   "source": [
    "class Triangle : public Shape {\n",
    "public:\n",
    "    Triangle(double a, double b, double c) { // стороны треугольника\n",
    "        this->a = a;\n",
    "        this->b = b;\n",
    "        this->c = c;\n",
    "    }\n",
    "    \n",
    "    virtual double area() {\n",
    "        double p = (a + b + c) / 2;\n",
    "        double skArea = p*(p-a)*(p-b)*(p-c); // Герон\n",
    "        if(skArea < 0) {\n",
    "            return 0;\n",
    "        } else {\n",
    "            return sqrt(skArea); // функция из cmath\n",
    "        }\n",
    "    }\n",
    "    \n",
    "private:\n",
    "    double a, b, c;\n",
    "};"
   ]
  },
  {
   "cell_type": "code",
   "execution_count": 5,
   "metadata": {
    "collapsed": false
   },
   "outputs": [
    {
     "data": {
      "text/plain": []
     },
     "execution_count": 5,
     "metadata": {},
     "output_type": "execute_result"
    }
   ],
   "source": [
    "class Circle : public Shape {\n",
    "public:\n",
    "    Circle(double r) {\n",
    "        radius = r;\n",
    "    }\n",
    "    \n",
    "    virtual double area() {\n",
    "        return M_PI * radius * radius; // M_PI константа из cmath для числа Пи\n",
    "    }\n",
    "    \n",
    "private:\n",
    "    double radius;\n",
    "};"
   ]
  },
  {
   "cell_type": "code",
   "execution_count": 6,
   "metadata": {
    "collapsed": false
   },
   "outputs": [
    {
     "data": {
      "text/plain": [
       "(void) @0x7ffddd4a4240\n"
      ]
     },
     "execution_count": 6,
     "metadata": {},
     "output_type": "execute_result"
    }
   ],
   "source": [
    "std::vector<Shape*> figures; // массив из любых фигур\n",
    "\n",
    "figures.push_back(new Rectangle(3, 4));\n",
    "figures.push_back(new Triangle(3, 4, 5)); \n",
    "figures.push_back(new Circle(6));\n",
    "figures.push_back(new Rectangle(7, 2));\n",
    "figures.push_back(new Rectangle(2, 1));\n",
    "figures.push_back(new Triangle(3, 4, 2));\n",
    "figures.push_back(new Circle(2));\n",
    "figures.push_back(new Circle(3));\n",
    "// можно добавлять любые фигуры"
   ]
  },
  {
   "cell_type": "code",
   "execution_count": 7,
   "metadata": {
    "collapsed": false
   },
   "outputs": [
    {
     "data": {
      "text/plain": []
     },
     "execution_count": 7,
     "metadata": {},
     "output_type": "execute_result"
    }
   ],
   "source": [
    "double Area = 0;\n",
    "\n",
    "for(int i = 0; i < figures.size(); i++) {\n",
    "    Area += figures[i]->area(); // полиморфно складываем площади всех фигур\n",
    "}"
   ]
  },
  {
   "cell_type": "code",
   "execution_count": 8,
   "metadata": {
    "collapsed": false
   },
   "outputs": [
    {
     "name": "stdout",
     "output_type": "stream",
     "text": [
      "190.843\n"
     ]
    },
    {
     "data": {
      "text/plain": [
       "(std::basic_ostream<char, std::char_traits<char> >::__ostream_type &) @0x7fd992cf56e0\n"
      ]
     },
     "execution_count": 8,
     "metadata": {},
     "output_type": "execute_result"
    }
   ],
   "source": [
    "std::cout << Area << std::endl;"
   ]
  },
  {
   "cell_type": "code",
   "execution_count": 9,
   "metadata": {
    "collapsed": false
   },
   "outputs": [
    {
     "name": "stdout",
     "output_type": "stream",
     "text": [
      "Circle: 113.097\n",
      "Rectangle: 14\n",
      "Triangle: 6\n"
     ]
    },
    {
     "data": {
      "text/plain": []
     },
     "execution_count": 9,
     "metadata": {},
     "output_type": "execute_result"
    }
   ],
   "source": [
    "// Пример: нахождение максимальной площади среди фигур каждого типа\n",
    "std::map<std::string, double> areas;\n",
    "areas[\"Rectangle\"] = 0;\n",
    "areas[\"Circle\"] = 0;\n",
    "areas[\"Triangle\"] = 0;\n",
    "\n",
    "for(Shape * sh : figures) {\n",
    "    if(dynamic_cast<Rectangle*>(sh) != nullptr) {\n",
    "        \n",
    "        areas[\"Rectangle\"] = std::max(areas[\"Rectangle\"], sh->area());\n",
    "    \n",
    "    } else if (dynamic_cast<Triangle*>(sh) != nullptr) {\n",
    "    \n",
    "        areas[\"Triangle\"] = std::max(areas[\"Triangle\"], sh->area());\n",
    "    \n",
    "    } else if(dynamic_cast<Circle*>(sh) != nullptr) {\n",
    "        \n",
    "        areas[\"Circle\"] = std::max(areas[\"Circle\"], sh->area());\n",
    "    }\n",
    "}\n",
    "\n",
    "for(auto f : areas) {\n",
    "    std::cout << f.first << \": \" << f.second << std::endl;\n",
    "}"
   ]
  },
  {
   "cell_type": "code",
   "execution_count": 2,
   "metadata": {
    "collapsed": false
   },
   "outputs": [
    {
     "name": "stderr",
     "output_type": "stream",
     "text": [
      "input_line_4:31:22: error: 'c' is a private member of 'First'\n",
      "        std::cout << c << std::endl; // ошибка - доступа к private у наследников нет\n",
      "                     ^\n",
      "input_line_4:21:9: note: declared private here\n",
      "    int c;\n",
      "        ^\n",
      "input_line_4:37:16: error: 'b' is a protected member of 'First'\n",
      "std::cout << f.b << std::endl; // ошибка - извне нет доступа к protected\n",
      "               ^\n",
      "input_line_4:19:9: note: declared protected here\n",
      "    int b;\n",
      "        ^\n",
      "input_line_4:38:16: error: 'c' is a private member of 'First'\n",
      "std::cout << f.c << std::endl; // ошибка - извне нет доступа к private\n",
      "               ^\n",
      "input_line_4:21:9: note: declared private here\n",
      "    int c;\n",
      "        ^\n"
     ]
    },
    {
     "ename": "ename",
     "evalue": "evalue",
     "output_type": "error",
     "traceback": []
    }
   ],
   "source": [
    "// В С++ есть три модификатора доступа для доступа к данным\n",
    "// public - данные доступны отовсюду\n",
    "// private - данные доступны только в этом классе. То есть даже в потомках не будет доступа к ним\n",
    "// protected - аналогичен private, однако теперь данные доступны потомкам\n",
    "class First {\n",
    "public:\n",
    "    First() {\n",
    "        a = 1;\n",
    "        b = 2;\n",
    "        c = 3;\n",
    "    }\n",
    "    virtual void print() {\n",
    "        std::cout << a << std::endl; // сам класс имеет доступ ко всем своим полям\n",
    "        std::cout << b << std::endl;\n",
    "        std::cout << c << std::endl;\n",
    "    }\n",
    "    int a;\n",
    "protected:\n",
    "    int b;\n",
    "private:\n",
    "    int c;\n",
    "};\n",
    "\n",
    "class Second : public First {\n",
    "public:\n",
    "    Second() : First() {}\n",
    "    virtual void print() {\n",
    "        std::cout << a << std::endl; // нет ошибки\n",
    "        std::cout << b << std::endl; // нет ошибки\n",
    "        std::cout << c << std::endl; // ошибка - доступа к private у наследников нет\n",
    "    }\n",
    "};\n",
    "\n",
    "First f;\n",
    "std::cout << f.a << std::endl; // нет ошибки\n",
    "std::cout << f.b << std::endl; // ошибка - извне нет доступа к protected\n",
    "std::cout << f.c << std::endl; // ошибка - извне нет доступа к private"
   ]
  },
  {
   "cell_type": "markdown",
   "metadata": {},
   "source": [
    "# Интерпретатор"
   ]
  },
  {
   "cell_type": "markdown",
   "metadata": {},
   "source": [
    "С помощью подобного подхода можно очень удобно разделять логику работы вашей программы. \n",
    "Для еще одного примера, напишем небольшой интерпретатор собственного языка программиования."
   ]
  },
  {
   "cell_type": "markdown",
   "metadata": {},
   "source": [
    "В нашем языке программирования есть всего 7 операций: \n",
    "\n",
    "set - устанавливает значение переменной\n",
    "\n",
    "add - складывает\n",
    "\n",
    "subl - вычитает\n",
    "\n",
    "mult - умножает\n",
    "\n",
    "sub - делит\n",
    "\n",
    "pow - возводит в степень\n",
    "\n",
    "print - выводит на экран\n",
    "\n",
    "Все команды имеют вид:\n",
    "\n",
    "[command] [target] [value]\n",
    "\n",
    "print также поддерживает вывод произвольного количества аргументов: print a b c ...\n"
   ]
  },
  {
   "cell_type": "code",
   "execution_count": null,
   "metadata": {
    "collapsed": true
   },
   "outputs": [],
   "source": [
    "#include <iostream>\n",
    "#include <string>\n",
    "#include <map>\n",
    "#include <cmath>\n",
    "#include <sstream>\n",
    "\n",
    "class Handler;\n",
    "\n",
    "class Interpreter {\n",
    "public:\n",
    "    Interpreter();\n",
    "    ~Interpreter();\n",
    "    void run(std::string code); // Реализуем данные фукнции после объявление обработчиков, так как\n",
    "    // иначе они не будут о них ничего знать\n",
    "\n",
    "    std::stringstream codeStream; // тоже самое, что и std::cin \\ std::cout, точно чтение происходит из строки а не с клавиатуры\n",
    "    std::map<std::string, int> variables; // множество всех переменных\n",
    "    std::map<std::string, Handler*> handlers; // множество всех обработчиков\n",
    "};\n",
    "\n",
    "\n",
    "class Handler { // общий предок для обработчиков\n",
    "public:\n",
    "    Handler(Interpreter * inter) {\n",
    "        interpretator = inter;\n",
    "    }\n",
    "    virtual void handle() {}\n",
    "\n",
    "    std::pair<std::string, int> getAgruments() { // считать оба аргумента - общая функция для двух обработчиков\n",
    "        std::string target, value;\n",
    "        interpretator->codeStream >> target >> value;\n",
    "        if(value[0] >= '0' and value[0] <= '9') { // если просто число\n",
    "            return std::make_pair(target, std::stoi(value));\n",
    "        } else { // если переменная\n",
    "            return std::make_pair(target, interpretator->variables[value]);\n",
    "        }\n",
    "    };\n",
    "protected: // секция protected аналогична private, но все ее содержимое будет доступно наследникам\n",
    "    // здесь используется именно protected, а не private или public, так как \n",
    "    // мы не хотим раскрывать внутреннего устройства объекта (нарушать инкапсуляцию)\n",
    "    // но при этом хотим, чтобы все наследники могли свободно пользоваться данным объектом\n",
    "    Interpreter * interpretator;\n",
    "};\n",
    "\n",
    "class SetHandler : public Handler { // обработчик установки значения переменной\n",
    "public:\n",
    "    SetHandler(Interpreter *inter) : Handler(inter) /*конструктор родителя*/ {} // конструктор необходимо прописать явно\n",
    "    // однако не обязательно его еще реализовывать - достаточно вызвать конструктор родителя.\n",
    "\n",
    "    virtual void handle() {\n",
    "        auto args = getAgruments();\n",
    "        interpretator->variables[args.first] = args.second;\n",
    "    }\n",
    "};\n",
    "\n",
    "class AddHandler : public Handler {\n",
    "public:\n",
    "    AddHandler(Interpreter *inter) : Handler(inter) {}\n",
    "\n",
    "    virtual void handle() {\n",
    "        auto args = getAgruments();\n",
    "        interpretator->variables[args.first] += args.second;\n",
    "    }\n",
    "};\n",
    "\n",
    "class SubHandler : public Handler {\n",
    "public:\n",
    "    SubHandler(Interpreter *inter) : Handler(inter) {}\n",
    "\n",
    "    virtual void handle() {\n",
    "        auto args = getAgruments();\n",
    "        interpretator->variables[args.first] -= args.second;\n",
    "    }\n",
    "};\n",
    "\n",
    "class MultHandler : public Handler {\n",
    "public:\n",
    "    MultHandler(Interpreter *inter) : Handler(inter) {}\n",
    "\n",
    "    virtual void handle()  {\n",
    "        auto args = getAgruments();\n",
    "        interpretator->variables[args.first] *= args.second;\n",
    "    }\n",
    "};\n",
    "\n",
    "class DivHandler : public Handler {\n",
    "public:\n",
    "    DivHandler(Interpreter *inter) : Handler(inter) {}\n",
    "\n",
    "    virtual void handle() {\n",
    "        auto args = getAgruments();\n",
    "        interpretator->variables[args.first] /= args.second;\n",
    "    }\n",
    "};\n",
    "\n",
    "class PowHandler : public Handler { // возведение в степень\n",
    "public:\n",
    "    PowHandler(Interpreter *inter) : Handler(inter) {}\n",
    "\n",
    "    virtual void handle() {\n",
    "        auto args = getAgruments();\n",
    "        interpretator->variables[args.first] = (int)pow(interpretator->variables[args.first], args.second);\n",
    "    }\n",
    "};\n",
    "\n",
    "class PrintHandler : public Handler { // печать на экран\n",
    "public:\n",
    "    PrintHandler(Interpreter *inter) : Handler(inter) {}\n",
    "\n",
    "    virtual void handle() {\n",
    "        std::string variables, current;\n",
    "        std::getline(interpretator->codeStream, variables);\n",
    "        std::stringstream ss;\n",
    "        ss << variables;\n",
    "        while(ss >> current) {\n",
    "            if(current[0] >= '0' and current[0] <= '9') std::cout << current << ' '; // Если просто число\n",
    "            else std::cout << interpretator->variables[current] << ' '; // Если переменная\n",
    "        }\n",
    "        std::cout << std::endl;\n",
    "    }\n",
    "};\n",
    "\n",
    "Interpreter::Interpreter() {\n",
    "    handlers[\"set\"] = new SetHandler(this); // установка соотвествующий обработчкиков для операций\n",
    "    handlers[\"add\"] = new AddHandler(this);\n",
    "    handlers[\"subl\"] = new SubHandler(this);\n",
    "    handlers[\"mult\"] = new MultHandler(this);\n",
    "    handlers[\"div\"] = new DivHandler(this);\n",
    "    handlers[\"pow\"] = new PowHandler(this);\n",
    "    handlers[\"print\"] = new PrintHandler(this);\n",
    "}\n",
    "\n",
    "Interpreter::~Interpreter() {\n",
    "    for(auto h : handlers) {\n",
    "        delete h.second; // по окончанию, необходимо освбодить память\n",
    "    }\n",
    "}\n",
    "\n",
    "void Interpreter::run(std::string code) {\n",
    "    codeStream.str(code);\n",
    "    std::string command;\n",
    "    while(codeStream >> command) { // считываем все комманды в коде\n",
    "        handlers[command]->handle(); // для соответствующей команды вызываем соответствующий обработчик\n",
    "    }\n",
    "    std::stringstream().swap(codeStream); // очищаем ввод\n",
    "}\n",
    "\n",
    "int main() {\n",
    "    Interpreter Inter;\n",
    "\n",
    "    std::string hello = \"print 42\";\n",
    "\n",
    "    Inter.run(hello);\n",
    "\n",
    "    std::string adding = \"\\\n",
    "set a 10 \\n \\\n",
    "set b 20 \\n \\\n",
    "add a b \\n \\\n",
    "print a b \\n \\\n",
    "\";\n",
    "    Inter.run(adding);\n",
    "\n",
    "    std::string code = \"\\\n",
    "set a 10 \\n\\\n",
    "set b 20 \\n \\\n",
    "set c 1 \\n \\\n",
    "mult c a \\n \\\n",
    "mult c b \\n \\\n",
    "\\\n",
    "set k c \\n \\\n",
    "div k 10 \\n \\\n",
    "pow k 5 \\n \\\n",
    "\\\n",
    "set abcd k \\n \\\n",
    "div abcd 2 \\n \\\n",
    "div abcd a \\n \\\n",
    "\\\n",
    "set f 0 \\n \\\n",
    "subl f a \\n \\\n",
    "subl f b \\n \\\n",
    "\\\n",
    "set summ 0 \\n \\\n",
    "add summ a \\n \\\n",
    "add summ b \\n \\\n",
    "add summ c \\n \\\n",
    "add summ k \\n \\\n",
    "add summ f \\n \\\n",
    "\\\n",
    "print a b c k f summ abcd \\n \\\n",
    "\";\n",
    "    Inter.run(code);\n",
    "    return 0;\n",
    "}"
   ]
  },
  {
   "cell_type": "markdown",
   "metadata": {},
   "source": [
    "Как можно заметить, весь код интерпретатора заключается в том, что на каждой строке мы вызывает один из обработчиков, который определяется автоматически исходя из команды.\n",
    "\n",
    "Каждый обработчик будет получать аргументы операции. Таким образом мы можем вынести этот метод в родительский класс для обработчиков. В итоге, необходимо написать необходимое количество классов на каждый оператор и реализовать в нем всего одну функцию. \n",
    "\n",
    "Таким образом, код становится понятнее и его гораздо удобнее расширять в дальнейшем: для добавления новой команды, не нужно трогать код интерпретатора - достаточно написать новый класс с одной функцией, который будет обрабатывать эту новую операцию и подключить ее.\n",
    "\n",
    "Аналогичным образом можно, к примеру, обрабатывать аргументы командной строки.\n",
    "\n",
    "Представьте, насколько сложнее и страшнее оказался бы код, если бы он был реализован с помощью switch или if-else. (Особенно, если бы Вам пришлось реализовывать вложенные конструкции, такие как цикл, например)"
   ]
  },
  {
   "cell_type": "markdown",
   "metadata": {},
   "source": [
    "# Декорирование"
   ]
  },
  {
   "cell_type": "markdown",
   "metadata": {},
   "source": [
    "Еще одним примером эффективного использования полиморфизма - декорирование объектов.\n",
    "\n",
    "Предположим, что у Вас есть какой-то объект, который выполняет некоторую полезную работу. И вы хотите добавить к этому действию, какое то дополнительное - к примеру, вести лог событий или, к примеру, сингализировать системе о начале и завершения работы."
   ]
  },
  {
   "cell_type": "code",
   "execution_count": null,
   "metadata": {
    "collapsed": true
   },
   "outputs": [],
   "source": [
    "#include <iostream>\n",
    "\n",
    "class IWorker { // буква I - от слова Interface. То есть данный класс сам по себе ничего не делает а только предоставляет\n",
    "    // интерфейс для потомков\n",
    "public:\n",
    "    virtual void doWork(){}\n",
    "    virtual int getId() { return -1; }\n",
    "};\n",
    "\n",
    "class Worker : public IWorker {\n",
    "public:\n",
    "    Worker(int id) {\n",
    "        this->id = id;\n",
    "    }\n",
    "    virtual void doWork() {\n",
    "        for(int i = 0; i < 5; i++) {\n",
    "            std::cout << \"Working ...\" << std::endl;\n",
    "            // Эмулируем серьезную работу\n",
    "            // в реальной задаче, тут могут быть какие-то серьезные вычисление\n",
    "            // отправка каких-нибудь данных\n",
    "            // работы с сетью или что-то подобное\n",
    "        }\n",
    "    }\n",
    "\n",
    "    virtual int getId() {\n",
    "        return id;\n",
    "    }\n",
    "\n",
    "private:\n",
    "    int id;\n",
    "};\n",
    "\n",
    "class LoggerDecorator : public IWorker { // логгер\n",
    "public:\n",
    "    LoggerDecorator(IWorker * worker) {\n",
    "        this->worker = worker; // получаем ссылку на настоящего рабочего\n",
    "    }\n",
    "\n",
    "    virtual int getId() { // возвращаем id настоящего работника\n",
    "        return worker->getId();\n",
    "    }\n",
    "\n",
    "    virtual void doWork() { // обрамляем работу реального работника логгированием\n",
    "        std::cout << \"[Log]: Worker with id \" << worker->getId() << \" start working.\" << std::endl;\n",
    "        worker->doWork();\n",
    "        std::cout << \"[Log]: Worker with id \" << worker->getId() << \" finish working.\" << std::endl;\n",
    "    }\n",
    "\n",
    "\n",
    "private:\n",
    "    IWorker * worker;\n",
    "};\n",
    "\n",
    "class BeautyDecorator : public IWorker { // еще один декоратор, который рисует красивые строчки до и после основной работы\n",
    "public:\n",
    "    BeautyDecorator(IWorker * worker) {\n",
    "        this->worker = worker;\n",
    "    }\n",
    "\n",
    "    virtual void doWork()  {\n",
    "        for(int i = 0; i < 60; i++) std::cout << '=';\n",
    "        std::cout << std::endl;\n",
    "\n",
    "        worker->doWork();\n",
    "\n",
    "        for(int i = 0; i < 60; i++) std::cout << '=';\n",
    "        std::cout << std::endl;\n",
    "    }\n",
    "\n",
    "    virtual int getId()  {\n",
    "        return worker->getId();\n",
    "    }\n",
    "\n",
    "\n",
    "private:\n",
    "    IWorker * worker;\n",
    "};\n",
    "\n",
    "int main() {\n",
    "    IWorker * one = new Worker(1); // Обычный рабочий\n",
    "    one->doWork();\n",
    "\n",
    "    std::cout << std::endl;\n",
    "\n",
    "    IWorker * two = new LoggerDecorator(new Worker(2)); // оборачиваем рабочего в логгер\n",
    "    // принцип работы с объектом two никак не поменялся\n",
    "    // но при этом мы аккуратно добавили новую функциональность, не изменяя изначальный класс рабочего\n",
    "\n",
    "    two->doWork(); // работаем но теперь с логгированием\n",
    "\n",
    "    std::cout << std::endl;\n",
    "\n",
    "    IWorker * three = new BeautyDecorator(new Worker(3)); // аналогично мы можем сделать и с Beauty\n",
    "    three->doWork();\n",
    "\n",
    "    std::cout << std::endl;\n",
    "\n",
    "    // так как все классы - наследники IWorker, то со всеми ними мы можем работать одинаковым образом\n",
    "    // То есть мы можем оборачивать в произвольное клоичество декораторов\n",
    "    IWorker * four = new BeautyDecorator(new LoggerDecorator(new Worker(4)));\n",
    "\n",
    "    four->doWork();\n",
    "\n",
    "    std::cout << std::endl;\n",
    "\n",
    "    IWorker * five = new LoggerDecorator(one); // можем оборачивать уже созданные классы, не обязательно создавать новые\n",
    "\n",
    "    five->doWork();\n",
    "\n",
    "    std::cout << std::endl;\n",
    "\n",
    "    return 0;\n",
    "}"
   ]
  },
  {
   "cell_type": "code",
   "execution_count": null,
   "metadata": {
    "collapsed": false
   },
   "outputs": [],
   "source": [
    "Вывод:\n",
    "\n",
    "Working ...\n",
    "Working ...\n",
    "Working ...\n",
    "Working ...\n",
    "Working ...\n",
    "\n",
    "[Log]: Worker with id 2 start working.\n",
    "Working ...\n",
    "Working ...\n",
    "Working ...\n",
    "Working ...\n",
    "Working ...\n",
    "[Log]: Worker with id 2 finish working.\n",
    "\n",
    "============================================================\n",
    "Working ...\n",
    "Working ...\n",
    "Working ...\n",
    "Working ...\n",
    "Working ...\n",
    "============================================================\n",
    "\n",
    "============================================================\n",
    "[Log]: Worker with id 4 start working.\n",
    "Working ...\n",
    "Working ...\n",
    "Working ...\n",
    "Working ...\n",
    "Working ...\n",
    "[Log]: Worker with id 4 finish working.\n",
    "============================================================\n",
    "\n",
    "[Log]: Worker with id 1 start working.\n",
    "Working ...\n",
    "Working ...\n",
    "Working ...\n",
    "Working ...\n",
    "Working ...\n",
    "[Log]: Worker with id 1 finish working."
   ]
  },
  {
   "cell_type": "markdown",
   "metadata": {},
   "source": [
    "В данном примере на не важно, что лежит на самом деле по указателю. Нам важно лишь то, что данный объект умеет совершать две операции: doWork и getId.\n",
    " \n",
    "Таким образом, можно не переделывая всю струкруту проекта добавлять дополнительный функционал к уже существующим объектам"
   ]
  },
  {
   "cell_type": "code",
   "execution_count": null,
   "metadata": {
    "collapsed": true
   },
   "outputs": [],
   "source": []
  }
 ],
 "metadata": {
  "anaconda-cloud": {},
  "kernelspec": {
   "display_name": "C++",
   "language": "",
   "name": "cling"
  },
  "language_info": {
   "codemirror_mode": "text/x-c++src",
   "file_extension": ".c++",
   "mimetype": " text/x-c++src",
   "name": "c++"
  }
 },
 "nbformat": 4,
 "nbformat_minor": 1
}
