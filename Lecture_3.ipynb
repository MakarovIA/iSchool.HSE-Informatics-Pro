{
 "cells": [
  {
   "cell_type": "markdown",
   "metadata": {},
   "source": [
    "# Функции"
   ]
  },
  {
   "cell_type": "code",
   "execution_count": 1,
   "metadata": {
    "collapsed": false
   },
   "outputs": [
    {
     "name": "stdout",
     "output_type": "stream",
     "text": [
      "10 40 80\n"
     ]
    }
   ],
   "source": [
    "# Для эффективной разработки сложных (а на самом деле вообще любых) программных проектов важно уметь \n",
    "# разбивать программу на отдельные части, которые впоследствии будут многократно использоваться.\n",
    "# Одним из способов добиться повторного использования кода в Питоне - использование функций\n",
    "\n",
    "# Функция - это блок кода, который может вызваться из другой части программы, получить какие-то данные\n",
    "# каким-то образом из обработать и вернуть в место, откуда была вызвана функция, результат обработки\n",
    "\n",
    "# Пример:\n",
    "\n",
    "def doubled(number): # Для объявления используется ключевое слово def, далее название и после аргументы в скобках\n",
    "    result = number * 2 # обработка полученных данных. В данном случае полученное число умножается на 2\n",
    "    return result # Посчитанное число возвращается. Для этого используется ключевое слово return\n",
    "\n",
    "# Важно: весь код функции в Питоне должен быть отделен пробелами или табами\n",
    "\n",
    "a = 5\n",
    "b = doubled(a) # Вызов функции. После того, как функция закончит свою рабту, в b запишится вычисленное значение 10\n",
    "c = doubled(20) # Повторный вызов\n",
    "\n",
    "print(b, c, doubled(c)) # print - это кстати тоже функция. "
   ]
  },
  {
   "cell_type": "code",
   "execution_count": 2,
   "metadata": {
    "collapsed": false
   },
   "outputs": [
    {
     "name": "stdout",
     "output_type": "stream",
     "text": [
      "20\n"
     ]
    }
   ],
   "source": [
    "def doubled(number):\n",
    "    return number * 2 # отдельная переменная result необязательна\n",
    "\n",
    "print(doubled(10))"
   ]
  },
  {
   "cell_type": "code",
   "execution_count": 3,
   "metadata": {
    "collapsed": false
   },
   "outputs": [
    {
     "name": "stdout",
     "output_type": "stream",
     "text": [
      "Hello, input\n",
      "Hello, input\n"
     ]
    }
   ],
   "source": [
    "# Вообще говоря функция может не получать вообще никаких аргументов\n",
    "# К примеру, функция input(), которая считывает пользовательский ввод и возвращает его вв виде строки\n",
    "a = input()\n",
    "print(a)"
   ]
  },
  {
   "cell_type": "code",
   "execution_count": 7,
   "metadata": {
    "collapsed": false
   },
   "outputs": [
    {
     "name": "stdout",
     "output_type": "stream",
     "text": [
      "Hello, User!\n",
      "None\n"
     ]
    }
   ],
   "source": [
    "def sayHello():\n",
    "    print(\"Hello, User!\")  # Функции, в которых нет return возвращают None\n",
    "    \n",
    "a = sayHello()\n",
    "print(a)"
   ]
  },
  {
   "cell_type": "code",
   "execution_count": 5,
   "metadata": {
    "collapsed": false
   },
   "outputs": [
    {
     "name": "stdout",
     "output_type": "stream",
     "text": [
      "15\n",
      "55\n"
     ]
    }
   ],
   "source": [
    "# Пример: функция, считающая сумму натуральных чисел от 1 до n\n",
    "def sumTo(n):\n",
    "    result = 0\n",
    "    for i in range(1, n+1):\n",
    "        result += i\n",
    "    return result\n",
    "\n",
    "print(sumTo(5))\n",
    "print(sumTo(10))"
   ]
  },
  {
   "cell_type": "code",
   "execution_count": 10,
   "metadata": {
    "collapsed": false
   },
   "outputs": [
    {
     "name": "stdout",
     "output_type": "stream",
     "text": [
      "2\n",
      "16\n"
     ]
    },
    {
     "ename": "NameError",
     "evalue": "name 'variable' is not defined",
     "output_type": "error",
     "traceback": [
      "\u001b[1;31m---------------------------------------------------------------------------\u001b[0m",
      "\u001b[1;31mNameError\u001b[0m                                 Traceback (most recent call last)",
      "\u001b[1;32m<ipython-input-10-8f13ae9647dd>\u001b[0m in \u001b[0;36m<module>\u001b[1;34m()\u001b[0m\n\u001b[0;32m      7\u001b[0m \u001b[1;33m\u001b[0m\u001b[0m\n\u001b[0;32m      8\u001b[0m \u001b[0mprint\u001b[0m\u001b[1;33m(\u001b[0m\u001b[0mfunc1\u001b[0m\u001b[1;33m(\u001b[0m\u001b[1;36m4\u001b[0m\u001b[1;33m)\u001b[0m\u001b[1;33m)\u001b[0m\u001b[1;33m\u001b[0m\u001b[0m\n\u001b[1;32m----> 9\u001b[1;33m \u001b[0mprint\u001b[0m\u001b[1;33m(\u001b[0m\u001b[0mvariable\u001b[0m\u001b[1;33m)\u001b[0m \u001b[1;31m# variable не доступна вне функции\u001b[0m\u001b[1;33m\u001b[0m\u001b[0m\n\u001b[0m",
      "\u001b[1;31mNameError\u001b[0m: name 'variable' is not defined"
     ]
    }
   ],
   "source": [
    "# Все переменные, объявленные внутри функции являются локальными - то есть доступны только внутри функции\n",
    "\n",
    "def func1(a):\n",
    "    variable = 2\n",
    "    print(variable) # variable доступна внутри функции\n",
    "    return a ** variable\n",
    "\n",
    "print(func1(4))\n",
    "print(variable) # variable не доступна вне функции"
   ]
  },
  {
   "cell_type": "code",
   "execution_count": 14,
   "metadata": {
    "collapsed": false
   },
   "outputs": [
    {
     "name": "stdout",
     "output_type": "stream",
     "text": [
      "2\n",
      "16\n",
      "2\n"
     ]
    }
   ],
   "source": [
    "# А вот функции напротив доступны переменные извне\n",
    "\n",
    "variable = 2\n",
    "\n",
    "def func1(a):\n",
    "    variable = 2\n",
    "    print(variable) # variable доступна внутри функции\n",
    "    return a ** variable\n",
    "\n",
    "print(func1(4))\n",
    "print(variable)"
   ]
  },
  {
   "cell_type": "code",
   "execution_count": 8,
   "metadata": {
    "collapsed": false
   },
   "outputs": [
    {
     "name": "stdout",
     "output_type": "stream",
     "text": [
      "24\n",
      "3628800\n"
     ]
    }
   ],
   "source": [
    "# Функция также может вызывать саму себя внутри себя (рекурсивно)\n",
    "# Классический пример: вычисление факториала числа (факториал - произведение чисел от 1 до n)\n",
    "def factorial(n):\n",
    "    if n == 0 :\n",
    "        return 1 # Факториал 0 мы считаем равным 1\n",
    "    return n * factorial(n-1)\n",
    "# Важно: при использовании рекурсивных функций необходимо указать условие выхода. \n",
    "# В противном случае, функция будет бесконечно вызывать себя (точнее сказать до того, как закончится память)\n",
    "# В данном примере, при достижении аргумента n нуля мы прекращаем рекурсию и возвращаем 1\n",
    "\n",
    "print(factorial(4))\n",
    "print(factorial(10))\n",
    "    "
   ]
  },
  {
   "cell_type": "code",
   "execution_count": 12,
   "metadata": {
    "collapsed": false
   },
   "outputs": [
    {
     "name": "stdout",
     "output_type": "stream",
     "text": [
      "24\n",
      "3628800\n"
     ]
    }
   ],
   "source": [
    "# Одна из неприятных особенностей рекурсивных функций - большое количество занимаемой памяти\n",
    "# из-за того, что нужно хранить значения локальных переменных для каждого вызова функции \n",
    "# Таким образом, если есть реализация функции не использующая рекурсивные вызовы - то в большинстве случаев\n",
    "# лучше отдать предпочнение ей\n",
    "\n",
    "def factorial2(n): # Альтернативная реализация факториала, не использующая рекурсивные вызовы\n",
    "    result = 1\n",
    "    for i in range(1, n+1):\n",
    "        result *= i\n",
    "    return result\n",
    "\n",
    "print(factorial2(4))\n",
    "print(factorial2(10))"
   ]
  },
  {
   "cell_type": "code",
   "execution_count": 13,
   "metadata": {
    "collapsed": false
   },
   "outputs": [
    {
     "name": "stdout",
     "output_type": "stream",
     "text": [
      "Значение: 7\n",
      "Значение: 6\n",
      "Значение: 5\n",
      "Значение: 4\n",
      "Значение: 3\n",
      "Значение: 2\n",
      "Значение: 1\n",
      "Значение: 0\n",
      "Посчитанное значение: 1\n",
      "Посчитанное значение: 2\n",
      "Посчитанное значение: 6\n",
      "Посчитанное значение: 24\n",
      "Посчитанное значение: 120\n",
      "Посчитанное значение: 720\n",
      "Посчитанное значение: 5040\n",
      "5040\n"
     ]
    }
   ],
   "source": [
    "# Рекурсивный вакториал с выводом\n",
    "def factorialPrint(n):\n",
    "    print(\"Значение: {0}\".format(n))\n",
    "    if n == 0:\n",
    "        return 1\n",
    "    result = n * factorialPrint(n-1)\n",
    "    print(\"Посчитанное значение: {0}\".format(result))\n",
    "    return result\n",
    "\n",
    "print(factorialPrint(7))"
   ]
  },
  {
   "cell_type": "code",
   "execution_count": 15,
   "metadata": {
    "collapsed": false
   },
   "outputs": [
    {
     "name": "stdout",
     "output_type": "stream",
     "text": [
      "Значение: 6\n",
      "Значение: 5\n",
      "Значение: 4\n",
      "Значение: 3\n",
      "Значение: 2\n",
      "Значение: 1\n",
      "Посчитанное значение: 2\n",
      "Значение: 2\n",
      "Посчитанное значение: 3\n",
      "Значение: 3\n",
      "Значение: 2\n",
      "Значение: 1\n",
      "Посчитанное значение: 2\n",
      "Посчитанное значение: 5\n",
      "Значение: 4\n",
      "Значение: 3\n",
      "Значение: 2\n",
      "Значение: 1\n",
      "Посчитанное значение: 2\n",
      "Значение: 2\n",
      "Посчитанное значение: 3\n",
      "Посчитанное значение: 8\n",
      "8\n"
     ]
    }
   ],
   "source": [
    "# Числа Фиббоначи\n",
    "\n",
    "def fib(n):\n",
    "    print(\"Значение: {0}\".format(n))\n",
    "    if n <= 2 :\n",
    "        return 1\n",
    "    result = fib(n-1) +fib(n-2)\n",
    "    print(\"Посчитанное значение: {0}\".format(result))\n",
    "    return result\n",
    "\n",
    "print(fib(6))"
   ]
  },
  {
   "cell_type": "code",
   "execution_count": 16,
   "metadata": {
    "collapsed": false
   },
   "outputs": [
    {
     "name": "stdout",
     "output_type": "stream",
     "text": [
      "3\n",
      "23\n"
     ]
    }
   ],
   "source": [
    "# Функции могут принимать больше одного аргумента\n",
    "\n",
    "def minimum(a, b): # неколько аргументов записываются через запятую\n",
    "    if a < b:\n",
    "        return a\n",
    "    else:\n",
    "        return b\n",
    "    \n",
    "print(minimum(3, 4))\n",
    "print(minimum(56, 23))"
   ]
  },
  {
   "cell_type": "code",
   "execution_count": 18,
   "metadata": {
    "collapsed": false
   },
   "outputs": [
    {
     "name": "stdout",
     "output_type": "stream",
     "text": [
      "15\n"
     ]
    }
   ],
   "source": [
    "def sumOfThree(a, b, c):\n",
    "    return a + b + c\n",
    "\n",
    "print(sumOfThree(3, 5, 7))"
   ]
  },
  {
   "cell_type": "code",
   "execution_count": 73,
   "metadata": {
    "collapsed": false
   },
   "outputs": [
    {
     "name": "stdout",
     "output_type": "stream",
     "text": [
      "#1 10 5#\n",
      "50\n",
      "#1 2 5#\n",
      "10\n",
      "#1 2 3#\n",
      "6\n"
     ]
    }
   ],
   "source": [
    "# Также у аргументов функции может быть значение по умолчанию - значение, которое принимает переменная\n",
    "# если ее не передали\n",
    "\n",
    "def mmultiply(a, b = 10, c = 5):\n",
    "    print(\"#{0} {1} {2}#\".format(a, b, c))\n",
    "    return a * b * c\n",
    "\n",
    "print(mmultiply(1))\n",
    "print(mmultiply(1, 2))\n",
    "print(mmultiply(1, 2, 3))"
   ]
  },
  {
   "cell_type": "code",
   "execution_count": 19,
   "metadata": {
    "collapsed": false
   },
   "outputs": [
    {
     "name": "stdout",
     "output_type": "stream",
     "text": [
      "S\n",
      "o\n",
      "m\n",
      "e\n",
      " \n",
      "t\n",
      "e\n",
      "x\n",
      "t\n"
     ]
    }
   ],
   "source": [
    "# Функции, конечно же, могут принимать не только числовые значения в качестве агрументов\n",
    "\n",
    "def writeInColumn(string):\n",
    "    for s in string:\n",
    "        print(s)\n",
    "\n",
    "writeInColumn(\"Some text\")"
   ]
  },
  {
   "cell_type": "code",
   "execution_count": 21,
   "metadata": {
    "collapsed": false
   },
   "outputs": [
    {
     "name": "stdout",
     "output_type": "stream",
     "text": [
      "(2, 3, 4)\n",
      "9\n",
      "(3, 5, 6, 7, 8, 9, 3)\n",
      "41\n",
      "()\n",
      "0\n",
      "(2,)\n",
      "2\n"
     ]
    }
   ],
   "source": [
    "# Функция вообще может принимать произвольное количество аргументов. Для этого необходимо поставить * перед агрументом\n",
    "\n",
    "def sumOfNumbers(*numbers): # number - это целый кортеж аргументов, которые были переданы в функцию\n",
    "    print(numbers)\n",
    "    result = 0\n",
    "    for n in numbers:\n",
    "        result += n\n",
    "    return result\n",
    "\n",
    "print(sumOfNumbers(2, 3, 4))\n",
    "print(sumOfNumbers(3, 5, 6, 7, 8, 9 ,3))\n",
    "print(sumOfNumbers()) # Передасться пустой список\n",
    "print(sumOfNumbers(2)) # Хоть аргумент всего один, передасться все равно кортеж с одним значением\n"
   ]
  },
  {
   "cell_type": "code",
   "execution_count": 22,
   "metadata": {
    "collapsed": false
   },
   "outputs": [
    {
     "name": "stdout",
     "output_type": "stream",
     "text": [
      "24\n",
      "10\n",
      "Операция \"пожанглировать\" не поддерживается\n",
      "-1\n"
     ]
    }
   ],
   "source": [
    "def mathematica(action, *numbers):\n",
    "    result = None\n",
    "    if action.lower() == \"сложить\":\n",
    "        result = 0\n",
    "        for n in numbers:\n",
    "            result += n\n",
    "    elif action.lower() == \"умножить\":\n",
    "        result = 1\n",
    "        for n in numbers:\n",
    "            result *= n\n",
    "    else:\n",
    "        print(\"Операция \\\"{0}\\\" не поддерживается\".format(action))\n",
    "        result = -1\n",
    "    return result\n",
    "\n",
    "print(mathematica(\"умножить\", 1, 2, 3, 4))\n",
    "print(mathematica(\"сложить\", 1, 2, 3, 4))\n",
    "print(mathematica(\"пожанглировать\", 1, 2, 3, 4))"
   ]
  },
  {
   "cell_type": "code",
   "execution_count": 24,
   "metadata": {
    "collapsed": false
   },
   "outputs": [
    {
     "ename": "TypeError",
     "evalue": "func2() missing 3 required keyword-only arguments: 'a', 'b', and 'c'",
     "output_type": "error",
     "traceback": [
      "\u001b[1;31m---------------------------------------------------------------------------\u001b[0m",
      "\u001b[1;31mTypeError\u001b[0m                                 Traceback (most recent call last)",
      "\u001b[1;32m<ipython-input-24-72c0fad5680b>\u001b[0m in \u001b[0;36m<module>\u001b[1;34m()\u001b[0m\n\u001b[0;32m      8\u001b[0m     \u001b[1;32mreturn\u001b[0m \u001b[0mresult\u001b[0m\u001b[1;33m\u001b[0m\u001b[0m\n\u001b[0;32m      9\u001b[0m \u001b[1;33m\u001b[0m\u001b[0m\n\u001b[1;32m---> 10\u001b[1;33m \u001b[0mfunc2\u001b[0m\u001b[1;33m(\u001b[0m\u001b[1;36m2\u001b[0m\u001b[1;33m,\u001b[0m \u001b[1;36m3\u001b[0m\u001b[1;33m,\u001b[0m \u001b[1;36m4\u001b[0m\u001b[1;33m,\u001b[0m \u001b[1;36m5\u001b[0m\u001b[1;33m,\u001b[0m \u001b[1;36m6\u001b[0m\u001b[1;33m,\u001b[0m \u001b[1;36m7\u001b[0m\u001b[1;33m)\u001b[0m\u001b[1;33m\u001b[0m\u001b[0m\n\u001b[0m",
      "\u001b[1;31mTypeError\u001b[0m: func2() missing 3 required keyword-only arguments: 'a', 'b', and 'c'"
     ]
    }
   ],
   "source": [
    "# Важно: после аргумента для произвольного количества аргументов не может быть других агрументов\n",
    "\n",
    "def func2(*args, a, b, c):\n",
    "    result = a + b + c\n",
    "    for i in args:\n",
    "        result += i\n",
    "    return result\n",
    "\n",
    "func2(2, 3, 4, 5, 6, 7)"
   ]
  },
  {
   "cell_type": "code",
   "execution_count": 25,
   "metadata": {
    "collapsed": false
   },
   "outputs": [
    {
     "ename": "SyntaxError",
     "evalue": "invalid syntax (<ipython-input-25-ecf705b10aae>, line 3)",
     "output_type": "error",
     "traceback": [
      "\u001b[1;36m  File \u001b[1;32m\"<ipython-input-25-ecf705b10aae>\"\u001b[1;36m, line \u001b[1;32m3\u001b[0m\n\u001b[1;33m    def func3(*a, *b):\u001b[0m\n\u001b[1;37m                  ^\u001b[0m\n\u001b[1;31mSyntaxError\u001b[0m\u001b[1;31m:\u001b[0m invalid syntax\n"
     ]
    }
   ],
   "source": [
    "# А также не может быть больше одного такого аргумента\n",
    "\n",
    "def func3(*a, *b):\n",
    "    result = 0\n",
    "    for i in a:\n",
    "        result += i\n",
    "    for i in b:\n",
    "        result += i\n",
    "    return result\n",
    "\n",
    "func3(2, 3, 4, 5, 6, 7)"
   ]
  },
  {
   "cell_type": "code",
   "execution_count": 28,
   "metadata": {
    "collapsed": false
   },
   "outputs": [
    {
     "name": "stdout",
     "output_type": "stream",
     "text": [
      "{'surname': 'Babashev', 'name': 'Alex'}\n",
      "Имя: Alex\n",
      "Фамилия: Babashev\n",
      "\n",
      "{'surname': 'Numerov', 'name': 'Petr', 'age': 34, 'experience': 5}\n",
      "Имя: Petr\n",
      "Фамилия: Numerov\n",
      "Возраст: 34\n",
      "Стаж: 5\n",
      "\n",
      "{}\n",
      "\n",
      "{'name': 'Vovka', 'experience': 7, 'abc': 12, 'fgh': 'HELLO'}\n",
      "Имя: Vovka\n",
      "Стаж: 7\n",
      "\n"
     ]
    }
   ],
   "source": [
    "# Также в Питоне аргументам можно использовать именнованные аргументы\n",
    "\n",
    "def personCard(**kargs): # в kargs содержится словарь. Ключ - имя аргумента, значение - значение агрумента\n",
    "    print(kargs)\n",
    "    result = \"\"\n",
    "    if \"name\" in kargs: # Проверка наличия переданного аргумента\n",
    "        result += \"Имя: {0}\\n\".format(kargs[\"name\"])\n",
    "    if \"surname\" in kargs:\n",
    "        result += \"Фамилия: {0}\\n\".format(kargs[\"surname\"])\n",
    "    if \"age\" in kargs:\n",
    "        result += \"Возраст: {0}\\n\".format(kargs[\"age\"])\n",
    "    if \"experience\" in kargs:\n",
    "        result += \"Стаж: {0}\\n\".format(kargs[\"experience\"])\n",
    "    return result\n",
    "\n",
    "print(personCard(name=\"Alex\", surname=\"Babashev\"))\n",
    "print(personCard(name=\"Petr\", surname=\"Numerov\", age=34, experience=5))\n",
    "print(personCard()) # Пустой словарь\n",
    "print(personCard(abc=12, experience=7, fgh=\"HELLO\", name=\"Vovka\"))"
   ]
  },
  {
   "cell_type": "code",
   "execution_count": 29,
   "metadata": {
    "collapsed": false
   },
   "outputs": [
    {
     "name": "stdout",
     "output_type": "stream",
     "text": [
      "2 3\n",
      "(4, 5, 'hello', True)\n",
      "{'boolean': False, 'number': 5, 'hello': 'world'}\n"
     ]
    }
   ],
   "source": [
    "# Как и в случаи с просто произвольным количеством аргументов после именнованных также нельзя ставить \n",
    "# никакие аргументы и переменная с именнованными агрументами может быть только одна\n",
    "# Однако и произольное количество агрументов и именнованные аргументы могут быть в одной функции\n",
    "\n",
    "def func4(a, b, *args, **kargs):\n",
    "    print(a, b)\n",
    "    print(args)\n",
    "    print(kargs)\n",
    "    \n",
    "func4(2, 3, 4, 5, \"hello\", True, hello=\"world\", number=5, boolean=False)"
   ]
  },
  {
   "cell_type": "code",
   "execution_count": 30,
   "metadata": {
    "collapsed": false
   },
   "outputs": [
    {
     "name": "stdout",
     "output_type": "stream",
     "text": [
      "<function add at 0x7f228dec5e18>\n",
      "7\n"
     ]
    }
   ],
   "source": [
    "# Интересный факт - сама функция является объектом\n",
    "\n",
    "def add(a, b):\n",
    "    return a + b\n",
    "\n",
    "x = add # Важно: без скобок! Иначе вызовется сама функция и в x запишется не она, а результат ее работы\n",
    "\n",
    "print(x)\n",
    "print(x(3, 4))"
   ]
  },
  {
   "cell_type": "code",
   "execution_count": 32,
   "metadata": {
    "collapsed": false
   },
   "outputs": [
    {
     "name": "stdout",
     "output_type": "stream",
     "text": [
      "<function multiplyer.<locals>.multiply at 0x7f228dec5950>\n",
      "<function multiplyer.<locals>.multiply at 0x7f228dec52f0>\n",
      "<function multiplyer.<locals>.multiply at 0x7f228dec59d8>\n",
      "--------\n",
      "9\n",
      "21\n",
      "135\n",
      "--------\n",
      "15\n",
      "35\n",
      "--------\n",
      "56\n",
      "96\n",
      "--------\n",
      "240\n"
     ]
    }
   ],
   "source": [
    "# Это также означает, что функция сама может быть результатом другой функции (так называемой функции высшего порядка)\n",
    "\n",
    "def multiplyer(multiplier):\n",
    "    def multiply(number): # Объявление функции внутри другой функции\n",
    "        return number * multiplier # у внутренней функции один аргумент number, multiplier является константой по отношению к ней\n",
    "    return multiply                # возвращение функции\n",
    "\n",
    "on3 = multiplyer(3) # конструируем функцию домножения на 3\n",
    "on5 = multiplyer(5) # конструируем функцию домножения на 5\n",
    "on8 = multiplyer(8)\n",
    "\n",
    "print(on3)\n",
    "print(on5)\n",
    "print(on8)\n",
    "\n",
    "print(on8('-'))\n",
    "\n",
    "print(on3(3))\n",
    "print(on3(7))\n",
    "print(on3(45))\n",
    "\n",
    "print(on8('-'))\n",
    "\n",
    "print(on5(3))\n",
    "print(on5(7))\n",
    "\n",
    "print(on8('-'))\n",
    "\n",
    "print(on8(7))\n",
    "print(on8(12))\n",
    "\n",
    "print(on8('-'))\n",
    "\n",
    "print(on3(on5(on8(2))))"
   ]
  },
  {
   "cell_type": "code",
   "execution_count": 37,
   "metadata": {
    "collapsed": false
   },
   "outputs": [
    {
     "name": "stdout",
     "output_type": "stream",
     "text": [
      "[(1, 2), (7, 2), (2, 3), (12, 4), (5, 6), (12, 14), (7, 15)]\n",
      "[(1, 2), (2, 3), (7, 2), (5, 6), (12, 4), (7, 15), (12, 14)]\n"
     ]
    }
   ],
   "source": [
    "# Функция в качестве объекта очень полезна\n",
    "# К примеру, стандартная функция sort может принимать в качестве аргумента функцию, по которой и будет проводиться сортировка\n",
    "\n",
    "def last(n): # возвращает последнее значение в кортеже\n",
    "    return n[-1]\n",
    "\n",
    "def summa(n):\n",
    "    result = 0\n",
    "    for i in n:\n",
    "        result += i\n",
    "    return result\n",
    "\n",
    "a = [ # массив кортежей\n",
    "    (1, 2),\n",
    "    (2, 3),\n",
    "    (12, 4),\n",
    "    (7, 15),\n",
    "    (5, 6),\n",
    "    (7, 2),\n",
    "    (12, 14)\n",
    "]\n",
    "\n",
    "a.sort(key=last) # сортировка по последнему, а не по первому значению в кортеже\n",
    "print(a)\n",
    "a.sort(key=summa) # сортировка по значению суммы аргументов кортежей\n",
    "print(a)"
   ]
  },
  {
   "cell_type": "code",
   "execution_count": 39,
   "metadata": {
    "collapsed": false
   },
   "outputs": [
    {
     "name": "stdout",
     "output_type": "stream",
     "text": [
      "9\n",
      "25\n",
      "----------\n",
      "30\n",
      "24\n"
     ]
    }
   ],
   "source": [
    "# Для того, чтобы отдельно не объявлять небольшую функцию, которая требуется для небольшой части кода (как например\n",
    "# функция для сортировки, как в примере выше) в Питоне есть лямбда-функции\n",
    "\n",
    "x = lambda e: e**2 # после ключевого слова lambda необходимо указать аргументы, а затем через запятую\n",
    "                   # выражение, вычисляемое данной лямбда функцией\n",
    "    \n",
    "y = lambda e, r: e * r\n",
    "\n",
    "print(x(3))\n",
    "print(x(5))\n",
    "\n",
    "print(y('-', 10))\n",
    "\n",
    "print(y(5, 6))\n",
    "print(y(12, 2))\n",
    "\n",
    "# К сожалению, в Питоне в лямбда-функциях нельзя использовать ничего кроме вычисляемого выражения - ни циклов,\n",
    "# ни локальных переменных, и тд"
   ]
  },
  {
   "cell_type": "code",
   "execution_count": 41,
   "metadata": {
    "collapsed": false
   },
   "outputs": [
    {
     "name": "stdout",
     "output_type": "stream",
     "text": [
      "[(1, 2), (7, 2), (2, 3), (12, 4), (5, 6), (12, 14), (7, 15)]\n",
      "[(1, 2), (2, 3), (7, 2), (5, 6), (12, 4), (7, 15), (12, 14)]\n"
     ]
    }
   ],
   "source": [
    "a = [ # массив кортежей\n",
    "    (1, 2),\n",
    "    (2, 3),\n",
    "    (12, 4),\n",
    "    (7, 15),\n",
    "    (5, 6),\n",
    "    (7, 2),\n",
    "    (12, 14)\n",
    "]\n",
    "\n",
    "# Предыдущий пример с использованием лямбда функций\n",
    "a.sort(key=lambda x: x[-1])\n",
    "print(a)\n",
    "a.sort(key=lambda x: x[0]+x[1])\n",
    "print(a)"
   ]
  },
  {
   "cell_type": "markdown",
   "metadata": {},
   "source": [
    "# Коллекции"
   ]
  },
  {
   "cell_type": "code",
   "execution_count": 42,
   "metadata": {
    "collapsed": true
   },
   "outputs": [],
   "source": [
    "# В Питоне существует несколько стандартных коллекций для хранения различных данных\n",
    "\n",
    "# список - упорядоченный (относительно того, в каком порядке добавлялись данные) набор объктов\n",
    "a = [1, 2, 3, \"HI\", False]\n",
    "\n",
    "# кортеж - то же, что и список, но не изменяемый\n",
    "a = (1, 2, 3, \"HI\", False)\n",
    "\n",
    "# словарь - коллекция, в котором ключ ассоциируется со значением\n",
    "a = { \"one\": 1, \"two\": 2, \"three\": 3}\n",
    "\n",
    "# множество - набор уникальных объектов в произвольном порядке\n",
    "a = { 1, 2, 3, \"HI\", True}"
   ]
  },
  {
   "cell_type": "code",
   "execution_count": 45,
   "metadata": {
    "collapsed": false
   },
   "outputs": [
    {
     "name": "stdout",
     "output_type": "stream",
     "text": [
      "{1, 2, 3, 4, 5}\n",
      "{1, 2, 3, 4, 5, 7}\n",
      "{1, 3, 4, 5, 7}\n"
     ]
    }
   ],
   "source": [
    "# Немного про функциональность множеств\n",
    "\n",
    "a = {1, 2, 3, 3, 4, 5, 5, 5} \n",
    "\n",
    "print(a) # все дублирующиеся элементы были удалены\n",
    "\n",
    "a.add(1) # 1 уже есть в a, значит ничего не добавится\n",
    "a.add(7)\n",
    "\n",
    "print(a)\n",
    "\n",
    "a.remove(2)\n",
    "\n",
    "print(a)"
   ]
  },
  {
   "cell_type": "code",
   "execution_count": 47,
   "metadata": {
    "collapsed": false
   },
   "outputs": [
    {
     "name": "stdout",
     "output_type": "stream",
     "text": [
      "1\n",
      "2\n",
      "3\n",
      "4\n",
      "----------\n",
      "1\n",
      "2\n",
      "3\n",
      "4\n",
      "----------\n",
      "1\n",
      "2\n",
      "3\n",
      "4\n",
      "----------\n",
      "1\n",
      "2\n",
      "3\n",
      "4\n"
     ]
    }
   ],
   "source": [
    "# Каждая коллекция является итерируемым объектом\n",
    "# Это очень удобно, так как это означает, что вне зависимости от реального типа объекта, проходить по \n",
    "# их содержимому можно единообразно\n",
    "\n",
    "a = [1, 2, 3, 4]\n",
    "b = {1, 2, 3, 4}\n",
    "c = {1: \"a\", 2: \"b\", 3: \"c\", 4: \"d\"}\n",
    "d = (1, 2, 3, 4)\n",
    "\n",
    "for i in a:\n",
    "    print(i)\n",
    "    \n",
    "print(\"-\"*10)\n",
    "\n",
    "for i in b:\n",
    "    print(i)\n",
    "    \n",
    "print(\"-\"*10)\n",
    "\n",
    "for i in c:\n",
    "    print(i)\n",
    "    \n",
    "print(\"-\"*10)\n",
    "\n",
    "for i in d:\n",
    "    print(i)    \n",
    "# Циклы не отличаются ничем, хотя у всех переменных разный тип\n",
    "\n"
   ]
  },
  {
   "cell_type": "code",
   "execution_count": 48,
   "metadata": {
    "collapsed": false
   },
   "outputs": [
    {
     "name": "stdout",
     "output_type": "stream",
     "text": [
      "6.25\n",
      "5.2\n",
      "5.0\n",
      "18.666666666666668\n",
      "4.5\n"
     ]
    }
   ],
   "source": [
    "# Таким образом одну и туже функцию можно использовать с разными типами объектов - главное, чтобы он был \n",
    "# итерируемым\n",
    "\n",
    "def mean(data): # вычисление среднего значения набора чисел\n",
    "    count = 0\n",
    "    summ = 0\n",
    "    for i in data:\n",
    "        count += 1\n",
    "        summ += int(i)\n",
    "    return float(summ)/float(count)\n",
    "\n",
    "print(mean([3, 5, 8, 6, 4, 7, 8, 9]))\n",
    "print(mean({2, 3, 5, 7, 9, 5, 3}))\n",
    "print(mean({3: \"f\", 7: \"78\"}))\n",
    "print(mean((34, 5, 7, 9, 54, 3)))\n",
    "print(mean(\"345366\")) # Даже строка подойдет, так как она - итерируемый объект"
   ]
  },
  {
   "cell_type": "code",
   "execution_count": 50,
   "metadata": {
    "collapsed": false
   },
   "outputs": [
    {
     "name": "stdout",
     "output_type": "stream",
     "text": [
      "[5, 6, 7, 8]\n"
     ]
    }
   ],
   "source": [
    "# Важно: большинство объектов передаются в функции по ссылке\n",
    "# То есть изменяя переданный аргумент в функции, вы меняете его везде в программе\n",
    "\n",
    "def plusOne(a): # добавляет каждому элементу коллекции 1\n",
    "    for i in range(len(a)):\n",
    "        a[i] += 1\n",
    "        \n",
    "a = [4, 5, 6, 7]\n",
    "plusOne(a) # функция не вернула значение, а именно изменила изначальный объект\n",
    "print(a)"
   ]
  },
  {
   "cell_type": "code",
   "execution_count": 51,
   "metadata": {
    "collapsed": false
   },
   "outputs": [
    {
     "name": "stdout",
     "output_type": "stream",
     "text": [
      "[5, 6, 7, 8]\n",
      "[4, 5, 6, 7]\n"
     ]
    }
   ],
   "source": [
    "# Такое поведение может быть полезным, однако если хочется производить манипуляции с коллекцией но при этом не\n",
    "# хочется, чтобы изначальный объект менялся, необходимо использовать копирование объектов\n",
    "import copy # необходимые функции лежат в модуле copy\n",
    "\n",
    "def plusOne2(a):\n",
    "    b = copy.copy(a) # Важно использовать именно copy.copy, а не просто b=a, так как присваивание также \n",
    "    for i in range(len(b)): # просто скопирует ссылку на изначальный объект\n",
    "        b[i] += 1\n",
    "    return b\n",
    "\n",
    "a = [4, 5, 6, 7]\n",
    "x = plusOne2(a)\n",
    "print(x)\n",
    "print(a) # a не изменился"
   ]
  },
  {
   "cell_type": "code",
   "execution_count": 52,
   "metadata": {
    "collapsed": false
   },
   "outputs": [
    {
     "name": "stdout",
     "output_type": "stream",
     "text": [
      "[[1, 2, 3, 1], [4, 5, 6, 1], [7, 8, 9, 1]]\n",
      "[[1, 2, 3, 1], [4, 5, 6, 1], [7, 8, 9, 1]]\n"
     ]
    }
   ],
   "source": [
    "# Однако такой подход может не подойти в случае, если в коллекции лежат объекты, которые передаются по ссылке\n",
    "# Например, если это список списков (матрица)\n",
    "\n",
    "def plusOne3(a): # Теперь функция возвращает массив, к каждому елементу которого присоединена единица\n",
    "    b = copy.copy(a)\n",
    "    for i in range(len(b)):\n",
    "        b[i].append(1)\n",
    "    return b\n",
    "\n",
    "a = [\n",
    "    [1, 2, 3],\n",
    "    [4, 5, 6],\n",
    "    [7, 8, 9]\n",
    "]\n",
    "b = plusOne3(a)\n",
    "print(b)\n",
    "print(a) # увы, а также поменялся"
   ]
  },
  {
   "cell_type": "code",
   "execution_count": 54,
   "metadata": {
    "collapsed": false
   },
   "outputs": [
    {
     "name": "stdout",
     "output_type": "stream",
     "text": [
      "[[1, 2, 3, 1], [4, 5, 6, 1], [7, 8, 9, 1]]\n",
      "[[1, 2, 3], [4, 5, 6], [7, 8, 9]]\n"
     ]
    }
   ],
   "source": [
    "# Чтобы избежать этого, необходимо использовать глубокое копирование\n",
    "\n",
    "def plusOne4(a):\n",
    "    b = copy.deepcopy(a) # глубокое копирование объекта\n",
    "    for i in range(len(b)):\n",
    "        b[i].append(1)\n",
    "    return b\n",
    "\n",
    "a = [\n",
    "    [1, 2, 3],\n",
    "    [4, 5, 6],\n",
    "    [7, 8, 9]\n",
    "]\n",
    "b = plusOne4(a)\n",
    "print(b)\n",
    "print(a) # Теперь а не изменился"
   ]
  },
  {
   "cell_type": "code",
   "execution_count": 56,
   "metadata": {
    "collapsed": false
   },
   "outputs": [
    {
     "name": "stdout",
     "output_type": "stream",
     "text": [
      "0\n",
      "1\n",
      "2\n",
      "3\n",
      "4\n",
      "5\n",
      "6\n",
      "7\n",
      "8\n",
      "9\n"
     ]
    }
   ],
   "source": [
    "# Помимо встроенных в коллекции итераторов, в Питоне есть возможность создавать свои\n",
    "# Для этого служит ключевое слово yield\n",
    "\n",
    "def myRange(n):  # реализация аналога range\n",
    "    num = 0\n",
    "    while num < n: # yield сохраняет состояние функции и возвращает значение \n",
    "        yield num  # при следующем обращении продолжает выполнение функции до того, пока yield не встретится\n",
    "        num += 1   # еще раз или не будет достигнут конец функции\n",
    "        \n",
    "for x in myRange(10):\n",
    "    print(x)"
   ]
  },
  {
   "cell_type": "code",
   "execution_count": 57,
   "metadata": {
    "collapsed": false
   },
   "outputs": [
    {
     "name": "stdout",
     "output_type": "stream",
     "text": [
      "Hello\n",
      "5\n",
      "True\n",
      "None\n"
     ]
    }
   ],
   "source": [
    "def iter1():\n",
    "    yield \"Hello\"\n",
    "    yield 5\n",
    "    yield True\n",
    "    yield None\n",
    "\n",
    "for i in iter1():\n",
    "    print(i)"
   ]
  },
  {
   "cell_type": "code",
   "execution_count": 59,
   "metadata": {
    "collapsed": false
   },
   "outputs": [
    {
     "name": "stdout",
     "output_type": "stream",
     "text": [
      "0\n",
      "--------------------\n",
      "1\n",
      "--------------------\n",
      "4\n",
      "--------------------\n",
      "9\n",
      "--------------------\n",
      "16\n",
      "--------------------\n",
      "25\n",
      "--------------------\n",
      "36\n",
      "--------------------\n",
      "49\n",
      "--------------------\n",
      "64\n",
      "--------------------\n",
      "81\n",
      "--------------------\n"
     ]
    }
   ],
   "source": [
    "def iter2(n):\n",
    "    q = 0\n",
    "    while q < n:\n",
    "        yield q**2\n",
    "        yield \"-\"*20\n",
    "        q += 1\n",
    "        \n",
    "for i in iter2(10):\n",
    "    print(i)"
   ]
  },
  {
   "cell_type": "code",
   "execution_count": 61,
   "metadata": {
    "collapsed": false
   },
   "outputs": [
    {
     "name": "stdout",
     "output_type": "stream",
     "text": [
      "[0, 2, 4, 6, 8, 10, 12, 14, 16, 18]\n"
     ]
    }
   ],
   "source": [
    "# Самодельные итераторы также можно конвертировать в коллекции (если коллекция это позволяет)\n",
    "\n",
    "def iter3(n):\n",
    "    q = 0\n",
    "    while q < n:\n",
    "        yield q * 2\n",
    "        q += 1\n",
    "\n",
    "x = list(iter3(10))\n",
    "print(x)"
   ]
  },
  {
   "cell_type": "code",
   "execution_count": 63,
   "metadata": {
    "collapsed": false
   },
   "outputs": [
    {
     "name": "stdout",
     "output_type": "stream",
     "text": [
      "[0, 0, 1, 1, 2, 2, 3, 3, 4, 4, 5, 5, 6, 6, 7, 7, 8, 8, 9, 9]\n",
      "{0, 1, 2, 3, 4, 5, 6, 7, 8, 9}\n"
     ]
    }
   ],
   "source": [
    "def iter4(n):\n",
    "    q = 0\n",
    "    while q < n:\n",
    "        yield q\n",
    "        yield q\n",
    "        q += 1\n",
    "x = list(iter4(10))\n",
    "y = set(iter4(10))\n",
    "\n",
    "print(x)\n",
    "print(y)"
   ]
  },
  {
   "cell_type": "code",
   "execution_count": 67,
   "metadata": {
    "collapsed": false
   },
   "outputs": [
    {
     "name": "stdout",
     "output_type": "stream",
     "text": [
      "[0, 1, 4, 9, 16, 25, 36, 49, 64, 81]\n"
     ]
    }
   ],
   "source": [
    "# Таким образом, используя yield можно довольно удобным способом генерировать нужную коллекцию\n",
    "# Однако в Питоне для этого существует еще более удобный способ - генераторы\n",
    "\n",
    "x = [e**2 for e in range(10)] # генератора квадратов чисел\n",
    "print(x)\n",
    "\n",
    "# синтаксис крайне прост - в скобках для коллекции необходимо написать вычисляемое выражения для иксов\n",
    "# и дальше в цикле for указать, откуда брать эти иксы"
   ]
  },
  {
   "cell_type": "code",
   "execution_count": 69,
   "metadata": {
    "collapsed": false
   },
   "outputs": [
    {
     "name": "stdout",
     "output_type": "stream",
     "text": [
      "[5, 4, 3, 2, 1, 0, 1, 2, 3, 4]\n",
      "{0, 1, 2, 3, 4, 5}\n",
      "{0: 25, 1: 36, 2: 49, 3: 64, 4: 81, -2: 9, -5: 0, -4: 1, -3: 4, -1: 16}\n"
     ]
    }
   ],
   "source": [
    "x = [ abs(n-5) for n in range(10) ]\n",
    "y = { abs(n-5) for n in range(10) } # генерировать можно не столько списки\n",
    "z = { n-5:n**2 for n in range(10) }\n",
    "\n",
    "print(x, y, z, sep='\\n')"
   ]
  },
  {
   "cell_type": "code",
   "execution_count": 70,
   "metadata": {
    "collapsed": false
   },
   "outputs": [
    {
     "name": "stdout",
     "output_type": "stream",
     "text": [
      "[1, 3, 5, 7, 9]\n"
     ]
    }
   ],
   "source": [
    "x = [n for n in range(10) if n % 2 == 1] # в генераторах также можно использовать условие на иксы\n",
    "\n",
    "print(x) # список нечетных чисел"
   ]
  },
  {
   "cell_type": "code",
   "execution_count": 74,
   "metadata": {
    "collapsed": false
   },
   "outputs": [
    {
     "name": "stdout",
     "output_type": "stream",
     "text": [
      "Company:  ['Boris', 'Maxim', 'Sofia', 'Engro']\n",
      "All money:  84\n"
     ]
    }
   ],
   "source": [
    "# Генерировать можно, проходя не только по range\n",
    "\n",
    "persons = [\n",
    "    {\"name\": \"Boris\", \"money\": 20},\n",
    "    {\"name\": \"Maxim\", \"money\": 15},\n",
    "    {\"name\": \"Sofia\", \"money\": 32},\n",
    "    {\"name\": \"Engro\", \"money\": 17}\n",
    "]\n",
    "\n",
    "names = [x[\"name\"] for x in persons]\n",
    "money = sum([x[\"money\"] for x in persons])\n",
    "\n",
    "print(\"Company: \", names)\n",
    "print(\"All money: \", money)"
   ]
  },
  {
   "cell_type": "code",
   "execution_count": 16,
   "metadata": {
    "collapsed": false
   },
   "outputs": [
    {
     "name": "stdout",
     "output_type": "stream",
     "text": [
      "2\n",
      "No\n"
     ]
    }
   ],
   "source": [
    "# В Питоне, к сожадению, нет конструкции switch-case\n",
    "# Однако ее можно заменить использованием словарей\n",
    "\n",
    "x = int(input())\n",
    "\n",
    "a = {\n",
    "    1: \"Yes\",\n",
    "    2: \"No\",\n",
    "    3: \"Maybe\"\n",
    "}.get(x, \"Unknown\")\n",
    "print(a)"
   ]
  },
  {
   "cell_type": "code",
   "execution_count": 17,
   "metadata": {
    "collapsed": false
   },
   "outputs": [
    {
     "name": "stdout",
     "output_type": "stream",
     "text": [
      "2\n",
      "2\n",
      "Gobbles\n",
      "4\n"
     ]
    }
   ],
   "source": [
    "# Или более функциональный вариант\n",
    "\n",
    "def myswitch1(x):\n",
    "    def one(x): # поведение при x = 1\n",
    "        print(x)\n",
    "        result = x*(x+1)\n",
    "        print(\"Hello\")\n",
    "        # Do smth\n",
    "        return x\n",
    "    \n",
    "    def two(x):# поведение при x = 2\n",
    "        print(x)\n",
    "        result = x**x\n",
    "        print(\"Gobbles\")\n",
    "        # Do smth\n",
    "        return result\n",
    "    \n",
    "    def three(x):# поведение при x = 3\n",
    "        print(x)\n",
    "        result = x*x\n",
    "        print(\"TIMMY\")\n",
    "        # Do smth\n",
    "        return result\n",
    "    \n",
    "    def default(x):# поведение, если x не соответствует ни одному из вариантов\n",
    "        print(x)\n",
    "        print(\"I cannot find appropriate behaviour for x = {0}\".format(x))\n",
    "        return x\n",
    "    \n",
    "    return {\n",
    "        1: one, # соотношение вариантов с \n",
    "        2: two,\n",
    "        3: three\n",
    "    }.get(x, default)(x)\n",
    "\n",
    "x = int(input())\n",
    "\n",
    "a = myswitch1(x)\n",
    "print(a)"
   ]
  },
  {
   "cell_type": "code",
   "execution_count": 8,
   "metadata": {
    "collapsed": false
   },
   "outputs": [
    {
     "name": "stdout",
     "output_type": "stream",
     "text": [
      "s: #############\n",
      "c: ####################\n",
      "x: ######\n",
      "i: #####################################################\n",
      "e: ################################################################################\n",
      "N: ######\n",
      "b: ######\n",
      "d: ######\n",
      "F: ######\n",
      "V: ######\n",
      "Z: ######\n",
      "h: ####################\n",
      "A: #############\n",
      "E: ######\n",
      "H: ######\n",
      "l: #############\n",
      " : ##################################################################\n",
      "t: ##########################\n",
      ",: #####################################################\n",
      "a: #############\n",
      "G: #############\n",
      "z: ######\n",
      "w: ######\n",
      "n: ##########################\n",
      "r: ##########################\n",
      "P: ######\n",
      "S: #############\n",
      "\n",
      ": #################################\n",
      "f: ######\n",
      "u: #############\n",
      "D: ######\n",
      "o: ######\n"
     ]
    }
   ],
   "source": [
    "# Пример: Гистограмма букв в слове\n",
    "\n",
    "def histogram(s):\n",
    "    data = dict()\n",
    "    for c in s:\n",
    "        data[c] = data.get(c, 0) + 1\n",
    "    maximum = max(data.values())\n",
    "    symbsNumber = 80\n",
    "    for i in data:\n",
    "        part = (data[i] * symbsNumber) // maximum\n",
    "        data[i] = \"#\" * part\n",
    "    return data\n",
    "\n",
    "def drawHistogram(h):\n",
    "    for i in h:\n",
    "        print(\"{0}: {1}\".format(i, h[i]))\n",
    "    \n",
    "vers = \"\"\"\n",
    "Eins, Zwei, Polizei\n",
    "Drei, Vier, Grenadier\n",
    "Funf, Sechs, Alte Hex\n",
    "Sieben, Acht, Gute Nacht\n",
    "\"\"\"\n",
    "\n",
    "drawHistogram(histogram(vers))"
   ]
  },
  {
   "cell_type": "code",
   "execution_count": 10,
   "metadata": {
    "collapsed": false
   },
   "outputs": [
    {
     "name": "stdout",
     "output_type": "stream",
     "text": [
      "{'c': 3, 'a': 1, 'b': 2}\n",
      "{1: 'a', 2: 'b', 3: 'c'}\n"
     ]
    }
   ],
   "source": [
    "def reversedDict(d):\n",
    "    return { d[x]:x for x in d }\n",
    "    \n",
    "a = {\n",
    "    \"a\": 1,\n",
    "    \"b\": 2,\n",
    "    \"c\": 3\n",
    "}\n",
    "\n",
    "print(a)\n",
    "a = reversedDict(a)\n",
    "print(a)"
   ]
  },
  {
   "cell_type": "code",
   "execution_count": null,
   "metadata": {
    "collapsed": true
   },
   "outputs": [],
   "source": []
  }
 ],
 "metadata": {
  "kernelspec": {
   "display_name": "Python 3",
   "language": "python",
   "name": "python3"
  },
  "language_info": {
   "codemirror_mode": {
    "name": "ipython",
    "version": 3
   },
   "file_extension": ".py",
   "mimetype": "text/x-python",
   "name": "python",
   "nbconvert_exporter": "python",
   "pygments_lexer": "ipython3",
   "version": "3.5.1"
  }
 },
 "nbformat": 4,
 "nbformat_minor": 0
}
