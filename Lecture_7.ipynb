{
 "cells": [
  {
   "cell_type": "markdown",
   "metadata": {},
   "source": [
    "# Шаблонные функции в модуле Algorithm\n",
    "Итераторы сами по себе делают работу с контейнерами в С++ комфортнее, так как предоствляют общий унифицированный интерфейс доступа ко всем контейнерам.\n",
    "\n",
    "Модуль Algorithm содержит в себе большое количество реализованных алгоримов над данными. Все они работают именно с итераторами. Таким образом, умелое обращение с итераторами (и со стантартной библиотекой вцелом) может сделать процесс обработки данных на С++ удобным и эффективным.\n",
    "\n",
    "В данной лекции не рассматриваются все алгоритмы из стандартной библиотеки. Полный список вы можете найти здесь [Ссылка](http://www.cplusplus.com/reference/algorithm/)"
   ]
  },
  {
   "cell_type": "code",
   "execution_count": 10,
   "metadata": {
    "collapsed": false
   },
   "outputs": [
    {
     "data": {
      "text/plain": []
     },
     "execution_count": 10,
     "metadata": {},
     "output_type": "execute_result"
    }
   ],
   "source": [
    "#include <iostream>\n",
    "#include <algorithm> // подключаем модуль алгоритмов\n",
    "#include <set>\n",
    "#include <map>\n",
    "#include <list>\n",
    "#include <vector> // подключаем различные структуры данных\n",
    "#include <cctype>\n",
    "#include <cstdlib>"
   ]
  },
  {
   "cell_type": "code",
   "execution_count": 2,
   "metadata": {
    "collapsed": false
   },
   "outputs": [
    {
     "data": {
      "text/plain": []
     },
     "execution_count": 2,
     "metadata": {},
     "output_type": "execute_result"
    }
   ],
   "source": [
    "std::vector<int> numbersV;\n",
    "std::set<int> numbersS;\n",
    "\n",
    "for(int i = 0; i < 10; i++) {\n",
    "    numbersV.push_back(i * i);\n",
    "    numbersS.insert(i * i * i);\n",
    "}"
   ]
  },
  {
   "cell_type": "code",
   "execution_count": 3,
   "metadata": {
    "collapsed": false
   },
   "outputs": [
    {
     "name": "stdout",
     "output_type": "stream",
     "text": [
      "16 лежит в numbersV\n"
     ]
    },
    {
     "data": {
      "text/plain": []
     },
     "execution_count": 3,
     "metadata": {},
     "output_type": "execute_result"
    }
   ],
   "source": [
    "// самый простой алгоритм - это алгоритм поиска\n",
    "// большинство алгоритмов из стандартной библиотеки С++ позвращают не само значение, а итератор, указывающий на ответ\n",
    "auto f1 = std::find(numbersV.begin(), numbersV.end() /*диапазон, где искать*/, 16);\n",
    "if(f1 != numbersV.end()) { // если значение не будет найдет, вернется итератор на конец контейнера\n",
    "    std::cout << \"16 лежит в numbersV\" << std::endl; \n",
    "} else {\n",
    "    std::cout << \"16 не лежит в numbersV\" << std::endl;\n",
    "}"
   ]
  },
  {
   "cell_type": "code",
   "execution_count": 3,
   "metadata": {
    "collapsed": false
   },
   "outputs": [
    {
     "name": "stdout",
     "output_type": "stream",
     "text": [
      "16 не лежит в numbersS\n"
     ]
    },
    {
     "data": {
      "text/plain": []
     },
     "execution_count": 3,
     "metadata": {},
     "output_type": "execute_result"
    }
   ],
   "source": [
    "auto f2 = std::find(numbersS.begin(), numbersS.end(), 16);\n",
    "if(f2 != numbersS.end()) {\n",
    "    std::cout << \"16 лежит в numbersS\" << std::endl; \n",
    "} else {\n",
    "    std::cout << \"16 не лежит в numbersS\" << std::endl;\n",
    "}"
   ]
  },
  {
   "cell_type": "code",
   "execution_count": 4,
   "metadata": {
    "collapsed": false
   },
   "outputs": [
    {
     "name": "stdout",
     "output_type": "stream",
     "text": [
      "27 лежит в numbersS\n"
     ]
    },
    {
     "data": {
      "text/plain": []
     },
     "execution_count": 4,
     "metadata": {},
     "output_type": "execute_result"
    }
   ],
   "source": [
    "// Важно помнить, что в стандартной библиотеке лежат обобщенные алгоритмы\n",
    "// Таким образом они не используют всех возможностей структуры, с которой работают\n",
    "// Их использование уместно в большинстве случаев, однако если вы пишите критичный по скорости участок кода\n",
    "// то лучше использовать функции, предоставляемые самим контейнером (если такие есть)\n",
    "// Пример:\n",
    "auto f3 = numbersS.find(27); // find, предоставляемый самим контейнером set.\n",
    "// данный метод использует возможности структуры, которая используется для множества и ищет быстрее\n",
    "// чем просто std::find(numbersS.begin(), numbersS.end(), 27);\n",
    "if(f3 != numbersS.end()) { //работает этот find также, как и тот, что в algorithm. \n",
    "    std::cout << \"27 лежит в numbersS\" << std::endl; \n",
    "} else {\n",
    "    std::cout << \"27 не лежит в numbersS\" << std::endl;\n",
    "}"
   ]
  },
  {
   "cell_type": "code",
   "execution_count": 2,
   "metadata": {
    "collapsed": false
   },
   "outputs": [
    {
     "name": "stdout",
     "output_type": "stream",
     "text": [
      "12 лежит в а\n"
     ]
    },
    {
     "data": {
      "text/plain": []
     },
     "execution_count": 2,
     "metadata": {},
     "output_type": "execute_result"
    }
   ],
   "source": [
    "// Все алгоритмы требут от итераторов лишь две функции:\n",
    "// возможности перейти к следующему элементу через ++\n",
    "// и получить значение через *\n",
    "// Таким образом все эти алгоритмы также могут быть применены к обычному массиву\n",
    "int * a = new int[10];\n",
    "for(int i = 0; i < 10; i++) {\n",
    "    a[i] = i*2;\n",
    "}\n",
    "\n",
    "auto f4 = std::find(a, a+10, 12);\n",
    "if(f4 != a+10) {\n",
    "    std::cout << \"12 лежит в а\" << std::endl;\n",
    "} else {\n",
    "    std::cout << \"12 не лежит в а\" << std::endl;\n",
    "}"
   ]
  },
  {
   "cell_type": "code",
   "execution_count": 6,
   "metadata": {
    "collapsed": false
   },
   "outputs": [
    {
     "name": "stdout",
     "output_type": "stream",
     "text": [
      "NumbersV: 0 1 4 9 16 25 36 49 64 81 \n",
      "NumbersS: 0 1 8 27 64 125 216 343 512 729 \n",
      "Копирование ...\n",
      "NumbersV: 0 1 8 27 64 125 216 343 512 729 \n",
      "NumbersS: 0 1 8 27 64 125 216 343 512 729 \n"
     ]
    },
    {
     "data": {
      "text/plain": [
       "(std::basic_ostream<char, std::char_traits<char> >::__ostream_type &) @0x7f1a88bae6e0\n"
      ]
     },
     "execution_count": 6,
     "metadata": {},
     "output_type": "execute_result"
    }
   ],
   "source": [
    "std::cout << \"NumbersV: \";\n",
    "for(auto it = numbersV.begin(); it != numbersV.end(); it++) {\n",
    "    std::cout << *it << ' ';\n",
    "}\n",
    "std::cout << std::endl;\n",
    "std::cout << \"NumbersS: \";\n",
    "for(auto it = numbersS.begin(); it != numbersS.end(); it++) {\n",
    "    std::cout << *it << ' ';\n",
    "}\n",
    "std::cout << std::endl;\n",
    "\n",
    "// std::coру позволяет переносить данные из одного контейнера в другой\n",
    "std::copy(numbersS.begin(), numbersS.end() /*копируемый диапазон*/, numbersV.begin()/*Куда копировать*/ );\n",
    "std::cout << \"Копирование ...\" << std::endl;\n",
    "\n",
    "std::cout << \"NumbersV: \";\n",
    "for(auto it = numbersV.begin(); it != numbersV.end(); it++) {\n",
    "    std::cout << *it << ' ';\n",
    "}\n",
    "std::cout << std::endl;\n",
    "std::cout << \"NumbersS: \";\n",
    "for(auto it = numbersS.begin(); it != numbersS.end(); it++) {\n",
    "    std::cout << *it << ' ';\n",
    "}\n",
    "std::cout << std::endl;"
   ]
  },
  {
   "cell_type": "code",
   "execution_count": 3,
   "metadata": {
    "collapsed": false
   },
   "outputs": [
    {
     "name": "stdout",
     "output_type": "stream",
     "text": [
      "0\n",
      "1\n",
      "8\n"
     ]
    },
    {
     "data": {
      "text/plain": []
     },
     "execution_count": 3,
     "metadata": {},
     "output_type": "execute_result"
    }
   ],
   "source": [
    "// Контейнер, в который копируют должен содержать не меньше элементов, чем копируется\n",
    "// иначе есть шанс, что программа упадет\n",
    "std::vector<int> vec(3); // вектор с 3 элементами\n",
    "std::copy(numbersS.begin(), numbersS.end(), vec.begin()); // так делать не нужно!\n",
    "for(auto it = vec.begin(); it != vec.end(); it++) {\n",
    "    std::cout << *it << std::endl;\n",
    "}"
   ]
  },
  {
   "cell_type": "code",
   "execution_count": 3,
   "metadata": {
    "collapsed": false
   },
   "outputs": [
    {
     "name": "stdout",
     "output_type": "stream",
     "text": [
      "8 27 64 0 0 0 0 0 0 0 "
     ]
    },
    {
     "data": {
      "text/plain": []
     },
     "execution_count": 3,
     "metadata": {},
     "output_type": "execute_result"
    }
   ],
   "source": [
    "// Копировать не обязательно с начала и до конца. Операция копирования работает на любом промежутке\n",
    "// нужно лишь указать правильно итераторы\n",
    "\n",
    "std::vector<int> vec2(10, 0);\n",
    "std::copy(numbersS.find(8), numbersS.find(125), vec2.begin()); // копируем с элемента 8 до элемента 125 в множестве\n",
    "for(auto it = vec2.begin(); it != vec2.end(); it++) {\n",
    "    std::cout << *it << ' ';\n",
    "}"
   ]
  },
  {
   "cell_type": "code",
   "execution_count": 4,
   "metadata": {
    "collapsed": false
   },
   "outputs": [
    {
     "name": "stdout",
     "output_type": "stream",
     "text": [
      "0 1 2 3 4 5 6 7 8 9 \n",
      "0 1 8 27 64 125 6 7 8 9 "
     ]
    },
    {
     "data": {
      "text/plain": []
     },
     "execution_count": 4,
     "metadata": {},
     "output_type": "execute_result"
    }
   ],
   "source": [
    "for(int i = 0; i < vec2.size(); i++) {\n",
    "    vec2[i] = i;\n",
    "} \n",
    "for(auto it = vec2.begin(); it != vec2.end(); it++) {\n",
    "    std::cout << *it << ' ';\n",
    "}\n",
    "std::cout << std::endl;\n",
    "\n",
    "// Также необязательно указывать на первый элемент в контейнере, в который копируют\n",
    "// Это также может быть любой итератор. Важно лишь, чтобы после него было достаточно места\n",
    "\n",
    "std::copy(numbersS.find(8), numbersS.find(216), std::find(vec2.begin(), vec2.end(), 2));\n",
    "// Копируем с элемента 8 до 216 из множества в вектор начиная с элемента 2\n",
    "\n",
    "for(auto it = vec2.begin(); it != vec2.end(); it++) {\n",
    "    std::cout << *it << ' ';\n",
    "}"
   ]
  },
  {
   "cell_type": "code",
   "execution_count": 4,
   "metadata": {
    "collapsed": false
   },
   "outputs": [
    {
     "name": "stdout",
     "output_type": "stream",
     "text": [
      "8 27 64 125 0 0 0 0 0 0 "
     ]
    },
    {
     "data": {
      "text/plain": []
     },
     "execution_count": 4,
     "metadata": {},
     "output_type": "execute_result"
    }
   ],
   "source": [
    "// Как можно заметить, копирование происходит без последнего элемента\n",
    "// Если вы хотите копировать включая последний элемент, достаточно просто применить ++ к find\n",
    "// В таком случае итератор просто перейдет к следующему элементу и вы скопируете нужный вам диапазон\n",
    "std::vector<int> vec3(10, 0);\n",
    "std::copy(numbersS.find(8), ++numbersS.find(125), vec3.begin()); // включаем правую границу\n",
    "\n",
    "for(auto it = vec3.begin(); it != vec3.end(); it++) {\n",
    "    std::cout << *it << ' ';\n",
    "}"
   ]
  },
  {
   "cell_type": "code",
   "execution_count": 5,
   "metadata": {
    "collapsed": false
   },
   "outputs": [
    {
     "name": "stdout",
     "output_type": "stream",
     "text": [
      "8 27 64 125 "
     ]
    },
    {
     "data": {
      "text/plain": []
     },
     "execution_count": 5,
     "metadata": {},
     "output_type": "execute_result"
    }
   ],
   "source": [
    "// Как можно заметить после копирования в больший по размеру контенер, в конце остаются еще какие-то старые элементы\n",
    "// В примере выше, там остались лишние нули. Давай те их удалим\n",
    "// Для удаления сразу нескольких значений, vector (а также почти все остальные контейнеры) предоставляет функцию\n",
    "// erase. Эта функция также принимает 2 итератора и удаляет все элементы между ними\n",
    "\n",
    "vec3.erase(std::find(vec3.begin(), vec3.end(), 0), vec3.end()); // находим певрый 0 и удаляем все до конца\n",
    "for(auto it = vec3.begin(); it != vec3.end(); it++) {\n",
    "    std::cout << *it << ' ';\n",
    "}"
   ]
  },
  {
   "cell_type": "code",
   "execution_count": 3,
   "metadata": {
    "collapsed": false
   },
   "outputs": [
    {
     "name": "stdout",
     "output_type": "stream",
     "text": [
      "8 27 64 "
     ]
    },
    {
     "data": {
      "text/plain": []
     },
     "execution_count": 3,
     "metadata": {},
     "output_type": "execute_result"
    }
   ],
   "source": [
    "// Как же удалить старые данные в конце, если это не просто нули?\n",
    "std::vector<int> vec4(10);\n",
    "for(int i = 0; i < vec4.size(); i++) {\n",
    "    vec4[i] = i;\n",
    "}\n",
    "\n",
    "// Одним из вариантов - воспользоваться тем, что сама функция std::copy возвращает итератор на последний скопированный\n",
    "// элемент во ВТОРОМ контейнере. Таким образом можно сделать следующим образом\n",
    "vec4.erase(\n",
    "    std::copy(numbersS.find(8), numbersS.find(125), vec4.begin()), // итератор на последний скопированный\n",
    "    vec4.end()\n",
    "); // сначала копируем, а потом удаляем все старые данные\n",
    "\n",
    "for(auto it = vec4.begin(); it != vec4.end(); it++) {\n",
    "    std::cout << *it << ' ';\n",
    "}"
   ]
  },
  {
   "cell_type": "code",
   "execution_count": null,
   "metadata": {
    "collapsed": false
   },
   "outputs": [],
   "source": [
    "// Для того, чтобы применить какую то функцию к каждому элементу контейнера\n",
    "// мы обычно просто писали цикл for. Это весьма неплохой подход, однако стандартная библиотека прелагает\n",
    "// альтернативный вариант - for_each. Эта функция принимает опять же 2 итератора, задающие диапазон, а также \n",
    "// применяемую функцию. Удобнее всего использовать в этом случае лямбда-функцию, чтобы не создавать отдельную\n",
    "\n",
    "std::for_each(numbersS.begin(), numbersS.end(), [](int element){ // альтернативный вариант вывода всего конетйнера\n",
    "    std::cout << element << ' '; \n",
    "});\n",
    "\n",
    "// вывод: 0 1 8 27 64 125 216 343 512 729 "
   ]
  },
  {
   "cell_type": "code",
   "execution_count": null,
   "metadata": {
    "collapsed": false
   },
   "outputs": [],
   "source": [
    "std::vector<int> vec5(10);\n",
    "for(int i = 0; i < vec5.size(); i++) {\n",
    "    vec5[i] = i;\n",
    "}\n",
    "\n",
    "std::for_each(vec5.begin(), vec5.end(), [](int &element) { // используйте &, если хотите менять элементы в конейтнере\n",
    "    element = element % 3; // остаток от деления на 3\n",
    "});\n",
    "\n",
    "std::for_each(vec5.begin(), vec5.end(), [](int e){std::cout << e << ' ';});\n",
    "\n",
    "// вывод: 0 1 2 0 1 2 0 1 2 0 "
   ]
  },
  {
   "cell_type": "code",
   "execution_count": 6,
   "metadata": {
    "collapsed": false
   },
   "outputs": [
    {
     "name": "stdout",
     "output_type": "stream",
     "text": [
      "2 5 6 3 6 -9 -8 3 -10 "
     ]
    },
    {
     "data": {
      "text/plain": []
     },
     "execution_count": 6,
     "metadata": {},
     "output_type": "execute_result"
    }
   ],
   "source": [
    "// Раньше мы удаляли только диапазон элементов. Но что делать, если мы хотим удалить много элементов, но при этом\n",
    "// не находящиеся в каком-то диапазоне. Например мы хотим удалить все отрицательные элементы\n",
    "std::vector<int> vec6({2, -4, -6, 5, 6, -9, -8, 3, -10});\n",
    "// Для таких целей страндартная библиотека предоставляет фунцию remove_if\n",
    "std::remove_if(vec6.begin(), vec6.end(), [](int x){\n",
    "    return x < 0;\n",
    "});\n",
    "\n",
    "for(auto it = vec6.begin(); it != vec6.end(); it++) {\n",
    "    std::cout << *it << ' ';\n",
    "}"
   ]
  },
  {
   "cell_type": "code",
   "execution_count": 7,
   "metadata": {
    "collapsed": false
   },
   "outputs": [
    {
     "name": "stdout",
     "output_type": "stream",
     "text": [
      "2 5 6 3 6 3 "
     ]
    },
    {
     "data": {
      "text/plain": []
     },
     "execution_count": 7,
     "metadata": {},
     "output_type": "execute_result"
    }
   ],
   "source": [
    "// Можно заметить, что итоговый результат не совсем такой, который мы хотели\n",
    "// Вначале записан массив, в котором действительно удалены отрицательные элементы\n",
    "// Но после идут старые элементы, которые были в массие\n",
    "// Так происходит, потому что функция ничего не знает об устройстве контейнера и не знает, как удалять элементы\n",
    "// remove_if, также как и copy, возвращает последний элемент, с которым работала\n",
    "// Таким образом можно воспользоваться таким же способом\n",
    "\n",
    "vec6.erase(\n",
    "    std::remove_if(vec6.begin(), vec6.end(), [](int x){return x < 0;}),\n",
    "    vec6.end()\n",
    ");\n",
    "\n",
    "for(auto it = vec6.begin(); it != vec6.end(); it++) {\n",
    "    std::cout << *it << ' ';\n",
    "}"
   ]
  },
  {
   "cell_type": "code",
   "execution_count": 3,
   "metadata": {
    "collapsed": false
   },
   "outputs": [
    {
     "name": "stdout",
     "output_type": "stream",
     "text": [
      "   Abba \t Nannna  \n",
      "\n"
     ]
    },
    {
     "data": {
      "text/plain": [
       "(std::basic_ostream<char, std::char_traits<char> >::__ostream_type &) @0x7f37c8de76e0\n"
      ]
     },
     "execution_count": 3,
     "metadata": {},
     "output_type": "execute_result"
    }
   ],
   "source": [
    "// Пример: удаление всех пробельных символов из строки\n",
    "std::string s = \"   Abba \\t Nannna  \\n\";\n",
    "std::cout << s << std::endl;"
   ]
  },
  {
   "cell_type": "code",
   "execution_count": 4,
   "metadata": {
    "collapsed": false
   },
   "outputs": [
    {
     "name": "stdout",
     "output_type": "stream",
     "text": [
      "AbbaNannna\n"
     ]
    },
    {
     "data": {
      "text/plain": [
       "(std::basic_ostream<char, std::char_traits<char> >::__ostream_type &) @0x7f37c8de76e0\n"
      ]
     },
     "execution_count": 4,
     "metadata": {},
     "output_type": "execute_result"
    }
   ],
   "source": [
    "s.erase(\n",
    "    std::remove_if(s.begin(), s.end(), [](char c) {return std::isspace(c);}),\n",
    "    s.end()\n",
    "); // std::isspace - функция из cctype. Проверяет, является ли символ пробельным\n",
    "std::cout << s << std::endl;"
   ]
  },
  {
   "cell_type": "code",
   "execution_count": 8,
   "metadata": {
    "collapsed": false
   },
   "outputs": [
    {
     "name": "stdout",
     "output_type": "stream",
     "text": [
      "6\n",
      "2\n"
     ]
    },
    {
     "data": {
      "text/plain": [
       "(std::basic_ostream<char, std::char_traits<char> >::__ostream_type &) @0x7f37c8de76e0\n"
      ]
     },
     "execution_count": 8,
     "metadata": {},
     "output_type": "execute_result"
    }
   ],
   "source": [
    "// В algorithm также содержатся функции для сортировки, поиска максимума, минимума и тд, с которыми\n",
    "// мы уже встречались ранее\n",
    "std::cout << *std::max_element(vec6.begin(), vec6.end()) << std::endl;\n",
    "std::cout << *std::min_element(vec6.begin(), vec6.end()) << std::endl;"
   ]
  },
  {
   "cell_type": "code",
   "execution_count": 9,
   "metadata": {
    "collapsed": false
   },
   "outputs": [
    {
     "name": "stdout",
     "output_type": "stream",
     "text": [
      "2 3 3 5 6 6 "
     ]
    },
    {
     "data": {
      "text/plain": []
     },
     "execution_count": 9,
     "metadata": {},
     "output_type": "execute_result"
    }
   ],
   "source": [
    "std::sort(vec6.begin(), vec6.end());\n",
    "for(auto it = vec6.begin(); it != vec6.end(); it++) {\n",
    "    std::cout << *it << ' ';\n",
    "}"
   ]
  },
  {
   "cell_type": "code",
   "execution_count": 3,
   "metadata": {
    "collapsed": false
   },
   "outputs": [
    {
     "name": "stdout",
     "output_type": "stream",
     "text": [
      "0 1 2 3 4 5 6 7 8 9 \n",
      "3 4 5 6 7 8 9 0 1 2 "
     ]
    },
    {
     "data": {
      "text/plain": []
     },
     "execution_count": 3,
     "metadata": {},
     "output_type": "execute_result"
    }
   ],
   "source": [
    "// В стандартной библиотеке есть еще несолько функций для трансформации контейнеров\n",
    "// rotate - \"вращает последовательность\". То есть передвигает дальние элементы ближе к началу, а начальные оказываются сзади\n",
    "std::vector<int> vec7(10);\n",
    "for(int i = 0; i < 10; i++) {\n",
    "    vec7[i] = i;\n",
    "}\n",
    "for(auto it = vec7.begin(); it != vec7.end(); it++) {\n",
    "    std::cout << *it << ' ';\n",
    "}\n",
    "std::cout << std::endl;\n",
    "std::rotate(vec7.begin(), std::find(vec7.begin(), vec7.end(), 3) /*начальные элементы*/ , vec7.end() /*конец*/);\n",
    "for(auto it = vec7.begin(); it != vec7.end(); it++) {\n",
    "    std::cout << *it << ' ';\n",
    "}"
   ]
  },
  {
   "cell_type": "code",
   "execution_count": 2,
   "metadata": {
    "collapsed": false
   },
   "outputs": [
    {
     "data": {
      "text/plain": []
     },
     "execution_count": 2,
     "metadata": {},
     "output_type": "execute_result"
    }
   ],
   "source": [
    "int RandomNumber () { return (std::rand()%100); } // std::rand() возвращает случайное число (лежит в cstdlib)"
   ]
  },
  {
   "cell_type": "code",
   "execution_count": 4,
   "metadata": {
    "collapsed": false
   },
   "outputs": [
    {
     "name": "stdout",
     "output_type": "stream",
     "text": [
      "59 64 30 34 33 46 38 51 57 48 39 84 91 60 62 "
     ]
    },
    {
     "data": {
      "text/plain": []
     },
     "execution_count": 4,
     "metadata": {},
     "output_type": "execute_result"
    }
   ],
   "source": [
    "std::vector<int> vec8(15);\n",
    "std::generate(vec8.begin(), vec8.end(), RandomNumber); \n",
    "// generate заполняет контейнер результатами работы переданной фукнции\n",
    "for(auto it = vec8.begin(); it != vec8.end(); it++) {\n",
    "    std::cout << *it << ' ';\n",
    "}"
   ]
  },
  {
   "cell_type": "code",
   "execution_count": 5,
   "metadata": {
    "collapsed": false
   },
   "outputs": [
    {
     "name": "stdout",
     "output_type": "stream",
     "text": [
      "5 6 3 3 3 4 3 5 5 4 3 8 9 6 6 "
     ]
    },
    {
     "data": {
      "text/plain": []
     },
     "execution_count": 5,
     "metadata": {},
     "output_type": "execute_result"
    }
   ],
   "source": [
    "// transform превращает одну или две последовательности в новую с помошью передаваемой функции\n",
    "// результат записывается в новую последовательность\n",
    "std::vector<int> vec9(15);\n",
    "std::transform(vec8.begin(), vec8.end() /*исходная позиция*/, \n",
    "               vec9.begin() /*куда записывать*/, \n",
    "               [](int x){return x/10;}/*функция*/);\n",
    "for(auto it = vec9.begin(); it != vec9.end(); it++) {\n",
    "    std::cout << *it << ' ';\n",
    "}"
   ]
  },
  {
   "cell_type": "code",
   "execution_count": 6,
   "metadata": {
    "collapsed": false
   },
   "outputs": [
    {
     "name": "stdout",
     "output_type": "stream",
     "text": [
      "64 70 33 37 36 50 41 56 62 52 42 92 100 66 68 "
     ]
    },
    {
     "data": {
      "text/plain": []
     },
     "execution_count": 6,
     "metadata": {},
     "output_type": "execute_result"
    }
   ],
   "source": [
    "// аналогичным образом можно применять функцию transform к двум последовательностям\n",
    "std::vector<int> vec10(15);\n",
    "std::transform(vec8.begin(), vec8.end() /*первая последовательность*/, \n",
    "               vec9.begin() /*вторая*/, \n",
    "               vec10.begin()/*итоговая*/,\n",
    "              [](int x, int y) {return x+y;}/*функция*/);\n",
    "for(auto it = vec10.begin(); it != vec10.end(); it++) { // vec10 - покоординатная сумма vec8 и vec9\n",
    "    std::cout << *it << ' ';\n",
    "}"
   ]
  },
  {
   "cell_type": "code",
   "execution_count": 3,
   "metadata": {
    "collapsed": false
   },
   "outputs": [
    {
     "data": {
      "text/plain": []
     },
     "execution_count": 3,
     "metadata": {},
     "output_type": "execute_result"
    }
   ],
   "source": [
    "// Большинство итераторов поддерживают только операцию ++ \n",
    "// Таким образом не получится просто передвинуть итератор на несколько позиций используюя +\n",
    "\n",
    "std::set<int> setx;\n",
    "for(int i = 0; i < 10; i++) {\n",
    "    setx.insert(i);\n",
    "}"
   ]
  },
  {
   "cell_type": "code",
   "execution_count": null,
   "metadata": {
    "collapsed": false
   },
   "outputs": [],
   "source": [
    "for(auto it = setx.begin()+5; it != setx.end(); it++) { // ошибка\n",
    "    std::cout << *it << ' ';\n",
    "}"
   ]
  },
  {
   "cell_type": "code",
   "execution_count": 4,
   "metadata": {
    "collapsed": false
   },
   "outputs": [
    {
     "name": "stdout",
     "output_type": "stream",
     "text": [
      "5 6 7 8 9 "
     ]
    },
    {
     "data": {
      "text/plain": []
     },
     "execution_count": 4,
     "metadata": {},
     "output_type": "execute_result"
    }
   ],
   "source": [
    "// Для того, чтобы сдвинуть итератор на определенное колиество позиций, можно использовать advance\n",
    "auto iter = setx.begin();\n",
    "std::advance(iter, 5);\n",
    "for(; iter!=setx.end(); iter++) {\n",
    "    std::cout << *iter << ' ';\n",
    "}"
   ]
  },
  {
   "cell_type": "code",
   "execution_count": 5,
   "metadata": {
    "collapsed": false
   },
   "outputs": [
    {
     "name": "stdout",
     "output_type": "stream",
     "text": [
      "0 1 2 3 4 5 6 7 8 9 "
     ]
    },
    {
     "data": {
      "text/plain": []
     },
     "execution_count": 5,
     "metadata": {},
     "output_type": "execute_result"
    }
   ],
   "source": [
    "// Также, для удобства есть специальный итератор, который умеет добавлять элементы в контейнер\n",
    "// Таким образом, с его помошью, например, можно копировать не заботясь о нехватке места в итоговом контейнере\n",
    "// Если его не хватит, то итератор сам добавит новые элементы в конец\n",
    "\n",
    "std::vector<int> vec11;\n",
    "std::copy(setx.begin(), setx.end(), std::back_inserter(vec11)); // back_inserter - умный итератор\n",
    "\n",
    "for(auto it = vec11.begin(); it != vec11.end(); it++) {\n",
    "    std::cout << *it << ' ';\n",
    "}\n",
    "// Его также можно использовать, когда неизвестно заранее, сколько элементов будет в итоге"
   ]
  },
  {
   "cell_type": "code",
   "execution_count": 2,
   "metadata": {
    "collapsed": false
   },
   "outputs": [
    {
     "data": {
      "text/plain": [
       "(void) @0x7ffe995649f0\n"
      ]
     },
     "execution_count": 2,
     "metadata": {},
     "output_type": "execute_result"
    }
   ],
   "source": [
    "// Стандартная библиотека также предоставляет теоретико-множественные операции для контейнеров\n",
    "std::vector<int> vec12({1, 2, 5, 6, 8, 9});\n",
    "std::vector<int> vec13({2, 3, 5, 7, 8, 10});\n",
    "std::vector<int> result;\n",
    "\n",
    "std::sort(vec12.begin(), vec12.end());\n",
    "std::sort(vec13.begin(), vec13.end()); // для применения этих операций, последовательности должны быть отсортированы"
   ]
  },
  {
   "cell_type": "code",
   "execution_count": 3,
   "metadata": {
    "collapsed": false
   },
   "outputs": [
    {
     "name": "stdout",
     "output_type": "stream",
     "text": [
      "1 6 9 "
     ]
    },
    {
     "data": {
      "text/plain": []
     },
     "execution_count": 3,
     "metadata": {},
     "output_type": "execute_result"
    }
   ],
   "source": [
    "std::set_difference(vec12.begin(), vec12.end(), vec13.begin(), vec13.end(), std::back_inserter(result));\n",
    "for(auto it = result.begin(); it != result.end(); it++) {\n",
    "    std::cout << *it << ' ';\n",
    "} // разность\n"
   ]
  },
  {
   "cell_type": "code",
   "execution_count": 4,
   "metadata": {
    "collapsed": false
   },
   "outputs": [
    {
     "name": "stdout",
     "output_type": "stream",
     "text": [
      "2 5 8 "
     ]
    },
    {
     "data": {
      "text/plain": []
     },
     "execution_count": 4,
     "metadata": {},
     "output_type": "execute_result"
    }
   ],
   "source": [
    "result.clear();\n",
    "std::set_intersection(vec12.begin(), vec12.end(), vec13.begin(), vec13.end(), std::back_inserter(result));\n",
    "for(auto it = result.begin(); it != result.end(); it++) {\n",
    "    std::cout << *it << ' ';\n",
    "} // пересечение\n"
   ]
  },
  {
   "cell_type": "code",
   "execution_count": 5,
   "metadata": {
    "collapsed": false
   },
   "outputs": [
    {
     "name": "stdout",
     "output_type": "stream",
     "text": [
      "1 3 6 7 9 10 "
     ]
    },
    {
     "data": {
      "text/plain": []
     },
     "execution_count": 5,
     "metadata": {},
     "output_type": "execute_result"
    }
   ],
   "source": [
    "result.clear();\n",
    "std::set_symmetric_difference(vec12.begin(), vec12.end(), vec13.begin(), vec13.end(), std::back_inserter(result));\n",
    "for(auto it = result.begin(); it != result.end(); it++) {\n",
    "    std::cout << *it << ' ';\n",
    "} // симметрическая разность\n"
   ]
  },
  {
   "cell_type": "code",
   "execution_count": 8,
   "metadata": {
    "collapsed": false
   },
   "outputs": [
    {
     "name": "stdout",
     "output_type": "stream",
     "text": [
      "1 2 3 5 6 7 8 9 10 "
     ]
    },
    {
     "data": {
      "text/plain": []
     },
     "execution_count": 8,
     "metadata": {},
     "output_type": "execute_result"
    }
   ],
   "source": [
    "result.clear();\n",
    "std::set_union(vec12.begin(), vec12.end(), vec13.begin(), vec13.end(), std::back_inserter(result));\n",
    "for(auto it = result.begin(); it != result.end(); it++) {\n",
    "    std::cout << *it << ' ';\n",
    "} // объединение\n"
   ]
  },
  {
   "cell_type": "markdown",
   "metadata": {},
   "source": [
    "# Создание"
   ]
  },
  {
   "cell_type": "code",
   "execution_count": 3,
   "metadata": {
    "collapsed": false
   },
   "outputs": [
    {
     "data": {
      "text/plain": []
     },
     "execution_count": 3,
     "metadata": {},
     "output_type": "execute_result"
    }
   ],
   "source": [
    "// Создавать свои обобщеные функция, которые рабтают только с итераторами множества очень просто\n",
    "\n",
    "template<class Iter> // используется шаблон, для работы с любыми итераторами\n",
    "double average(Iter begin, Iter end) {\n",
    "    double result = 0;\n",
    "    double count = 0;\n",
    "    while(begin != end) {\n",
    "        result += *begin;\n",
    "        count += 1;\n",
    "        begin++;\n",
    "    }\n",
    "    return result / count;\n",
    "}\n",
    "\n",
    "template<class Iter>\n",
    "void prefix_sum(Iter begin, Iter end) {\n",
    "    auto current_sum = 0;\n",
    "    while(begin != end) {\n",
    "        current_sum += *begin;\n",
    "        *begin = current_sum;\n",
    "        begin++;\n",
    "    }\n",
    "}"
   ]
  },
  {
   "cell_type": "code",
   "execution_count": 4,
   "metadata": {
    "collapsed": false
   },
   "outputs": [
    {
     "name": "stdout",
     "output_type": "stream",
     "text": [
      "71 52 55 24 72 89 61 52 66 80 90 30 40 81 47 "
     ]
    },
    {
     "data": {
      "text/plain": []
     },
     "execution_count": 4,
     "metadata": {},
     "output_type": "execute_result"
    }
   ],
   "source": [
    "std::vector<int> v(15);\n",
    "std::generate(v.begin(), v.end(), RandomNumber);\n",
    "for(auto it = v.begin(); it != v.end(); it++) {\n",
    "    std::cout << *it << ' ';\n",
    "}"
   ]
  },
  {
   "cell_type": "code",
   "execution_count": 5,
   "metadata": {
    "collapsed": false
   },
   "outputs": [
    {
     "data": {
      "text/plain": []
     },
     "execution_count": 5,
     "metadata": {},
     "output_type": "execute_result"
    }
   ],
   "source": [
    "std::list<int> l;\n",
    "std::set<int> ss;\n",
    "for(int i = 0; i < 15; i++) {\n",
    "    l.push_back(i);\n",
    "    ss.insert(i * i);\n",
    "}"
   ]
  },
  {
   "cell_type": "code",
   "execution_count": 6,
   "metadata": {
    "collapsed": false
   },
   "outputs": [
    {
     "name": "stdout",
     "output_type": "stream",
     "text": [
      "60.6667\n",
      "7\n",
      "67.6667\n"
     ]
    },
    {
     "data": {
      "text/plain": [
       "(std::basic_ostream<char, std::char_traits<char> >::__ostream_type &) @0x7efe985ee6e0\n"
      ]
     },
     "execution_count": 6,
     "metadata": {},
     "output_type": "execute_result"
    }
   ],
   "source": [
    "std::cout << average(v.begin(), v.end()) << std::endl; // среднее арифметическое\n",
    "std::cout << average(l.begin(), l.end()) << std::endl;\n",
    "std::cout << average(ss.begin(), ss.end()) << std::endl;"
   ]
  },
  {
   "cell_type": "code",
   "execution_count": 7,
   "metadata": {
    "collapsed": false
   },
   "outputs": [
    {
     "name": "stdout",
     "output_type": "stream",
     "text": [
      "0 1 3 6 10 15 21 28 36 45 55 66 78 91 105 "
     ]
    },
    {
     "data": {
      "text/plain": []
     },
     "execution_count": 7,
     "metadata": {},
     "output_type": "execute_result"
    }
   ],
   "source": [
    "prefix_sum(l.begin(), l.end());// предобразует последовательность следующим образом: на i-ом месте стоит сумма всех \n",
    "// элементов до i\n",
    "for(auto it = l.begin(); it != l.end(); it++) {\n",
    "    std::cout << *it << ' ';\n",
    "}"
   ]
  },
  {
   "cell_type": "code",
   "execution_count": 8,
   "metadata": {
    "collapsed": false
   },
   "outputs": [
    {
     "name": "stdout",
     "output_type": "stream",
     "text": [
      "71 123 178 202 274 363 424 476 542 622 712 742 782 863 910 "
     ]
    },
    {
     "data": {
      "text/plain": []
     },
     "execution_count": 8,
     "metadata": {},
     "output_type": "execute_result"
    }
   ],
   "source": [
    "prefix_sum(v.begin(), v.end()); // работает и с ветором тоже\n",
    "for(auto it = v.begin(); it != v.end(); it++) {\n",
    "    std::cout << *it << ' ';\n",
    "}"
   ]
  },
  {
   "cell_type": "markdown",
   "metadata": {},
   "source": [
    "# Создание итератора (дополнительный материал)\n",
    "Для большего понимания, давайте реализуем крайне простой итератор на списке"
   ]
  },
  {
   "cell_type": "code",
   "execution_count": null,
   "metadata": {
    "collapsed": true
   },
   "outputs": [],
   "source": [
    "#include <iostream>\n",
    "#include <algorithm>\n",
    "#include <vector>\n",
    "\n",
    "class node { // каждый узер содержит значение и указатель на следующий узел\n",
    "public:\n",
    "    node(int x) {\n",
    "        number = x;\n",
    "        next = nullptr;\n",
    "    }\n",
    "\n",
    "    void setNext(node * n) {\n",
    "        next = n;\n",
    "    }\n",
    "\n",
    "    node * getNext() {\n",
    "        return next;\n",
    "    }\n",
    "\n",
    "    int& num() {\n",
    "        return number;\n",
    "    }\n",
    "\n",
    "private:\n",
    "    int number;\n",
    "    node * next;\n",
    "};\n",
    "\n",
    "class iterator { // данный итератор - очень ограничен в функциональности для наглядности из-за чего он не будет совместим с некоторыми функциями\n",
    "public:\n",
    "    iterator(node * d) {\n",
    "        data = d;\n",
    "    }\n",
    "\n",
    "    bool operator!=(iterator other) { // сравнение двух итераторов\n",
    "        return data != other.data;\n",
    "    }\n",
    "\n",
    "    bool operator==(iterator other) { // сравнение двух итераторов\n",
    "        return data == other.data;\n",
    "    }\n",
    "\n",
    "    iterator operator++(int a) {     // сдвиг итератора\n",
    "        data = data->getNext();\n",
    "        return *this;\n",
    "    }\n",
    "\n",
    "    iterator operator++() {     // сдвиг итератора\n",
    "        data = data->getNext();\n",
    "        return *this;\n",
    "    }\n",
    "\n",
    "    int& operator*() { // получения значения\n",
    "        return data->num();\n",
    "    }\n",
    "private:\n",
    "    node * data;\n",
    "};\n",
    "\n",
    "class line { // линия содержит первый и последнй узел цепочки\n",
    "public:\n",
    "    line() {\n",
    "        start = nullptr;\n",
    "        finish = nullptr;\n",
    "    }\n",
    "    ~line() {\n",
    "        while(start) {\n",
    "            node * e = start;\n",
    "            start = start->getNext();\n",
    "            delete e;\n",
    "        }\n",
    "    }\n",
    "\n",
    "    void push_back(int a) {\n",
    "        if(start) {\n",
    "            finish->setNext(new node(a));\n",
    "            finish = finish->getNext();\n",
    "        } else {\n",
    "            start = new node(a);\n",
    "            finish = start;\n",
    "        }\n",
    "    }\n",
    "\n",
    "    iterator begin() {\n",
    "        return iterator(start);\n",
    "    }\n",
    "\n",
    "    iterator end() {\n",
    "        return iterator(nullptr);\n",
    "    }\n",
    "\n",
    "private:\n",
    "    node * start;\n",
    "    node * finish;\n",
    "};\n",
    "\n",
    "int main() {\n",
    "    std::vector<int> v({2, 4, 9, 7, 5, 1, 3, 5, 7});\n",
    "    line l;\n",
    "    for(int i = 0; i < v.size(); i++) {\n",
    "        l.push_back(v[i]);\n",
    "    }\n",
    "    for(auto it = l.begin(); it != l.end(); it++) {\n",
    "        std::cout << *it << ' ';\n",
    "    }\n",
    "    std::cout << std::endl;\n",
    "    std::cout << *std::max_element(l.begin(), l.end()) << std::endl;\n",
    "    std::cout << *std::min_element(l.begin(), l.end()) << std::endl;\n",
    "\n",
    "    std::vector<int> w;\n",
    "    std::transform(l.begin(), l.end(), std::back_inserter(w), [](int x){return x*x;});\n",
    "    for(auto it = w.begin(); it != w.end(); it++) {\n",
    "        std::cout << *it << ' ';\n",
    "    }\n",
    "    std::cout << std::endl;\n",
    "    return 0;\n",
    "}"
   ]
  }
 ],
 "metadata": {
  "anaconda-cloud": {},
  "kernelspec": {
   "display_name": "C++",
   "language": "",
   "name": "cling"
  },
  "language_info": {
   "codemirror_mode": "text/x-c++src",
   "file_extension": ".c++",
   "mimetype": " text/x-c++src",
   "name": "c++"
  }
 },
 "nbformat": 4,
 "nbformat_minor": 1
}
