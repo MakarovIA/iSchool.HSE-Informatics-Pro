{
 "cells": [
  {
   "cell_type": "markdown",
   "metadata": {},
   "source": [
    "# C++\n",
    "\n",
    "C++ - высокоуровневый язык программироывния общего назначения. В отличии от языка Python, он является компилируемым языком программирования. Это означает, что для запуска написанной программы, необходимо сначала собрать исходный код с помощью специальной программы в бинарный запускаемый файл и после этого запустить сам файл.\n",
    "В данном подходе есть свои минусы - например, программа, собранная на одном компьютере, может не заработать на другом - , однако также имеет и плюсы - скорость выполнения программ на С++ существенно быстрее, чем, к примеру, на Python.\n",
    "\n",
    "Кроме того, С++ является статически типизированным языком. Это означает, что каждая переменная может иметь только один тип, определяемый разработчиком. Ручной контроль в С++ может привность некоторые неудобства, однако это позволяет контролировать и ясно понимать все, что происходит в Вашей программе."
   ]
  },
  {
   "cell_type": "markdown",
   "metadata": {},
   "source": [
    "Изначально, в С++ нет практически ничего. Однако он снабжается огромной стандартной библиотекой, в которой есть инструменты для решения практически любой задачи.\n",
    "\n",
    "Хорошая документация по стандартной библиотеке С++ можно найти например здесь: [CPlusPlus.com](http://www.cplusplus.com/)\n",
    "\n",
    "Для того, чтобы подключить необходимую функциональность в Вашу программу, используется сделующий синтаксис:"
   ]
  },
  {
   "cell_type": "code",
   "execution_count": 1,
   "metadata": {
    "collapsed": false
   },
   "outputs": [
    {
     "data": {
      "text/plain": []
     },
     "execution_count": 1,
     "metadata": {},
     "output_type": "execute_result"
    }
   ],
   "source": [
    "#include <iostream>  // подключаем модуль для работы с вводом и выводом"
   ]
  },
  {
   "cell_type": "markdown",
   "metadata": {},
   "source": [
    "В отличии от Python, инструкции в С++ не выполняются просто сверху вних по ходу файла. При первом запуске программы, запускается функция <b>main</b>. Про функции с языке С++ будет рассказано в следующих лекциях. Сейчас лишь нужно понять, куда писать код, чтобы он исполнялся. Также стоит отметить, что каждая строка с операцией должна заканчиваться точкой с запятой.\n",
    "\n",
    "Вот так выглядит любая программа на С++:"
   ]
  },
  {
   "cell_type": "code",
   "execution_count": 1,
   "metadata": {
    "collapsed": false
   },
   "outputs": [
    {
     "data": {
      "text/plain": []
     },
     "execution_count": 1,
     "metadata": {},
     "output_type": "execute_result"
    }
   ],
   "source": [
    "#include <iostream>\n",
    "// тут подключаются все модули, которые вам требуются в вашей программе\n",
    "\n",
    "int main(){\n",
    "    \n",
    "    // ваш код должен быть написан здесь\n",
    "    \n",
    "    return 0; // про значение этой строки - чуть позже\n",
    "}"
   ]
  },
  {
   "cell_type": "code",
   "execution_count": 1,
   "metadata": {
    "collapsed": false
   },
   "outputs": [
    {
     "data": {
      "text/plain": []
     },
     "execution_count": 1,
     "metadata": {},
     "output_type": "execute_result"
    }
   ],
   "source": [
    "// Давайте поздороваемся с этим миром на языке С++\n",
    "\n",
    "#include <iostream>\n",
    "\n",
    "int main() {\n",
    "    \n",
    "    std::cout << \"Hello, world!\" << std::endl;\n",
    "    \n",
    "    return 0;\n",
    "}"
   ]
  },
  {
   "cell_type": "markdown",
   "metadata": {},
   "source": [
    "### Важное замечание по лекциям по С++\n",
    "\n",
    "Код, который будет иллюстрироваться далее необходимо помещать в фукнцию main, как это показано выше. Если попытаться просто вставить его в вашу программу, то компилятор просто не сможет собрать вашу программу."
   ]
  },
  {
   "cell_type": "code",
   "execution_count": 2,
   "metadata": {
    "collapsed": false
   },
   "outputs": [
    {
     "name": "stdout",
     "output_type": "stream",
     "text": [
      "Hello!"
     ]
    },
    {
     "data": {
      "text/plain": [
       "(std::basic_ostream<char, std::char_traits<char> > &) @0x7f11d19176e0\n"
      ]
     },
     "execution_count": 2,
     "metadata": {},
     "output_type": "execute_result"
    }
   ],
   "source": [
    "// Вывод в С++ производится с помощью конструкции std::cout \n",
    "// После этого слова, необходимо через символ << написать то, что необходимо вывести\n",
    "\n",
    "std::cout << \"Hello!\"; // вывод обычной строки"
   ]
  },
  {
   "cell_type": "code",
   "execution_count": 3,
   "metadata": {
    "collapsed": false
   },
   "outputs": [
    {
     "name": "stdout",
     "output_type": "stream",
     "text": [
      "One\n",
      "\n",
      "\n",
      "Two"
     ]
    },
    {
     "data": {
      "text/plain": [
       "(std::basic_ostream<char, std::char_traits<char> > &) @0x7f11d19176e0\n"
      ]
     },
     "execution_count": 3,
     "metadata": {},
     "output_type": "execute_result"
    }
   ],
   "source": [
    "// std::endl - эта конструкция эквиавалента просто строке \"\\n\", которая переводит каретку на новую строку\n",
    "std::cout << \"One\" << std::endl << std::endl << std::endl << \"Two\";"
   ]
  },
  {
   "cell_type": "markdown",
   "metadata": {},
   "source": [
    "# Математические операции\n",
    "С++ поддерживает все стандартные математические операции"
   ]
  },
  {
   "cell_type": "code",
   "execution_count": 17,
   "metadata": {
    "collapsed": false
   },
   "outputs": [
    {
     "data": {
      "text/plain": [
       "(int) 4\n"
      ]
     },
     "execution_count": 17,
     "metadata": {},
     "output_type": "execute_result"
    }
   ],
   "source": [
    "2 + 2;"
   ]
  },
  {
   "cell_type": "code",
   "execution_count": 18,
   "metadata": {
    "collapsed": false
   },
   "outputs": [
    {
     "data": {
      "text/plain": [
       "(int) 32\n"
      ]
     },
     "execution_count": 18,
     "metadata": {},
     "output_type": "execute_result"
    }
   ],
   "source": [
    "4 * 8;"
   ]
  },
  {
   "cell_type": "code",
   "execution_count": 19,
   "metadata": {
    "collapsed": false
   },
   "outputs": [
    {
     "data": {
      "text/plain": [
       "(int) 1\n"
      ]
     },
     "execution_count": 19,
     "metadata": {},
     "output_type": "execute_result"
    }
   ],
   "source": [
    "7 - (4 / 2) * 3;"
   ]
  },
  {
   "cell_type": "code",
   "execution_count": 20,
   "metadata": {
    "collapsed": false
   },
   "outputs": [
    {
     "data": {
      "text/plain": [
       "(double) 16.3300\n"
      ]
     },
     "execution_count": 20,
     "metadata": {},
     "output_type": "execute_result"
    }
   ],
   "source": [
    "7.1 * 2.3; // операции с дробными числами"
   ]
  },
  {
   "cell_type": "code",
   "execution_count": 21,
   "metadata": {
    "collapsed": false
   },
   "outputs": [
    {
     "name": "stderr",
     "output_type": "stream",
     "text": [
      "input_line_56:3:3: error: indirection requires pointer operand ('int' invalid)\n",
      "2**4;\n",
      "  ^~\n"
     ]
    },
    {
     "ename": "ename",
     "evalue": "evalue",
     "output_type": "error",
     "traceback": []
    }
   ],
   "source": [
    "// однако в С++ нет изначально функции возведения в степень, как в питоне\n",
    "2**4;"
   ]
  },
  {
   "cell_type": "markdown",
   "metadata": {},
   "source": [
    "Как уже было сказано, в С++ все должно иметь определенный тип. Вот основные типы, которые есть в C++:\n",
    "\n",
    "**int** - Целое число. Пример: 2, 5, 8\n",
    "\n",
    "**double** - Дробное число. Пример: 2.3, 7.8, 4.6\n",
    "\n",
    "**char** -  Символ. Пример: 'a', 'G', 'e'\n",
    "\n",
    "**bool** - Булева переменная. Пример: true , false - это единственные занчения, принимаемые булевыми переменными"
   ]
  },
  {
   "cell_type": "markdown",
   "metadata": {},
   "source": [
    "С этим связана определенная проблема, которой небыло в Питоне. Каждый тип занимает определенное фиксированное место в памяти, а это значит, что каждый тип может хранить ограниченный диапазон значений.\n",
    "\n",
    "Например, тип int занимает 4 байта в памяти, а это значит, что диапазон чисел, которые он может хранить следующий:\n",
    "от -2 147 483 648  до  2 147 483 647\n",
    "\n",
    "Если Вы попытаетесь записать в int значение больше, то произойдет так называемое \"переполнение\" и итоговое значение будет отличаться от ожидаемого"
   ]
  },
  {
   "cell_type": "code",
   "execution_count": 22,
   "metadata": {
    "collapsed": false
   },
   "outputs": [
    {
     "name": "stderr",
     "output_type": "stream",
     "text": [
      "input_line_57:2:11: warning: overflow in expression; result is 1215752192 with type 'int' [-Winteger-overflow]\n",
      " 10000000 * 10000; // ожидается, что результат будет 100000000000, однако на самом деле 1215752192\n",
      "          ^\n"
     ]
    },
    {
     "data": {
      "text/plain": [
       "(int) 1215752192\n"
      ]
     },
     "execution_count": 22,
     "metadata": {},
     "output_type": "execute_result"
    }
   ],
   "source": [
    "10000000 * 10000; // ожидается, что результат будет 100000000000, однако на самом деле 1215752192\n",
    "// нужно быть очень аккуратным, следя за тем, чтобы переполнение не происходило"
   ]
  },
  {
   "cell_type": "markdown",
   "metadata": {},
   "source": [
    "# Переменные\n",
    "Как и в Питоне, можно создавать переменные."
   ]
  },
  {
   "cell_type": "code",
   "execution_count": 5,
   "metadata": {
    "collapsed": false
   },
   "outputs": [
    {
     "data": {
      "text/plain": [
       "(char) '0x0'\n"
      ]
     },
     "execution_count": 5,
     "metadata": {},
     "output_type": "execute_result"
    }
   ],
   "source": [
    "int a; // переменная типа int\n",
    "double b; // переменная типа double\n",
    "char c; // переменная типа char"
   ]
  },
  {
   "cell_type": "code",
   "execution_count": 2,
   "metadata": {
    "collapsed": false
   },
   "outputs": [
    {
     "name": "stderr",
     "output_type": "stream",
     "text": [
      "input_line_4:3:1: error: use of undeclared identifier 'k'\n",
      "k = 7; // ошибка\n",
      "^\n"
     ]
    },
    {
     "ename": "ename",
     "evalue": "evalue",
     "output_type": "error",
     "traceback": []
    }
   ],
   "source": [
    "// Важно: переменную всегда необходимо объявлять перед использованием и всегда указывать ее тип\n",
    "k = 7; // ошибка"
   ]
  },
  {
   "cell_type": "code",
   "execution_count": 5,
   "metadata": {
    "collapsed": false
   },
   "outputs": [
    {
     "name": "stdout",
     "output_type": "stream",
     "text": [
      "17\n",
      "78.36\n",
      "A\n"
     ]
    },
    {
     "data": {
      "text/plain": [
       "(std::basic_ostream<char, std::char_traits<char> >::__ostream_type &) @0x7f3688bdf6e0\n"
      ]
     },
     "execution_count": 5,
     "metadata": {},
     "output_type": "execute_result"
    }
   ],
   "source": [
    "// присваивание значений происходит таким же образом, как и в Питоне\n",
    "a = 17;\n",
    "b = 78.36;\n",
    "c = 'A';\n",
    "\n",
    "std::cout << a << std::endl << b << std::endl << c << std::endl;"
   ]
  },
  {
   "cell_type": "code",
   "execution_count": 6,
   "metadata": {
    "collapsed": false
   },
   "outputs": [
    {
     "name": "stdout",
     "output_type": "stream",
     "text": [
      "17\n"
     ]
    },
    {
     "data": {
      "text/plain": [
       "(std::basic_ostream<char, std::char_traits<char> >::__ostream_type &) @0x7f3688bdf6e0\n"
      ]
     },
     "execution_count": 6,
     "metadata": {},
     "output_type": "execute_result"
    }
   ],
   "source": [
    "int d = a; // присваиваение значения другой переменной\n",
    "std::cout << d << std::endl;"
   ]
  },
  {
   "cell_type": "markdown",
   "metadata": {},
   "source": [
    "Переменные одного типа можно безболезненно присваивать друг другу. Если попытаться присвоить значение одного типа, переменной с другим типом, то программа попытается привести один тип к другому."
   ]
  },
  {
   "cell_type": "code",
   "execution_count": 9,
   "metadata": {
    "collapsed": false
   },
   "outputs": [
    {
     "name": "stdout",
     "output_type": "stream",
     "text": [
      "78\n",
      "65\n"
     ]
    },
    {
     "data": {
      "text/plain": [
       "(std::basic_ostream<char, std::char_traits<char> >::__ostream_type &) @0x7f3688bdf6e0\n"
      ]
     },
     "execution_count": 9,
     "metadata": {},
     "output_type": "execute_result"
    }
   ],
   "source": [
    "d = b;\n",
    "\n",
    "std::cout << d << std::endl; // больше нет дробной части у числа\n",
    "\n",
    "d = c;\n",
    "\n",
    "std::cout << d << std::endl; // числовой номер символа"
   ]
  },
  {
   "cell_type": "code",
   "execution_count": 10,
   "metadata": {
    "collapsed": false
   },
   "outputs": [
    {
     "name": "stdout",
     "output_type": "stream",
     "text": [
      "78\n",
      "65\n"
     ]
    },
    {
     "data": {
      "text/plain": [
       "(std::basic_ostream<char, std::char_traits<char> >::__ostream_type &) @0x7f3688bdf6e0\n"
      ]
     },
     "execution_count": 10,
     "metadata": {},
     "output_type": "execute_result"
    }
   ],
   "source": [
    "// кроме автоматического приведения при присваивании, типы можно приводить вручную\n",
    "\n",
    "std::cout << int(b) << std::endl << int(c) << std::endl; // результат такой же"
   ]
  },
  {
   "cell_type": "code",
   "execution_count": 12,
   "metadata": {
    "collapsed": false
   },
   "outputs": [
    {
     "name": "stdout",
     "output_type": "stream",
     "text": [
      "N\n"
     ]
    },
    {
     "data": {
      "text/plain": [
       "(std::basic_ostream<char, std::char_traits<char> >::__ostream_type &) @0x7f3688bdf6e0\n"
      ]
     },
     "execution_count": 12,
     "metadata": {},
     "output_type": "execute_result"
    }
   ],
   "source": [
    "std::cout << char(b) << std::endl; // N - это символ под номером 78"
   ]
  },
  {
   "cell_type": "code",
   "execution_count": 2,
   "metadata": {
    "collapsed": false
   },
   "outputs": [
    {
     "name": "stdout",
     "output_type": "stream",
     "text": [
      "3\n",
      "3.33333\n"
     ]
    },
    {
     "data": {
      "text/plain": [
       "(std::basic_ostream<char, std::char_traits<char> >::__ostream_type &) @0x7fd16d4386e0\n"
      ]
     },
     "execution_count": 2,
     "metadata": {},
     "output_type": "execute_result"
    }
   ],
   "source": [
    "// в отличие от Python в С++ деление есть только одно - /\n",
    "// если оно применяется для int, то оно является целочисленным делением\n",
    "// если для double - то, дробным\n",
    "int t = 10, y = 3;\n",
    "std::cout << t / y << std::endl; // целое число\n",
    "\n",
    "double r = 10.0, p = 3.0;\n",
    "\n",
    "std::cout << r / p << std::endl; // дробное число"
   ]
  },
  {
   "cell_type": "code",
   "execution_count": 3,
   "metadata": {
    "collapsed": false
   },
   "outputs": [
    {
     "name": "stdout",
     "output_type": "stream",
     "text": [
      "3.33333\n"
     ]
    },
    {
     "data": {
      "text/plain": [
       "(std::basic_ostream<char, std::char_traits<char> >::__ostream_type &) @0x7fd16d4386e0\n"
      ]
     },
     "execution_count": 3,
     "metadata": {},
     "output_type": "execute_result"
    }
   ],
   "source": [
    "std::cout << double(t) / y << std::endl; // если необходимо поделить два инта и получить ответ типа double\n",
    "// можно просто привести одну из переменных к double"
   ]
  },
  {
   "cell_type": "markdown",
   "metadata": {},
   "source": [
    "# Ввод"
   ]
  },
  {
   "cell_type": "code",
   "execution_count": 7,
   "metadata": {
    "collapsed": false
   },
   "outputs": [
    {
     "name": "stdout",
     "output_type": "stream",
     "text": [
      "Enter your name: "
     ]
    },
    {
     "data": {
      "text/plain": [
       "(std::basic_istream<char> &) @0x7f73e0460800\n"
      ]
     },
     "execution_count": 7,
     "metadata": {},
     "output_type": "execute_result"
    }
   ],
   "source": [
    "// Для ввода используется объект std::cin\n",
    "// Синтаксис использования такой же, как и у std::cout, однако используется обратный знак >>\n",
    "\n",
    "std::string n;\n",
    "\n",
    "std::cout << \"Введите Ваше имя: \";\n",
    "std::cin >> n; // в n будет записано имя"
   ]
  },
  {
   "cell_type": "code",
   "execution_count": 8,
   "metadata": {
    "collapsed": false
   },
   "outputs": [
    {
     "name": "stdout",
     "output_type": "stream",
     "text": [
      "Введите Ваше имя, фамилию, возраст и опыт: "
     ]
    },
    {
     "data": {
      "text/plain": [
       "(std::basic_istream<char, std::char_traits<char> >::__istream_type &) @0x7f73e0460800\n"
      ]
     },
     "execution_count": 8,
     "metadata": {},
     "output_type": "execute_result"
    }
   ],
   "source": [
    "// Можно вводить сразу несколько переменных\n",
    "std::string name, surname;\n",
    "int age, exp;\n",
    "\n",
    "std::cout << \"Введите Ваше имя, фамилию, возраст и опыт: \";\n",
    "std::cin >> name >> surname >> age >> exp; // значения должны быть введены через пробел или на новой строке"
   ]
  },
  {
   "cell_type": "code",
   "execution_count": 9,
   "metadata": {
    "collapsed": false
   },
   "outputs": [
    {
     "name": "stdout",
     "output_type": "stream",
     "text": [
      "Введите адресс вашего дома: "
     ]
    },
    {
     "data": {
      "text/plain": [
       "(std::basic_istream<char, std::char_traits<char> > &) @0x7f73e0460800\n"
      ]
     },
     "execution_count": 9,
     "metadata": {},
     "output_type": "execute_result"
    }
   ],
   "source": [
    "// чтобы считать всю строку, можно использовать функцию getline\n",
    "std::string home;\n",
    "std::cout << \"Введите адресс вашего дома: \";\n",
    "std::getline(std::cin, home);"
   ]
  },
  {
   "cell_type": "code",
   "execution_count": 10,
   "metadata": {
    "collapsed": false
   },
   "outputs": [
    {
     "data": {
      "text/plain": []
     },
     "execution_count": 10,
     "metadata": {},
     "output_type": "execute_result"
    }
   ],
   "source": [
    "// чтобы считывать значения до конца ввода можно использовать следующую конструкцию\n",
    "int num;\n",
    "\n",
    "while(std::cin >> num) { // ввод, пока не настанек конец ввода\n",
    "    std::cout << \"Вы ввели число \"  << num;\n",
    "}"
   ]
  },
  {
   "cell_type": "markdown",
   "metadata": {},
   "source": [
    "# Условные операторы\n",
    "Как и в любом другом языке программирования, в С++ существуют условные операторы для управления потоком исполнения."
   ]
  },
  {
   "cell_type": "code",
   "execution_count": 19,
   "metadata": {
    "collapsed": false
   },
   "outputs": [
    {
     "name": "stdout",
     "output_type": "stream",
     "text": [
      "a меньше 5\n"
     ]
    },
    {
     "data": {
      "text/plain": []
     },
     "execution_count": 19,
     "metadata": {},
     "output_type": "execute_result"
    }
   ],
   "source": [
    "a = 2;\n",
    "\n",
    "if(a > 5) {\n",
    "    std::cout << \"a больше 5\" << std::endl;\n",
    "} else {\n",
    "    std::cout << \"a меньше 5\" << std::endl;\n",
    "}"
   ]
  },
  {
   "cell_type": "code",
   "execution_count": 15,
   "metadata": {
    "collapsed": false
   },
   "outputs": [
    {
     "name": "stdout",
     "output_type": "stream",
     "text": [
      "а четно\n"
     ]
    },
    {
     "data": {
      "text/plain": []
     },
     "execution_count": 15,
     "metadata": {},
     "output_type": "execute_result"
    }
   ],
   "source": [
    "if(a % 2 == 0) { // операция взятия остатка % - такая же как и в питоне\n",
    "    std::cout << \"а четно\" << std::endl;\n",
    "} else {\n",
    "    std::cout << \"a нечетно\" << std::endl;\n",
    "}"
   ]
  },
  {
   "cell_type": "code",
   "execution_count": 16,
   "metadata": {
    "collapsed": false
   },
   "outputs": [
    {
     "name": "stdout",
     "output_type": "stream",
     "text": [
      "a = 2\n"
     ]
    },
    {
     "data": {
      "text/plain": []
     },
     "execution_count": 16,
     "metadata": {},
     "output_type": "execute_result"
    }
   ],
   "source": [
    "// для более сложных ветвлений используется else if\n",
    "if(a == 0) {\n",
    "    std::cout << \"a = 0\" << std::endl;\n",
    "} else if(a == 1) {\n",
    "    std::cout << \"a = 1\" << std::endl;\n",
    "} else if(a == 2) {\n",
    "    std::cout << \"a = 2\" << std::endl;\n",
    "} else if(a == 3) {\n",
    "    std::cout << \"a = 3\" << std::endl;\n",
    "} else {\n",
    "    std::cout << \"а равно чему-то еще\" << std::endl;\n",
    "}"
   ]
  },
  {
   "cell_type": "code",
   "execution_count": 17,
   "metadata": {
    "collapsed": false
   },
   "outputs": [
    {
     "name": "stdout",
     "output_type": "stream",
     "text": [
      "a = 2\n"
     ]
    },
    {
     "data": {
      "text/plain": []
     },
     "execution_count": 17,
     "metadata": {},
     "output_type": "execute_result"
    }
   ],
   "source": [
    "// В подобных случаях может быть более подходящей конструкция switch\n",
    "switch(a) { // этот код - точный эквиавалент примеру выше\n",
    "    case 0:\n",
    "        std::cout << \"a = 0\" << std::endl;\n",
    "        break; // важно использовать break в конце каждого case. В противном случае выполнятся все последющие case\n",
    "    case 1:\n",
    "        std::cout << \"a = 1\" << std::endl;\n",
    "        break;\n",
    "    case 2:\n",
    "        std::cout << \"a = 2\" << std::endl;\n",
    "        break;\n",
    "    case 3:\n",
    "        std::cout << \"a = 3\" << std::endl;\n",
    "        break;\n",
    "    default:\n",
    "        std::cout << \"а равно чему-то еще\" << std::endl;\n",
    "        break;\n",
    "}"
   ]
  },
  {
   "cell_type": "code",
   "execution_count": 20,
   "metadata": {
    "collapsed": false
   },
   "outputs": [
    {
     "name": "stdout",
     "output_type": "stream",
     "text": [
      "a = 2\n",
      "a = 3\n",
      "а равно чему-то еще\n"
     ]
    },
    {
     "data": {
      "text/plain": []
     },
     "execution_count": 20,
     "metadata": {},
     "output_type": "execute_result"
    }
   ],
   "source": [
    "\n",
    "switch(a) { // иллюстрация того, что будет без break\n",
    "    case 0:\n",
    "        std::cout << \"a = 0\" << std::endl;\n",
    "    case 1:\n",
    "        std::cout << \"a = 1\" << std::endl;\n",
    "    case 2:\n",
    "        std::cout << \"a = 2\" << std::endl;\n",
    "    case 3:\n",
    "        std::cout << \"a = 3\" << std::endl;\n",
    "    default:\n",
    "        std::cout << \"а равно чему-то еще\" << std::endl;\n",
    "}"
   ]
  },
  {
   "cell_type": "code",
   "execution_count": 21,
   "metadata": {
    "collapsed": false
   },
   "outputs": [
    {
     "name": "stdout",
     "output_type": "stream",
     "text": [
      "C\n"
     ]
    },
    {
     "data": {
      "text/plain": []
     },
     "execution_count": 21,
     "metadata": {},
     "output_type": "execute_result"
    }
   ],
   "source": [
    "// Условные операторы могут быть вложены друг в друга\n",
    "\n",
    "a = 2;\n",
    "b = 7.0;\n",
    "\n",
    "if(a > 4) {\n",
    "    if(b > 3.0) {\n",
    "        std::cout << \"A\" << std::endl;\n",
    "    } else {\n",
    "        std::cout << \"B\" << std::endl;\n",
    "    }\n",
    "} else {\n",
    "    if(b > 4.0) {\n",
    "        std::cout << \"C\" << std::endl;\n",
    "    } else {\n",
    "        std::cout << \"D\" << std::endl;\n",
    "    }\n",
    "}"
   ]
  },
  {
   "cell_type": "code",
   "execution_count": 6,
   "metadata": {
    "collapsed": false
   },
   "outputs": [
    {
     "name": "stdout",
     "output_type": "stream",
     "text": [
      "Yo"
     ]
    },
    {
     "data": {
      "text/plain": []
     },
     "execution_count": 6,
     "metadata": {},
     "output_type": "execute_result"
    }
   ],
   "source": [
    "// также условия могут быть сколь угодно сложными\n",
    "\n",
    "a = 6;\n",
    "b = 5.0;\n",
    "\n",
    "if( (a > 5 and a <= 7) or b > 2 ) {\n",
    "    std::cout << \"Yo\";\n",
    "}"
   ]
  },
  {
   "cell_type": "markdown",
   "metadata": {},
   "source": [
    "# Циклы\n",
    "C++ также позволяет использовать циклы для многократного повторения участка кода"
   ]
  },
  {
   "cell_type": "code",
   "execution_count": 22,
   "metadata": {
    "collapsed": false
   },
   "outputs": [
    {
     "name": "stdout",
     "output_type": "stream",
     "text": [
      "0\n",
      "1\n",
      "2\n",
      "3\n",
      "4\n"
     ]
    },
    {
     "data": {
      "text/plain": []
     },
     "execution_count": 22,
     "metadata": {},
     "output_type": "execute_result"
    }
   ],
   "source": [
    "a = 0;\n",
    "\n",
    "while(a < 5) { // цикл while аналогичен одноименному циклу в python\n",
    "    std::cout << a << std::endl;\n",
    "    a = a + 1;\n",
    "}"
   ]
  },
  {
   "cell_type": "code",
   "execution_count": 23,
   "metadata": {
    "collapsed": false
   },
   "outputs": [
    {
     "name": "stdout",
     "output_type": "stream",
     "text": [
      "0\n",
      "1\n",
      "2\n",
      "3\n",
      "4\n",
      "5\n",
      "7\n",
      "9\n",
      "11\n",
      "13\n",
      "15\n"
     ]
    },
    {
     "data": {
      "text/plain": []
     },
     "execution_count": 23,
     "metadata": {},
     "output_type": "execute_result"
    }
   ],
   "source": [
    "// Помимо обычного присванивания, C++ также поддерживает операции +=, -=, *=, etc\n",
    "// а также новые операции ++, --, которые увеличивают или уменьшают значение на 1\n",
    "a = 0;\n",
    "\n",
    "while(a < 5) { // цикл while аналогичен одноименному циклу в python\n",
    "    std::cout << a << std::endl;\n",
    "    a++;\n",
    "}\n",
    "\n",
    "while(a < 16) {\n",
    "    std::cout << a << std::endl;\n",
    "    a += 2;\n",
    "}"
   ]
  },
  {
   "cell_type": "code",
   "execution_count": 26,
   "metadata": {
    "collapsed": false
   },
   "outputs": [
    {
     "name": "stdout",
     "output_type": "stream",
     "text": [
      "0\n",
      "1\n",
      "2\n",
      "3\n",
      "4\n",
      "5\n"
     ]
    },
    {
     "data": {
      "text/plain": []
     },
     "execution_count": 26,
     "metadata": {},
     "output_type": "execute_result"
    }
   ],
   "source": [
    "// Цикл for полностью отличается от одноименного цикла в Python\n",
    "\n",
    "for(int i = 0 /*инициализация перед циклом*/ ; i < 6 /*условие выполнения*/ ; i++ /* операция после каждой итерации */) {\n",
    "    std::cout << i << std::endl;\n",
    "}\n",
    "\n",
    "// в for прописываются три выражения через точку с запятой\n",
    "// первое - исполняется только один раз перез циклом. Все переменные, объявленные здесь доступны только в цикле\n",
    "// второе - условие, которое проверяется после каждой итерации. Если верно, цикл подолжается\n",
    "// третье - операция выполняется каждый раз после итерации цикла"
   ]
  },
  {
   "cell_type": "code",
   "execution_count": 27,
   "metadata": {
    "collapsed": false
   },
   "outputs": [
    {
     "name": "stderr",
     "output_type": "stream",
     "text": [
      "input_line_41:2:15: error: use of undeclared identifier 'i'\n",
      " std::cout << i << std::endl; // не доступно\n",
      "              ^\n"
     ]
    },
    {
     "ename": "ename",
     "evalue": "evalue",
     "output_type": "error",
     "traceback": []
    }
   ],
   "source": [
    "std::cout << i << std::endl; // не доступно"
   ]
  },
  {
   "cell_type": "code",
   "execution_count": 4,
   "metadata": {
    "collapsed": false
   },
   "outputs": [
    {
     "name": "stdout",
     "output_type": "stream",
     "text": [
      "0\n",
      "1\n",
      "2\n",
      "3\n",
      "4\n",
      "5\n",
      "6\n"
     ]
    },
    {
     "data": {
      "text/plain": []
     },
     "execution_count": 4,
     "metadata": {},
     "output_type": "execute_result"
    }
   ],
   "source": [
    "// Каждое из этих выражение - необязательное\n",
    "\n",
    "a = 0;\n",
    "for(;;) { // цикл вообще без всего - бесконечный цикл\n",
    "    \n",
    "    std::cout << a << std::endl;\n",
    "    \n",
    "    if(a > 5) {\n",
    "        break; // break прерывает цикл\n",
    "    }\n",
    "    a++;\n",
    "}"
   ]
  },
  {
   "cell_type": "code",
   "execution_count": 7,
   "metadata": {
    "collapsed": false
   },
   "outputs": [
    {
     "name": "stdout",
     "output_type": "stream",
     "text": [
      "0\n",
      "1\n",
      "2\n",
      "3\n",
      "4\n",
      "8\n",
      "9\n"
     ]
    },
    {
     "data": {
      "text/plain": []
     },
     "execution_count": 7,
     "metadata": {},
     "output_type": "execute_result"
    }
   ],
   "source": [
    "for(int i = 0; i < 10; i++) {\n",
    "    if(i >= 5 and i <= 7) {\n",
    "        continue; // continue сразу переходит к следующей итерации цикла\n",
    "    }\n",
    "    std::cout << i << std::endl;\n",
    "}"
   ]
  },
  {
   "cell_type": "code",
   "execution_count": 3,
   "metadata": {
    "collapsed": false
   },
   "outputs": [
    {
     "name": "stdout",
     "output_type": "stream",
     "text": [
      "0\n",
      "1\n",
      "2\n",
      "3\n",
      "4\n"
     ]
    },
    {
     "data": {
      "text/plain": []
     },
     "execution_count": 3,
     "metadata": {},
     "output_type": "execute_result"
    }
   ],
   "source": [
    "// Также существует вариация цикла while\n",
    "\n",
    "a = 0;\n",
    "\n",
    "do {\n",
    "    std::cout << a << std::endl;\n",
    "    a++;\n",
    "} while(a < 5);"
   ]
  },
  {
   "cell_type": "code",
   "execution_count": 5,
   "metadata": {
    "collapsed": false
   },
   "outputs": [
    {
     "name": "stdout",
     "output_type": "stream",
     "text": [
      "10\n"
     ]
    },
    {
     "data": {
      "text/plain": []
     },
     "execution_count": 5,
     "metadata": {},
     "output_type": "execute_result"
    }
   ],
   "source": [
    "// Единсвенная разница - первая итерация в данном цикле всегда произойдет\n",
    "\n",
    "a = 10;\n",
    "\n",
    "while(a < 5) {\n",
    "    std::cout << a << std::endl; // не выполнится\n",
    "    a++;\n",
    "}\n",
    "\n",
    "do {\n",
    "    std::cout << a << std::endl; // выполнится 1 раз\n",
    "    a++;\n",
    "} while(a < 5);"
   ]
  },
  {
   "cell_type": "markdown",
   "metadata": {},
   "source": [
    "# Контейнеры\n",
    "Для хранения сразу несколько значений, можно использовать статические массивы"
   ]
  },
  {
   "cell_type": "code",
   "execution_count": 2,
   "metadata": {
    "collapsed": false
   },
   "outputs": [
    {
     "name": "stdout",
     "output_type": "stream",
     "text": [
      "Hello\n",
      "1 5 0 0 0 0 0 0 0 0 \n",
      "Hello\u0000\u0000\u0000\u0000\u0000\u0000\u0000\u0000\u0000\u0000\u0000\u0000\u0000\u0000\u0000"
     ]
    },
    {
     "data": {
      "text/plain": []
     },
     "execution_count": 2,
     "metadata": {},
     "output_type": "execute_result"
    }
   ],
   "source": [
    "int arr[10]; // массив из 10 интов\n",
    "char text[20] =  \"Hello\"; // массив из 20 символов. Она же - просто строка\n",
    "arr[0] = 1;\n",
    "arr[1] = 5;\n",
    "\n",
    "std::cout << text << std::endl;\n",
    "for(int i = 0; i < 10; i++) {\n",
    "    std::cout << arr[i] << ' '; // доступ к элементам осуществаляется как и в Питоне через []\n",
    "    // на тем местах, куда не было вручную записано значения, может лежать что угодно\n",
    "    // однако чаще всего оно заполнено 0\n",
    "}\n",
    "\n",
    "std::cout << std::endl;\n",
    "\n",
    "for(int i = 0; i < 20; i++) {\n",
    "    std::cout << text[i];\n",
    "}"
   ]
  },
  {
   "cell_type": "code",
   "execution_count": 6,
   "metadata": {
    "collapsed": false
   },
   "outputs": [
    {
     "name": "stderr",
     "output_type": "stream",
     "text": [
      "input_line_13:5:1: warning: array index 20 is past the end of the array (which contains 10 elements) [-Warray-bounds]\n",
      "arr[20] = 5; // а так тем более!\n",
      "^   ~~\n",
      "input_line_4:2:2: note: array 'arr' declared here\n",
      " int arr[10]; // массив из 10 интов\n",
      " ^\n"
     ]
    },
    {
     "name": "stdout",
     "output_type": "stream",
     "text": [
      "0\n"
     ]
    },
    {
     "data": {
      "text/plain": [
       "(int) 5\n"
      ]
     },
     "execution_count": 6,
     "metadata": {},
     "output_type": "execute_result"
    }
   ],
   "source": [
    "// При такой работе с массивами при выходе за границы, никакой ошибки не возникает (может возникнет только предупреждение компилятора) \n",
    "// Однако крайне не рекомендуется так делать, так как это может повредить другие данные этой программы\n",
    "std::cout << arr[15] << std::endl; // так лучше не делать\n",
    "arr[20] = 5; // а так тем более!"
   ]
  },
  {
   "cell_type": "markdown",
   "metadata": {},
   "source": [
    "Для того, чтобы более удобно и безопастно работать с массивами в С++ в стандартной библиотеке есть типы std::string (строка) и std::vector (массив)"
   ]
  },
  {
   "cell_type": "code",
   "execution_count": 2,
   "metadata": {
    "collapsed": false
   },
   "outputs": [
    {
     "data": {
      "text/plain": []
     },
     "execution_count": 2,
     "metadata": {},
     "output_type": "execute_result"
    }
   ],
   "source": [
    "// Важно, что подключение должно происходить до функции main\n",
    "#include <string>"
   ]
  },
  {
   "cell_type": "code",
   "execution_count": 4,
   "metadata": {
    "collapsed": false
   },
   "outputs": [
    {
     "data": {
      "text/plain": [
       "(std::string &) \"World\"\n"
      ]
     },
     "execution_count": 4,
     "metadata": {},
     "output_type": "execute_result"
    }
   ],
   "source": [
    "std::string x = \"Hello\";\n",
    "std::string z(\"World\"); // Эти две строки идентичны по смыслу"
   ]
  },
  {
   "cell_type": "code",
   "execution_count": 5,
   "metadata": {
    "collapsed": false
   },
   "outputs": [
    {
     "name": "stdout",
     "output_type": "stream",
     "text": [
      "Hello World\n"
     ]
    },
    {
     "data": {
      "text/plain": [
       "(std::basic_ostream<char, std::char_traits<char> >::__ostream_type &) @0x7f73e04606e0\n"
      ]
     },
     "execution_count": 5,
     "metadata": {},
     "output_type": "execute_result"
    }
   ],
   "source": [
    "std::cout << x << ' ' << z << std::endl;"
   ]
  },
  {
   "cell_type": "code",
   "execution_count": 6,
   "metadata": {
    "collapsed": false
   },
   "outputs": [
    {
     "name": "stdout",
     "output_type": "stream",
     "text": [
      "e l\n",
      "5 5\n"
     ]
    },
    {
     "data": {
      "text/plain": [
       "(std::basic_ostream<char, std::char_traits<char> >::__ostream_type &) @0x7f73e04606e0\n"
      ]
     },
     "execution_count": 6,
     "metadata": {},
     "output_type": "execute_result"
    }
   ],
   "source": [
    "// string - это по сути просто набор char'ов.\n",
    "// обращаться к конкретному элементу string можно как и в питоне с помощью []\n",
    "// чтобы узнать количество всех символом в строке - у этого типа есть функция size()\n",
    "\n",
    "std::cout << x[1] << ' ' << x[3] << std::endl;\n",
    "std::cout << x.size() << ' ' << z.size() << std::endl;"
   ]
  },
  {
   "cell_type": "code",
   "execution_count": 7,
   "metadata": {
    "collapsed": false
   },
   "outputs": [
    {
     "name": "stdout",
     "output_type": "stream",
     "text": [
      "H\n",
      "e\n",
      "l\n",
      "l\n",
      "o\n"
     ]
    },
    {
     "data": {
      "text/plain": []
     },
     "execution_count": 7,
     "metadata": {},
     "output_type": "execute_result"
    }
   ],
   "source": [
    "for(int i = 0; i < x.size(); i++) {\n",
    "    std::cout << x[i] << std::endl;\n",
    "} // перебор всех элементов string"
   ]
  },
  {
   "cell_type": "code",
   "execution_count": 9,
   "metadata": {
    "collapsed": false
   },
   "outputs": [
    {
     "name": "stdout",
     "output_type": "stream",
     "text": [
      "HHeelllloo\n"
     ]
    },
    {
     "data": {
      "text/plain": [
       "(std::basic_ostream<char, std::char_traits<char> >::__ostream_type &) @0x7f5a0ff6c6e0\n"
      ]
     },
     "execution_count": 9,
     "metadata": {},
     "output_type": "execute_result"
    }
   ],
   "source": [
    "for(int i = 0; i < x.size(); i++) {\n",
    "    std::cout << x[i] << x[i];\n",
    "}\n",
    "std::cout << std::endl;"
   ]
  },
  {
   "cell_type": "code",
   "execution_count": 11,
   "metadata": {
    "collapsed": false
   },
   "outputs": [
    {
     "name": "stdout",
     "output_type": "stream",
     "text": [
      "olleH"
     ]
    },
    {
     "data": {
      "text/plain": []
     },
     "execution_count": 11,
     "metadata": {},
     "output_type": "execute_result"
    }
   ],
   "source": [
    "for(int i = x.size()-1; i >= 0; i--) {\n",
    "    std::cout << x[i];\n",
    "}"
   ]
  },
  {
   "cell_type": "code",
   "execution_count": 4,
   "metadata": {
    "collapsed": false
   },
   "outputs": [
    {
     "data": {
      "text/plain": []
     },
     "execution_count": 4,
     "metadata": {},
     "output_type": "execute_result"
    }
   ],
   "source": [
    "// Кроме string, который содержит только объекты типа char, в С++ есть и другие контейнеры (аналоги коллекций в питоне)\n",
    "// Вектор также может автоматически расширяться по мере добавления новых элементов, что не может делать обычный статический массив\n",
    "\n",
    " #include <vector> // массив из элементов любого типа"
   ]
  },
  {
   "cell_type": "markdown",
   "metadata": {},
   "source": [
    "Вектор выделяет определенное количество памяти на хранение.\n",
    "Как только оно заканчивается, он резервирует больше памяти, чем было раньше и копирует туда старые данные."
   ]
  },
  {
   "cell_type": "markdown",
   "metadata": {},
   "source": [
    "![](img/vector.png)"
   ]
  },
  {
   "cell_type": "code",
   "execution_count": 3,
   "metadata": {
    "collapsed": false
   },
   "outputs": [
    {
     "data": {
      "text/plain": [
       "(std::vector<float> &) {  }\n"
      ]
     },
     "execution_count": 3,
     "metadata": {},
     "output_type": "execute_result"
    }
   ],
   "source": [
    "std::vector<int> q;\n",
    "std::vector<float> w; // между < > необходимо указать тип хранимых элементов"
   ]
  },
  {
   "cell_type": "code",
   "execution_count": 4,
   "metadata": {
    "collapsed": false
   },
   "outputs": [
    {
     "data": {
      "text/plain": [
       "(void) @0x7ffdffee5020\n"
      ]
     },
     "execution_count": 4,
     "metadata": {},
     "output_type": "execute_result"
    }
   ],
   "source": [
    "q.push_back(2);\n",
    "q.push_back(3); // добавление элемента в конец массива\n",
    "// Теперь массив q состоит из 2 элементов: 2 и 3"
   ]
  },
  {
   "cell_type": "code",
   "execution_count": 5,
   "metadata": {
    "collapsed": false
   },
   "outputs": [
    {
     "name": "stdout",
     "output_type": "stream",
     "text": [
      "3\n",
      "2\n"
     ]
    },
    {
     "data": {
      "text/plain": [
       "(std::basic_ostream<char, std::char_traits<char> >::__ostream_type &) @0x7eff808f86e0\n"
      ]
     },
     "execution_count": 5,
     "metadata": {},
     "output_type": "execute_result"
    }
   ],
   "source": [
    "// операции у массива такие же, как и у string\n",
    "std::cout << q[1] << std::endl;\n",
    "\n",
    "std::cout << q.size() << std::endl;"
   ]
  },
  {
   "cell_type": "code",
   "execution_count": 6,
   "metadata": {
    "collapsed": false
   },
   "outputs": [
    {
     "name": "stdout",
     "output_type": "stream",
     "text": [
      "2\n",
      "3\n"
     ]
    },
    {
     "data": {
      "text/plain": []
     },
     "execution_count": 6,
     "metadata": {},
     "output_type": "execute_result"
    }
   ],
   "source": [
    "for(int i = 0; i < q.size(); i++) {\n",
    "    std::cout << q[i] << std::endl;\n",
    "}"
   ]
  },
  {
   "cell_type": "code",
   "execution_count": 8,
   "metadata": {
    "collapsed": false
   },
   "outputs": [
    {
     "name": "stdout",
     "output_type": "stream",
     "text": [
      "0\n"
     ]
    },
    {
     "data": {
      "text/plain": [
       "(std::basic_ostream<char, std::char_traits<char> >::__ostream_type &) @0x7eff808f86e0\n"
      ]
     },
     "execution_count": 8,
     "metadata": {},
     "output_type": "execute_result"
    }
   ],
   "source": [
    "q.clear(); // очистка содержимого \n",
    "std::cout << q.size() << std::endl;"
   ]
  },
  {
   "cell_type": "code",
   "execution_count": 4,
   "metadata": {
    "collapsed": false
   },
   "outputs": [
    {
     "data": {
      "text/plain": []
     },
     "execution_count": 4,
     "metadata": {},
     "output_type": "execute_result"
    }
   ],
   "source": [
    "for(int i = 0; i < 10; i++) {\n",
    "    q.push_back(i * i); // массив из квадратов\n",
    "}"
   ]
  },
  {
   "cell_type": "code",
   "execution_count": 10,
   "metadata": {
    "collapsed": false
   },
   "outputs": [
    {
     "name": "stdout",
     "output_type": "stream",
     "text": [
      "0\n",
      "1\n",
      "4\n",
      "9\n",
      "16\n",
      "25\n",
      "36\n",
      "49\n",
      "64\n",
      "81\n"
     ]
    },
    {
     "data": {
      "text/plain": []
     },
     "execution_count": 10,
     "metadata": {},
     "output_type": "execute_result"
    }
   ],
   "source": [
    "for(int i = 0; i < q.size(); i++) {\n",
    "    std::cout << q[i] << std::endl;\n",
    "}"
   ]
  },
  {
   "cell_type": "code",
   "execution_count": 5,
   "metadata": {
    "collapsed": false
   },
   "outputs": [
    {
     "name": "stdout",
     "output_type": "stream",
     "text": [
      "Sum is 285\n"
     ]
    },
    {
     "data": {
      "text/plain": [
       "(std::basic_ostream<char, std::char_traits<char> >::__ostream_type &) @0x7ff1eb2a76e0\n"
      ]
     },
     "execution_count": 5,
     "metadata": {},
     "output_type": "execute_result"
    }
   ],
   "source": [
    "int sum = 0;\n",
    "\n",
    "for(int i = 0; i < q.size(); i++) {\n",
    "    sum += q[i];\n",
    "}\n",
    "\n",
    "std::cout << \"Sum is \" << sum << std::endl; "
   ]
  },
  {
   "cell_type": "code",
   "execution_count": 9,
   "metadata": {
    "collapsed": false
   },
   "outputs": [
    {
     "name": "stdout",
     "output_type": "stream",
     "text": [
      "0 0 0 0 0 0 0 0 0 0 "
     ]
    },
    {
     "data": {
      "text/plain": []
     },
     "execution_count": 9,
     "metadata": {},
     "output_type": "execute_result"
    }
   ],
   "source": [
    "// При добавлении нового элемента, vector'у часто приходится создавать новые ячейки в памяти\n",
    "// Чтобы сделать этот процесс быстрее, можно изначально указать, сколько элементов в массиве \n",
    "int k = 10;\n",
    "\n",
    "std::vector<int> nums(k); // вектор в котором уже есть n элементов\n",
    "for(int i = 0 ; i < nums.size(); i++) {\n",
    "    std::cout << nums[i] << ' ';\n",
    "}"
   ]
  },
  {
   "cell_type": "code",
   "execution_count": 10,
   "metadata": {
    "collapsed": false
   },
   "outputs": [
    {
     "name": "stdout",
     "output_type": "stream",
     "text": [
      "0\n",
      "0 1 2 3 4 5 6 7 8 9 "
     ]
    },
    {
     "data": {
      "text/plain": []
     },
     "execution_count": 10,
     "metadata": {},
     "output_type": "execute_result"
    }
   ],
   "source": [
    "// Также можно не создавать элементы сразу, а просто зарезервировать под них место\n",
    "std::vector<int> e;\n",
    "e.reserve(k); // резервируем память на k элементов\n",
    "\n",
    "std::cout << e.size() << std::endl;\n",
    "\n",
    "for(int i = 0; i < k; i++) {\n",
    "    e.push_back(i); // добавляем реальные элементы. Это происходит быстрее, так как память уже выделена\n",
    "}\n",
    "\n",
    "for(int i = 0; i < e.size(); i++) {\n",
    "    std::cout << e[i] << ' ';\n",
    "}"
   ]
  },
  {
   "cell_type": "code",
   "execution_count": 12,
   "metadata": {
    "collapsed": false
   },
   "outputs": [
    {
     "name": "stdout",
     "output_type": "stream",
     "text": [
      "25 25 25 25 25 25 25 25 25 25 "
     ]
    },
    {
     "data": {
      "text/plain": []
     },
     "execution_count": 12,
     "metadata": {},
     "output_type": "execute_result"
    }
   ],
   "source": [
    "// можно указывать, какими элементами необходимо заполнить массив\n",
    "std::vector<int> h(k, 25); // второй агрумент - элемент, которым заполняем\n",
    "for(int i = 0; i < h.size(); i++) {\n",
    "    std::cout << h[i] << ' ';\n",
    "}"
   ]
  },
  {
   "cell_type": "code",
   "execution_count": 6,
   "metadata": {
    "collapsed": false
   },
   "outputs": [
    {
     "name": "stdout",
     "output_type": "stream",
     "text": [
      "0 0 0 0 \n",
      "0 0 0 0 \n",
      "0 0 0 0 \n"
     ]
    },
    {
     "data": {
      "text/plain": []
     },
     "execution_count": 6,
     "metadata": {},
     "output_type": "execute_result"
    }
   ],
   "source": [
    "// vector может хранить элементы любого типа, в том числе и vector\n",
    "// например, матрица NxM\n",
    "int N = 3, M = 4;\n",
    "\n",
    "std::vector< std::vector<int> > matrix(N, std::vector<int>(M));\n",
    "\n",
    "for(int i = 0; i < matrix.size(); i++) {\n",
    "    for(int j = 0; j < matrix[i].size(); j++) {\n",
    "        std::cout << matrix[i][j] << ' ';\n",
    "    }\n",
    "    std::cout << std::endl;\n",
    "}"
   ]
  },
  {
   "cell_type": "code",
   "execution_count": 2,
   "metadata": {
    "collapsed": false
   },
   "outputs": [
    {
     "data": {
      "text/plain": []
     },
     "execution_count": 2,
     "metadata": {},
     "output_type": "execute_result"
    }
   ],
   "source": [
    "// пример\n",
    "\n",
    "#include <iostream>\n",
    "#include <vector>\n",
    "#include <string>\n",
    "\n",
    "int main(){\n",
    "    int people;\n",
    "\n",
    "    std::cout << \"Введите количество людей: \";\n",
    "    std::cin >> people;\n",
    "\n",
    "    std::vector<std::string> p;\n",
    "    p.reserve(people);\n",
    "\n",
    "    std::cout << \"Введите их имена: \";\n",
    "\n",
    "    for(int i = 0; i < people; i++) {\n",
    "        std::string current;\n",
    "        std::cin >> current;\n",
    "        p.push_back(current);\n",
    "    }\n",
    "    \n",
    "    return 0;\n",
    "}"
   ]
  },
  {
   "cell_type": "code",
   "execution_count": 4,
   "metadata": {
    "collapsed": false
   },
   "outputs": [
    {
     "data": {
      "text/plain": []
     },
     "execution_count": 4,
     "metadata": {},
     "output_type": "execute_result"
    }
   ],
   "source": [
    "// проверка на палиндром\n",
    "#include <iostream>\n",
    "#include <string>\n",
    "\n",
    "int main(){\n",
    "    std::string s;\n",
    "    std::cin >> s;\n",
    "    std::string rev;\n",
    "\n",
    "    for(int i = s.size() - 1; i >= 0; i--) {\n",
    "        rev.push_back(s[i]);\n",
    "    }\n",
    "\n",
    "    if(s == rev) {\n",
    "        std::cout << \"Палиндром\" << std::endl; \n",
    "    } else {\n",
    "        std::cout << \"Не палиндром\" << std::endl;\n",
    "    }   \n",
    "    \n",
    "    return 0;\n",
    "}"
   ]
  },
  {
   "cell_type": "code",
   "execution_count": 6,
   "metadata": {
    "collapsed": false
   },
   "outputs": [
    {
     "name": "stdout",
     "output_type": "stream",
     "text": [
      "0 2 4 6 8 10 12 14 16 18 \n",
      "0 2 6 8 10 14 18 \n"
     ]
    },
    {
     "data": {
      "text/plain": [
       "(std::basic_ostream<char, std::char_traits<char> >::__ostream_type &) @0x7fd16d4386e0\n"
      ]
     },
     "execution_count": 6,
     "metadata": {},
     "output_type": "execute_result"
    }
   ],
   "source": [
    "// для удаления элемента из массива используется функция erase со следующим синтаксисом\n",
    "std::vector<int> wer;\n",
    "\n",
    "for(int i = 0; i < 10; i++) {\n",
    "    wer.push_back(i*2);\n",
    "}\n",
    "\n",
    "for(int i = 0; i < wer.size(); i++) {\n",
    "    std::cout << wer[i] << ' ';\n",
    "}\n",
    "std::cout << std::endl;\n",
    "\n",
    "wer.erase(wer.begin() + 2);\n",
    "wer.erase(wer.begin() + 5);\n",
    "wer.erase(wer.begin() + 6); // удаление 2, 5 и 6 элемента из массива.\n",
    "// подробнее про begin в следующих лекциях\n",
    "\n",
    "for(int i = 0; i < wer.size(); i++) {\n",
    "    std::cout << wer[i] << ' ';\n",
    "}\n",
    "std::cout << std::endl;\n"
   ]
  },
  {
   "cell_type": "code",
   "execution_count": null,
   "metadata": {
    "collapsed": true
   },
   "outputs": [],
   "source": []
  }
 ],
 "metadata": {
  "anaconda-cloud": {},
  "kernelspec": {
   "display_name": "C++",
   "language": "",
   "name": "cling"
  },
  "language_info": {
   "codemirror_mode": "text/x-c++src",
   "file_extension": ".c++",
   "mimetype": " text/x-c++src",
   "name": "c++"
  }
 },
 "nbformat": 4,
 "nbformat_minor": 1
}
