{
 "cells": [
  {
   "cell_type": "markdown",
   "metadata": {},
   "source": [
    "# Сортировки\n",
    "Очень часто разработчику требуется каким-либо образом упорядочить набор данных, то есть преобразовать данные таким образом, чтобы любой элемент был больше (или меньше) чем предыдущий.\n",
    "\n",
    "Есть много различных подходов к решению этой задачи. Здесь мы рассмотрим наиболее популярные алгоритмы сортировок."
   ]
  },
  {
   "cell_type": "markdown",
   "metadata": {},
   "source": [
    "# Сортировка вставками\n",
    "Самым простым для понимания и реализации является алгоритм сортировки вставками.\n",
    "\n",
    "Суть этого алгоритма такова:\n",
    "* Если у нас есть уже отсортированный массив, то для того, чтобы вставить в него другое число, достаточно сдвинуть вправо все элементы, которые больше этого числа и в образовавшийся пробел вставить само число. Тогда получившийся массив, очевидно, также будет отсортирован.\n",
    "* Массив из одного числа, очевидно, отсортирован.\n",
    "* Итого, мы можем идти по массиву начиная со второго элемента. Далее будем вставлять текущий элемент в подмассив, который оканчивается до этого элемента, как в отсортированный массив. Таким образом, когда мы вставим последний элемент, то мы получим полностью отсортированный массив.\n"
   ]
  },
  {
   "cell_type": "markdown",
   "metadata": {},
   "source": [
    "<img src=\"https://upload.wikimedia.org/wikipedia/commons/thumb/0/0f/Insertion-sort-example-300px.gif/280px-Insertion-sort-example-300px.gif\" \\>"
   ]
  },
  {
   "cell_type": "code",
   "execution_count": 1,
   "metadata": {
    "collapsed": false
   },
   "outputs": [
    {
     "data": {
      "text/plain": []
     },
     "execution_count": 1,
     "metadata": {},
     "output_type": "execute_result"
    }
   ],
   "source": [
    "#include <iostream>\n",
    "#include <vector>\n",
    "#include <chrono>\n",
    "#include <cstdlib>\n"
   ]
  },
  {
   "cell_type": "code",
   "execution_count": 2,
   "metadata": {
    "collapsed": false
   },
   "outputs": [
    {
     "data": {
      "text/plain": []
     },
     "execution_count": 2,
     "metadata": {},
     "output_type": "execute_result"
    }
   ],
   "source": [
    "typedef std::chrono::milliseconds Milliseconds;\n",
    "typedef std::chrono::steady_clock Clock;\n",
    "typedef Clock::time_point Time;"
   ]
  },
  {
   "cell_type": "code",
   "execution_count": 3,
   "metadata": {
    "collapsed": false
   },
   "outputs": [
    {
     "data": {
      "text/plain": [
       "(void) @0x7ffd31d1bc10\n"
      ]
     },
     "execution_count": 3,
     "metadata": {},
     "output_type": "execute_result"
    }
   ],
   "source": [
    "srand(time(NULL)); // для генерации чисел"
   ]
  },
  {
   "cell_type": "code",
   "execution_count": 4,
   "metadata": {
    "collapsed": false
   },
   "outputs": [
    {
     "data": {
      "text/plain": []
     },
     "execution_count": 4,
     "metadata": {},
     "output_type": "execute_result"
    }
   ],
   "source": [
    "void gen(std::vector<int> & array, int n) {\n",
    "    array.clear();\n",
    "    for(int i = 0; i < n; i++) {\n",
    "        array.push_back(rand()%n);\n",
    "    }\n",
    "} "
   ]
  },
  {
   "cell_type": "code",
   "execution_count": 5,
   "metadata": {
    "collapsed": false
   },
   "outputs": [
    {
     "data": {
      "text/plain": []
     },
     "execution_count": 5,
     "metadata": {},
     "output_type": "execute_result"
    }
   ],
   "source": [
    "void print(std::vector<int> & array){\n",
    "    for(auto i : array){\n",
    "        std::cout << i << ' ';\n",
    "    }\n",
    "    std::cout << std::endl;\n",
    "}\n",
    "// вспомогательные функции, чтобы удобнее работать с массивом"
   ]
  },
  {
   "cell_type": "code",
   "execution_count": 6,
   "metadata": {
    "collapsed": false
   },
   "outputs": [
    {
     "name": "stdout",
     "output_type": "stream",
     "text": [
      "6 5 4 5 0 5 4 4 5 5 \n"
     ]
    },
    {
     "data": {
      "text/plain": [
       "(void) @0x7ffd31d1bc10\n"
      ]
     },
     "execution_count": 6,
     "metadata": {},
     "output_type": "execute_result"
    }
   ],
   "source": [
    "std::vector<int> data;\n",
    "gen(data, 10);\n",
    "print(data);"
   ]
  },
  {
   "cell_type": "code",
   "execution_count": 7,
   "metadata": {
    "collapsed": false
   },
   "outputs": [
    {
     "data": {
      "text/plain": []
     },
     "execution_count": 7,
     "metadata": {},
     "output_type": "execute_result"
    }
   ],
   "source": [
    "void insert_sort(std::vector<int> & array){\n",
    "    for(int i = 1; i < array.size(); i++) { // идем начиная со второго элемента\n",
    "        int inserted_element = array[i]; // вставляемый элемент\n",
    "        int j = i;\n",
    "        while(j > 0 and inserted_element < array[j-1]) {\n",
    "            array[j] = array[j-1]; // сдвигаем все элементы, которые больше вставляемого\n",
    "            j--;\n",
    "        }\n",
    "        array[j] = inserted_element; // в образовавшийся пробел вставляем элемент\n",
    "    }\n",
    "}"
   ]
  },
  {
   "cell_type": "code",
   "execution_count": 8,
   "metadata": {
    "collapsed": false
   },
   "outputs": [
    {
     "name": "stdout",
     "output_type": "stream",
     "text": [
      "0 4 4 4 5 5 5 5 5 6 \n"
     ]
    },
    {
     "data": {
      "text/plain": [
       "(void) @0x7ffd31d1bc10\n"
      ]
     },
     "execution_count": 8,
     "metadata": {},
     "output_type": "execute_result"
    }
   ],
   "source": [
    "insert_sort(data);\n",
    "print(data);"
   ]
  },
  {
   "cell_type": "code",
   "execution_count": 9,
   "metadata": {
    "collapsed": false
   },
   "outputs": [
    {
     "name": "stdout",
     "output_type": "stream",
     "text": [
      "Массив из 10000 чисел отсортировался за 11710 миллисекунд\n"
     ]
    },
    {
     "data": {
      "text/plain": [
       "(std::basic_ostream<char, std::char_traits<char> >::__ostream_type &) @0x7fe32d8516e0\n"
      ]
     },
     "execution_count": 9,
     "metadata": {},
     "output_type": "execute_result"
    }
   ],
   "source": [
    "gen(data, 10000);\n",
    "Time start = Clock::now();\n",
    "insert_sort(data);\n",
    "unsigned long t = std::chrono::duration_cast<Milliseconds>(Clock::now() - start).count();\n",
    "std::cout << \"Массив из 10000 чисел отсортировался за \" << t << \" миллисекунд\" << std::endl;"
   ]
  },
  {
   "cell_type": "markdown",
   "metadata": {},
   "source": [
    "Так как алгоритм крайне простой и решает задачу \"в лоб\", то понятно, что это не самый эффективный алгоритм. Хотя у него есть и некоторые приятные особенности. Давайте проанализируем, сколько действий необходимо сделать алгоритму.\n",
    "\n",
    "* Если массив находится в обратном порядке, то тогда первый элемент вставится за 1 действие. Второй элемент потребует уже 2 сдвига. 3 - 3 сдвига и так далее. Таким образом всего действий будет 1+2+3+...+N = N\\*(N-1)/2. Что уже достаточно много.\n",
    "* Если массив находится в отсортированном состоянии, то тогда за один проход мы сразу определяем, что массив отсортирован и закончит сортировку. То есть всего N действий. И это очень неплохое свойство алгоритма.\n",
    "* Во всех остальных будет что-то среднее по количеству действий. Грубо говоря количество действий зависит от степени отсортированности массива."
   ]
  },
  {
   "cell_type": "markdown",
   "metadata": {},
   "source": [
    "# Пузырек\n",
    "\n",
    "Еще одним простым алгоритмом сортировки явояеися алгоритм сортировки пузырьком.\n",
    "\n",
    "Суть его заключается в следующем:\n",
    "* Если сравнить два соседних элемента и они будут не в том порядке, то очевидно, их нужно поменять местами\n",
    "* Если самый большой элемент будет находитсья в начале, то для того, чтобы он оказался в самом конце, где ему и место, необходимо N таких вот обменов (N - размер массива). Таким образом после одного такого прохода по всему массиву, максимальный элемент окажется на своем месте. \n",
    "* Осталось проделать эти же действия, только для массива, без последнего элемента. Если сделать так еще N-1 раз, то тогда все элементы окажутся на своих местах\n",
    "\n",
    "Таким образом, мы можешь отсортировать массив за N*N действий"
   ]
  },
  {
   "cell_type": "markdown",
   "metadata": {},
   "source": [
    "<img src=\"https://upload.wikimedia.org/wikipedia/commons/thumb/c/c8/Bubble-sort-example-300px.gif/220px-Bubble-sort-example-300px.gif\"\\>"
   ]
  },
  {
   "cell_type": "code",
   "execution_count": 10,
   "metadata": {
    "collapsed": false
   },
   "outputs": [
    {
     "data": {
      "text/plain": []
     },
     "execution_count": 10,
     "metadata": {},
     "output_type": "execute_result"
    }
   ],
   "source": [
    "void bubble_sort(std::vector<int> & array) {\n",
    "    for(int i = array.size()-1; i>= 0; i--) { // N внешних итераций\n",
    "        for(int j = 0; j < i+1; j++) { // проход по всему массиву и соответствующий обмен\n",
    "            if(array[j] > array[j+1]) { // меняем двух соседних, если они стоят в неправильном порядке\n",
    "                int temp = array[j];\n",
    "                array[j] = array[j+1];\n",
    "                array[j+1] = temp;\n",
    "            }\n",
    "        }\n",
    "    }\n",
    "}"
   ]
  },
  {
   "cell_type": "code",
   "execution_count": 11,
   "metadata": {
    "collapsed": false
   },
   "outputs": [
    {
     "name": "stdout",
     "output_type": "stream",
     "text": [
      "2 8 0 2 3 2 5 3 6 8 \n"
     ]
    },
    {
     "data": {
      "text/plain": [
       "(void) @0x7ffd31d1bc10\n"
      ]
     },
     "execution_count": 11,
     "metadata": {},
     "output_type": "execute_result"
    }
   ],
   "source": [
    "gen(data, 10);\n",
    "print(data);"
   ]
  },
  {
   "cell_type": "code",
   "execution_count": 12,
   "metadata": {
    "collapsed": false
   },
   "outputs": [
    {
     "name": "stdout",
     "output_type": "stream",
     "text": [
      "0 2 2 2 3 3 5 6 8 8 \n"
     ]
    },
    {
     "data": {
      "text/plain": [
       "(void) @0x7ffd31d1bc10\n"
      ]
     },
     "execution_count": 12,
     "metadata": {},
     "output_type": "execute_result"
    }
   ],
   "source": [
    "bubble_sort(data);\n",
    "print(data); // массив отсортирован"
   ]
  },
  {
   "cell_type": "code",
   "execution_count": 13,
   "metadata": {
    "collapsed": false
   },
   "outputs": [
    {
     "name": "stdout",
     "output_type": "stream",
     "text": [
      "Массив из 10000 чисел отсортировался за 21955 миллисекунд\n"
     ]
    },
    {
     "data": {
      "text/plain": [
       "(std::basic_ostream<char, std::char_traits<char> >::__ostream_type &) @0x7fe32d8516e0\n"
      ]
     },
     "execution_count": 13,
     "metadata": {},
     "output_type": "execute_result"
    }
   ],
   "source": [
    "gen(data, 10000);\n",
    "start = Clock::now();\n",
    "bubble_sort(data);\n",
    "t = std::chrono::duration_cast<Milliseconds>(Clock::now() - start).count();\n",
    "std::cout << \"Массив из 10000 чисел отсортировался за \" << t << \" миллисекунд\" << std::endl;"
   ]
  },
  {
   "cell_type": "markdown",
   "metadata": {},
   "source": [
    "# Слияние\n",
    "Как можно заметить, данный алгоритм очень простой и при этой не слишком эффективный - в данной реализации он всегда работает за $N^2$ действий. Таким образом, его целесообразно использовать, если размер данных очень небольшой.\n",
    "\n",
    "Другой, более быстрый, но при этом все также не слишком сложный для понимания и реализации алгоритм - сортировка слияением. Основная идея такая:\n",
    "* Разделим массив на две части.\n",
    "* Если бы они были отсортированы по отдельности, то не составило бы труда отсортировать весь массив - необходимо было бы просто брать соответствующие элементы из обоих подмассивов (слить). Тогда запустим нашу сортировку на обоих подмассивах.\n",
    "* Если на вход были поданы всего 2 элемента, то очень просто понять, как именно отсортировать этот массив."
   ]
  },
  {
   "cell_type": "markdown",
   "metadata": {},
   "source": [
    "<img src=\"https://upload.wikimedia.org/wikipedia/commons/c/cc/Merge-sort-example-300px.gif\"\\>"
   ]
  },
  {
   "cell_type": "markdown",
   "metadata": {},
   "source": [
    "<img src=\"http://ok-t.ru/studopediaru/baza5/523649652121.files/image041.png\"\\>"
   ]
  },
  {
   "cell_type": "code",
   "execution_count": 14,
   "metadata": {
    "collapsed": false
   },
   "outputs": [
    {
     "data": {
      "text/plain": []
     },
     "execution_count": 14,
     "metadata": {},
     "output_type": "execute_result"
    }
   ],
   "source": [
    "template<class Iter> // используем итераторы\n",
    "void merge(Iter begin, Iter middle, Iter end){ // сливаем два отсортированных массива [begin; middle) и [middle; end)\n",
    "    Iter one = begin;\n",
    "    Iter two = middle;\n",
    "    std::vector<int> temp;\n",
    "    while(one != middle or two != end) { // пока не дойдем до обоих концов\n",
    "        if(one == middle) { // если уже дошли до конца одного\n",
    "            temp.push_back(*two);\n",
    "            two++;\n",
    "            continue;\n",
    "        }\n",
    "        if(two == end) { // если уже дошли до конца одного\n",
    "            temp.push_back(*one);\n",
    "            one++;\n",
    "            continue;\n",
    "        }\n",
    "        if(*one < *two) { // берем элемент из первого массива, если он меньше\n",
    "            temp.push_back(*one);\n",
    "            one++;\n",
    "            continue;\n",
    "        } else {         // и их правого, если он меньше\n",
    "            temp.push_back(*two);\n",
    "            two++;\n",
    "            continue;\n",
    "        }\n",
    "    }\n",
    "    for(auto i : temp) { // копируем в исходный массив\n",
    "        *begin = i;\n",
    "        begin++;\n",
    "    }\n",
    "}"
   ]
  },
  {
   "cell_type": "code",
   "execution_count": 15,
   "metadata": {
    "collapsed": false
   },
   "outputs": [
    {
     "data": {
      "text/plain": []
     },
     "execution_count": 15,
     "metadata": {},
     "output_type": "execute_result"
    }
   ],
   "source": [
    "template<class Iter>\n",
    "void merge_sort(Iter begin, Iter end) {\n",
    "    if(end - begin <= 2) { // если дошли до маленького массива\n",
    "        if(end - begin ==2) {\n",
    "            if(*begin > *(begin+1)) {\n",
    "                int temp = *begin;\n",
    "                *begin = *(begin+1);\n",
    "                *(begin+1) = temp;\n",
    "            }\n",
    "        }\n",
    "        return;\n",
    "    }\n",
    "    Iter middle = begin + (end - begin)/2; // делим попалам\n",
    "    merge_sort(begin, middle); // сортируем левую часть\n",
    "    merge_sort(middle, end); // и правую\n",
    "    merge(begin, middle, end); //сливаем\n",
    "}"
   ]
  },
  {
   "cell_type": "code",
   "execution_count": 16,
   "metadata": {
    "collapsed": false
   },
   "outputs": [
    {
     "name": "stdout",
     "output_type": "stream",
     "text": [
      "7 6 5 7 8 9 8 5 4 7 \n"
     ]
    },
    {
     "data": {
      "text/plain": [
       "(void) @0x7ffd31d1bc10\n"
      ]
     },
     "execution_count": 16,
     "metadata": {},
     "output_type": "execute_result"
    }
   ],
   "source": [
    "gen(data, 10);\n",
    "print(data);"
   ]
  },
  {
   "cell_type": "code",
   "execution_count": 17,
   "metadata": {
    "collapsed": false
   },
   "outputs": [
    {
     "name": "stdout",
     "output_type": "stream",
     "text": [
      "4 5 5 6 7 7 7 8 8 9 \n"
     ]
    },
    {
     "data": {
      "text/plain": [
       "(void) @0x7ffd31d1bc10\n"
      ]
     },
     "execution_count": 17,
     "metadata": {},
     "output_type": "execute_result"
    }
   ],
   "source": [
    "merge_sort(data.begin(), data.end());\n",
    "print(data);"
   ]
  },
  {
   "cell_type": "code",
   "execution_count": 18,
   "metadata": {
    "collapsed": false
   },
   "outputs": [
    {
     "name": "stdout",
     "output_type": "stream",
     "text": [
      "Массив из 10000 чисел отсортировался за 226 миллисекунд\n"
     ]
    },
    {
     "data": {
      "text/plain": [
       "(std::basic_ostream<char, std::char_traits<char> >::__ostream_type &) @0x7fe32d8516e0\n"
      ]
     },
     "execution_count": 18,
     "metadata": {},
     "output_type": "execute_result"
    }
   ],
   "source": [
    "gen(data, 10000);\n",
    "start = Clock::now();\n",
    "merge_sort(data.begin(), data.end());\n",
    "t = std::chrono::duration_cast<Milliseconds>(Clock::now() - start).count();\n",
    "std::cout << \"Массив из 10000 чисел отсортировался за \" << t << \" миллисекунд\" << std::endl;"
   ]
  },
  {
   "cell_type": "markdown",
   "metadata": {},
   "source": [
    "Как можно заметить, данный алгоритм работает существенно быстрее, чем сортировка пузырьком. Однако теперь он требует дополнительную память для слива двух массивов.\n",
    "\n",
    "Почему же он оказался быстрее? Необходимо посчитать количество действий, производимых алгоритмом:\n",
    "* На каждом разбиении алгоритму необходимо слить два подмассива. Так как суммарный размер всех подмассивов равен размеру исходного массива, то на каждое разбиение приходится ровно N сравнений.\n",
    "* Каждый раз мы делим массив ровно на 2 части. Таким образом после k делений размер минимальной порции будет равен N / 2^k. Мы заканчиваем делить, когда размер порции станет равным 2 => N / 2^k = 2 => k = log_2(N) \n",
    "* Таким образом, всего действий N \\* log(N), что очевидно меньше чем N\\*N"
   ]
  },
  {
   "cell_type": "markdown",
   "metadata": {},
   "source": [
    "# Быстрая сортировка\n",
    "\n",
    "Как показал предыдущий пример, идея с разбиением всей задачи на подзадачи может значительно улучшить алгоритм.\n",
    "\n",
    "На схожей идее основывается еще один алгоритм - алгоритм быстрой сортировки (один из самых быстрых алгоритмов сортировки). Его основная идея следующая:\n",
    "\n",
    "* Если у нас есть два массива A и B, такие, что все элементы из A меньше чем элементы B, то если бы A и B были отсортированы, то массив состоящий из A и B (вначале все елементы из A, затем B) был бы также отсортирован.\n",
    "* Выберем какой-то элемент t нашего исходного массива. Относительно его перенесем в начало массива все елементы, которые меньше t, и в конец елементы, которые больше t. Таким образом у нам и получатся два подобных массива A и B, разделенные елементом t.\n",
    "* Вызовем нашу сортировку на этим подмассивах\n",
    "* Если нашему алгоритму достанется сортировать массив длиннны 1, то он уже не должен ничего делать"
   ]
  },
  {
   "cell_type": "markdown",
   "metadata": {},
   "source": [
    "<img src=\"https://upload.wikimedia.org/wikipedia/commons/6/6a/Sorting_quicksort_anim.gif\"\\>"
   ]
  },
  {
   "cell_type": "markdown",
   "metadata": {},
   "source": [
    "<img src=\"https://www.cs.swarthmore.edu/~soni/cs35/f13/Labs/images/06/quickSort.png\"\\>"
   ]
  },
  {
   "cell_type": "code",
   "execution_count": 19,
   "metadata": {
    "collapsed": false
   },
   "outputs": [
    {
     "data": {
      "text/plain": []
     },
     "execution_count": 19,
     "metadata": {},
     "output_type": "execute_result"
    }
   ],
   "source": [
    "template<class Iter>\n",
    "Iter partition(Iter begin, Iter end, int t) { // функция для разбиения массива на нужные нам подмассивы\n",
    "    while(begin != end) { // идем с двух сторон, пока не сойдемся\n",
    "        while( *begin < t ) { // пропускаем все уже корректно стоящие элементы\n",
    "            ++begin; \n",
    "            if(begin == end) return begin; // если сошлись\n",
    "        }\n",
    "        do { // симметрочно двигаемся с конца\n",
    "            --end;\n",
    "            if(begin == end) return begin;\n",
    "        } while(*end > t);\n",
    "        \n",
    "        int temp = *begin; // меняем местами неправильно стоящие элементы\n",
    "        *begin = *end;\n",
    "        *end = temp;\n",
    "        \n",
    "        ++begin;\n",
    "    }\n",
    "    return begin; // возвращаем на место опорного элемента t в этом массиве (по сути элемент разделения массива)\n",
    "}"
   ]
  },
  {
   "cell_type": "code",
   "execution_count": 20,
   "metadata": {
    "collapsed": false
   },
   "outputs": [
    {
     "data": {
      "text/plain": []
     },
     "execution_count": 20,
     "metadata": {},
     "output_type": "execute_result"
    }
   ],
   "source": [
    "template<class Iter>\n",
    "void quick_sort(Iter begin, Iter end) {\n",
    "    if(end - begin <= 1) return ; // один элемент уже отсортирован\n",
    "    int distance = end - begin; \n",
    "    int t = * (begin +(rand() % distance) ); // берем случайный элемент\n",
    "    Iter middle = partition(begin, end, t); // разбиваем массив\n",
    "    quick_sort(begin, middle); // сортируем левую часть\n",
    "    quick_sort(middle, end); // сортируем правую часть\n",
    "}"
   ]
  },
  {
   "cell_type": "code",
   "execution_count": 21,
   "metadata": {
    "collapsed": false
   },
   "outputs": [
    {
     "name": "stdout",
     "output_type": "stream",
     "text": [
      "1 2 8 0 9 9 2 3 9 6 \n"
     ]
    },
    {
     "data": {
      "text/plain": [
       "(void) @0x7ffd31d1bc10\n"
      ]
     },
     "execution_count": 21,
     "metadata": {},
     "output_type": "execute_result"
    }
   ],
   "source": [
    "gen(data, 10);\n",
    "print(data);"
   ]
  },
  {
   "cell_type": "code",
   "execution_count": 22,
   "metadata": {
    "collapsed": false
   },
   "outputs": [
    {
     "name": "stdout",
     "output_type": "stream",
     "text": [
      "0 1 2 2 3 6 8 9 9 9 \n"
     ]
    },
    {
     "data": {
      "text/plain": [
       "(void) @0x7ffd31d1bc10\n"
      ]
     },
     "execution_count": 22,
     "metadata": {},
     "output_type": "execute_result"
    }
   ],
   "source": [
    "quick_sort(data.begin(), data.end());\n",
    "print(data);"
   ]
  },
  {
   "cell_type": "code",
   "execution_count": 23,
   "metadata": {
    "collapsed": false
   },
   "outputs": [
    {
     "name": "stdout",
     "output_type": "stream",
     "text": [
      "Массив из 10000 чисел отсортировался за 89 миллисекунд\n"
     ]
    },
    {
     "data": {
      "text/plain": [
       "(std::basic_ostream<char, std::char_traits<char> >::__ostream_type &) @0x7fe32d8516e0\n"
      ]
     },
     "execution_count": 23,
     "metadata": {},
     "output_type": "execute_result"
    }
   ],
   "source": [
    "gen(data, 10000);\n",
    "start = Clock::now();\n",
    "quick_sort(data.begin(), data.end());\n",
    "t = std::chrono::duration_cast<Milliseconds>(Clock::now() - start).count();\n",
    "std::cout << \"Массив из 10000 чисел отсортировался за \" << t << \" миллисекунд\" << std::endl;"
   ]
  },
  {
   "cell_type": "markdown",
   "metadata": {},
   "source": [
    "Как и обещалось, этот способ сортировки оказался самым быстрым. Однако не все так одназначно. Давайте посмотрим на то, сколько операций делает алгоритм.\n",
    "\n",
    "1. Если массив делится примерно на две части (если опорный элемент близок к медиане), то тогда также как и в сортировке слиянием алгоритм сделает около N * log(N) сравнений. Однако будет делать меньше перестановок и лишних копирований, чем сортировка слиянием, из-за чего он и работает быстрее.\n",
    "\n",
    "2. Однако, если случится так, что мы каждый раз в качестве опорного элемента будем выбирать максимальный (или минимальный), то тогда мы будем делить массив на подмассивы размеров N-1 и 1. Таким образом, алгоритм будет очень похож на сортировку пузырьком и делать около N\\*N сравнений, что медленно.\n",
    "\n",
    "Таким образом, в большинстве случаев, этот алгоритм является оптимальным решением. Однако иногда он может сильно проседать по скорости. Если некоторые оптимизированные версии этого алгоритма, однако в данной лекции они не будут рассматриваться."
   ]
  },
  {
   "cell_type": "markdown",
   "metadata": {},
   "source": [
    "Резонно задаться вопросом - насколько быстрым алгоритм сортировки может быть?\n",
    "\n",
    "Если сортировка работает на сравнениях двух элементов (наиболее общий случай), то современная наука говорит, что быстрее чем N\\*log(N) сравнений сделать нельзя. Таким образом, сортировка слияением или быстрая сортировка - это оптимальные алгоритмы для работы с произвольными данными."
   ]
  },
  {
   "cell_type": "markdown",
   "metadata": {},
   "source": [
    "# Сортировка подсчетом\n",
    "\n",
    "Однако, в некоторых случаях, если известны некоторые факты о данных, с которыми мы работает, то можно сортировать гораздо быстрее.\n",
    "\n",
    "Например, мы знаем, что нам необходимо сортировать натуральные числа. Причем эти числа не очень большие. Тогда можно заметить следующее:\n",
    "\n",
    "* За один проход по всему массиву можно подсчитать количество каждого элемента в этом массиве\n",
    "* Натуральные числа упорядочены сами по себе. Таким образом, зная количество каждого числа в массиве, мы можем сразу составить отсортированный массив. Для этого просто пойдем по натуральным числам и для каждого числа добавим его в массив столько раз, сколько он встретился в исходном массиве. В итоге у нас сразу получится отсортированный массив"
   ]
  },
  {
   "cell_type": "code",
   "execution_count": 24,
   "metadata": {
    "collapsed": false
   },
   "outputs": [
    {
     "data": {
      "text/plain": []
     },
     "execution_count": 24,
     "metadata": {},
     "output_type": "execute_result"
    }
   ],
   "source": [
    "void count_sort(std::vector<int> & array){\n",
    "    int maxe = array[0];\n",
    "    for(int i = 0; i < array.size(); i++) if(array[i] > maxe) maxe = array[i]; // максимальный элемент\n",
    "    std::vector<int> counts(maxe+1, 0); // массив с подсчетами\n",
    "    for(int i = 0; i < array.size(); i++) counts[array[i]]++; // подсчитываем\n",
    "    \n",
    "    int c = 0;\n",
    "    for(int i = 0; i < counts.size(); i++) {\n",
    "        for(int j = 0; j < counts[i]; j++) { // восстанавливаем массив\n",
    "            array[c] = i;\n",
    "            c++;\n",
    "        }\n",
    "    }\n",
    "}"
   ]
  },
  {
   "cell_type": "code",
   "execution_count": 25,
   "metadata": {
    "collapsed": false
   },
   "outputs": [
    {
     "name": "stdout",
     "output_type": "stream",
     "text": [
      "3 7 3 0 3 4 4 5 7 3 \n"
     ]
    },
    {
     "data": {
      "text/plain": [
       "(void) @0x7ffd31d1bc10\n"
      ]
     },
     "execution_count": 25,
     "metadata": {},
     "output_type": "execute_result"
    }
   ],
   "source": [
    "gen(data, 10);\n",
    "print(data);"
   ]
  },
  {
   "cell_type": "code",
   "execution_count": 26,
   "metadata": {
    "collapsed": false
   },
   "outputs": [
    {
     "name": "stdout",
     "output_type": "stream",
     "text": [
      "0 3 3 3 3 4 4 5 7 7 \n"
     ]
    },
    {
     "data": {
      "text/plain": [
       "(void) @0x7ffd31d1bc10\n"
      ]
     },
     "execution_count": 26,
     "metadata": {},
     "output_type": "execute_result"
    }
   ],
   "source": [
    "count_sort(data);\n",
    "print(data);"
   ]
  },
  {
   "cell_type": "code",
   "execution_count": 27,
   "metadata": {
    "collapsed": false
   },
   "outputs": [
    {
     "name": "stdout",
     "output_type": "stream",
     "text": [
      "Массив из 10000 чисел отсортировался за 27 миллисекунд\n"
     ]
    },
    {
     "data": {
      "text/plain": [
       "(std::basic_ostream<char, std::char_traits<char> >::__ostream_type &) @0x7fe32d8516e0\n"
      ]
     },
     "execution_count": 27,
     "metadata": {},
     "output_type": "execute_result"
    }
   ],
   "source": [
    "data.clear();\n",
    "for(int i = 0; i < 10000; i++) {\n",
    "    data.push_back(rand()%100); // числа небольшие\n",
    "}\n",
    "start = Clock::now();\n",
    "count_sort(data);\n",
    "t = std::chrono::duration_cast<Milliseconds>(Clock::now() - start).count();\n",
    "std::cout << \"Массив из 10000 чисел отсортировался за \" << t << \" миллисекунд\" << std::endl;"
   ]
  },
  {
   "cell_type": "markdown",
   "metadata": {},
   "source": [
    "Эта сортировка работает быстрее быстрой сортировки, однако она очень узкоспециализирована.\n",
    "За один проход, она находит максимальный элемент. И еще за один проход она восстанавливает отсортированный массив.\n",
    "Таким образом всего около 2\\*N действий"
   ]
  },
  {
   "cell_type": "code",
   "execution_count": null,
   "metadata": {
    "collapsed": true
   },
   "outputs": [],
   "source": []
  }
 ],
 "metadata": {
  "anaconda-cloud": {},
  "kernelspec": {
   "display_name": "C++",
   "language": "",
   "name": "cling"
  },
  "language_info": {
   "codemirror_mode": "text/x-c++src",
   "file_extension": ".c++",
   "mimetype": " text/x-c++src",
   "name": "c++"
  }
 },
 "nbformat": 4,
 "nbformat_minor": 1
}
