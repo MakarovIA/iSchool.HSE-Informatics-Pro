{
 "cells": [
  {
   "cell_type": "markdown",
   "metadata": {},
   "source": [
    "# Функции\n",
    "\n",
    "Для увеличения многократного использования кода и удобного разделения программы на отдельные блоки, С++ поддерживает функции. Они во многом очень похожи на функции в питоне."
   ]
  },
  {
   "cell_type": "code",
   "execution_count": 8,
   "metadata": {
    "collapsed": false
   },
   "outputs": [
    {
     "data": {
      "text/plain": []
     },
     "execution_count": 8,
     "metadata": {},
     "output_type": "execute_result"
    }
   ],
   "source": [
    "#include <iostream>\n",
    "#include <vector>\n",
    "#include <set>\n",
    "#include <algorithm>\n",
    "#include <map>"
   ]
  },
  {
   "cell_type": "code",
   "execution_count": 2,
   "metadata": {
    "collapsed": false
   },
   "outputs": [
    {
     "name": "stdout",
     "output_type": "stream",
     "text": [
      "15\n"
     ]
    },
    {
     "data": {
      "text/plain": [
       "(std::basic_ostream<char, std::char_traits<char> >::__ostream_type &) @0x7f258d9646e0\n"
      ]
     },
     "execution_count": 2,
     "metadata": {},
     "output_type": "execute_result"
    }
   ],
   "source": [
    "// Любая функция может возвращать только одно значение заранее указанного типа\n",
    "int func() { // int перед именем - тип возвращаемого значения\n",
    "    return 15; // просто возвращаем значение\n",
    "}\n",
    "\n",
    "int a = func();\n",
    "std::cout << a << std::endl;"
   ]
  },
  {
   "cell_type": "code",
   "execution_count": 2,
   "metadata": {
    "collapsed": false
   },
   "outputs": [
    {
     "name": "stdout",
     "output_type": "stream",
     "text": [
      "Hello, hello!\n"
     ]
    },
    {
     "data": {
      "text/plain": [
       "(void) @0x7fffa0492480\n"
      ]
     },
     "execution_count": 2,
     "metadata": {},
     "output_type": "execute_result"
    }
   ],
   "source": [
    "// Если функция не возвращает значений, то необходимо указать тип void\n",
    "void sayHello() {\n",
    "    std::cout << \"Hello, hello!\" << std::endl;\n",
    "    // нет возвращаемого значения\n",
    "}\n",
    "\n",
    "sayHello(); // вызов"
   ]
  },
  {
   "cell_type": "code",
   "execution_count": null,
   "metadata": {
    "collapsed": false
   },
   "outputs": [],
   "source": [
    "void errr() { \n",
    "    return 42; // ошибка\n",
    "}\n",
    "\n",
    "std::cout << err() << std::endl;"
   ]
  },
  {
   "cell_type": "code",
   "execution_count": 4,
   "metadata": {
    "collapsed": false
   },
   "outputs": [
    {
     "name": "stdout",
     "output_type": "stream",
     "text": [
      "90\n"
     ]
    },
    {
     "data": {
      "text/plain": [
       "(std::basic_ostream<char, std::char_traits<char> >::__ostream_type &) @0x7f15b0be86e0\n"
      ]
     },
     "execution_count": 4,
     "metadata": {},
     "output_type": "execute_result"
    }
   ],
   "source": [
    "// Функция может принимать некоторое количество аргументов\n",
    "// все они указываются в круглых скобках через запятую с указанием типа\n",
    "int summa(int a, int b) {\n",
    "    int result = a + b;\n",
    "    return result;\n",
    "}\n",
    "\n",
    "std::cout << summa(34, 56) << std::endl;"
   ]
  },
  {
   "cell_type": "code",
   "execution_count": 5,
   "metadata": {
    "collapsed": false
   },
   "outputs": [
    {
     "name": "stdout",
     "output_type": "stream",
     "text": [
      "Hello, Boris\n",
      "Hello, Boris\n",
      "Hello, Boris\n",
      "Hello, Boris\n",
      "Hello, Boris\n"
     ]
    },
    {
     "data": {
      "text/plain": [
       "(void) @0x7fffa0492480\n"
      ]
     },
     "execution_count": 5,
     "metadata": {},
     "output_type": "execute_result"
    }
   ],
   "source": [
    "void sayHello2(std::string name, int number) {\n",
    "    for(int i = 0; i < number; i++) {\n",
    "        std::cout << \"Hello, \" << name << std::endl;\n",
    "    }\n",
    "}\n",
    "\n",
    "sayHello2(\"Boris\", 5);"
   ]
  },
  {
   "cell_type": "code",
   "execution_count": 3,
   "metadata": {
    "collapsed": false
   },
   "outputs": [
    {
     "name": "stdout",
     "output_type": "stream",
     "text": [
      "4\n",
      "10\n"
     ]
    },
    {
     "data": {
      "text/plain": [
       "(std::basic_ostream<char, std::char_traits<char> >::__ostream_type &) @0x7f891cafb6e0\n"
      ]
     },
     "execution_count": 3,
     "metadata": {},
     "output_type": "execute_result"
    }
   ],
   "source": [
    "// Все аргументы по-умолчанию копируются. Таким образом нельзя повлиять на исходную переменную\n",
    "int add(int a, int b) {\n",
    "    a = a + b; // меняем a внутри функции\n",
    "    return a;\n",
    "}\n",
    "\n",
    "int n = 4, m = 6;\n",
    "\n",
    "int nplusm = add(n, m);\n",
    "\n",
    "std::cout << n << std::endl; // n не поменялось\n",
    "std::cout << nplusm << std::endl;"
   ]
  },
  {
   "cell_type": "code",
   "execution_count": 4,
   "metadata": {
    "collapsed": false
   },
   "outputs": [
    {
     "name": "stdout",
     "output_type": "stream",
     "text": [
      "10\n",
      "10\n"
     ]
    },
    {
     "data": {
      "text/plain": [
       "(std::basic_ostream<char, std::char_traits<char> >::__ostream_type &) @0x7f891cafb6e0\n"
      ]
     },
     "execution_count": 4,
     "metadata": {},
     "output_type": "execute_result"
    }
   ],
   "source": [
    "// чтобы работать с исходной переменной, а не с ее копией, необходимо передать аргумент по ссылке\n",
    "// для этого необходимо указать амперсанд & перед аргументом\n",
    "int addInline(int &a, int b) {\n",
    "    a = a + b; // здесь изменяется исходная переменная\n",
    "    return a;\n",
    "}\n",
    "\n",
    "n = 4;\n",
    "m = 6;\n",
    "\n",
    "nplusm = addInline(n, m);\n",
    "\n",
    "std::cout << n << std::endl; // n изменилось\n",
    "std::cout << nplusm << std::endl;"
   ]
  },
  {
   "cell_type": "code",
   "execution_count": 5,
   "metadata": {
    "collapsed": false
   },
   "outputs": [
    {
     "name": "stdout",
     "output_type": "stream",
     "text": [
      "Палиндром\n"
     ]
    },
    {
     "data": {
      "text/plain": []
     },
     "execution_count": 5,
     "metadata": {},
     "output_type": "execute_result"
    }
   ],
   "source": [
    "// пример\n",
    "bool isPalindr(std::string s) {\n",
    "    std::string rev;\n",
    "    for(int i = s.size() - 1; i >= 0; i--) {\n",
    "        rev.push_back(s[i]);\n",
    "    }\n",
    "    return rev == s;\n",
    "}\n",
    "\n",
    "if(isPalindr(\"HellolleH\")) {\n",
    "    std::cout << \"Палиндром\" << std::endl;\n",
    "} else {\n",
    "    std::cout << \"Не палиндром\" << std::endl;\n",
    "}"
   ]
  },
  {
   "cell_type": "code",
   "execution_count": null,
   "metadata": {
    "collapsed": false
   },
   "outputs": [],
   "source": [
    "// функции в С++ можно перегружать\n",
    "// это означает, что среди нескольких функций с одинаковым названием вызовется нужная (согласно переданным аргументам)\n",
    "int area(int x, int y) {\n",
    "    std::cout << \"Площадь прямоугольника\" << std::endl;\n",
    "    return x * y;\n",
    "}\n",
    "\n",
    "double area(double r) { // функция с тем же именем, но с другим набором \n",
    "    std::cout << \"Площадь круга\" << std::endl;\n",
    "    return 3.1415 * r * r;\n",
    "}\n",
    "\n",
    "std::cout << area(4, 5) << std::endl; // вызовется первая\n",
    "std::cout << area(3.2) << std::endl; // вызовется вторая\n",
    "/* \n",
    "Вывод:\n",
    "Площадь прямоугольника\n",
    "20\n",
    "Площадь круга\n",
    "32.169\n",
    "*/"
   ]
  },
  {
   "cell_type": "code",
   "execution_count": 2,
   "metadata": {
    "collapsed": false
   },
   "outputs": [
    {
     "data": {
      "text/plain": []
     },
     "execution_count": 2,
     "metadata": {},
     "output_type": "execute_result"
    }
   ],
   "source": [
    "// C++ также поддерживает так называемые шаблоны\n",
    "// когда вам необходимо написать функцию, которая одинаково работает с любым типом, вы можете воспользоваться\n",
    "// перегрузкой функций и написать столько функций, которые будут отличаться только типом аргументов, сколько \n",
    "// посчитаете нужным. Однако можно сделать проще и использовать шаблон\n",
    "\n",
    "template<class T> // необходимо указать эту строчку сразу перед функцией\n",
    "T summ(T a, T b) { // вмето типов тех переменных, тип которых не важен, необходимо теперь использовать T\n",
    "    T result = a + b; // этот \"тип\" T можно исользовать везде внутри функции\n",
    "    return result;\n",
    "}\n",
    "// после вызова функции, вместо типа T автоматически подставится тот, который был передан в функцию"
   ]
  },
  {
   "cell_type": "code",
   "execution_count": 2,
   "metadata": {
    "collapsed": false
   },
   "outputs": [
    {
     "data": {
      "text/plain": []
     },
     "execution_count": 2,
     "metadata": {},
     "output_type": "execute_result"
    }
   ],
   "source": [
    "template<class T>\n",
    "T maximum(T a, T b) {\n",
    "    if(a > b) {\n",
    "        return a;\n",
    "    } else {\n",
    "        return b;\n",
    "    }\n",
    "}"
   ]
  },
  {
   "cell_type": "code",
   "execution_count": 3,
   "metadata": {
    "collapsed": false
   },
   "outputs": [
    {
     "name": "stdout",
     "output_type": "stream",
     "text": [
      "6\n",
      "12.3\n",
      "World\n"
     ]
    },
    {
     "data": {
      "text/plain": [
       "(std::basic_ostream<char, std::char_traits<char> >::__ostream_type &) @0x7f345a2926e0\n"
      ]
     },
     "execution_count": 3,
     "metadata": {},
     "output_type": "execute_result"
    }
   ],
   "source": [
    "std::cout << maximum(5, 6) << std::endl;\n",
    "std::cout << maximum(12.3, 8.4) << std::endl;\n",
    "std::cout << maximum(std::string(\"Hello\"), std::string(\"World\")) << std::endl;"
   ]
  },
  {
   "cell_type": "code",
   "execution_count": 3,
   "metadata": {
    "collapsed": false
   },
   "outputs": [
    {
     "name": "stdout",
     "output_type": "stream",
     "text": [
      "11\n",
      "14.5\n",
      "Hello Maxie\n"
     ]
    },
    {
     "data": {
      "text/plain": [
       "(std::basic_ostream<char, std::char_traits<char> >::__ostream_type &) @0x7f68619016e0\n"
      ]
     },
     "execution_count": 3,
     "metadata": {},
     "output_type": "execute_result"
    }
   ],
   "source": [
    "\n",
    "std::string h = \"Hello \", n = \"Maxie\";\n",
    "\n",
    "std::cout << summ(4, 7) << std::endl;\n",
    "std::cout << summ(5.6, 8.9) << std::endl;\n",
    "std::cout << summ(h, n) << std::endl;  // данная функция будет работать с любым типом, который поддерживает операцию +"
   ]
  },
  {
   "cell_type": "code",
   "execution_count": 2,
   "metadata": {
    "collapsed": false
   },
   "outputs": [
    {
     "data": {
      "text/plain": []
     },
     "execution_count": 2,
     "metadata": {},
     "output_type": "execute_result"
    }
   ],
   "source": [
    "// изначально удобного способа работы с переменным количеством аргументов в С++ нет\n",
    "// однако, если очень хочется, то можно использовать следующую конструкцию, основанную на шаблоне\n",
    "\n",
    "template<class... Args>\n",
    "double average(Args... args) {\n",
    "    std::vector<int> arguments {args...}; // Теперь в arguments лежат все аргументы. Важно указать int изначально\n",
    "    double sum = 0;\n",
    "    for(int i = 0; i < arguments.size(); i++) {\n",
    "        sum += arguments[i];\n",
    "    }\n",
    "    return sum / double(arguments.size());\n",
    "}"
   ]
  },
  {
   "cell_type": "code",
   "execution_count": 5,
   "metadata": {
    "collapsed": false
   },
   "outputs": [
    {
     "name": "stdout",
     "output_type": "stream",
     "text": [
      "6\n",
      "2\n",
      "10\n"
     ]
    },
    {
     "data": {
      "text/plain": [
       "(std::basic_ostream<char, std::char_traits<char> >::__ostream_type &) @0x7fb10b1a46e0\n"
      ]
     },
     "execution_count": 5,
     "metadata": {},
     "output_type": "execute_result"
    }
   ],
   "source": [
    "std::cout << average(4, 5, 6, 7, 8) << std::endl;\n",
    "std::cout << average(1, 2, 3) << std::endl;\n",
    "std::cout << average(8, 9, 4, 6, 7, 3, 3, 5, 7 ,8, 50) << std::endl;"
   ]
  },
  {
   "cell_type": "code",
   "execution_count": 2,
   "metadata": {
    "collapsed": false
   },
   "outputs": [
    {
     "data": {
      "text/plain": []
     },
     "execution_count": 2,
     "metadata": {},
     "output_type": "execute_result"
    }
   ],
   "source": [
    "// Однако гораздо лучше, просто изначально упаковать все аргументы в какую-то структуру\n",
    "double average2(std::vector<int> v) { \n",
    "    double sum = 0;\n",
    "    for(int i = 0; i < v.size(); i++) {\n",
    "        sum += v[i];\n",
    "    }\n",
    "    return sum / double(v.size());\n",
    "}"
   ]
  },
  {
   "cell_type": "code",
   "execution_count": 3,
   "metadata": {
    "collapsed": false
   },
   "outputs": [
    {
     "name": "stdout",
     "output_type": "stream",
     "text": [
      "6.22222\n",
      "24.5\n"
     ]
    },
    {
     "data": {
      "text/plain": [
       "(std::basic_ostream<char, std::char_traits<char> >::__ostream_type &) @0x7f265515e6e0\n"
      ]
     },
     "execution_count": 3,
     "metadata": {},
     "output_type": "execute_result"
    }
   ],
   "source": [
    "std::cout << average2(std::vector<int>({3, 4, 5, 8, 8, 8, 8, 8, 4})) << std::endl;\n",
    "std::cout << average2(std::vector<int>({3, 5, 87 , 3})) << std::endl;"
   ]
  },
  {
   "cell_type": "code",
   "execution_count": 4,
   "metadata": {
    "collapsed": false
   },
   "outputs": [
    {
     "name": "stdout",
     "output_type": "stream",
     "text": [
      "120\n"
     ]
    },
    {
     "data": {
      "text/plain": [
       "(std::basic_ostream<char, std::char_traits<char> >::__ostream_type &) @0x7f265515e6e0\n"
      ]
     },
     "execution_count": 4,
     "metadata": {},
     "output_type": "execute_result"
    }
   ],
   "source": [
    "// Функции также можно вызывать рекурсивно\n",
    "int factorial(int n) {\n",
    "    if (n == 0) {\n",
    "        return 1;\n",
    "    }\n",
    "    return n * factorial(n-1);\n",
    "}\n",
    "\n",
    "std::cout << factorial(5) << std::endl;"
   ]
  },
  {
   "cell_type": "code",
   "execution_count": 5,
   "metadata": {
    "collapsed": false
   },
   "outputs": [
    {
     "name": "stdout",
     "output_type": "stream",
     "text": [
      "13\n"
     ]
    },
    {
     "data": {
      "text/plain": [
       "(std::basic_ostream<char, std::char_traits<char> >::__ostream_type &) @0x7f265515e6e0\n"
      ]
     },
     "execution_count": 5,
     "metadata": {},
     "output_type": "execute_result"
    }
   ],
   "source": [
    "int fib(int n) {\n",
    "    if(n <= 2) {\n",
    "        return 1;\n",
    "    }\n",
    "    return fib(n-1) + fib(n-2);\n",
    "}\n",
    "\n",
    "std::cout << fib(7) << std::endl;"
   ]
  },
  {
   "cell_type": "code",
   "execution_count": null,
   "metadata": {
    "collapsed": false
   },
   "outputs": [],
   "source": [
    "// чтобы возвращать пару значений, можно возвращать специальный тип pair\n",
    "std::pair<int, int> sumAndMul(int a, int b) {\n",
    "    return std::make_pair(a+b, a*b);\n",
    "}\n",
    "\n",
    "auto res = sumAndMul(3, 4);\n",
    "std::cout << res.first << ' ' << res.second << std::endl; // 7, 12"
   ]
  },
  {
   "cell_type": "markdown",
   "metadata": {},
   "source": [
    "# Итераторы\n",
    "Для начала рассмотрим новый контейнер std::set"
   ]
  },
  {
   "cell_type": "code",
   "execution_count": 3,
   "metadata": {
    "collapsed": false
   },
   "outputs": [
    {
     "name": "stdout",
     "output_type": "stream",
     "text": [
      "3\n"
     ]
    },
    {
     "data": {
      "text/plain": [
       "(std::basic_ostream<char, std::char_traits<char> >::__ostream_type &) @0x7f10302116e0\n"
      ]
     },
     "execution_count": 3,
     "metadata": {},
     "output_type": "execute_result"
    }
   ],
   "source": [
    "// set - это контейнер представляющий множество (как в Питоне) - то есть набор значений без повторений\n",
    "std::set<int> s;\n",
    "\n",
    "s.insert(3);\n",
    "s.insert(2);\n",
    "s.insert(3);\n",
    "s.insert(6);\n",
    "s.insert(3);\n",
    "s.insert(6); // добавление элемента\n",
    "\n",
    "std::cout << s.size() << std::endl; // 3 элемента - 3, 2, 6. Дубликаты удалились"
   ]
  },
  {
   "cell_type": "code",
   "execution_count": 4,
   "metadata": {
    "collapsed": false
   },
   "outputs": [
    {
     "name": "stderr",
     "output_type": "stream",
     "text": [
      "input_line_9:6:19: error: type 'std::set<int>' does not provide a subscript operator\n",
      "    std::cout << s[i] << std::endl; // ошибка\n",
      "                 ~^~\n"
     ]
    },
    {
     "ename": "ename",
     "evalue": "evalue",
     "output_type": "error",
     "traceback": []
    }
   ],
   "source": [
    "// Как же получить доступ к элементам множества? \n",
    "// set - это не линейный контейнер, и порядка в элементах нет. Таким образом через [] обратиться не получиться\n",
    "\n",
    "for(int i = 0; i < s.size(); i++) {\n",
    "    std::cout << s[i] << std::endl; // ошибка\n",
    "}"
   ]
  },
  {
   "cell_type": "code",
   "execution_count": 5,
   "metadata": {
    "collapsed": false
   },
   "outputs": [
    {
     "name": "stdout",
     "output_type": "stream",
     "text": [
      "2\n",
      "3\n",
      "6\n"
     ]
    },
    {
     "data": {
      "text/plain": []
     },
     "execution_count": 5,
     "metadata": {},
     "output_type": "execute_result"
    }
   ],
   "source": [
    "// Для того, чтобы разрешить эту проблему (и не только ее) были придуманы итераторы\n",
    "// Итератор - это специальный объект, через который можно получить доступ к элементам контейнера\n",
    "// Каждый итератор умеет две основные вещи: выдавать значение и переходить к следующему элементу\n",
    "// каждый контейнер предоставляет два основных итератора - итератор на начало и на конец контейнера\n",
    "// Таким образом, чтобы получить доступ к каждому элементу коллекции\n",
    "// Необходимо \"идти\" с помощью начального итератора, пока мы не дойдет до конечного элемента\n",
    "\n",
    "for(auto it = s.begin() /*итератор начала*/; it != s.end() /*итератор на конец*/; it++ /*переход к следующему элементу*/) {\n",
    "    int item = *it; // звездочка обозначает взятие соответствующего значения в конетйнере\n",
    "    std::cout << item << std::endl;\n",
    "}"
   ]
  },
  {
   "cell_type": "code",
   "execution_count": null,
   "metadata": {
    "collapsed": false
   },
   "outputs": [],
   "source": [
    "// У set также есть очень полезная функция count\n",
    "// Она подсчитывает количество указанных объектов, среди тех, что она содержит\n",
    "// таким образом можно проверять наличие элемента в множестве\n",
    "\n",
    "for(int i = 0; i < 10; i++) {\n",
    "    if(s.count(i) > 0) {\n",
    "        std::cout << i << \" in set\" << std::endl;\n",
    "    } else {\n",
    "        std::cout << i << \" not in set\" << std::endl;\n",
    "    }\n",
    "}"
   ]
  },
  {
   "cell_type": "code",
   "execution_count": 3,
   "metadata": {
    "collapsed": false
   },
   "outputs": [
    {
     "name": "stdout",
     "output_type": "stream",
     "text": [
      "2\n",
      "5\n",
      "6\n",
      "8\n",
      "9\n",
      "3\n",
      "4\n",
      "6\n",
      "6\n",
      "2\n",
      "2\n",
      "5\n",
      "5\n",
      "1\n"
     ]
    },
    {
     "data": {
      "text/plain": []
     },
     "execution_count": 3,
     "metadata": {},
     "output_type": "execute_result"
    }
   ],
   "source": [
    "// Таким же образом можно получать доступ и к элементам вектора\n",
    "std::vector<int> vec({2, 5, 6, 8, 9, 3, 4, 6, 6, 2, 2, 5, 5, 1});\n",
    "for(auto it = vec.begin(); it != vec.end(); it++) {\n",
    "    std::cout << *it << std::endl;\n",
    "}"
   ]
  },
  {
   "cell_type": "code",
   "execution_count": 9,
   "metadata": {
    "collapsed": false
   },
   "outputs": [
    {
     "name": "stdout",
     "output_type": "stream",
     "text": [
      "1 2 2 2 3 4 5 5 5 6 6 6 8 9 "
     ]
    },
    {
     "data": {
      "text/plain": []
     },
     "execution_count": 9,
     "metadata": {},
     "output_type": "execute_result"
    }
   ],
   "source": [
    "// Некоторые распространеные алгоритмы уже реализованы и лежат в модуле algorithm\n",
    "// Подробно об этом модуле будет рассказано в следующих лекциях\n",
    "// Сейчас нас интересует функция sort\n",
    "\n",
    "sort(vec.begin(), vec.end()); //функция принимает итераторы на начало и на конец\n",
    "\n",
    "for(auto it = vec.begin(); it != vec.end(); it++) {\n",
    "    std::cout << *it << ' ';\n",
    "}"
   ]
  },
  {
   "cell_type": "code",
   "execution_count": 10,
   "metadata": {
    "collapsed": false
   },
   "outputs": [
    {
     "name": "stdout",
     "output_type": "stream",
     "text": [
      "9 8 6 6 6 5 5 5 4 3 2 2 2 1 "
     ]
    },
    {
     "data": {
      "text/plain": []
     },
     "execution_count": 10,
     "metadata": {},
     "output_type": "execute_result"
    }
   ],
   "source": [
    "// большинство итераторов предоставляют также обратные итераторы, для прохода множества в обратном порядке\n",
    "for(auto it = vec.rbegin(); it != vec.rend(); it++) {\n",
    "    std::cout << *it << ' ';\n",
    "}"
   ]
  },
  {
   "cell_type": "code",
   "execution_count": 5,
   "metadata": {
    "collapsed": false
   },
   "outputs": [
    {
     "name": "stdout",
     "output_type": "stream",
     "text": [
      "Fynny\n",
      "Gimmy\n",
      "Gobbles\n",
      "Hello\n",
      "Nano\n",
      "Petro\n",
      "Timmy\n"
     ]
    },
    {
     "data": {
      "text/plain": []
     },
     "execution_count": 5,
     "metadata": {},
     "output_type": "execute_result"
    }
   ],
   "source": [
    "std::vector<std::string> vecs({\n",
    "    \"Hello\",\n",
    "    \"Petro\",\n",
    "    \"Timmy\",\n",
    "    \"Gimmy\",\n",
    "    \"Gobbles\",\n",
    "    \"Fynny\",\n",
    "    \"Nano\"\n",
    "});\n",
    "\n",
    "sort(vecs.begin(), vecs.end()); // сортировка в лексикографическом порядке\n",
    "\n",
    "for(auto it = vecs.begin(); it != vecs.end(); it++) {\n",
    "    std::cout << *it << std::endl;\n",
    "}"
   ]
  },
  {
   "cell_type": "code",
   "execution_count": 12,
   "metadata": {
    "collapsed": false
   },
   "outputs": [
    {
     "data": {
      "text/plain": []
     },
     "execution_count": 12,
     "metadata": {},
     "output_type": "execute_result"
    }
   ],
   "source": [
    "// Если необходимо при сортировке использовать свою функцию сравнения, ее можно передать третьим агрументом\n",
    "\n",
    "bool compare(std::string a, std::string b) { // функция должна сравнить два элемента\n",
    "    return a.back() < b.back(); // back возвращает последний символ строки\n",
    "}"
   ]
  },
  {
   "cell_type": "code",
   "execution_count": 13,
   "metadata": {
    "collapsed": false
   },
   "outputs": [
    {
     "name": "stdout",
     "output_type": "stream",
     "text": [
      "Hello\n",
      "Nano\n",
      "Petro\n",
      "Gobbles\n",
      "Fynny\n",
      "Gimmy\n",
      "Timmy\n"
     ]
    },
    {
     "data": {
      "text/plain": []
     },
     "execution_count": 13,
     "metadata": {},
     "output_type": "execute_result"
    }
   ],
   "source": [
    "sort(vecs.begin(), vecs.end(), compare /*важно: скобки писать не нужно*/); // сортируем по последнему символу\n",
    "\n",
    "for(auto it = vecs.begin(); it != vecs.end(); it++) {\n",
    "    std::cout << *it << std::endl;\n",
    "}"
   ]
  },
  {
   "cell_type": "code",
   "execution_count": 15,
   "metadata": {
    "collapsed": false
   },
   "outputs": [
    {
     "name": "stdout",
     "output_type": "stream",
     "text": [
      "Nano\n",
      "Hello\n",
      "Petro\n",
      "Fynny\n",
      "Gimmy\n",
      "Timmy\n",
      "Gobbles\n"
     ]
    },
    {
     "data": {
      "text/plain": []
     },
     "execution_count": 15,
     "metadata": {},
     "output_type": "execute_result"
    }
   ],
   "source": [
    "// Для написания таких вот небольших функций, как и в Питоне, в С++ есть лямбда функции\n",
    "// из синтаксис такой: [](аргументы) { код }\n",
    "\n",
    "sort(vecs.begin(), vecs.end(), [](std::string a, std::string b) {\n",
    "    return a.size() < b.size();\n",
    "}); // сортировка по длинне строки\n",
    "\n",
    "for(auto it = vecs.begin(); it != vecs.end(); it++) {\n",
    "    std::cout << *it << std::endl; \n",
    "}"
   ]
  },
  {
   "cell_type": "code",
   "execution_count": 16,
   "metadata": {
    "collapsed": false
   },
   "outputs": [
    {
     "data": {
      "text/plain": [
       "((lambda) &) @0x7f68ac8a8078\n"
      ]
     },
     "execution_count": 16,
     "metadata": {},
     "output_type": "execute_result"
    }
   ],
   "source": [
    "// лямбда функции можно записывать в переменные и они могут быть сколь угодно сложными (в отличии от питона)\n",
    "auto printVec = [](std::vector<int> d) {\n",
    "    for(auto it = d.begin(); it != d.end(); it++) {\n",
    "        std::cout << *it << ' ';\n",
    "    }\n",
    "};"
   ]
  },
  {
   "cell_type": "code",
   "execution_count": 17,
   "metadata": {
    "collapsed": false
   },
   "outputs": [
    {
     "name": "stdout",
     "output_type": "stream",
     "text": [
      "1 2 2 2 3 4 5 5 5 6 6 6 8 9 "
     ]
    },
    {
     "data": {
      "text/plain": [
       "(void) @0x7ffcca4cfb10\n"
      ]
     },
     "execution_count": 17,
     "metadata": {},
     "output_type": "execute_result"
    }
   ],
   "source": [
    "printVec(vec);"
   ]
  },
  {
   "cell_type": "code",
   "execution_count": 6,
   "metadata": {
    "collapsed": false
   },
   "outputs": [
    {
     "name": "stdout",
     "output_type": "stream",
     "text": [
      "9\n",
      "Timmy\n",
      "6\n"
     ]
    },
    {
     "data": {
      "text/plain": [
       "(std::basic_ostream<char, std::char_traits<char> >::__ostream_type &) @0x7f5b322c26e0\n"
      ]
     },
     "execution_count": 6,
     "metadata": {},
     "output_type": "execute_result"
    }
   ],
   "source": [
    "// С помощью итераторов очень удобно писать алгоритмы, которые будут работать для любого контейнера\n",
    "// Пример: фукнция max_element из algorithm\n",
    "std::cout << *std::max_element(vec.begin(), vec.end()) << std::endl; // массив чисел\n",
    "std::cout << *std::max_element(vecs.begin(), vecs.end()) << std::endl;// массив строк\n",
    "std::cout << *std::max_element(s.begin(), s.end()) << std::endl;     // множество чисел\n",
    "// Важно: функция возвращает итератор, а значит для получения значения, нужно написать *"
   ]
  },
  {
   "cell_type": "code",
   "execution_count": 5,
   "metadata": {
    "collapsed": false
   },
   "outputs": [
    {
     "name": "stdout",
     "output_type": "stream",
     "text": [
      "25\n",
      "19\n"
     ]
    },
    {
     "data": {
      "text/plain": [
       "(std::basic_ostream<char, std::char_traits<char> >::__ostream_type &) @0x7f345a2926e0\n"
      ]
     },
     "execution_count": 5,
     "metadata": {},
     "output_type": "execute_result"
    }
   ],
   "source": [
    "// Очень полезные на практике является объект std::map\n",
    "// Это ассициативный массив - аналог словаря (dict) в Питоне\n",
    "\n",
    "std::map<std::string, int> ages; // в <> первым аргументом указывается тип ключа, вторым - тип значения\n",
    "// в данном случае мы используем целые числа с ключем - строкой\n",
    "\n",
    "ages[\"Boris\"] = 25; // В ячейку по ключу \"Boris\" мы записываем значение 25\n",
    "ages[\"Yello\"] = 17;\n",
    "ages[\"Nataly\"] = 19;\n",
    "\n",
    "std::cout << ages[\"Boris\"] << std::endl; // выводим сами значения по ключу\n",
    "std::cout << ages[\"Nataly\"] << std::endl;"
   ]
  },
  {
   "cell_type": "code",
   "execution_count": 7,
   "metadata": {
    "collapsed": false
   },
   "outputs": [
    {
     "name": "stdout",
     "output_type": "stream",
     "text": [
      "Boris -> 25\n",
      "Nataly -> 19\n",
      "Yello -> 17\n"
     ]
    },
    {
     "data": {
      "text/plain": []
     },
     "execution_count": 7,
     "metadata": {},
     "output_type": "execute_result"
    }
   ],
   "source": [
    "// для того, чтобы пройтись по map, необходимо также использовать итераторы\n",
    "// Но есть одна особенность: значением будет не просто элемент массива, а пара ключ-значение в std::pair\n",
    "for(auto it = ages.begin(); it != ages.end(); it++) {\n",
    "    std::cout << (*it).first /*ключ*/ << \" -> \" << (*it).second /*значение*/ << std::endl;\n",
    "}"
   ]
  },
  {
   "cell_type": "code",
   "execution_count": 8,
   "metadata": {
    "collapsed": false
   },
   "outputs": [
    {
     "name": "stdout",
     "output_type": "stream",
     "text": [
      "Boris -> 25\n",
      "Nataly -> 19\n"
     ]
    },
    {
     "data": {
      "text/plain": []
     },
     "execution_count": 8,
     "metadata": {},
     "output_type": "execute_result"
    }
   ],
   "source": [
    "// для удаления значения из ассоциативного массива, необходимо использовать erase\n",
    "ages.erase( \"Yello\" );\n",
    "for(auto it = ages.begin(); it != ages.end(); it++) {\n",
    "    std::cout << (*it).first /*ключ*/ << \" -> \" << (*it).second /*значение*/ << std::endl;\n",
    "}\n",
    "\n",
    "// В остальном данный контейнер практически полностью идентичен словарю с питоне"
   ]
  },
  {
   "cell_type": "code",
   "execution_count": null,
   "metadata": {
    "collapsed": true
   },
   "outputs": [],
   "source": [
    "// map, также как и set обладает функцией count, которая работает таким же образом\n",
    "std::cout << ages.count(\"Yello\"); // 1\n",
    "std::cout << ages.count(\"dshfhadsfkja\") // 0;"
   ]
  },
  {
   "cell_type": "markdown",
   "metadata": {},
   "source": [
    "# Создание собственных типов"
   ]
  },
  {
   "cell_type": "code",
   "execution_count": null,
   "metadata": {
    "collapsed": false
   },
   "outputs": [
    {
     "name": "stderr",
     "output_type": "stream",
     "text": [
      "terminate called after throwing an instance of 'cling::InvalidDerefException'\n",
      "  what():  Trying to dereference null pointer or trying to call routine taking non-null arguments\n"
     ]
    }
   ],
   "source": [
    "// для начала рассмотрим работу с ручным динамическим массивом\n",
    "int * a; // Если указывать * в типе переменной, то переменная будет содержать не значение, а ссылку на это значение\n",
    "*a = 5; // Для работы с знаением, необходимо поставить звезду (как в итераторах). \n",
    "// Однако изначально указатель не указывает вообще никуда, а значит и записать значение в него мы не можем\n"
   ]
  },
  {
   "cell_type": "code",
   "execution_count": 3,
   "metadata": {
    "collapsed": false
   },
   "outputs": [
    {
     "name": "stdout",
     "output_type": "stream",
     "text": [
      "0x33bc870\n",
      "5\n"
     ]
    },
    {
     "data": {
      "text/plain": [
       "(std::basic_ostream<char, std::char_traits<char> >::__ostream_type &) @0x7f70e71816e0\n"
      ]
     },
     "execution_count": 3,
     "metadata": {},
     "output_type": "execute_result"
    }
   ],
   "source": [
    "// Для того, чтобы выделить память и получить на нее указатель, нужно использовать оператор new\n",
    "int * a = new int(5); // выделяем память для числа и записываем в нее 5; Указатель на это место в памяти будет в a\n",
    "\n",
    "std::cout << a << std::endl;\n",
    "std::cout << *a << std::endl;"
   ]
  },
  {
   "cell_type": "code",
   "execution_count": 4,
   "metadata": {
    "collapsed": false
   },
   "outputs": [
    {
     "data": {
      "text/plain": [
       "(void) @0x7ffdab960610\n"
      ]
     },
     "execution_count": 4,
     "metadata": {},
     "output_type": "execute_result"
    }
   ],
   "source": [
    "// Эту память необходимо освободить в какой-то момент времени\n",
    "// Если этого не делать, то велика вероятность того, что ваша программа будет захватывать все больше и больше \n",
    "// памяти, пока она не закончится на компьютере (учетка памяти)\n",
    "// Для этого есть оператор delete\n",
    "\n",
    "delete a;"
   ]
  },
  {
   "cell_type": "code",
   "execution_count": 6,
   "metadata": {
    "collapsed": false
   },
   "outputs": [
    {
     "name": "stdout",
     "output_type": "stream",
     "text": [
      "0\n",
      "1\n",
      "4\n",
      "9\n",
      "16\n",
      "25\n",
      "36\n",
      "49\n",
      "64\n",
      "81\n"
     ]
    },
    {
     "data": {
      "text/plain": []
     },
     "execution_count": 6,
     "metadata": {},
     "output_type": "execute_result"
    }
   ],
   "source": [
    "// Таким же образом можно выделять большое количество памяти сразу\n",
    "int * arr = new int[10]; // выделяем память для 10 целых чисел\n",
    "for(int i = 0; i < 10; i++) {\n",
    "    arr[i] = i*i; // Доступ к такому массиву осуществляется через привычные []\n",
    "}\n",
    "\n",
    "for(int i = 0; i < 10; i++) {\n",
    "    std::cout << arr[i] << std::endl;\n",
    "}"
   ]
  },
  {
   "cell_type": "code",
   "execution_count": 7,
   "metadata": {
    "collapsed": false
   },
   "outputs": [
    {
     "data": {
      "text/plain": [
       "(void) @0x7ffdab960610\n"
      ]
     },
     "execution_count": 7,
     "metadata": {},
     "output_type": "execute_result"
    }
   ],
   "source": [
    "// Освобождается память похожим образом\n",
    "delete[] arr;"
   ]
  },
  {
   "cell_type": "code",
   "execution_count": 8,
   "metadata": {
    "collapsed": false
   },
   "outputs": [
    {
     "data": {
      "text/plain": []
     },
     "execution_count": 8,
     "metadata": {},
     "output_type": "execute_result"
    }
   ],
   "source": [
    "// Для создания своего типа, необходимо описать класс следующим образом"
   ]
  },
  {
   "cell_type": "code",
   "execution_count": 9,
   "metadata": {
    "collapsed": false
   },
   "outputs": [
    {
     "data": {
      "text/plain": []
     },
     "execution_count": 9,
     "metadata": {},
     "output_type": "execute_result"
    }
   ],
   "source": [
    "class /*ключевое слово*/ MyType /*имя типа*/ { \n",
    "    // пока тут пусто\n",
    "}; // важно: нужно не забыть точку с запятой"
   ]
  },
  {
   "cell_type": "code",
   "execution_count": 10,
   "metadata": {
    "collapsed": false
   },
   "outputs": [
    {
     "data": {
      "text/plain": [
       "(MyType &) @0x7f345cfee048\n"
      ]
     },
     "execution_count": 10,
     "metadata": {},
     "output_type": "execute_result"
    }
   ],
   "source": [
    "MyType t; // создадим новый объект с нашим новым типом"
   ]
  },
  {
   "cell_type": "code",
   "execution_count": 3,
   "metadata": {
    "collapsed": false
   },
   "outputs": [
    {
     "data": {
      "text/plain": []
     },
     "execution_count": 3,
     "metadata": {},
     "output_type": "execute_result"
    }
   ],
   "source": [
    "// каждый тип может содержать данные и функции для работы с ними\n",
    "// И данные и функции могут быть в друх состояниях - приватный или публичный\n",
    "// все, что объявлено как публичное, будет доступно извне объекта\n",
    "// все, что объявлено как приватное, будет доступно только внутри объекта\n",
    "class Numbers { \n",
    "public: // то, что идет дальше, будет публичным\n",
    "    int getA() {\n",
    "        return a;\n",
    "    }\n",
    "    int getB() { // получаем значние переменной объекта\n",
    "        return b;\n",
    "    }\n",
    "    void setA(int newa) {\n",
    "        a = newa;\n",
    "    }\n",
    "    void setB(int newb) { // устанавливаем значение переменной объекта\n",
    "        b = newb;\n",
    "    }\n",
    "    \n",
    "    int c; // все данные лучше делать приватными и реализовывать функции изменения (как это сделано для а и b выше)\n",
    "    \n",
    "private: // Тут публичная зона заканчивается. Все, что идет дальше - приватная зона\n",
    "    int a;\n",
    "    int b;\n",
    "    \n",
    "    double getPi() {\n",
    "        return 3.1415;\n",
    "    }\n",
    "};"
   ]
  },
  {
   "cell_type": "code",
   "execution_count": 4,
   "metadata": {
    "collapsed": false
   },
   "outputs": [
    {
     "name": "stdout",
     "output_type": "stream",
     "text": [
      "4 7 23\n"
     ]
    },
    {
     "data": {
      "text/plain": [
       "(std::basic_ostream<char, std::char_traits<char> >::__ostream_type &) @0x7f6f687076e0\n"
      ]
     },
     "execution_count": 4,
     "metadata": {},
     "output_type": "execute_result"
    }
   ],
   "source": [
    "Numbers tot;\n",
    "\n",
    "tot.setA(4);\n",
    "tot.setB(7);\n",
    "tot.c = 23;\n",
    "\n",
    "std::cout << tot.getA() << ' ' << tot.getB()<< ' ' << tot.c << std::endl; // вызов функции объекта tot"
   ]
  },
  {
   "cell_type": "code",
   "execution_count": 5,
   "metadata": {
    "collapsed": false
   },
   "outputs": [
    {
     "name": "stderr",
     "output_type": "stream",
     "text": [
      "input_line_10:3:18: error: 'a' is a private member of 'Numbers'\n",
      "std::cout << tot.a << ' ' << tot.getPi() << std::endl;\n",
      "                 ^\n",
      "input_line_5:23:9: note: declared private here\n",
      "    int a;\n",
      "        ^\n",
      "input_line_10:3:34: error: 'getPi' is a private member of 'Numbers'\n",
      "std::cout << tot.a << ' ' << tot.getPi() << std::endl;\n",
      "                                 ^\n",
      "input_line_5:26:12: note: declared private here\n",
      "    double getPi() {\n",
      "           ^\n"
     ]
    },
    {
     "ename": "ename",
     "evalue": "evalue",
     "output_type": "error",
     "traceback": []
    }
   ],
   "source": [
    "// нельзя получить доступ к приватным методам и данным\n",
    "std::cout << tot.a << ' ' << tot.getPi() << std::endl;"
   ]
  },
  {
   "cell_type": "code",
   "execution_count": 6,
   "metadata": {
    "collapsed": false
   },
   "outputs": [
    {
     "data": {
      "text/plain": []
     },
     "execution_count": 6,
     "metadata": {},
     "output_type": "execute_result"
    }
   ],
   "source": [
    "// Для того, чтобы вручную не задавать данные после создания объекта, существуют конструкторы\n",
    "// Это такие функцие, которые запускаются только один раз - при создании объекта\n",
    "// Их название должно совпадать с именем класса\n",
    "\n",
    "class Numbers2 {\n",
    "public:    \n",
    "    Numbers2(int aa, int bb, int cc) { // конструктор\n",
    "        a = aa;\n",
    "        b = bb;\n",
    "        c = cc; // записываем данные в объект\n",
    "    }\n",
    "    \n",
    "    int getA() {return a;}\n",
    "    int getB() {return b;}\n",
    "    int getC() {return c;}\n",
    "    \n",
    "private:\n",
    "    int a;\n",
    "    int b;\n",
    "    int c;\n",
    "};"
   ]
  },
  {
   "cell_type": "code",
   "execution_count": 7,
   "metadata": {
    "collapsed": false
   },
   "outputs": [
    {
     "name": "stdout",
     "output_type": "stream",
     "text": [
      "3 5 90\n"
     ]
    },
    {
     "data": {
      "text/plain": [
       "(std::basic_ostream<char, std::char_traits<char> >::__ostream_type &) @0x7f6f687076e0\n"
      ]
     },
     "execution_count": 7,
     "metadata": {},
     "output_type": "execute_result"
    }
   ],
   "source": [
    "Numbers2 num(3, 5, 90); // создание объекта с помощью конструктора\n",
    "\n",
    "std::cout << num.getA() << ' ' << num.getB() << ' ' << num.getC() << std::endl;"
   ]
  },
  {
   "cell_type": "code",
   "execution_count": 9,
   "metadata": {
    "collapsed": false
   },
   "outputs": [
    {
     "data": {
      "text/plain": []
     },
     "execution_count": 9,
     "metadata": {},
     "output_type": "execute_result"
    }
   ],
   "source": [
    "// любую функцию класса можно перегрузить точно также, как и обычную функцию\n",
    "// например, очень удобно перегружать конструктор, чтобы удобнее создавать конечный объект\n",
    "\n",
    "class Numbers3 {\n",
    "public:    \n",
    "    Numbers3() { // пустой конструктор\n",
    "        a = 0;\n",
    "        b = 0;\n",
    "        c = 0; // записываем данные в объект\n",
    "    }\n",
    "    \n",
    "    Numbers3(int aa) { \n",
    "        a = aa;\n",
    "        b = 0;\n",
    "        c = 0; \n",
    "    }\n",
    "    \n",
    "    Numbers3(int aa, int bb) { \n",
    "        a = aa;\n",
    "        b = bb;\n",
    "        c = 0; \n",
    "    }\n",
    "    \n",
    "    Numbers3(int aa, int bb, int cc) { \n",
    "        a = aa;\n",
    "        b = bb;\n",
    "        c = cc; \n",
    "    }\n",
    "    \n",
    "    int getA() {return a;}\n",
    "    int getB() {return b;}\n",
    "    int getC() {return c;}\n",
    "    \n",
    "private:\n",
    "    int a;\n",
    "    int b;\n",
    "    int c;\n",
    "};"
   ]
  },
  {
   "cell_type": "code",
   "execution_count": 10,
   "metadata": {
    "collapsed": false
   },
   "outputs": [
    {
     "name": "stdout",
     "output_type": "stream",
     "text": [
      "0 0 0\n",
      "4 0 0\n",
      "5 7 0\n",
      "8 5 2\n"
     ]
    },
    {
     "data": {
      "text/plain": [
       "(std::basic_ostream<char, std::char_traits<char> >::__ostream_type &) @0x7f6f687076e0\n"
      ]
     },
     "execution_count": 10,
     "metadata": {},
     "output_type": "execute_result"
    }
   ],
   "source": [
    "Numbers3 q;\n",
    "Numbers3 w(4);\n",
    "Numbers3 e(5, 7);\n",
    "Numbers3 r(8, 5, 2);\n",
    "\n",
    "std::cout << q.getA() << ' ' << q.getB() << ' ' << q.getC() << std::endl;\n",
    "std::cout << w.getA() << ' ' << w.getB() << ' ' << w.getC() << std::endl;\n",
    "std::cout << e.getA() << ' ' << e.getB() << ' ' << e.getC() << std::endl;\n",
    "std::cout << r.getA() << ' ' << r.getB() << ' ' << r.getC() << std::endl;"
   ]
  },
  {
   "cell_type": "code",
   "execution_count": 11,
   "metadata": {
    "collapsed": false
   },
   "outputs": [
    {
     "data": {
      "text/plain": []
     },
     "execution_count": 11,
     "metadata": {},
     "output_type": "execute_result"
    }
   ],
   "source": [
    "// Кроме конструктора, существует также и деструктор\n",
    "// он также вызывается только один раз. ТОлько в этот раз после уничтожения объекта\n",
    "\n",
    "class NNN {\n",
    "public:\n",
    "    NNN(int aa) {\n",
    "        a = aa;\n",
    "    }\n",
    "    \n",
    "    ~NNN() { // декструктор - задается также как и конструктор, но с ~ в начале\n",
    "        std::cout << \"Я умер\" << std::endl;\n",
    "    }\n",
    "    \n",
    "    int getA() {return a;}\n",
    "    \n",
    "    \n",
    "private:\n",
    "    int a;\n",
    "};"
   ]
  },
  {
   "cell_type": "code",
   "execution_count": 12,
   "metadata": {
    "collapsed": false
   },
   "outputs": [
    {
     "name": "stdout",
     "output_type": "stream",
     "text": [
      "Я умер\n"
     ]
    },
    {
     "data": {
      "text/plain": [
       "(void) @0x7ffce2241d20\n"
      ]
     },
     "execution_count": 12,
     "metadata": {},
     "output_type": "execute_result"
    }
   ],
   "source": [
    "// для того, чтобы уничтожить объект во время работы программы, создадим его динамически\n",
    "// это делается также, как и динамический массив\n",
    "\n",
    "NNN * n = new NNN(55); // динамическое создание объекта с конструктором\n",
    "\n",
    "delete n; // уничтожаем объект"
   ]
  },
  {
   "cell_type": "code",
   "execution_count": 13,
   "metadata": {
    "collapsed": false
   },
   "outputs": [
    {
     "data": {
      "text/plain": []
     },
     "execution_count": 13,
     "metadata": {},
     "output_type": "execute_result"
    }
   ],
   "source": [
    "// конструкторы удобно использовать, если у классов есть указатели на память, выделенную вручную\n",
    "\n",
    "class Numbers4 {\n",
    "public:\n",
    "    Numbers4(int aa, int bb) {\n",
    "        a = new int(aa);\n",
    "        b = new int(bb); // динамическое создание данных\n",
    "    }\n",
    "    \n",
    "    ~Numbers4() {\n",
    "        std::cout << \"Очистка выделенной памяти\" << std::endl; \n",
    "        delete a;\n",
    "        delete b;\n",
    "    }\n",
    "    \n",
    "private:\n",
    "    int * a;\n",
    "    int * b; // указатели на данные\n",
    "};"
   ]
  },
  {
   "cell_type": "code",
   "execution_count": 15,
   "metadata": {
    "collapsed": false
   },
   "outputs": [
    {
     "name": "stdout",
     "output_type": "stream",
     "text": [
      "Очистка выделенной памяти\n"
     ]
    },
    {
     "data": {
      "text/plain": [
       "(void) @0x7ffce2241d20\n"
      ]
     },
     "execution_count": 15,
     "metadata": {},
     "output_type": "execute_result"
    }
   ],
   "source": [
    "Numbers4 * h = new Numbers4(45, 65);\n",
    "\n",
    "delete h; // удаляем объект. Перед этим вызовется конструктор"
   ]
  },
  {
   "cell_type": "code",
   "execution_count": 16,
   "metadata": {
    "collapsed": false
   },
   "outputs": [
    {
     "data": {
      "text/plain": []
     },
     "execution_count": 16,
     "metadata": {},
     "output_type": "execute_result"
    }
   ],
   "source": [
    "class Mul {\n",
    "public:\n",
    "    int doubled(int a) {return a*2;}\n",
    "    int triple(int a) {return a*3;}\n",
    "};"
   ]
  },
  {
   "cell_type": "code",
   "execution_count": 19,
   "metadata": {
    "collapsed": false
   },
   "outputs": [
    {
     "name": "stdout",
     "output_type": "stream",
     "text": [
      "8 168\n",
      "8 168\n"
     ]
    },
    {
     "data": {
      "text/plain": [
       "(std::basic_ostream<char, std::char_traits<char> >::__ostream_type &) @0x7f6f687076e0\n"
      ]
     },
     "execution_count": 19,
     "metadata": {},
     "output_type": "execute_result"
    }
   ],
   "source": [
    "Mul * m = new Mul();\n",
    "// для того, чтобы вызвать метод у объекта по указателю, можно значала взять значение по указателю\n",
    "// а потом вызвать метод\n",
    "\n",
    "std::cout << (*m).doubled(4) << ' ' << (*m).triple(56) << std::endl;\n",
    "\n",
    "// но для удобства в С++ есть операция -> . Одна эквиавалента предыдущему примеру\n",
    " \n",
    "std::cout << m->doubled(4) << ' ' << m->triple(56) << std::endl;"
   ]
  },
  {
   "cell_type": "code",
   "execution_count": 22,
   "metadata": {
    "collapsed": false
   },
   "outputs": [
    {
     "data": {
      "text/plain": []
     },
     "execution_count": 22,
     "metadata": {},
     "output_type": "execute_result"
    }
   ],
   "source": [
    "// внутри каждого класса есть указатель на самого себя - this. Аналог self в питоне\n",
    "\n",
    "class Momee {\n",
    "public:\n",
    "    Momee(int aa) {\n",
    "        a = this->square(aa); // вызов square через указатель на самого себя\n",
    "    }\n",
    "    \n",
    "    int getA(){return a;}\n",
    "    \n",
    "private:\n",
    "    int square(int x) {\n",
    "        return x * x;\n",
    "    }\n",
    "    \n",
    "    int a;\n",
    "};"
   ]
  },
  {
   "cell_type": "code",
   "execution_count": 24,
   "metadata": {
    "collapsed": false
   },
   "outputs": [
    {
     "name": "stdout",
     "output_type": "stream",
     "text": [
      "2916\n"
     ]
    },
    {
     "data": {
      "text/plain": [
       "(std::basic_ostream<char, std::char_traits<char> >::__ostream_type &) @0x7f6f687076e0\n"
      ]
     },
     "execution_count": 24,
     "metadata": {},
     "output_type": "execute_result"
    }
   ],
   "source": [
    "Momee ff(54);\n",
    "std::cout << ff.getA() << std::endl;"
   ]
  },
  {
   "cell_type": "code",
   "execution_count": 27,
   "metadata": {
    "collapsed": false
   },
   "outputs": [
    {
     "data": {
      "text/plain": []
     },
     "execution_count": 27,
     "metadata": {},
     "output_type": "execute_result"
    }
   ],
   "source": [
    "// для удобства использования у пользовательских типов также можно перегрузать операции, такие как +, -, * и тд\n",
    "\n",
    "class vector2d {\n",
    "public:\n",
    "    vector2d(int xx, int yy) {\n",
    "        x = xx;\n",
    "        y = yy;\n",
    "    }\n",
    "    \n",
    "    int getX(){return x;}\n",
    "    int getY(){return y;}\n",
    "    \n",
    "    vector2d operator + (vector2d v) { // перегрузка плюса. должна возвращать результат применения операции\n",
    "        return vector2d(x + v.getX(), y + v.getY());\n",
    "    }\n",
    "    \n",
    "    vector2d & operator += (vector2d v) { // перегрузка +=\n",
    "        x += v.getX();\n",
    "        y += v.getY();\n",
    "        return *this;\n",
    "    }\n",
    "    \n",
    "private:\n",
    "    int x;\n",
    "    int y;\n",
    "};"
   ]
  },
  {
   "cell_type": "code",
   "execution_count": 28,
   "metadata": {
    "collapsed": false
   },
   "outputs": [
    {
     "name": "stdout",
     "output_type": "stream",
     "text": [
      "3 4\n",
      "8 11\n",
      "13 18\n"
     ]
    },
    {
     "data": {
      "text/plain": [
       "(std::basic_ostream<char, std::char_traits<char> >::__ostream_type &) @0x7f6f687076e0\n"
      ]
     },
     "execution_count": 28,
     "metadata": {},
     "output_type": "execute_result"
    }
   ],
   "source": [
    "vector2d v1(3, 4), v2(5, 7);\n",
    "\n",
    "std::cout << v1.getX() << ' ' << v1.getY() << std::endl;\n",
    "\n",
    "v1 += v2;\n",
    "\n",
    "std::cout << v1.getX() << ' ' << v1.getY() << std::endl;\n",
    "\n",
    "vector2d v3 = v1 + v2;\n",
    "\n",
    "std::cout << v3.getX() << ' ' << v3.getY() << std::endl;"
   ]
  },
  {
   "cell_type": "code",
   "execution_count": 3,
   "metadata": {
    "collapsed": false
   },
   "outputs": [
    {
     "name": "stderr",
     "output_type": "stream",
     "text": [
      "input_line_5:4:5: error: cannot assign to variable 'var' with const-qualified type 'const int'\n",
      "var = 17; // ошибка - нельзя менять константную переменную\n",
      "~~~ ^\n",
      "input_line_5:3:11: note: variable 'var' declared const here\n",
      "const int var = 15;\n",
      "~~~~~~~~~~^~~~~~~~\n"
     ]
    },
    {
     "ename": "ename",
     "evalue": "evalue",
     "output_type": "error",
     "traceback": []
    }
   ],
   "source": [
    "// Для того, чтобы гарантировать неизменность каких-то данных, существует клучевое слово const\n",
    "const int var = 15;\n",
    "var = 17; // ошибка - нельзя менять константную переменную"
   ]
  },
  {
   "cell_type": "code",
   "execution_count": 4,
   "metadata": {
    "collapsed": false
   },
   "outputs": [
    {
     "name": "stderr",
     "output_type": "stream",
     "text": [
      "input_line_6:3:7: error: cannot assign to variable 'a' with const-qualified type 'const int'\n",
      "    a = 1; // ошибка\n",
      "    ~ ^\n",
      "input_line_6:2:17: note: variable 'a' declared const here\n",
      "int f(const int a, int b) {\n",
      "      ~~~~~~~~~~^\n"
     ]
    },
    {
     "ename": "ename",
     "evalue": "evalue",
     "output_type": "error",
     "traceback": []
    }
   ],
   "source": [
    "// тоже верно и для агрументов функции\n",
    "int f(const int a, int b) {\n",
    "    a = 1; // ошибка\n",
    "    b = 2;\n",
    "    return a+b;\n",
    "}\n",
    "\n",
    "int e = 4, r = 5;\n",
    "f(e, r);"
   ]
  },
  {
   "cell_type": "code",
   "execution_count": 5,
   "metadata": {
    "collapsed": false
   },
   "outputs": [
    {
     "name": "stderr",
     "output_type": "stream",
     "text": [
      "input_line_7:13:13: error: cannot assign to variable 'num' with const-qualified type 'const int'\n",
      "        num = 5; // ошибка\n",
      "        ~~~ ^\n",
      "input_line_7:12:111: note: variable 'num' declared const here\n",
      "    int ff(const /* означает, что внутри функции нельзя менять num */ int num) {\n",
      "           ~~~~~~~~~~~~~~~~~~~~~~~~~~~~~~~~~~~~~~~~~~~~~~~~~~~~~~~~~~~~~~~^~~\n",
      "input_line_7:20:11: error: cannot assign to non-static data member within const member function 'fff'\n",
      "        a = 5; // ошибка\n",
      "        ~ ^\n",
      "input_line_7:18:9: note: member function 'F::fff' is declared const here\n",
      "    int fff(int num) const /*означает, что внутри фукнции нельзя менять вообще никаких переменных класса*/ {\n",
      "    ~~~~^~~~~~~~~~~~~~~~~~\n"
     ]
    },
    {
     "ename": "ename",
     "evalue": "evalue",
     "output_type": "error",
     "traceback": []
    }
   ],
   "source": [
    "// Для классов у слова const есть несколько вариантов применения\n",
    "class F {\n",
    "public:\n",
    "    F(){}\n",
    "private:\n",
    "    const /*означает, что возвращемое значение нельзя менять*/ int f(int num) {\n",
    "        num = 5;\n",
    "        a = 5;\n",
    "        return num;\n",
    "    }\n",
    "    \n",
    "    int ff(const /* означает, что внутри функции нельзя менять num */ int num) {\n",
    "        num = 5; // ошибка\n",
    "        a = 5;\n",
    "        return num;\n",
    "    }\n",
    "    \n",
    "    int fff(int num) const /*означает, что внутри фукнции нельзя менять вообще никаких переменных класса*/ {\n",
    "        num = 5;\n",
    "        a = 5; // ошибка\n",
    "        return num;\n",
    "    }\n",
    "    \n",
    "private:\n",
    "    int a;\n",
    "    int b;\n",
    "};\n",
    "// все приведенные варианты использования можно комбинировать"
   ]
  },
  {
   "cell_type": "code",
   "execution_count": null,
   "metadata": {
    "collapsed": true
   },
   "outputs": [],
   "source": []
  },
  {
   "cell_type": "code",
   "execution_count": null,
   "metadata": {
    "collapsed": true
   },
   "outputs": [],
   "source": [
    "// для примера напишем свой класс вектора (динамического массива)"
   ]
  },
  {
   "cell_type": "code",
   "execution_count": null,
   "metadata": {
    "collapsed": true
   },
   "outputs": [],
   "source": []
  },
  {
   "cell_type": "code",
   "execution_count": null,
   "metadata": {
    "collapsed": false
   },
   "outputs": [],
   "source": [
    "#include <iostream>\n",
    "#include <algorithm>\n",
    "\n",
    "class LVector {\n",
    "public: // публичная секция - тут лежат функции, которые могут быть вызваны у объекта\n",
    "  LVector() { // конструктор - функция вызывается при создании объекта\n",
    "    size = 0; // задать начальные параметры\n",
    "    dataSize = 0;\n",
    "    delta = 4;\n",
    "    reallocate(false);\n",
    "  }\n",
    "\n",
    "  LVector(int len) {\n",
    "    size = len;\n",
    "    delta = 4;\n",
    "    dataSize = int(len / delta) * delta + delta;\n",
    "    reallocate(false);\n",
    "  }\n",
    "\n",
    "  LVector(int len, int num) {\n",
    "    size = len;\n",
    "    delta = 4;\n",
    "    dataSize = int(len / delta) * delta + delta;\n",
    "    reallocate(false);\n",
    "    for(int i = 0; i < size; i++) {\n",
    "        data[i] = num;\n",
    "    }\n",
    "  }\n",
    "\n",
    "  ~LVector() { // деструктор - вызывается при уничтожении объекта (например конец программы)\n",
    "    delete[] data; // очистить память\n",
    "  }\n",
    "\n",
    "  void push_back(int elem) { // добавить элемент в конец\n",
    "    if(dataSize == size) {\n",
    "      reallocate(true);\n",
    "    }\n",
    "    data[size] = elem;\n",
    "    size += 1;\n",
    "  }\n",
    "\n",
    "\n",
    "  int &operator [] (const int index) { // перегружаем [] для записи. Использование v[0] = 6;\n",
    "    return data[index];\n",
    "  }\n",
    "    \n",
    "  const int &operator [] (const int index) const { // перегружаем [] для чтения. Использование a = v[0]\n",
    "    return data[index]; // используем const для гарании того, что данные не будут изменены при чтении\n",
    "  }\n",
    "\n",
    "  int getSize() { // узнать размер массива\n",
    "    return size;\n",
    "  }\n",
    "\n",
    "  int * begin() { // итератор на начало\n",
    "    return data;\n",
    "  }\n",
    "\n",
    "  int * end() { // итератор на конец\n",
    "    return data + size;\n",
    "  }\n",
    "    \n",
    "  LVector & operator = (LVector &other) { // перегружаем оператор копирования. Пример: LVector a; a = b;\n",
    "      delete[] data;\n",
    "      size = other.getSize();\n",
    "      delta = 4;\n",
    "      dataSize = int(size / delta) * delta + delta;\n",
    "      reallocate(false);\n",
    "      for(int i = 0; i < other.getSize(); i++) {\n",
    "          data[i] = other[i];\n",
    "      }\n",
    "  } // Если не перегрузить этот метод, то после присваивание оба вектора будут работать с одним и тем же массивом\n",
    "\n",
    "private: // приватная зона - данные +  фукнции, которые нельзя вызывать извне\n",
    "  void reallocate(bool copy) { // выделяем новое местро для хранения\n",
    "    dataSize = dataSize+delta;\n",
    "    int * newdata = new int[dataSize];\n",
    "    if(copy) {\n",
    "        for(int i = 0; i < size; i++) {\n",
    "            newdata[i] = data[i];\n",
    "        }\n",
    "        delete[] data;\n",
    "    }\n",
    "    data = newdata;\n",
    "  }\n",
    "\n",
    "  // данные объекта\n",
    "  int * data; // указатель на данные\n",
    "  int size; // количество элементов\n",
    "  int dataSize; // количество выделенных ячеек\n",
    "  int delta; // количество выделяемых новых ячеек\n",
    "};\n",
    "\n",
    "int main() {\n",
    "  LVector h;\n",
    "  h.push_back(3);\n",
    "  h.push_back(6);\n",
    "  h.push_back(9);\n",
    "  h.push_back(12);\n",
    "  h.push_back(51);\n",
    "  h.push_back(21);\n",
    "\n",
    "  for(int i = 0; i < h.getSize(); i++) {\n",
    "    std::cout << h[i] << ' ';\n",
    "  }\n",
    "\n",
    "  std::cout << std::endl;\n",
    "\n",
    "  LVector hh(7);\n",
    "  for(auto it = hh.begin(); it != hh.end(); it++) {\n",
    "    std::cout << *it << ' ';\n",
    "  }\n",
    "\n",
    "  std::cout << std::endl;\n",
    "\n",
    "  LVector hhh(7, 4);\n",
    "  for(auto it = hhh.begin(); it != hhh.end(); it++) {\n",
    "    std::cout << *it << ' ';\n",
    "  }\n",
    "\n",
    "  std::cout << std::endl;\n",
    "\n",
    "  std::sort(h.begin(), h.end(), [](int a, int b){return a > b;});\n",
    "\n",
    "  for(auto it = h.begin(); it != h.end(); it++) {\n",
    "    std::cout << *it << ' ';\n",
    "  }\n",
    "\n",
    "  std::cout << std::endl;\n",
    "    \n",
    "  LVector heh;\n",
    "  heh = hhh;\n",
    "  for(auto it = heh.begin(); it != heh.end(); it++) {\n",
    "      std::cout << *it << ' ';\n",
    "  }\n",
    "\n",
    "  return 0;\n",
    "}\n",
    "/*\n",
    "Вывод\n",
    "\n",
    "3 6 9 12 51 21 \n",
    "0 0 0 0 0 0 0 \n",
    "4 4 4 4 4 4 4 \n",
    "51 21 12 9 6 3\n",
    "4 4 4 4 4 4 4 \n",
    "*/"
   ]
  },
  {
   "cell_type": "code",
   "execution_count": null,
   "metadata": {
    "collapsed": true
   },
   "outputs": [],
   "source": []
  }
 ],
 "metadata": {
  "anaconda-cloud": {},
  "kernelspec": {
   "display_name": "C++",
   "language": "",
   "name": "cling"
  },
  "language_info": {
   "codemirror_mode": "text/x-c++src",
   "file_extension": ".c++",
   "mimetype": " text/x-c++src",
   "name": "c++"
  }
 },
 "nbformat": 4,
 "nbformat_minor": 1
}
