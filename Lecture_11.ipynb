{
 "cells": [
  {
   "cell_type": "markdown",
   "metadata": {},
   "source": [
    "# Вычисление арифметических выражений\n",
    "\n",
    "В любом языке программирования можно очень просто вычислять арифметические выражения, так как для основных арифметических операций уже есть соответствующие конструкции, такие как + - * /, а практически в каждом языке программирования присутствует библиотека для вычисления математических функций.\n",
    "\n",
    "Однако \"зашитое\" в код арифметическое выражение не может быть в последствии изменено! Иногда требуется уметь вычислять произвольную формулу. Классический пример: калькулятор, где пользователь вводит выражение, а программа должна вывести итоговое число."
   ]
  },
  {
   "cell_type": "code",
   "execution_count": 1,
   "metadata": {
    "collapsed": false
   },
   "outputs": [
    {
     "data": {
      "text/plain": []
     },
     "execution_count": 1,
     "metadata": {},
     "output_type": "execute_result"
    }
   ],
   "source": [
    "#include <iostream>\n",
    "#include <algorithm>\n",
    "#include <vector>\n",
    "#include <string>\n",
    "#include <stack>\n",
    "#include <sstream>\n",
    "#include <map>"
   ]
  },
  {
   "cell_type": "markdown",
   "metadata": {},
   "source": [
    "# Простой подход \"В лоб\"\n",
    "\n",
    "Если операции крайне простые и имеют одинаковый приоритет выполнения (например, только + или -), то тогда можно вычислить выражение просто последовательно применяя соответствующие операции к числам."
   ]
  },
  {
   "cell_type": "code",
   "execution_count": 2,
   "metadata": {
    "collapsed": false
   },
   "outputs": [
    {
     "data": {
      "text/plain": []
     },
     "execution_count": 2,
     "metadata": {},
     "output_type": "execute_result"
    }
   ],
   "source": [
    "int n(char s) {\n",
    "    return static_cast<int>(s-'0'); // превращаем символ числа в число\n",
    "}"
   ]
  },
  {
   "cell_type": "code",
   "execution_count": 3,
   "metadata": {
    "collapsed": false
   },
   "outputs": [
    {
     "data": {
      "text/plain": []
     },
     "execution_count": 3,
     "metadata": {},
     "output_type": "execute_result"
    }
   ],
   "source": [
    "int simple_compute(std::string e) { \n",
    "    int operation = 0; // 0 -> плюс, 1 -> минус\n",
    "    int result = 0; // конечный результат\n",
    "    int current_num = 0; // текущее считанное число\n",
    "    for(auto s : e) { // идем по строке\n",
    "        if(s == '+' or s == '-') { // если операция, то значит мы дочитали предыдущее число и необходимо применить предыдущую операцию\n",
    "            result = result + (operation == 0 ? current_num : -current_num); // применение операции\n",
    "            current_num = 0; // обнуляем текущее число\n",
    "            operation = (s == '+' ? 0 : 1); // обновляем операцию\n",
    "        } else if(s >= '0' and s <='9') {\n",
    "            current_num = current_num*10 + n(s); // считываем число\n",
    "        }\n",
    "    }\n",
    "    result = result + (operation == 0 ? current_num : -current_num); // финальное применение последней операции\n",
    "    return result;\n",
    "}"
   ]
  },
  {
   "cell_type": "code",
   "execution_count": 4,
   "metadata": {
    "collapsed": false
   },
   "outputs": [
    {
     "name": "stdout",
     "output_type": "stream",
     "text": [
      "2\n"
     ]
    },
    {
     "data": {
      "text/plain": [
       "(std::basic_ostream<char, std::char_traits<char> >::__ostream_type &) @0x7f563b3b46e0\n"
      ]
     },
     "execution_count": 4,
     "metadata": {},
     "output_type": "execute_result"
    }
   ],
   "source": [
    "std::cout << simple_compute(\"1+1\") << std::endl;"
   ]
  },
  {
   "cell_type": "code",
   "execution_count": 5,
   "metadata": {
    "collapsed": false
   },
   "outputs": [
    {
     "name": "stdout",
     "output_type": "stream",
     "text": [
      "8\n"
     ]
    },
    {
     "data": {
      "text/plain": [
       "(std::basic_ostream<char, std::char_traits<char> >::__ostream_type &) @0x7f563b3b46e0\n"
      ]
     },
     "execution_count": 5,
     "metadata": {},
     "output_type": "execute_result"
    }
   ],
   "source": [
    "std::cout << simple_compute(\"2+3-7+4-5+4+1-3+9\") << std::endl;"
   ]
  },
  {
   "cell_type": "code",
   "execution_count": 6,
   "metadata": {
    "collapsed": false
   },
   "outputs": [
    {
     "name": "stdout",
     "output_type": "stream",
     "text": [
      "16\n"
     ]
    },
    {
     "data": {
      "text/plain": [
       "(std::basic_ostream<char, std::char_traits<char> >::__ostream_type &) @0x7f563b3b46e0\n"
      ]
     },
     "execution_count": 6,
     "metadata": {},
     "output_type": "execute_result"
    }
   ],
   "source": [
    "std::cout << simple_compute(\"12+78+652-741+23+65-73\") << std::endl;"
   ]
  },
  {
   "cell_type": "markdown",
   "metadata": {},
   "source": [
    "Данная функция очень проста в реализации и работает очень быстро. Однако такой подход очень ограничен - если мы добавим умножение, то алгоритм уже будет работать некорректно. 1\\*2+3\\*4 будет вычислен как ((1\\*2)+3)\\*4, а не как (1\\*2)+(3\\*4), что очевидно неправильно. Также нет вожможности строить сложные выражения со скобками.\n",
    "\n",
    "Как можно заметить корнем возникших проблем является неудобная для вычислений запись выражения, так как для того, чтобы понять, как применить операцию нам необходимо посмотреть дальше в строку. "
   ]
  },
  {
   "cell_type": "markdown",
   "metadata": {},
   "source": [
    "# Обратная польская запись\n",
    "\n",
    "Основным способом записи арифметического выражения для его вычисления является обратаня польская запись.\n",
    "\n",
    "Особенность этой формы записи заключается в том, что вначале идут агрументы и только потом идет операция, которая к ним применяется.\n",
    "\n",
    "Пример: 2 3 +. Эта запись эквиавалента обычной записи 2+3 и работает она следующим образом: операция + применяется к двум числам идущим за ней."
   ]
  },
  {
   "cell_type": "markdown",
   "metadata": {},
   "source": [
    "С помощью обратной польской записи можно записать любое выражение, которое можно записать и в обычной форме.\n",
    "\n",
    "Примеры:\n",
    "\n",
    "2+3+4 = 2 3 4 + +\n",
    "\n",
    "1+2-3 = 1 2 3 - + // вначале вычисляется минус, как 2-3. Потом также применяется +, но уже к 1 и результату минуса.\n",
    "\n",
    "4+6\\*5 = 4 6 5 \\* +\n",
    "\n",
    "6\\*5+4 = 6 5 \\* 4 + // можно менять слагаемые местами"
   ]
  },
  {
   "cell_type": "markdown",
   "metadata": {},
   "source": [
    "Обратная польская позволяет записывать сложные выражения со скобками\n",
    "\n",
    "(2 + 3) \\* 7 = 2 3 + 7 \\*\n",
    "\n",
    "(78 + 5 \\* 4 ) / (4 + 10) = 78 5 4 \\* + 4 10 + /  \n",
    "\n",
    "Деление будет применятся к результату дву идущих до него плюсов.\n",
    "первый плюс применится к произведению 5\\*4 и 78, второй плюс применится к 4 и 10"
   ]
  },
  {
   "cell_type": "markdown",
   "metadata": {},
   "source": [
    "Вычисления выражений на обратной польской нотации основываются на использовании стека.\n",
    "\n",
    "*Стек* - это очень простая структура данных, которая обладает всего двумя операциями: положить элемент на вершину и взять с вершины элемент."
   ]
  },
  {
   "cell_type": "code",
   "execution_count": 7,
   "metadata": {
    "collapsed": false
   },
   "outputs": [
    {
     "name": "stdout",
     "output_type": "stream",
     "text": [
      "9\n",
      "4\n",
      "1\n"
     ]
    },
    {
     "data": {
      "text/plain": []
     },
     "execution_count": 7,
     "metadata": {},
     "output_type": "execute_result"
    }
   ],
   "source": [
    "std::stack<int> s; // стек присутствует в стандартной библиотеке\n",
    "s.push(1); // положить на вершину\n",
    "s.push(4);\n",
    "s.push(9);\n",
    "\n",
    "for(int i = 0; i < 3; i++) {\n",
    "    std::cout << s.top() << std::endl; // вывести элемент, который сейчас на вершине\n",
    "    s.pop(); // удалить элемент с вершины\n",
    "}"
   ]
  },
  {
   "cell_type": "markdown",
   "metadata": {},
   "source": [
    "Как можно заметить, нам вывелись числа в обратном порядке - последним мы положили на вершину число 9, затем лежала 4 и потом 1.\n",
    "\n",
    "Основной алгоритм вычисления крайне прост:\n",
    "\n",
    "* Идем по строке и считываем число или операцию\n",
    "* Если это число, то кладем его в стек\n",
    "* Если же это операция, то значит аргументы для этой операции уже лежат в стеке последними (по свойству обратной польской). Достанем необходимое количество аргументов из стека, применим к ним операцию и после этого положим результат обратно на стек.\n",
    "* После того, как мы обработает таким образом всю строку, на вершине стека будет лежать итоговый результат применения всех операций\n"
   ]
  },
  {
   "cell_type": "code",
   "execution_count": 8,
   "metadata": {
    "collapsed": false
   },
   "outputs": [
    {
     "data": {
      "text/plain": []
     },
     "execution_count": 8,
     "metadata": {},
     "output_type": "execute_result"
    }
   ],
   "source": [
    "class PolishCompute{\n",
    "public:\n",
    "    PolishCompute(){}\n",
    "    ~PolishCompute(){}\n",
    "    \n",
    "    long int compute(std::string e) {\n",
    "        std::stringstream ss(e); // создаем поток, чтобы было удобно из него читать\n",
    "        std::string current;\n",
    "        \n",
    "        while(ss >> current) { // считываем элементы из строки\n",
    "            if(current == \"+\") add(); // вызываем соответствующую функцию для каждого оператора\n",
    "            else if(current == \"-\") subl();\n",
    "            else if(current == \"*\") mult();\n",
    "            else if(current == \"/\") div();\n",
    "            else st.push(current); // и просто кладем на стек, если это число\n",
    "        }\n",
    "        \n",
    "        long int result = std::stoi(st.top());\n",
    "        st.pop();\n",
    "        return result;\n",
    "    }\n",
    "    \n",
    "private:\n",
    "    void add() {\n",
    "        long int x = std::stoi(st.top()); st.pop();\n",
    "        long int y = std::stoi(st.top()); st.pop();\n",
    "        st.push(std::to_string(y + x)); // считаем значение оператора для последних двух чисел на стеке\n",
    "    }\n",
    "    \n",
    "    void subl() {\n",
    "        long int x = std::stoi(st.top()); st.pop();\n",
    "        long int y = std::stoi(st.top()); st.pop();\n",
    "        st.push(std::to_string(y - x));\n",
    "    }\n",
    "    \n",
    "    void mult() {\n",
    "        long int x = std::stoi(st.top()); st.pop();\n",
    "        long int y = std::stoi(st.top()); st.pop();\n",
    "        st.push(std::to_string(y * x));\n",
    "    }\n",
    "    \n",
    "    void div() {\n",
    "        long int x = std::stoi(st.top()); st.pop();\n",
    "        long int y = std::stoi(st.top()); st.pop();\n",
    "        st.push(std::to_string(y / x));\n",
    "    }\n",
    "    \n",
    "    std::stack<std::string> st;\n",
    "};"
   ]
  },
  {
   "cell_type": "code",
   "execution_count": 9,
   "metadata": {
    "collapsed": false
   },
   "outputs": [
    {
     "name": "stdout",
     "output_type": "stream",
     "text": [
      "5\n"
     ]
    },
    {
     "data": {
      "text/plain": [
       "(std::basic_ostream<char, std::char_traits<char> >::__ostream_type &) @0x7f563b3b46e0\n"
      ]
     },
     "execution_count": 9,
     "metadata": {},
     "output_type": "execute_result"
    }
   ],
   "source": [
    "PolishCompute pc;\n",
    "std::cout << pc.compute(\"2 3 +\") << std::endl;"
   ]
  },
  {
   "cell_type": "code",
   "execution_count": 10,
   "metadata": {
    "collapsed": false
   },
   "outputs": [
    {
     "name": "stdout",
     "output_type": "stream",
     "text": [
      "9\n"
     ]
    },
    {
     "data": {
      "text/plain": [
       "(std::basic_ostream<char, std::char_traits<char> >::__ostream_type &) @0x7f563b3b46e0\n"
      ]
     },
     "execution_count": 10,
     "metadata": {},
     "output_type": "execute_result"
    }
   ],
   "source": [
    "std::cout << pc.compute(\"2 3 4 + +\") << std::endl;"
   ]
  },
  {
   "cell_type": "code",
   "execution_count": 11,
   "metadata": {
    "collapsed": false
   },
   "outputs": [
    {
     "name": "stdout",
     "output_type": "stream",
     "text": [
      "0\n"
     ]
    },
    {
     "data": {
      "text/plain": [
       "(std::basic_ostream<char, std::char_traits<char> >::__ostream_type &) @0x7f563b3b46e0\n"
      ]
     },
     "execution_count": 11,
     "metadata": {},
     "output_type": "execute_result"
    }
   ],
   "source": [
    "std::cout << pc.compute(\"1 2 3 - +\") << std::endl;"
   ]
  },
  {
   "cell_type": "code",
   "execution_count": 12,
   "metadata": {
    "collapsed": false
   },
   "outputs": [
    {
     "name": "stdout",
     "output_type": "stream",
     "text": [
      "34\n"
     ]
    },
    {
     "data": {
      "text/plain": [
       "(std::basic_ostream<char, std::char_traits<char> >::__ostream_type &) @0x7f563b3b46e0\n"
      ]
     },
     "execution_count": 12,
     "metadata": {},
     "output_type": "execute_result"
    }
   ],
   "source": [
    "std::cout << pc.compute(\"4 6 5 * +\") << std::endl;"
   ]
  },
  {
   "cell_type": "code",
   "execution_count": 13,
   "metadata": {
    "collapsed": false
   },
   "outputs": [
    {
     "name": "stdout",
     "output_type": "stream",
     "text": [
      "34\n"
     ]
    },
    {
     "data": {
      "text/plain": [
       "(std::basic_ostream<char, std::char_traits<char> >::__ostream_type &) @0x7f563b3b46e0\n"
      ]
     },
     "execution_count": 13,
     "metadata": {},
     "output_type": "execute_result"
    }
   ],
   "source": [
    "std::cout << pc.compute(\"6 5 * 4 +\") << std::endl;"
   ]
  },
  {
   "cell_type": "code",
   "execution_count": 14,
   "metadata": {
    "collapsed": false
   },
   "outputs": [
    {
     "name": "stdout",
     "output_type": "stream",
     "text": [
      "35\n"
     ]
    },
    {
     "data": {
      "text/plain": [
       "(std::basic_ostream<char, std::char_traits<char> >::__ostream_type &) @0x7f563b3b46e0\n"
      ]
     },
     "execution_count": 14,
     "metadata": {},
     "output_type": "execute_result"
    }
   ],
   "source": [
    "std::cout << pc.compute(\"2 3 + 7 *\") << std::endl;"
   ]
  },
  {
   "cell_type": "code",
   "execution_count": 15,
   "metadata": {
    "collapsed": false
   },
   "outputs": [
    {
     "name": "stdout",
     "output_type": "stream",
     "text": [
      "7\n"
     ]
    },
    {
     "data": {
      "text/plain": [
       "(std::basic_ostream<char, std::char_traits<char> >::__ostream_type &) @0x7f563b3b46e0\n"
      ]
     },
     "execution_count": 15,
     "metadata": {},
     "output_type": "execute_result"
    }
   ],
   "source": [
    "std::cout << pc.compute(\"78 5 4 * + 4 10 + /\") << std::endl;"
   ]
  },
  {
   "cell_type": "markdown",
   "metadata": {},
   "source": [
    "Все примеры были успешно посчитаны."
   ]
  },
  {
   "cell_type": "markdown",
   "metadata": {},
   "source": [
    "Таким образом, мы умеем считать арифметические выражения любой сложности записанные в обратной польской нотации. \n",
    "\n",
    "Теперь, если мы будем уметь переводить стандартную запись в обратную польскую, то мы тогда мы сможем успешно вычислять формулы в обычной записи."
   ]
  },
  {
   "cell_type": "markdown",
   "metadata": {},
   "source": [
    "# Перевод из стандартной нотации в обратную польскую\n",
    "\n",
    "Алгоритм будет несколько сложнее предыдущего, однако он все еще очень прост и понятен.\n",
    "\n",
    "* У нас есть переменная содержащая итоговую строку в обратной польсткой и стек, в котором мы будем хранить операторы\n",
    "* Нам важно различать различные приоритеты у операторов, так что сделаем дополнительную функцию, которую будет считать приоритет. Пример: + < \\* (у умножения приоритет выше), \\* < ^ (у возведения в степерь приоритет выше). Сам набор операций и их приоритеты вы можете выставить как угодно. Важно, только чтобы скобки имени самый малый приоритет относительно остальных операций.\n",
    "* Далее идем по строке\n",
    " * Если число, то сразу добавим его к итоговой строке\n",
    " * Если открывающая скобка, то кладем ее в стек операторов\n",
    " * Если закрывающая скобка, то мы кладем операторы их стека в строку, пока не дойдем до открывающем скобки. Саму открывающую скобку нужно просто убрать из стека\n",
    " * Если оператор, то нужно посмотреть на его приоритет и приоритет оператора, который сейчас лежит на стеке:\n",
    "   * Если у текущего меньше или равен, чем на стеке, то переносим оператор из стека в строку\n",
    "   * Повторяем предыдущее действие до тех пор, пока не наткнемся на оператор с большим приоритетом или стек не закончится\n",
    "   * После этого вне зависимости от приоритетов кладем текущий оператор на стек\n",
    "* После этого кладем все оставшиеся на стеке операторы в строку\n"
   ]
  },
  {
   "cell_type": "code",
   "execution_count": 16,
   "metadata": {
    "collapsed": false
   },
   "outputs": [
    {
     "data": {
      "text/plain": []
     },
     "execution_count": 16,
     "metadata": {},
     "output_type": "execute_result"
    }
   ],
   "source": [
    "class ComputeEngine {\n",
    "public:\n",
    "    ComputeEngine(){\n",
    "        priority[\"(\"] = 0;\n",
    "        priority[\")\"] = 0;\n",
    "        priority[\"+\"] = 1; // выставляем приоритет операциям. \n",
    "        priority[\"-\"] = 1; // Само значение не важно - главное чтобы их можно было сравнивать\n",
    "        priority[\"*\"] = 2;\n",
    "        priority[\"/\"] = 2;\n",
    "    }\n",
    "    ~ComputeEngine(){}\n",
    "    \n",
    "    int compute(std::string e) {\n",
    "        return pc.compute(to_polish(e)); // вычисляем значение строки, переведенной в польскую нотацию\n",
    "    }\n",
    "    \n",
    "    std::string to_polish(std::string e) {\n",
    "        add_spaces(e); // приведем к удобному для четния формату\n",
    "        \n",
    "        std::stringstream result; // итоговый (сдела потоком для удобства)\n",
    "        std::stack<std::string> ops; // операторы\n",
    "        \n",
    "        std::stringstream ss(e); // поток для удоства\n",
    "        std::string current; // текущий\n",
    "        \n",
    "        while(ss >> current) { // считываем элементы из ввода\n",
    "            if(priority.count(current) == 1) { // если для данного символа указан приоритет, то это оператор или скобка\n",
    "                if(current == \"(\") {\n",
    "                    ops.push(current);\n",
    "                    continue;\n",
    "                }\n",
    "                if(current == \")\") {\n",
    "                    while(ops.top() != \"(\") { // пока не дойдем до открывающей\n",
    "                        result << ops.top() << \" \"; // добавляем в строку\n",
    "                        ops.pop(); // удаляем\n",
    "                    }\n",
    "                    ops.pop();\n",
    "                    continue;\n",
    "                }\n",
    "                \n",
    "                // если оператор\n",
    "                while(!ops.empty() and priority[current] <= priority[ops.top()]) { // пока больше приоритет\n",
    "                    result << ops.top() << \" \"; // добавляем к строке\n",
    "                    ops.pop(); // удаляем\n",
    "                }\n",
    "                ops.push(current);\n",
    "            } else { // число\n",
    "                result << current << \" \";\n",
    "            }\n",
    "        }\n",
    "        \n",
    "        while(!ops.empty()) { // оставшиеся операторы\n",
    "            result << ops.top() << \" \";\n",
    "            ops.pop();\n",
    "        }\n",
    "        \n",
    "        std::string polish_string;\n",
    "        std::getline(result, polish_string);\n",
    "        return polish_string;\n",
    "    }\n",
    "    \n",
    "private:\n",
    "    // для удобного перевода в польскую нотацию, значащие символы\n",
    "    // но обычно строка вводится без пробелов\n",
    "    // эта функция добавляет эти пробелы\n",
    "    void add_spaces(std::string &e) {\n",
    "        std::stringstream result;\n",
    "        for(auto s : e) {\n",
    "            if(priority.count(std::string(1, s)) == 1) result << ' ' << s << ' ';\n",
    "            else if(s == '(' or s == ')') result << ' ' << s << ' ';\n",
    "            else result << s;\n",
    "        }\n",
    "        std::getline(result, e);\n",
    "    }\n",
    "    \n",
    "    PolishCompute pc;\n",
    "    std::map<std::string, int> priority;\n",
    "};"
   ]
  },
  {
   "cell_type": "code",
   "execution_count": 17,
   "metadata": {
    "collapsed": false
   },
   "outputs": [
    {
     "name": "stdout",
     "output_type": "stream",
     "text": [
      "2 3 + \n"
     ]
    },
    {
     "data": {
      "text/plain": [
       "(std::basic_ostream<char, std::char_traits<char> >::__ostream_type &) @0x7f563b3b46e0\n"
      ]
     },
     "execution_count": 17,
     "metadata": {},
     "output_type": "execute_result"
    }
   ],
   "source": [
    "ComputeEngine ce;\n",
    "\n",
    "std::cout << ce.to_polish(\"2+3\") << std::endl;"
   ]
  },
  {
   "cell_type": "code",
   "execution_count": 18,
   "metadata": {
    "collapsed": false
   },
   "outputs": [
    {
     "name": "stdout",
     "output_type": "stream",
     "text": [
      "6 5 * 4 + \n"
     ]
    },
    {
     "data": {
      "text/plain": [
       "(std::basic_ostream<char, std::char_traits<char> >::__ostream_type &) @0x7f563b3b46e0\n"
      ]
     },
     "execution_count": 18,
     "metadata": {},
     "output_type": "execute_result"
    }
   ],
   "source": [
    "std::cout << ce.to_polish(\"6*5+4\") << std::endl;"
   ]
  },
  {
   "cell_type": "code",
   "execution_count": 19,
   "metadata": {
    "collapsed": false
   },
   "outputs": [
    {
     "name": "stdout",
     "output_type": "stream",
     "text": [
      "4 6 5 * + \n"
     ]
    },
    {
     "data": {
      "text/plain": [
       "(std::basic_ostream<char, std::char_traits<char> >::__ostream_type &) @0x7f563b3b46e0\n"
      ]
     },
     "execution_count": 19,
     "metadata": {},
     "output_type": "execute_result"
    }
   ],
   "source": [
    "std::cout << ce.to_polish(\"4 + 6*5\") << std::endl;"
   ]
  },
  {
   "cell_type": "code",
   "execution_count": 20,
   "metadata": {
    "collapsed": false
   },
   "outputs": [
    {
     "name": "stdout",
     "output_type": "stream",
     "text": [
      "2 3 + 7 * \n"
     ]
    },
    {
     "data": {
      "text/plain": [
       "(std::basic_ostream<char, std::char_traits<char> >::__ostream_type &) @0x7f563b3b46e0\n"
      ]
     },
     "execution_count": 20,
     "metadata": {},
     "output_type": "execute_result"
    }
   ],
   "source": [
    "std::cout << ce.to_polish(\"(2 + 3) * 7\") << std::endl;"
   ]
  },
  {
   "cell_type": "code",
   "execution_count": 21,
   "metadata": {
    "collapsed": false
   },
   "outputs": [
    {
     "name": "stdout",
     "output_type": "stream",
     "text": [
      "78 5 4 * + 4 10 + / \n"
     ]
    },
    {
     "data": {
      "text/plain": [
       "(std::basic_ostream<char, std::char_traits<char> >::__ostream_type &) @0x7f563b3b46e0\n"
      ]
     },
     "execution_count": 21,
     "metadata": {},
     "output_type": "execute_result"
    }
   ],
   "source": [
    "std::cout << ce.to_polish(\"(78 + 5 * 4 ) / (4 + 10)\") << std::endl;"
   ]
  },
  {
   "cell_type": "code",
   "execution_count": 22,
   "metadata": {
    "collapsed": false
   },
   "outputs": [
    {
     "name": "stdout",
     "output_type": "stream",
     "text": [
      "275 45 3 + 78 12 14 * - / * 17 45 + 23 75 * - / \n"
     ]
    },
    {
     "data": {
      "text/plain": [
       "(std::basic_ostream<char, std::char_traits<char> >::__ostream_type &) @0x7f563b3b46e0\n"
      ]
     },
     "execution_count": 22,
     "metadata": {},
     "output_type": "execute_result"
    }
   ],
   "source": [
    "std::cout << ce.to_polish(\"275 * ( (45+3) / (78-12*14) ) / (17+45-23*75)\") << std::endl;"
   ]
  },
  {
   "cell_type": "markdown",
   "metadata": {},
   "source": [
    "**Проверим корректность вычислений выражений**"
   ]
  },
  {
   "cell_type": "code",
   "execution_count": 23,
   "metadata": {
    "collapsed": false
   },
   "outputs": [
    {
     "name": "stdout",
     "output_type": "stream",
     "text": [
      "5\n"
     ]
    },
    {
     "data": {
      "text/plain": [
       "(std::basic_ostream<char, std::char_traits<char> >::__ostream_type &) @0x7f563b3b46e0\n"
      ]
     },
     "execution_count": 23,
     "metadata": {},
     "output_type": "execute_result"
    }
   ],
   "source": [
    "std::cout << ce.compute(\"2+3\") << std::endl;"
   ]
  },
  {
   "cell_type": "code",
   "execution_count": 24,
   "metadata": {
    "collapsed": false
   },
   "outputs": [
    {
     "name": "stdout",
     "output_type": "stream",
     "text": [
      "34\n"
     ]
    },
    {
     "data": {
      "text/plain": [
       "(std::basic_ostream<char, std::char_traits<char> >::__ostream_type &) @0x7f563b3b46e0\n"
      ]
     },
     "execution_count": 24,
     "metadata": {},
     "output_type": "execute_result"
    }
   ],
   "source": [
    "std::cout << ce.compute(\"6*5+4\") << std::endl;"
   ]
  },
  {
   "cell_type": "code",
   "execution_count": 25,
   "metadata": {
    "collapsed": false
   },
   "outputs": [
    {
     "name": "stdout",
     "output_type": "stream",
     "text": [
      "34\n"
     ]
    },
    {
     "data": {
      "text/plain": [
       "(std::basic_ostream<char, std::char_traits<char> >::__ostream_type &) @0x7f563b3b46e0\n"
      ]
     },
     "execution_count": 25,
     "metadata": {},
     "output_type": "execute_result"
    }
   ],
   "source": [
    "std::cout << ce.compute(\"4 + 6*5\") << std::endl;"
   ]
  },
  {
   "cell_type": "code",
   "execution_count": 26,
   "metadata": {
    "collapsed": false
   },
   "outputs": [
    {
     "name": "stdout",
     "output_type": "stream",
     "text": [
      "35\n"
     ]
    },
    {
     "data": {
      "text/plain": [
       "(std::basic_ostream<char, std::char_traits<char> >::__ostream_type &) @0x7f563b3b46e0\n"
      ]
     },
     "execution_count": 26,
     "metadata": {},
     "output_type": "execute_result"
    }
   ],
   "source": [
    "std::cout << ce.compute(\"(2 + 3) * 7\") << std::endl;"
   ]
  },
  {
   "cell_type": "code",
   "execution_count": 27,
   "metadata": {
    "collapsed": false
   },
   "outputs": [
    {
     "name": "stdout",
     "output_type": "stream",
     "text": [
      "7\n"
     ]
    },
    {
     "data": {
      "text/plain": [
       "(std::basic_ostream<char, std::char_traits<char> >::__ostream_type &) @0x7f563b3b46e0\n"
      ]
     },
     "execution_count": 27,
     "metadata": {},
     "output_type": "execute_result"
    }
   ],
   "source": [
    "std::cout << ce.compute(\"(78 + 5 * 4 ) / (4 + 10)\") << std::endl;"
   ]
  },
  {
   "cell_type": "code",
   "execution_count": 28,
   "metadata": {
    "collapsed": false
   },
   "outputs": [
    {
     "name": "stdout",
     "output_type": "stream",
     "text": [
      "8590\n"
     ]
    },
    {
     "data": {
      "text/plain": [
       "(std::basic_ostream<char, std::char_traits<char> >::__ostream_type &) @0x7f563b3b46e0\n"
      ]
     },
     "execution_count": 28,
     "metadata": {},
     "output_type": "execute_result"
    }
   ],
   "source": [
    "std::cout << ce.compute(\"2775 * ( 9654*(45+3) / (78-12*14) ) / (17+45-23*75)\") << std::endl;"
   ]
  },
  {
   "cell_type": "code",
   "execution_count": null,
   "metadata": {
    "collapsed": true
   },
   "outputs": [],
   "source": []
  }
 ],
 "metadata": {
  "anaconda-cloud": {},
  "kernelspec": {
   "display_name": "C++",
   "language": "",
   "name": "cling"
  },
  "language_info": {
   "codemirror_mode": "text/x-c++src",
   "file_extension": ".c++",
   "mimetype": " text/x-c++src",
   "name": "c++"
  }
 },
 "nbformat": 4,
 "nbformat_minor": 1
}
