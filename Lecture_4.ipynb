{
 "cells": [
  {
   "cell_type": "markdown",
   "metadata": {},
   "source": [
    "# Модули для работы с коллекциями в Python\n",
    "\n",
    "Питон из коробки предоставляет стандартный набор коллекций. Каждая коллекция позволяет совершать с собой простые действия, такие как вставка, удаление, поиск, etc. Чтобы каждый раз не реализовывать более сложные алгоритмы на коллекциях, в стандартную поставку Питона прилагаются несколько модулей, призванных облегчить жизнь разработчику."
   ]
  },
  {
   "cell_type": "markdown",
   "metadata": {},
   "source": [
    "# Itertools"
   ]
  },
  {
   "cell_type": "code",
   "execution_count": 2,
   "metadata": {
    "collapsed": true
   },
   "outputs": [],
   "source": [
    "# Подключим все функции, предоставляемые модулем Itertools\n",
    "from itertools import *"
   ]
  },
  {
   "cell_type": "code",
   "execution_count": 4,
   "metadata": {
    "collapsed": false
   },
   "outputs": [
    {
     "name": "stdout",
     "output_type": "stream",
     "text": [
      "(1, 2, 3, 4)\n",
      "(1, 2, 4, 3)\n",
      "(1, 3, 2, 4)\n",
      "(1, 3, 4, 2)\n",
      "(1, 4, 2, 3)\n",
      "(1, 4, 3, 2)\n",
      "(2, 1, 3, 4)\n",
      "(2, 1, 4, 3)\n",
      "(2, 3, 1, 4)\n",
      "(2, 3, 4, 1)\n",
      "(2, 4, 1, 3)\n",
      "(2, 4, 3, 1)\n",
      "(3, 1, 2, 4)\n",
      "(3, 1, 4, 2)\n",
      "(3, 2, 1, 4)\n",
      "(3, 2, 4, 1)\n",
      "(3, 4, 1, 2)\n",
      "(3, 4, 2, 1)\n",
      "(4, 1, 2, 3)\n",
      "(4, 1, 3, 2)\n",
      "(4, 2, 1, 3)\n",
      "(4, 2, 3, 1)\n",
      "(4, 3, 1, 2)\n",
      "(4, 3, 2, 1)\n"
     ]
    }
   ],
   "source": [
    "# Itertools позволяет итерироваться по всем возможным перестановкам элементов списка\n",
    "s = [1, 2, 3, 4]\n",
    "for i in permutations(s):\n",
    "    print(i)"
   ]
  },
  {
   "cell_type": "code",
   "execution_count": 5,
   "metadata": {
    "collapsed": false
   },
   "outputs": [
    {
     "name": "stdout",
     "output_type": "stream",
     "text": [
      "24\n"
     ]
    }
   ],
   "source": [
    "# Важно, что permutatuins возвращает не список, а итерируемый объект\n",
    "# Поэтому, если необходимо как то работать с множеством всех перестановок, то вначале необходимо \n",
    "# сделать из него список\n",
    "p = list(permutations(s))\n",
    "print(len(p))"
   ]
  },
  {
   "cell_type": "code",
   "execution_count": 8,
   "metadata": {
    "collapsed": false
   },
   "outputs": [
    {
     "name": "stdout",
     "output_type": "stream",
     "text": [
      "('C', 'a', 't')\n",
      "('C', 't', 'a')\n",
      "('a', 'C', 't')\n",
      "('a', 't', 'C')\n",
      "('t', 'C', 'a')\n",
      "('t', 'a', 'C')\n",
      "----------\n",
      "('c', 'a', 'b')\n",
      "('c', 'b', 'a')\n",
      "('a', 'c', 'b')\n",
      "('a', 'b', 'c')\n",
      "('b', 'c', 'a')\n",
      "('b', 'a', 'c')\n",
      "----------\n",
      "(1, 4, 9)\n",
      "(1, 9, 4)\n",
      "(4, 1, 9)\n",
      "(4, 9, 1)\n",
      "(9, 1, 4)\n",
      "(9, 4, 1)\n"
     ]
    }
   ],
   "source": [
    "# Перестановки можно генерировать не только для списков, но и для любых итерируемых объектов\n",
    "a = \"Cat\"\n",
    "b = {\"a\", \"b\", \"c\"}\n",
    "def myIter(n):\n",
    "    a = 1\n",
    "    while a <= n:\n",
    "        yield a**2\n",
    "        a += 1\n",
    "        \n",
    "for i in permutations(a):\n",
    "    print(i)\n",
    "\n",
    "print(\"-\"*10)\n",
    "    \n",
    "for i in permutations(b):\n",
    "    print(i)\n",
    "    \n",
    "print(\"-\"*10)\n",
    "    \n",
    "for i in permutations(myIter(3)):\n",
    "    print(i)"
   ]
  },
  {
   "cell_type": "code",
   "execution_count": 9,
   "metadata": {
    "collapsed": false
   },
   "outputs": [
    {
     "name": "stdout",
     "output_type": "stream",
     "text": [
      "('A', 'B')\n",
      "('A', 'C')\n",
      "('A', 'D')\n",
      "('B', 'C')\n",
      "('B', 'D')\n",
      "('C', 'D')\n"
     ]
    }
   ],
   "source": [
    "# Помимо всех перестановок, можно также выбирать несколько элементов из списка\n",
    "s = \"ABCD\"\n",
    "for i in combinations(s, 2): # Второй парамерт указывает, сколько элементов нужно выбрать\n",
    "    print(i)"
   ]
  },
  {
   "cell_type": "code",
   "execution_count": 10,
   "metadata": {
    "collapsed": false
   },
   "outputs": [
    {
     "name": "stdout",
     "output_type": "stream",
     "text": [
      "('A', 'B', 'C')\n",
      "('A', 'B', 'D')\n",
      "('A', 'C', 'D')\n",
      "('B', 'C', 'D')\n"
     ]
    }
   ],
   "source": [
    "for i in combinations(s, 3): # Второй парамерт указывает, сколько элементов нужно выбрать\n",
    "    print(i)"
   ]
  },
  {
   "cell_type": "code",
   "execution_count": 12,
   "metadata": {
    "collapsed": false
   },
   "outputs": [
    {
     "name": "stdout",
     "output_type": "stream",
     "text": [
      "('A', 'A', 'A')\n",
      "('A', 'A', 'B')\n",
      "('A', 'A', 'C')\n",
      "('A', 'A', 'D')\n",
      "('A', 'B', 'B')\n",
      "('A', 'B', 'C')\n",
      "('A', 'B', 'D')\n",
      "('A', 'C', 'C')\n",
      "('A', 'C', 'D')\n",
      "('A', 'D', 'D')\n",
      "('B', 'B', 'B')\n",
      "('B', 'B', 'C')\n",
      "('B', 'B', 'D')\n",
      "('B', 'C', 'C')\n",
      "('B', 'C', 'D')\n",
      "('B', 'D', 'D')\n",
      "('C', 'C', 'C')\n",
      "('C', 'C', 'D')\n",
      "('C', 'D', 'D')\n",
      "('D', 'D', 'D')\n"
     ]
    }
   ],
   "source": [
    "# Также есть возможность выбираеть элементы с повторениями\n",
    "for i in combinations_with_replacement(s, 3):\n",
    "    print(i)"
   ]
  },
  {
   "cell_type": "code",
   "execution_count": 13,
   "metadata": {
    "collapsed": false
   },
   "outputs": [
    {
     "name": "stdout",
     "output_type": "stream",
     "text": [
      "(1, 'A')\n",
      "(1, 'B')\n",
      "(1, 'C')\n",
      "(2, 'A')\n",
      "(2, 'B')\n",
      "(2, 'C')\n",
      "(3, 'A')\n",
      "(3, 'B')\n",
      "(3, 'C')\n"
     ]
    }
   ],
   "source": [
    "# Itertools предоставляет возможность получить декартово произведение коллекций\n",
    "for i in product([1, 2, 3], \"ABC\"):\n",
    "    print(i)"
   ]
  },
  {
   "cell_type": "code",
   "execution_count": 14,
   "metadata": {
    "collapsed": false
   },
   "outputs": [
    {
     "name": "stdout",
     "output_type": "stream",
     "text": [
      "(1, 'A', False, 1)\n",
      "(1, 'A', False, 4)\n",
      "(1, 'A', False, 9)\n",
      "(1, 'A', True, 1)\n",
      "(1, 'A', True, 4)\n",
      "(1, 'A', True, 9)\n",
      "(1, 'B', False, 1)\n",
      "(1, 'B', False, 4)\n",
      "(1, 'B', False, 9)\n",
      "(1, 'B', True, 1)\n",
      "(1, 'B', True, 4)\n",
      "(1, 'B', True, 9)\n",
      "(1, 'C', False, 1)\n",
      "(1, 'C', False, 4)\n",
      "(1, 'C', False, 9)\n",
      "(1, 'C', True, 1)\n",
      "(1, 'C', True, 4)\n",
      "(1, 'C', True, 9)\n",
      "(2, 'A', False, 1)\n",
      "(2, 'A', False, 4)\n",
      "(2, 'A', False, 9)\n",
      "(2, 'A', True, 1)\n",
      "(2, 'A', True, 4)\n",
      "(2, 'A', True, 9)\n",
      "(2, 'B', False, 1)\n",
      "(2, 'B', False, 4)\n",
      "(2, 'B', False, 9)\n",
      "(2, 'B', True, 1)\n",
      "(2, 'B', True, 4)\n",
      "(2, 'B', True, 9)\n",
      "(2, 'C', False, 1)\n",
      "(2, 'C', False, 4)\n",
      "(2, 'C', False, 9)\n",
      "(2, 'C', True, 1)\n",
      "(2, 'C', True, 4)\n",
      "(2, 'C', True, 9)\n",
      "(3, 'A', False, 1)\n",
      "(3, 'A', False, 4)\n",
      "(3, 'A', False, 9)\n",
      "(3, 'A', True, 1)\n",
      "(3, 'A', True, 4)\n",
      "(3, 'A', True, 9)\n",
      "(3, 'B', False, 1)\n",
      "(3, 'B', False, 4)\n",
      "(3, 'B', False, 9)\n",
      "(3, 'B', True, 1)\n",
      "(3, 'B', True, 4)\n",
      "(3, 'B', True, 9)\n",
      "(3, 'C', False, 1)\n",
      "(3, 'C', False, 4)\n",
      "(3, 'C', False, 9)\n",
      "(3, 'C', True, 1)\n",
      "(3, 'C', True, 4)\n",
      "(3, 'C', True, 9)\n"
     ]
    }
   ],
   "source": [
    "# Декартово можно перемножать любое количество коллекций\n",
    "for i in product([1, 2, 3], \"ABC\", {True, False}, myIter(3)):\n",
    "    print(i)"
   ]
  },
  {
   "cell_type": "code",
   "execution_count": 16,
   "metadata": {
    "collapsed": false
   },
   "outputs": [
    {
     "name": "stdout",
     "output_type": "stream",
     "text": [
      "0: A\n",
      "1: B\n",
      "2: C\n",
      "3: D\n",
      "4: A\n",
      "5: B\n",
      "6: C\n",
      "7: D\n",
      "8: A\n",
      "9: B\n",
      "10: C\n",
      "11: D\n",
      "12: A\n",
      "13: B\n",
      "14: C\n",
      "15: D\n",
      "16: A\n",
      "17: B\n",
      "18: C\n",
      "19: D\n",
      "20: A\n"
     ]
    }
   ],
   "source": [
    "# Cycle в Itertools позволяет бесконечно перебирать элементы из коллекции\n",
    "count = 0\n",
    "for i in cycle(\"ABCD\"):\n",
    "    if count > 20:\n",
    "        break # условие остановки важно, так как в противном случае программа зависнет в цикле\n",
    "    print(\"{0}: {1}\".format(count, i))\n",
    "    count += 1"
   ]
  },
  {
   "cell_type": "code",
   "execution_count": 17,
   "metadata": {
    "collapsed": false
   },
   "outputs": [
    {
     "name": "stdout",
     "output_type": "stream",
     "text": [
      "0: A\n",
      "1: B\n",
      "2: C\n",
      "3: D\n",
      "4: A\n",
      "5: B\n",
      "6: C\n",
      "7: D\n",
      "8: A\n",
      "9: B\n",
      "10: C\n",
      "11: D\n",
      "12: A\n",
      "13: B\n",
      "14: C\n",
      "15: D\n",
      "16: A\n",
      "17: B\n",
      "18: C\n",
      "19: D\n",
      "20: A\n"
     ]
    }
   ],
   "source": [
    "# Чтобы руками не задавать переменную, определяющую конец цикла, можно использовать enumerate\n",
    "# Эта функция к каждому элементу приписывает номер итерации, в которой этот элемент участвоваол\n",
    "for i, e in enumerate(cycle(\"ABCD\")): # в i попадает номер итерации, а в e само значение\n",
    "    if i > 20:\n",
    "        break\n",
    "    print(\"{0}: {1}\".format(i, e))"
   ]
  },
  {
   "cell_type": "code",
   "execution_count": 18,
   "metadata": {
    "collapsed": false
   },
   "outputs": [
    {
     "name": "stdout",
     "output_type": "stream",
     "text": [
      "0 H\n",
      "1 e\n",
      "2 l\n",
      "3 l\n",
      "4 o\n"
     ]
    }
   ],
   "source": [
    "for i, e in enumerate(\"Hello\"):\n",
    "    print(i, e)"
   ]
  },
  {
   "cell_type": "code",
   "execution_count": 24,
   "metadata": {
    "collapsed": false
   },
   "outputs": [
    {
     "name": "stdout",
     "output_type": "stream",
     "text": [
      "0\n",
      "1\n",
      "2\n",
      "3\n",
      "4\n",
      "5\n",
      "6\n",
      "7\n",
      "8\n",
      "9\n",
      "10\n",
      "11\n",
      "12\n",
      "13\n",
      "14\n",
      "15\n",
      "16\n",
      "17\n",
      "18\n",
      "19\n"
     ]
    }
   ],
   "source": [
    "# takewhile позволяет выбирать элементы из коллекции до выполнения заданного условия\n",
    "for i in takewhile(lambda x: x<20, range(100)):\n",
    "    print(i)"
   ]
  },
  {
   "cell_type": "code",
   "execution_count": 26,
   "metadata": {
    "collapsed": false
   },
   "outputs": [
    {
     "data": {
      "text/plain": [
       "['__doc__',\n",
       " '__loader__',\n",
       " '__name__',\n",
       " '__package__',\n",
       " '__spec__',\n",
       " '_grouper',\n",
       " '_tee',\n",
       " '_tee_dataobject',\n",
       " 'accumulate',\n",
       " 'chain',\n",
       " 'combinations',\n",
       " 'combinations_with_replacement',\n",
       " 'compress',\n",
       " 'count',\n",
       " 'cycle',\n",
       " 'dropwhile',\n",
       " 'filterfalse',\n",
       " 'groupby',\n",
       " 'islice',\n",
       " 'permutations',\n",
       " 'product',\n",
       " 'repeat',\n",
       " 'starmap',\n",
       " 'takewhile',\n",
       " 'tee',\n",
       " 'zip_longest']"
      ]
     },
     "execution_count": 26,
     "metadata": {},
     "output_type": "execute_result"
    }
   ],
   "source": [
    "# Помимо этих функций в itertools есть еще несколько\n",
    "import itertools\n",
    "dir(itertools) # функции, в имено которых есть __ - приватные"
   ]
  },
  {
   "cell_type": "markdown",
   "metadata": {},
   "source": [
    "Более подробно о них можно почитать на официальном сайте \n",
    "https://docs.python.org/2/library/itertools.html"
   ]
  },
  {
   "cell_type": "markdown",
   "metadata": {},
   "source": [
    "# Модуль Collections"
   ]
  },
  {
   "cell_type": "code",
   "execution_count": 27,
   "metadata": {
    "collapsed": true
   },
   "outputs": [],
   "source": [
    "# Модуль Collections предоставляет дополнительные специализированные коллекции\n",
    "# Подключим его\n",
    "import collections"
   ]
  },
  {
   "cell_type": "code",
   "execution_count": 30,
   "metadata": {
    "collapsed": false
   },
   "outputs": [
    {
     "name": "stdout",
     "output_type": "stream",
     "text": [
      "Counter({'e': 12, ' ': 10, 'i': 8, ',': 8, '\\n': 5, 'n': 4, 'r': 4, 't': 4, 'c': 3, 'h': 3, 'l': 2, 'A': 2, 'S': 2, 'a': 2, 's': 2, 'G': 2, 'u': 2, 'N': 1, 'E': 1, 'P': 1, 'z': 1, 'w': 1, 'o': 1, 'x': 1, 'F': 1, 'D': 1, 'H': 1, 'V': 1, 'b': 1, 'Z': 1, 'd': 1, 'f': 1})\n"
     ]
    }
   ],
   "source": [
    "# Для удобного подсчета элементов существует объект Counter\n",
    "# Он очень похож на стандартный словарь, за тем исключением, что если нет значения по ключу\n",
    "# то он автоматически выставит 0, а не выкинет ошибку\n",
    "vers = \"\"\"\n",
    "Eins, Zwei, Polizei\n",
    "Drei, Vier, Grenadier\n",
    "Funf, Sechs, Alte Hex\n",
    "Sieben, Acht, Gute Nacht\n",
    "\"\"\"\n",
    "\n",
    "letters = collections.Counter()\n",
    "\n",
    "for i in vers:\n",
    "    letters[i] += 1\n",
    "\n",
    "print(letters) # Counter выдает значения в порядке убывания"
   ]
  },
  {
   "cell_type": "code",
   "execution_count": 32,
   "metadata": {
    "collapsed": false
   },
   "outputs": [
    {
     "name": "stdout",
     "output_type": "stream",
     "text": [
      "defaultdict(<class 'list'>, {0: [0, 3, 6, 9], 1: [1, 4, 7], 2: [2, 5, 8]})\n"
     ]
    }
   ],
   "source": [
    "# Defaultdict также мало чем отличается от стандартного словаря. Разница в том, что при осутствии значения по ключу\n",
    "# будет созданно заданное значение по умолчанию\n",
    "# Counter по сути это просто defaultdict(int)\n",
    "\n",
    "s = collections.defaultdict(list) # если значения нет, будет создан новый list\n",
    "\n",
    "for i in range(10):\n",
    "    s[i % 3].append(i) # не нужно проверять на существование\n",
    "\n",
    "print(s)"
   ]
  },
  {
   "cell_type": "code",
   "execution_count": 34,
   "metadata": {
    "collapsed": false
   },
   "outputs": [
    {
     "name": "stdout",
     "output_type": "stream",
     "text": [
      "defaultdict(<function <lambda> at 0x7f2dc9453158>, {0: ['A', 'B', 'C', 0, 3, 6, 9], 1: ['A', 'B', 'C', 1, 4, 7], 2: ['A', 'B', 'C', 2, 5, 8]})\n"
     ]
    }
   ],
   "source": [
    "s = collections.defaultdict(lambda: [\"A\", \"B\", \"C\"]) # если значения нет, будет создан [\"A\", \"B\", \"C\"]\n",
    "\n",
    "for i in range(10):\n",
    "    s[i % 3].append(i)\n",
    "    \n",
    "print(s)"
   ]
  },
  {
   "cell_type": "code",
   "execution_count": 39,
   "metadata": {
    "collapsed": false
   },
   "outputs": [
    {
     "name": "stdout",
     "output_type": "stream",
     "text": [
      "OrderedDict([(20, 8000), (19, 6859), (18, 5832), (17, 4913), (16, 4096), (15, 3375), (14, 2744), (13, 2197), (12, 1728), (11, 1331), (10, 1000), (9, 729), (8, 512), (7, 343), (6, 216), (5, 125), (4, 64), (3, 27), (2, 8), (1, 1)])\n",
      "----------\n",
      "{1: 1, 2: 8, 3: 27, 4: 64, 5: 125, 6: 216, 7: 343, 8: 512, 9: 729, 10: 1000, 11: 1331, 12: 1728, 13: 2197, 14: 2744, 15: 3375, 16: 4096, 17: 4913, 18: 5832, 19: 6859, 20: 8000}\n"
     ]
    }
   ],
   "source": [
    "# OrderedDict - еще одна разновидность словаря. В этот раз он помнит порядок, в котором добавлялись элементы\n",
    "\n",
    "a = collections.OrderedDict()\n",
    "b = dict()\n",
    "\n",
    "for i in range(20, 0, -1):\n",
    "    a[i] = i**3\n",
    "    b[i] = i**3\n",
    "    \n",
    "print(a) # Элементы также будут в обратном порядке\n",
    "print(\"-\" * 10)\n",
    "print(b) # Элементы будут в произвольном порядке"
   ]
  },
  {
   "cell_type": "code",
   "execution_count": 42,
   "metadata": {
    "collapsed": false
   },
   "outputs": [
    {
     "name": "stdout",
     "output_type": "stream",
     "text": [
      "Petr Borzh 27\n",
      "Petr Borzh 27\n",
      "person(name='Petr', surname='Borzh', age=27)\n"
     ]
    }
   ],
   "source": [
    "# namedtuple - разновидность кортежа, в котором элементы имеют имя\n",
    "Person = collections.namedtuple('person', ['name', 'surname', 'age']) # задание шаблона\n",
    "a = Person(name = \"Petr\", surname = \"Borzh\", age = 27) # создание объекта\n",
    "print(a.name, a.surname, a.age)\n",
    "print(a[0], a[1], a[2])\n",
    "print(a)"
   ]
  },
  {
   "cell_type": "markdown",
   "metadata": {},
   "source": [
    "Более подробно о модуле Collections можно почитать на официальном сайте https://docs.python.org/2/library/collections.html"
   ]
  },
  {
   "cell_type": "markdown",
   "metadata": {},
   "source": [
    "# Регулярные выражения"
   ]
  },
  {
   "cell_type": "code",
   "execution_count": 1,
   "metadata": {
    "collapsed": true
   },
   "outputs": [],
   "source": [
    "# Регулярные выражения - специальный язык, предназначеный для произведения манипуляций со строками\n",
    "# Подключим соответствующий модуль\n",
    "import re"
   ]
  },
  {
   "cell_type": "code",
   "execution_count": 2,
   "metadata": {
    "collapsed": false
   },
   "outputs": [],
   "source": [
    "pushkin = \"\"\"\n",
    "У лукоморья дуб зелёный;\n",
    "Златая цепь на дубе том:\n",
    "И днём и ночью кот учёный\n",
    "Всё ходит по цепи кругом;\n",
    "Идёт направо - песнь заводит,\n",
    "Налево - сказку говорит.\n",
    "Там чудеса: там леший бродит,\n",
    "Русалка на ветвях сидит;\n",
    "Там на неведомых дорожках\n",
    "Следы невиданных зверей;\n",
    "Избушка там на курьих ножках\n",
    "Стоит без окон, без дверей;\n",
    "Там лес и дол видений полны;\n",
    "Там о заре прихлынут волны\n",
    "На брег песчаный и пустой,\n",
    "И тридцать витязей прекрасных\n",
    "Чредой из вод выходят ясных,\n",
    "И с ними дядька их морской;\n",
    "Там королевич мимоходом\n",
    "Пленяет грозного царя;\n",
    "Там в облаках перед народом\n",
    "Через леса, через моря\n",
    "Колдун несёт богатыря;\n",
    "В темнице там царевна тужит,\n",
    "А бурый волк ей верно служит;\n",
    "Там ступа с Бабою Ягой\n",
    "Идёт, бредёт сама собой,\n",
    "Там царь Кащей над златом чахнет;\n",
    "Там русский дух... там Русью пахнет!\n",
    "И там я был, и мёд я пил;\n",
    "У моря видел дуб зелёный;\n",
    "Под ним сидел, и кот учёный\n",
    "Свои мне сказки говорил.\n",
    "\"\"\""
   ]
  },
  {
   "cell_type": "code",
   "execution_count": 4,
   "metadata": {
    "collapsed": false
   },
   "outputs": [
    {
     "name": "stdout",
     "output_type": "stream",
     "text": [
      "400\n"
     ]
    }
   ],
   "source": [
    "# Для того, чтобы найти подстроку, можно использовать встроенную функцию строки find\n",
    "num = pushkin.find(\"ой\")\n",
    "print(num) # номер символа, который содержит искомую подстроку"
   ]
  },
  {
   "cell_type": "code",
   "execution_count": 6,
   "metadata": {
    "collapsed": false
   },
   "outputs": [
    {
     "name": "stdout",
     "output_type": "stream",
     "text": [
      "['пустой', 'Чредой', 'морской', 'Ягой', 'собой']\n"
     ]
    }
   ],
   "source": [
    "# Регулярные выражения позволяют делать гораздо более мощный поиск по строке\n",
    "words = re.findall(\"[A-Яа-я]*ой\", pushkin) # Поиск ведется не по конкретной строке, а по шаблону, указанному в поиске\n",
    "print(words) # В данном случае, все слова, которые оканчиваются на ой"
   ]
  },
  {
   "cell_type": "markdown",
   "metadata": {},
   "source": [
    "Краткий обзор символов, использующихся в шаблонах регулярных выражений\n",
    "\n",
    "#### [abc] - на месте данной конструкции может быть любой символ из тех, что записал в скобках\n",
    "\n",
    "Пример: [0123456789] - любая цифра. Чтобы не переписывать все значения из какого-то диапазона, можно просто указать его границы:\n",
    "\n",
    "* [0-9] - эта запись эквиавалентна [0123456789]\n",
    "* [A-Z] - любая заглавная буква\n",
    "* [A-Za-z] - любая буква\n",
    "\n",
    "Внутри [] также можно использовать специальный символ ^ - он наоборот показывает, какие символы не могу встречаться на этом месте\n",
    "\n",
    "Пример: [^A] - любой символ, кроме A\n",
    "\n",
    "#### \\* - указывает на то, что символ может повторяться любое количество раз\n",
    "\n",
    "Пример: a* - найдет любые подстроки, сотсоящие из любого количества букв а\n",
    "\n",
    "* [0-9]* - любая последовательность цифр\n",
    "* [A-Z]* - любая последовательность заглавных букв\n",
    "\n",
    "#### ? - указывает на то, что символ может появиться, а может и нет\n",
    "\n",
    "Пример: cars? - найдет слова car и cars\n",
    "\n",
    "#### + - указывает на то, что символ может повторяться любое количество раз, но большее единицы\n",
    "\n",
    "Пример: Ye+ - найдет Ye, Yeee, Yeeeee, ..., но не найдет просто Y\n",
    "\n",
    "#### ^ - указывает на начало строки\n",
    "\n",
    "Пример: ^H в строке \"Hello Harry!\" найдет H в слове Hello, но не найдет H в слове Harry\n",
    "\n",
    "#### $ - указывает на конец строки\n",
    "\n",
    "Пример: a$ в строке \"Baraka Obama\" найдет a в слове Obama, но не найдет a в слове Baraka\n",
    "\n",
    "Более подробно о языке регулярных выражений можно прочесть, к примеру, на [Википедии](https://ru.wikipedia.org/wiki/%D0%A0%D0%B5%D0%B3%D1%83%D0%BB%D1%8F%D1%80%D0%BD%D1%8B%D0%B5_%D0%B2%D1%8B%D1%80%D0%B0%D0%B6%D0%B5%D0%BD%D0%B8%D1%8F)"
   ]
  },
  {
   "cell_type": "code",
   "execution_count": 7,
   "metadata": {
    "collapsed": false
   },
   "outputs": [
    {
     "name": "stdout",
     "output_type": "stream",
     "text": [
      "<!DOCTYPE html>\n",
      "<!-- (c) Art. Lebedev Studio | http://www.artlebedev.com/ -->\n",
      "<html xmlns:perl=\"urn:\n"
     ]
    }
   ],
   "source": [
    "# Для небольшой демонстрации, подключим модуль для работы с сетью, скачаем старничку в интернете и что-нибудь на ней\n",
    "# найдем\n",
    "import urllib.request\n",
    "text = urllib.request.urlopen(\"https://fdp.hse.ru/ischool/inf/\").read().decode(\"utf-8\") # главная страница ВШЭ\n",
    "print(text[:100]) # исходный html - код "
   ]
  },
  {
   "cell_type": "code",
   "execution_count": 8,
   "metadata": {
    "collapsed": false
   },
   "outputs": [
    {
     "name": "stdout",
     "output_type": "stream",
     "text": [
      "<a href=\"mailto:ischool@hse.ru\">ischool@hse.ru</a>\n",
      "<a href=\"https://fdp.hse.ru/ischool#aboutischool\">Для кого предназначена Интернет-школа?&nbsp;</a>\n",
      "<a href=\"https://fdp.hse.ru/ischool#aboutcourses\">Что содержат курсы Интернет-школы?</a>\n",
      "<a href=\"https://shkolnikam.hse.ru/\">Вышка-школьникам</a>\n",
      "<a href=\"https://www.hse.ru/abiturient\">Поступающим в НИУ ВШЭ</a>\n",
      "<a href=\"https://olymp.hse.ru/mmo/\">Олимпиада школьников &quot;Высшая проба&quot;</a>\n",
      "<a href=\"https://fdp.hse.ru/\">Факультет довузовской подготовки</a>\n",
      "<a href=\"https://www.hse.ru/info/ustav/\">Устав и лицензии НИУ ВШЭ</a>\n",
      "<a href=\"https://www.hse.ru/contacts.html\">Адреса и контакты</a>\n",
      "<a href=\"https://www.hse.ru/copyright\">Условия использования материалов</a>\n",
      "<a href=\"http://www.hse.ru/sitemap.html\">Карта сайта</a>\n"
     ]
    }
   ],
   "source": [
    "links = re.findall('<a href=\"[^\"]+\">[^<]*</a>', text) # найдем все ссылки на данной странице\n",
    "# Как можно видеть внутри href может быть любой симол кроме закрывающего \" и там должно находиться хоть что-то\n",
    "# Содержимое же тега не должно содержать закрывающего  < и может быть впринципе пустым\n",
    "print(*links[:30], sep=\"\\n\")"
   ]
  },
  {
   "cell_type": "code",
   "execution_count": 9,
   "metadata": {
    "collapsed": false
   },
   "outputs": [
    {
     "name": "stdout",
     "output_type": "stream",
     "text": [
      "ischool@hse.ru: mailto:ischool@hse.ru\n",
      "Для кого предназначена Интернет-школа?&nbsp;: https://fdp.hse.ru/ischool#aboutischool\n",
      "Что содержат курсы Интернет-школы?: https://fdp.hse.ru/ischool#aboutcourses\n",
      "Вышка-школьникам: https://shkolnikam.hse.ru/\n",
      "Поступающим в НИУ ВШЭ: https://www.hse.ru/abiturient\n",
      "Олимпиада школьников &quot;Высшая проба&quot;: https://olymp.hse.ru/mmo/\n",
      "Факультет довузовской подготовки: https://fdp.hse.ru/\n",
      "Устав и лицензии НИУ ВШЭ: https://www.hse.ru/info/ustav/\n",
      "Адреса и контакты: https://www.hse.ru/contacts.html\n",
      "Условия использования материалов: https://www.hse.ru/copyright\n",
      "Карта сайта: http://www.hse.ru/sitemap.html\n"
     ]
    }
   ],
   "source": [
    "# Уже неплохо, но хочется найти именно url, а не html-теги\n",
    "# Для этих целей в регулярных выражениях есть конструкция ()\n",
    "# Все, что будет помещено в круглые скобки будет отдельно скопированно из результатов поиска и сгрупированно\n",
    "# В нашем случае, заключим в круглые скобки содержимое href и содержимое тега\n",
    "links = re.findall('<a href=\"([^\"]+)\">([^<]*)</a>', text) \n",
    "for url, data in links[:30]: # первый блок () попадает в url, второй в data\n",
    "    print(\"{0}: {1}\".format(data, url))"
   ]
  },
  {
   "cell_type": "code",
   "execution_count": 124,
   "metadata": {
    "collapsed": false
   },
   "outputs": [
    {
     "name": "stdout",
     "output_type": "stream",
     "text": [
      "Программа развития: https://strategy.hse.ru/\n",
      "Факультеты и институты: https://www.hse.ru/education/faculty/\n",
      "Преподаватели и сотрудники: https://www.hse.ru/org/persons/\n",
      "Выпускники: https://alumni.hse.ru/\n",
      "Спасибо, Вышка: https://spasibo.hse.ru/\n",
      "Особенности учебного процесса: https://www.hse.ru/studyspravka/kontr\n",
      "Выбор траектории обучения: https://electives.hse.ru/\n",
      "Образовательные стандарты: https://www.hse.ru/standards/\n",
      "Оценка качества образования: https://www.hse.ru/deprog/quality_edu\n",
      "Бакалавриат: https://www.hse.ru/education/\n",
      "Аспирантские школы: https://aspirantura.hse.ru/asp_school\n",
      "Второе высшее, дополнительное и бизнес-образование: https://busedu.hse.ru/\n",
      "Летние школы: https://www.hse.ru/sumschool/\n",
      "Дистанционные курсы для школьников: https://fdp.hse.ru/ischool\n",
      "Публикации: https://publications.hse.ru/\n",
      "Журналы ВШЭ: https://www.hse.ru/science/journals\n",
      "Научные мероприятия: https://www.hse.ru/news/announcements/scientific_actions/\n",
      "Международные лаборатории: https://www.hse.ru/ru/interlabs/\n",
      "Конкурсы и гранты: https://www.hse.ru/science/hsegrants\n",
      "Академическое развитие: https://academics.hse.ru/\n",
      "Мониторинги: http://www.hse.ru/monitoring/\n",
      "Трендлеттеры: http://issek.hse.ru/trendletter/\n",
      "Карта кластеров: http://map.cluster.hse.ru/\n",
      "Цифры и факты: https://www.hse.ru/figures/\n",
      "НИУ ВШЭ в рейтингах: http://strategy.hse.ru/rating\n",
      "Оргструктура: https://www.hse.ru/orgstructure/\n",
      "Корпуса и общежития: https://www.hse.ru/buildinghse\n",
      "Единая приемная: https://ep.hse.ru/\n",
      "Фонд целевого капитала: https://endowment.hse.ru/\n",
      "Поступление: https://www.hse.ru/abiturient\n"
     ]
    }
   ],
   "source": [
    "# Кроме url в результаты поиска также попали hash-ссылки (которые начинаются с #) и почта\n",
    "# Уберем из из результатов\n",
    "links = re.findall('<a href=\"([^@\"#]+)\">([^<]*)</a>', text) # Добавлены @ и #  в исключение в href\n",
    "for url, data in links[:30]:\n",
    "    print(\"{0}: {1}\".format(data, url))"
   ]
  },
  {
   "cell_type": "code",
   "execution_count": 10,
   "metadata": {
    "collapsed": false
   },
   "outputs": [
    {
     "name": "stdout",
     "output_type": "stream",
     "text": [
      "My phone number is [Private information] and his number is [Private information]\n"
     ]
    }
   ],
   "source": [
    "# Помимо поиска регулярные выражения позволяют делать замену в исходной строке\n",
    "a = \"My phone number is 89876543210 and his number is 89741236547\"\n",
    "result = re.sub(\"[0-9]+\", '[Private information]', a)\n",
    "print(result) # скрытие всех номеров в строке"
   ]
  },
  {
   "cell_type": "code",
   "execution_count": 89,
   "metadata": {
    "collapsed": false
   },
   "outputs": [
    {
     "name": "stdout",
     "output_type": "stream",
     "text": [
      "['0', '54', '65', '11', '6', '54', '1', '5', '4', '546', '4', '5', '4', '']\n"
     ]
    }
   ],
   "source": [
    "# Также можно разбивать строки не по константной строке, а по шаблону\n",
    "a = \"0df54d65g11ds6g54g1df5g4dfg546g4g5df4g\" \n",
    "numbers = re.split(\"[a-z]+\", a) # вытащить все числа, разделенные буквами\n",
    "print(numbers)"
   ]
  },
  {
   "cell_type": "markdown",
   "metadata": {},
   "source": [
    "Здесь были приведены базовые, наиболее часто используемые функции\n",
    "\n",
    "Более подробно про данный модуль с Питоне можно прочитать на официальном сайте\n",
    "https://docs.python.org/2/library/re.html"
   ]
  },
  {
   "cell_type": "markdown",
   "metadata": {},
   "source": [
    "# Filter, map, zip, reduce"
   ]
  },
  {
   "cell_type": "code",
   "execution_count": 90,
   "metadata": {
    "collapsed": true
   },
   "outputs": [],
   "source": [
    "# В сам Питон также встроены несколько фукнций, позволяющих более удобно модифицировать коллекции\n",
    "# Для их использования никаких модулей подключать не требуется - все работает из коробки"
   ]
  },
  {
   "cell_type": "code",
   "execution_count": 94,
   "metadata": {
    "collapsed": false
   },
   "outputs": [
    {
     "name": "stdout",
     "output_type": "stream",
     "text": [
      "[0, 2, 4, 6, 8, 10, 12, 14, 16, 18, 20, 22, 24, 26, 28, 30, 32, 34, 36, 38, 40, 42, 44, 46, 48, 50, 52, 54, 56, 58, 60, 62, 64, 66, 68, 70, 72, 74, 76, 78, 80, 82, 84, 86, 88, 90, 92, 94, 96, 98]\n",
      "\n",
      "[0, 1, 2, 3, 4, 5, 6, 7, 8, 9, 10, 11, 12, 13, 14, 15, 16, 17, 18, 19, 20, 21, 22, 23, 24, 25, 26, 27, 28, 29, 30, 31, 32, 33, 34, 35, 36, 37, 38, 39, 40, 41, 42, 43, 44, 45, 46, 47, 48, 49]\n",
      "\n",
      "[0, 1, 4, 9, 16, 25, 36, 49, 64, 81]\n"
     ]
    }
   ],
   "source": [
    "# Filter  возвращает список тех элементов исходной последовательности, что удовлетворяют условию\n",
    "a = list(range(100))\n",
    "\n",
    "even = list(filter(lambda x: x % 2 == 0, a))\n",
    "less50 = list(filter(lambda x: x < 50, a))\n",
    "square = list(filter(lambda x: int(x**0.5)**2 == x, a))\n",
    "\n",
    "print(even, less50, square, sep='\\n\\n')"
   ]
  },
  {
   "cell_type": "code",
   "execution_count": 100,
   "metadata": {
    "collapsed": false
   },
   "outputs": [
    {
     "name": "stdout",
     "output_type": "stream",
     "text": [
      "[0, 1, 4, 9, 16, 25, 36, 49, 64, 81]\n",
      "\n",
      "[0, 1, 8, 27, 64, 125, 216, 343, 512, 729]\n",
      "\n",
      "aAAbbbAbCccBBcccBNc\n"
     ]
    }
   ],
   "source": [
    "# Map возвращает список из элеметнов исходной последовательности, к которым была применена указанная функция\n",
    "\n",
    "a = list(range(10))\n",
    "b = \"AaaBBBaBcCCbbCCCbnC\"\n",
    "\n",
    "square = list(map(lambda x: x**2, a))\n",
    "cube = list(map(lambda x: x**3, a))\n",
    "changeRegister = \"\".join(map(lambda x: x.upper() if x.islower() else x.lower(), b ))\n",
    "\n",
    "print(square, cube, changeRegister, sep='\\n\\n')"
   ]
  },
  {
   "cell_type": "code",
   "execution_count": 105,
   "metadata": {
    "collapsed": false
   },
   "outputs": [
    {
     "name": "stdout",
     "output_type": "stream",
     "text": [
      "[5, 16, 69, 56]\n",
      "['Hello Alexander', 'GoodBye Boris']\n"
     ]
    }
   ],
   "source": [
    "# Map также может применять функцию к нескольким коллекциям сразу\n",
    "a = [1, 2, 3, 4]\n",
    "b = [5, 8, 23, 14]\n",
    "\n",
    "aa = [\"Hello\", \"GoodBye\"]\n",
    "bb = [\"Alexander\", \"Boris\"]\n",
    "\n",
    "c = list(map(lambda x, y: x * y, a, b)) # Сумма соответствующих элементов списков\n",
    "d = list(map(lambda x, y: \"{0} {1}\".format(x, y), aa, bb))\n",
    "print(c)\n",
    "print(d)"
   ]
  },
  {
   "cell_type": "code",
   "execution_count": 108,
   "metadata": {
    "collapsed": false
   },
   "outputs": [
    {
     "name": "stdout",
     "output_type": "stream",
     "text": [
      "[(1, 5), (2, 8), (3, 23), (4, 14)]\n"
     ]
    }
   ],
   "source": [
    "# Более гибкой альтернативой применению map, как в предыдущем случае, является функция zip\n",
    "# Она создает новый список, состоящий из соответствующих пар елементов из каждой коллекции\n",
    "a = [1, 2, 3, 4]\n",
    "b = [5, 8, 23, 14]\n",
    "print(list(zip(a, b)))"
   ]
  },
  {
   "cell_type": "code",
   "execution_count": 110,
   "metadata": {
    "collapsed": false
   },
   "outputs": [
    {
     "name": "stdout",
     "output_type": "stream",
     "text": [
      "AaAaAa\n",
      "MFPMFPMFPMFP\n",
      "SCDSCDSCDSCDSCD\n"
     ]
    }
   ],
   "source": [
    "a = [3, 2, 3, 4, 5]\n",
    "b = [True, False, False, True, True]\n",
    "c = [\"Aa\", \"FD\", \"NNJ\", \"MFP\", \"SCD\"]\n",
    "\n",
    "for count, isprint, string in zip(a, b, c): # идем по трем спискам одновременно\n",
    "    if(isprint):\n",
    "        print(string * count)"
   ]
  },
  {
   "cell_type": "code",
   "execution_count": 114,
   "metadata": {
    "collapsed": false
   },
   "outputs": [
    {
     "name": "stdout",
     "output_type": "stream",
     "text": [
      "55\n",
      "3628800\n"
     ]
    }
   ],
   "source": [
    "# Reduce применяет функцию двух переменных к элементам коллекции и возвращает посчитанный результат\n",
    "\n",
    "from functools import reduce # в последнем питоне reduce вынесли в отдельный модуль\n",
    "\n",
    "summ = reduce(lambda x, y: x+y, range(11)) # Сумма первых 10 чисел\n",
    "product = reduce(lambda x, y: x*y, range(1, 11)) # Произведение первых 10 чисел (он же факториал)\n",
    "\n",
    "print(summ, product, sep='\\n')"
   ]
  },
  {
   "cell_type": "code",
   "execution_count": 121,
   "metadata": {
    "collapsed": false
   },
   "outputs": [
    {
     "name": "stdout",
     "output_type": "stream",
     "text": [
      "4\n",
      "bbbaaassshhhfffbbbhhhaaassslllfffbbbhhhsssdddbbbfffhhhsssdddlllaaasssfffhhhhhhdddsssffflllaaabbbsssdddfffhhhbbbjjjbbbfff\n"
     ]
    }
   ],
   "source": [
    "# Начальное значение для reduce - это или первый элемент коллекции или его можно задать последним аргументом\n",
    "a = \"bashfbhaslfbhsdbfhsdlasfhhdsflabsdfhbjbf\"\n",
    "\n",
    "acount = reduce(lambda x, y: x if y != 'a' else x + 1, a, 0) # подсчитываем количество 'a' в строке. 0 - начальное значение\n",
    "triple = reduce(lambda x, y: x + y*3, a, \"\") # утроение кажой буквы. Пустая строка - начальное значение\n",
    "\n",
    "print(acount, triple, sep='\\n')"
   ]
  },
  {
   "cell_type": "code",
   "execution_count": null,
   "metadata": {
    "collapsed": true
   },
   "outputs": [],
   "source": []
  }
 ],
 "metadata": {
  "kernelspec": {
   "display_name": "Python 3",
   "language": "python",
   "name": "python3"
  },
  "language_info": {
   "codemirror_mode": {
    "name": "ipython",
    "version": 3
   },
   "file_extension": ".py",
   "mimetype": "text/x-python",
   "name": "python",
   "nbconvert_exporter": "python",
   "pygments_lexer": "ipython3",
   "version": "3.5.1"
  }
 },
 "nbformat": 4,
 "nbformat_minor": 0
}
