{
 "cells": [
  {
   "cell_type": "markdown",
   "metadata": {},
   "source": [
    "# Dance-Dance-Revolution\n",
    "\n",
    "Динамическое программирование часто помогает решить различные задачи оптимизации. В предыдущей лекции мы рассмотрели случай, когда необходимо было найти наименьшее число операций для превращения одного слова в другое. В этот раз разберем еще один пример задачи, в котором необходимо найти минимум."
   ]
  },
  {
   "cell_type": "markdown",
   "metadata": {},
   "source": [
    "В далеком 1998 году, Японская компания выпустила аркадный игровой автомат, который невероятно быстро завоевал популярность и любовь огромного числа игроков. Суть ее заключалась в следующем:\n",
    "\n",
    "Вся игра происходит на танцевальной платформе, на которой есть 4 панели: \"Лево\", \"Право\", \"Вверх\", \"Вниз\" (‘L’, ‘R’, ‘U’ и ‘D’ соответственно). "
   ]
  },
  {
   "cell_type": "markdown",
   "metadata": {},
   "source": [
    "<img src=\"img/DDR1.png\">"
   ]
  },
  {
   "cell_type": "markdown",
   "metadata": {},
   "source": [
    "Во время игры играет мелодия, условно разбитая на N позиций в такт музыке. Для каждой такой позции указано, какие стрелки должны быть нажаты во время воспроизведения этой позиции - или одна или две одноверемнно нажатые стрелки.\n",
    "\n",
    "Наша цель в этой игре - нажать на все стрелки в требуемой последовательности при этом минимизировав расстояние, которое придется сделать ногами."
   ]
  },
  {
   "cell_type": "markdown",
   "metadata": {},
   "source": [
    "Некоторые уточнения: игрок имеет право стоять на стрелке даже тогда, когда не требуется ее наживать - необходимо лишь, чтобы при этом были нажаты те, которые указывает игра.\n",
    "Пройденное расстояние подразумевается евклидовым, то есть расстояние между центральной панелью и любой другой - 1, а между верхней и левой, например, $ \\sqrt{2}$\n",
    "\n",
    "Изначальное положение ног - обе стоят на центральной. Финальное положение ног - любое."
   ]
  },
  {
   "cell_type": "markdown",
   "metadata": {},
   "source": [
    "Для того, чтобы подступиться к этой задаче, сразу заметим некоторые факты, на которым мы и построим итоговое решение.\n",
    "\n",
    "* На каждой игровой позиции возможно всего $5 \\cdot 5 = 25$ конфигураций (положений ног) - 5 способов поставить правую ногу и пять способов поставить левую ногу (независимо).\n",
    "\n",
    "* Путь для каждой конфигурации на i-той игровой позиции мы знаем минимальное расстояние, которое необходимо проделать, чтобы с начальной 0-ой игровой позиции перейти в текущую на i-том. Тогда мы может посчитать такое расстояние для каждой конфигурации уже на i+1-ой игровой позиции:\n",
    "\n",
    " $d_{i+1}[A][B] = min \\{ d_i[C][D] + cost( C \\cdot D \\rightarrow A \\cdot B ) \\:\\:\\:\\:\\: \\forall C, D \\in \\{ Right, Left, Up, Down, Center \\} \\}$\n",
    " \n",
    "И правда, для этого всего лишь нужно выбрать такую конфигурацию на предыдущей игровой позиции, чтобы расстояния перехода в нее + расстояние для перехода из нее в текущую была минимальна. Это суммарное расстрояние и будет искомым значением.\n",
    "\n",
    "* Рассчитывать минимальное расстояние на i-той игровой позиции необходимо только для тех конфигураций, которые допускаются игрой. \n",
    "\n",
    "* Минимальное значение из подходящий конфигураций на n-той игровой позиции и есть ответ, так как это и будет минимальное расстояние, которое необходимо проделать начиная с 0-й позиции передвигая ноги только так, как это допускает игра до последней n-той позиции."
   ]
  },
  {
   "cell_type": "markdown",
   "metadata": {},
   "source": [
    "Таким образом решение данной задачи будет состоять в вычислении минимальных расстояний для допустимых конфигураций для каждой игровой позиции. Минимальное число на последней игровой позиции - ответ к задаче."
   ]
  },
  {
   "cell_type": "code",
   "execution_count": 1,
   "metadata": {
    "collapsed": false
   },
   "outputs": [
    {
     "data": {
      "text/plain": []
     },
     "execution_count": 1,
     "metadata": {},
     "output_type": "execute_result"
    }
   ],
   "source": [
    "#include <climits>\n",
    "#include <vector>\n",
    "#include <string>\n",
    "#include <iostream>\n",
    "#include <fstream>\n",
    "#include <cmath>"
   ]
  },
  {
   "cell_type": "code",
   "execution_count": 2,
   "metadata": {
    "collapsed": false
   },
   "outputs": [
    {
     "data": {
      "text/plain": []
     },
     "execution_count": 2,
     "metadata": {},
     "output_type": "execute_result"
    }
   ],
   "source": [
    "double play_DDR(std::string gameFile) {\n",
    "    std::ifstream gf(gameFile);\n",
    "\n",
    "    const int SIZE = 5; // всего 5 плиток\n",
    "    int x[SIZE] = {-1, 0, 0, 0, 1}; // координаты плиток\n",
    "    int y[SIZE] = {0, -1, 0, 1, 0}; // кодирование: 0 - Left, 1 - Down, 2 - Center, 3 - Up, 4 - Right\n",
    "    auto dist = [&x, &y](int i, int j) {\n",
    "        return sqrt( (x[i]-x[j])*(x[i]-x[j]) + (y[i]-y[j])*(y[i]-y[j]) ); // евклидово расстояние между\n",
    "    };\n",
    "    int N;\n",
    "    gf >> N;\n",
    "    std::vector< std::vector< std::vector<double> > > E(N+1, std::vector< std::vector<double> >(5, std::vector<double>(5, INFINITY)));\n",
    "    // E[i][A][B] - стоимость(расстояние) конфигцрации, при котогой правая нога стоит на A, левая на B на i-той игровой позиции\n",
    "    // изначально положим бесконечность в каждую конфигурацию\n",
    "    std::vector< std::vector<bool> > game(N+1, std::vector<bool>(5, false));\n",
    "    // данные игры. game[i][C] == True -> на i-той позиции нога должна находиться на С, False -> не обязана\n",
    "    for(int i = 0; i < N; i++) {\n",
    "        int q;\n",
    "        gf >> q;\n",
    "        for(int j = 0; j < q; j++) { // считывает параметры игры\n",
    "            char position;\n",
    "            gf >> position;\n",
    "            switch (position) {\n",
    "                case 'U':\n",
    "                    game[i][3] = true;\n",
    "                    break;\n",
    "                case 'D':\n",
    "                    game[i][1] = true;\n",
    "                    break;\n",
    "                case 'L':\n",
    "                    game[i][0] = true;\n",
    "                    break;\n",
    "                case 'R':\n",
    "                    game[i][4] = true;\n",
    "                    break;\n",
    "            }\n",
    "        }\n",
    "    }\n",
    "\n",
    "    E[0][2][2] = 0.0; // Изначально стоим в центре. Расстояние равно 0\n",
    "    for(int i = 0; i < N; i++) { // начинаем расчитывать расстояния конфигураций\n",
    "        for(int C = 0; C < SIZE; C++) {\n",
    "            for(int D = 0; D < SIZE; D++) { // Перебираем все конфигурации на текущей позиции\n",
    "                bool incorrect = false;\n",
    "                for(int game_conf = 0; game_conf < SIZE; game_conf++) {\n",
    "                    if(game[i][game_conf] and !( game_conf == C or game_conf == D ) ){ // проверяем, является ли данная конфигурация допустимой с точки зрения игры\n",
    "                        incorrect = true;\n",
    "                    }\n",
    "                }\n",
    "                if(incorrect) continue;  // пропускаем все неподходящие конфигурации\n",
    "\n",
    "                for(int A = 0; A < SIZE; A++){\n",
    "                    for(int B = 0; B < SIZE; B++) { // начитаем вычисление каждой конфигурации на следующей позиции\n",
    "                        double cost = std::min(dist(A, C) + dist(B, D), // у нас есть только два варианта смены конфигцрации\n",
    "                                               dist(A, D) + dist(B, C)); // или A->C и B->D или наоборот\n",
    "                        E[i+1][C][D] = std::min(E[i+1][C][D], E[i][A][B]+cost); // выбираем минимальный путь\n",
    "                    }\n",
    "                }\n",
    "            }\n",
    "        }\n",
    "    }\n",
    "\n",
    "    double result = INFINITY;\n",
    "    for(int A = 0; A < SIZE; A++) {\n",
    "        for(int B = 0; B < SIZE; B++) {\n",
    "            result = std::min(result, E[N][A][B]); // Выбираем минимальный на последней позиции\n",
    "        }\n",
    "    }\n",
    "    return result;\n",
    "}"
   ]
  },
  {
   "cell_type": "code",
   "execution_count": 3,
   "metadata": {
    "collapsed": false
   },
   "outputs": [
    {
     "data": {
      "text/plain": []
     },
     "execution_count": 3,
     "metadata": {},
     "output_type": "execute_result"
    }
   ],
   "source": [
    "void print_file(std::string f) { // печать файла для наглядности\n",
    "    std::ifstream file(f);\n",
    "    std::string s;\n",
    "    while(std::getline(file, s)) {\n",
    "        std::cout << s << std::endl;\n",
    "    }\n",
    "    \n",
    "}"
   ]
  },
  {
   "cell_type": "markdown",
   "metadata": {},
   "source": [
    "Примечание: файлы игры имеют следующую струкруру\n",
    "* Вначале идет число N- количество игровый позиций\n",
    "* Потом идет N строк в каждой из которых описывается соответствующая позиция\n",
    " * Вначале указывается 1 или 2 клавишы должны быть нажаты\n",
    " * После соответствующее количество клавиш, которые должны быть нажаты"
   ]
  },
  {
   "cell_type": "code",
   "execution_count": 9,
   "metadata": {
    "collapsed": false
   },
   "outputs": [
    {
     "name": "stdout",
     "output_type": "stream",
     "text": [
      "3\n",
      "1 U\n",
      "1 D\n",
      "2 L R\n",
      "-------\n",
      "4.82843"
     ]
    },
    {
     "data": {
      "text/plain": [
       "(std::basic_ostream<char, std::char_traits<char> >::__ostream_type &) @0x7fae043086e0\n"
      ]
     },
     "execution_count": 9,
     "metadata": {},
     "output_type": "execute_result"
    }
   ],
   "source": [
    "print_file(\"files/1\");\n",
    "std::cout << \"-------\" << std::endl;\n",
    "std::cout << play_DDR(\"files/1\");"
   ]
  },
  {
   "cell_type": "markdown",
   "metadata": {},
   "source": [
    "В данной игре игрок правую и левую ногу поставил на U и D изначально, а потом сдвинул их на L и R. Итого он затратил $ 1 + 1 + \\sqrt{2} + \\sqrt{2} \\approx 4.82843$ "
   ]
  },
  {
   "cell_type": "code",
   "execution_count": 11,
   "metadata": {
    "collapsed": false
   },
   "outputs": [
    {
     "name": "stdout",
     "output_type": "stream",
     "text": [
      "2\n",
      "1 U\n",
      "1 U\n",
      "-------\n",
      "1"
     ]
    },
    {
     "data": {
      "text/plain": [
       "(std::basic_ostream<char, std::char_traits<char> >::__ostream_type &) @0x7fae043086e0\n"
      ]
     },
     "execution_count": 11,
     "metadata": {},
     "output_type": "execute_result"
    }
   ],
   "source": [
    "print_file(\"files/2\");\n",
    "std::cout << \"-------\" << std::endl;\n",
    "std::cout << play_DDR(\"files/2\");"
   ]
  },
  {
   "cell_type": "markdown",
   "metadata": {},
   "source": [
    "Здесь игроку пришлось просто передвинуть одну ногу на U и все."
   ]
  },
  {
   "cell_type": "code",
   "execution_count": 12,
   "metadata": {
    "collapsed": false
   },
   "outputs": [
    {
     "name": "stdout",
     "output_type": "stream",
     "text": [
      "3\n",
      "2 R L\n",
      "2 U R\n",
      "2 U R\n",
      "-------\n",
      "3.41421"
     ]
    },
    {
     "data": {
      "text/plain": [
       "(std::basic_ostream<char, std::char_traits<char> >::__ostream_type &) @0x7fae043086e0\n"
      ]
     },
     "execution_count": 12,
     "metadata": {},
     "output_type": "execute_result"
    }
   ],
   "source": [
    "print_file(\"files/3\");\n",
    "std::cout << \"-------\" << std::endl;\n",
    "std::cout << play_DDR(\"files/3\");"
   ]
  },
  {
   "cell_type": "code",
   "execution_count": 13,
   "metadata": {
    "collapsed": false
   },
   "outputs": [
    {
     "name": "stdout",
     "output_type": "stream",
     "text": [
      "19\n",
      "2 R L\n",
      "2 U R\n",
      "2 U R\n",
      "2 R L\n",
      "2 R U\n",
      "2 U R\n",
      "2 L D\n",
      "2 R U\n",
      "2 R L\n",
      "2 U R\n",
      "2 U L\n",
      "2 U R\n",
      "2 L U\n",
      "2 L R\n",
      "2 U L\n",
      "2 L U\n",
      "2 U L\n",
      "2 L D\n",
      "2 R L\n",
      "-------\n",
      "26.9706"
     ]
    },
    {
     "data": {
      "text/plain": [
       "(std::basic_ostream<char, std::char_traits<char> >::__ostream_type &) @0x7fae043086e0\n"
      ]
     },
     "execution_count": 13,
     "metadata": {},
     "output_type": "execute_result"
    }
   ],
   "source": [
    "print_file(\"files/4\");\n",
    "std::cout << \"-------\" << std::endl;\n",
    "std::cout << play_DDR(\"files/4\");"
   ]
  },
  {
   "cell_type": "code",
   "execution_count": 14,
   "metadata": {
    "collapsed": false
   },
   "outputs": [
    {
     "name": "stdout",
     "output_type": "stream",
     "text": [
      "20\n",
      "2 U R\n",
      "1 L\n",
      "1 U\n",
      "2 U R\n",
      "1 L\n",
      "1 U\n",
      "2 U R\n",
      "1 L\n",
      "1 U\n",
      "2 U R\n",
      "1 L\n",
      "1 U\n",
      "2 U R\n",
      "1 L\n",
      "1 U\n",
      "2 U R\n",
      "1 L\n",
      "1 U\n",
      "2 U R\n",
      "1 L\n",
      "-------\n",
      "20.3848"
     ]
    },
    {
     "data": {
      "text/plain": [
       "(std::basic_ostream<char, std::char_traits<char> >::__ostream_type &) @0x7fae043086e0\n"
      ]
     },
     "execution_count": 14,
     "metadata": {},
     "output_type": "execute_result"
    }
   ],
   "source": [
    "print_file(\"files/5\");\n",
    "std::cout << \"-------\" << std::endl;\n",
    "std::cout << play_DDR(\"files/5\");"
   ]
  },
  {
   "cell_type": "code",
   "execution_count": null,
   "metadata": {
    "collapsed": true
   },
   "outputs": [],
   "source": []
  }
 ],
 "metadata": {
  "anaconda-cloud": {},
  "kernelspec": {
   "display_name": "C++",
   "language": "",
   "name": "cling"
  },
  "language_info": {
   "codemirror_mode": "text/x-c++src",
   "file_extension": ".c++",
   "mimetype": " text/x-c++src",
   "name": "c++"
  }
 },
 "nbformat": 4,
 "nbformat_minor": 1
}
