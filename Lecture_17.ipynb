{
 "cells": [
  {
   "cell_type": "markdown",
   "metadata": {},
   "source": [
    "# Бинарные деревья поиска\n",
    "\n",
    "Дерево поиска - это структура данных, которая позволяет эффективным образом хранить некоторое множество элементов. "
   ]
  },
  {
   "cell_type": "markdown",
   "metadata": {},
   "source": [
    "Само по себе дерево - это граф, который выглядит следующим образом: если корень - это начальная вершина дерева, и оно соединено ребрами с другими вершинами (потомками). Каждый такой потомок в свою очередь также является корнем уже более маленького дерева. "
   ]
  },
  {
   "cell_type": "markdown",
   "metadata": {},
   "source": [
    "<img src=\"https://upload.wikimedia.org/wikipedia/commons/f/f7/Binary_tree.svg\">"
   ]
  },
  {
   "cell_type": "markdown",
   "metadata": {},
   "source": [
    "Дерево 1. <small> Автор: Сведения об авторе отсутствуют или не читаются программно. Предположительно <a href=\"//commons.wikimedia.org/wiki/User:Dcoetzee\" title=\"User:Dcoetzee\">Dcoetzee</a> (основываясь на заявлении об авторском праве). - No machine-readable source provided. Own work assumed (based on copyright claims)., Общественное достояние, <a href=\"https://commons.wikimedia.org/w/index.php?curid=488330\">Ссылка</a> </small>"
   ]
  },
  {
   "cell_type": "markdown",
   "metadata": {},
   "source": [
    "У данного дерева корнем является самая верхняя вершина с 2. Ее потомками являются узлы 7 и 5 и можно заметить, что сами 7 и 5 - также корни деревьев (обычно они называются поддеревьями). Узел без потомков (например 11 на этом рисунке) - тоже является деревом."
   ]
  },
  {
   "cell_type": "markdown",
   "metadata": {},
   "source": [
    "Однако дерево 1 еще не является бинарным деревом поиска. Для этого, оно должно обладать <b>основным свойством дерева поиска</b>:\n",
    "* В любом узле А, значения ключей в левом поддереве меньше, чем в А\n",
    "* В любом узле А, значения ключей в правом поддереве больше или равно, чем в А\n",
    "* Оба поддерева - также бинарные деревья поиска"
   ]
  },
  {
   "cell_type": "markdown",
   "metadata": {},
   "source": [
    "<img src=\"https://upload.wikimedia.org/wikipedia/commons/d/da/Binary_search_tree.svg\">"
   ]
  },
  {
   "cell_type": "markdown",
   "metadata": {},
   "source": [
    "Дерево 2. <small>Автор: Сведения об авторе отсутствуют или не читаются программно. Предположительно <a href=\"//commons.wikimedia.org/wiki/User:Dcoetzee\" title=\"User:Dcoetzee\">Dcoetzee</a> (основываясь на заявлении об авторском праве). - No machine-readable source provided. Own work assumed (based on copyright claims)., Общественное достояние, <a href=\"https://commons.wikimedia.org/w/index.php?curid=488330\">Ссылка</a></small>"
   ]
  },
  {
   "cell_type": "markdown",
   "metadata": {},
   "source": [
    "Дерево 2 уже является полноценным деревом поиска. Все вершины, которые находятся в левом поддереве имеют значения, меньше 8, а все вершины правого поддерева - больше 8. И так выполнено для любого узла этого дерева.\n",
    "\n",
    "В дереве 1 слева находится число 7, в то время, как в вершине 2, что нарушает основное свойства дерева поиска."
   ]
  },
  {
   "cell_type": "markdown",
   "metadata": {},
   "source": [
    "Возникает логичный вопрос - почему данные деревья являются деревьями поиска? Ответ на этот вопрос заключается в том, что поиск любого узла в дереве можно проводить очень быстро.\n",
    "\n",
    "Алгоритм поиска в бинарном дереве поиска:\n",
    "* Если значение в корне совпадает с тем, которое мы ищем, то значит мы уже нашли нужную вершину - корень.\n",
    "* Если же нет, то есть два варианта:\n",
    " * Значение, которое мы ищем, меньше, чем в корне. Из-за основного свойства, это означает, что искомая вершина может быть только в левом поддереве - запускаем этот же алгоритм для левого потока корня.\n",
    " * Значение больше, чем в корне. Тогда аналогично, оно может быть только в правом поддереве - запускаем от правого потока.\n",
    "* Если мы пришли в вершину, у которой нет потомков, но при этом не нашли узел с таким же значением, то это будет означать, что в дереве нет такого элемента."
   ]
  },
  {
   "cell_type": "markdown",
   "metadata": {},
   "source": [
    "Таким образом, если мы хотим проверить, если в дереве 2 элемент 6, то мы сделаем следующие шаги:\n",
    "* 6 < 8 -> идем в левое поддерево\n",
    "* 6 > 3 -> идем в правое поддерево\n",
    "* 6 == 6 -> нашли элемент"
   ]
  },
  {
   "cell_type": "markdown",
   "metadata": {},
   "source": [
    "Как можно заметить, для того, чтобы найти элемент в множестве из 9 элементов, нам потребовалось сделать всего 2 сравнения.\n",
    "\n",
    "В общем случае, можно сделать вывод, что поиск элемента в бинарном дереве поиска потребует действий не больше, чем расстояние от корня до самой удаленной вершины (это расстояние также называется <b> высотой </b> дерева).\n",
    "\n",
    "Дерево 2 имеет высоту 3 -> поиск любого элемента будет занимать не более чем 3 сравнения."
   ]
  },
  {
   "cell_type": "markdown",
   "metadata": {},
   "source": [
    "Вставка в бинарное дерево поиска происходит практически также, как и поиск - вначале этим же алгоритмом ищем место для нового элемента (вершина, у которого нет соответсвенного потомка) и далее вставляем в это место новую вершину."
   ]
  },
  {
   "cell_type": "code",
   "execution_count": 1,
   "metadata": {
    "collapsed": false
   },
   "outputs": [
    {
     "data": {
      "text/plain": []
     },
     "execution_count": 1,
     "metadata": {},
     "output_type": "execute_result"
    }
   ],
   "source": [
    "#include <iostream>\n",
    "#include <vector>"
   ]
  },
  {
   "cell_type": "code",
   "execution_count": 2,
   "metadata": {
    "collapsed": false
   },
   "outputs": [
    {
     "data": {
      "text/plain": []
     },
     "execution_count": 2,
     "metadata": {},
     "output_type": "execute_result"
    }
   ],
   "source": [
    "class Node {\n",
    "public:\n",
    "    Node(){}\n",
    "    Node(int v) : value(v), height(0), left(nullptr), right(nullptr) {}\n",
    "    ~Node(){\n",
    "        if(left) delete left;\n",
    "        if(right) delete right;\n",
    "    }\n",
    "\n",
    "    Node *right;\n",
    "    Node *left;\n",
    "    int height;\n",
    "    int value;\n",
    "};"
   ]
  },
  {
   "cell_type": "code",
   "execution_count": 3,
   "metadata": {
    "collapsed": false
   },
   "outputs": [
    {
     "data": {
      "text/plain": []
     },
     "execution_count": 3,
     "metadata": {},
     "output_type": "execute_result"
    }
   ],
   "source": [
    "class BinTree {\n",
    "public:\n",
    "    BinTree() : root(nullptr) {}\n",
    "    ~BinTree() { if(root) delete root; }\n",
    "    \n",
    "    void insert(int value) {\n",
    "        root = insert(root, value);\n",
    "    }\n",
    "    \n",
    "    bool contains(int value) {\n",
    "        return contains(root, value);\n",
    "    }\n",
    "    \n",
    "    int height() {\n",
    "        return height(root);\n",
    "    }\n",
    "private:\n",
    "    int height(Node * n) { // возвращаем высоту вершины\n",
    "        if(n) return n->height;\n",
    "        return 0;\n",
    "    }\n",
    "\n",
    "    Node * insert(Node * n, int value){ \n",
    "        if(!n) return new Node(value); // если нашли пустое место - создаем новый элемент и вставляем\n",
    "        if(value < n->value) n->left = insert(n->left, value); // если меньше, вставляем в левое\n",
    "        else n->right = insert(n->right, value); // если больше - в правое\n",
    "        restore_height(n); // восстанавливаем новую высоту дерева\n",
    "        return n;\n",
    "    }\n",
    "\n",
    "    bool contains(Node * n, int value) {\n",
    "        if(!n) return false; // если долшли до пустой вершины, значит элемента нет в дереве\n",
    "        if(n->value == value) return true; // если сопал с вершиной, то значит нашли\n",
    "        if(value < n->value) {\n",
    "            std::cout << value << \" < \" << n->value << std::endl;\n",
    "            return contains(n->left, value); // если меньше - ищем в левом\n",
    "        }\n",
    "        else {\n",
    "            std::cout << value << \" > \" << n->value << std::endl;\n",
    "            return contains(n->right, value); // если больше -  в правом\n",
    "        }\n",
    "    }\n",
    "\n",
    "    void restore_height(Node * n) {\n",
    "        n->height = std::max(height(n->left), height(n->right)) + 1; // высота вершины - максимум из вершин поддеревьев + 1\n",
    "    }\n",
    "    \n",
    "    Node * root; // корневая вершина дерева\n",
    "};"
   ]
  },
  {
   "cell_type": "code",
   "execution_count": 4,
   "metadata": {
    "collapsed": false
   },
   "outputs": [
    {
     "data": {
      "text/plain": []
     },
     "execution_count": 4,
     "metadata": {},
     "output_type": "execute_result"
    }
   ],
   "source": [
    "BinTree tree2;\n",
    "for(auto v : std::vector<int>({8, 3, 10, 1, 6, 14, 4, 7, 13})) {\n",
    "    tree2.insert(v);\n",
    "}"
   ]
  },
  {
   "cell_type": "markdown",
   "metadata": {},
   "source": [
    "Данное дерево - в точности дерево 2. "
   ]
  },
  {
   "cell_type": "code",
   "execution_count": 5,
   "metadata": {
    "collapsed": false
   },
   "outputs": [
    {
     "name": "stdout",
     "output_type": "stream",
     "text": [
      "6 < 8\n",
      "6 > 3\n",
      "1\n"
     ]
    },
    {
     "data": {
      "text/plain": [
       "(std::basic_ostream<char, std::char_traits<char> >::__ostream_type &) @0x7f5906da86e0\n"
      ]
     },
     "execution_count": 5,
     "metadata": {},
     "output_type": "execute_result"
    }
   ],
   "source": [
    "std::cout << tree2.contains(6) << std::endl; // попробуем найти шестерку в нашем дереве и сравним результат с теоретическим"
   ]
  },
  {
   "cell_type": "code",
   "execution_count": 6,
   "metadata": {
    "collapsed": false
   },
   "outputs": [
    {
     "name": "stdout",
     "output_type": "stream",
     "text": [
      "3\n"
     ]
    },
    {
     "data": {
      "text/plain": [
       "(std::basic_ostream<char, std::char_traits<char> >::__ostream_type &) @0x7f5906da86e0\n"
      ]
     },
     "execution_count": 6,
     "metadata": {},
     "output_type": "execute_result"
    }
   ],
   "source": [
    "std::cout << tree2.height() << std::endl; // высота нашего дерева - 3"
   ]
  },
  {
   "cell_type": "markdown",
   "metadata": {},
   "source": [
    "Однако, как можно заметить, чтобы получить именно это дерево мы добавляли вершины в специально порядке - вначале значения, которые ближе к корню, а потом двигаемя все дальше и дальше. Если же вставлять такие вершины в другом порядке, то может получится совсем другое дерево.\n",
    "Проведем эксперимент - попробуем найти 14 в нашем дереве и в дереве, в которое мы будем добавлять вершины в отсортированном порядке"
   ]
  },
  {
   "cell_type": "code",
   "execution_count": 7,
   "metadata": {
    "collapsed": false
   },
   "outputs": [
    {
     "data": {
      "text/plain": []
     },
     "execution_count": 7,
     "metadata": {},
     "output_type": "execute_result"
    }
   ],
   "source": [
    "BinTree sort_tree;\n",
    "for(auto v : std::vector<int>{1, 3, 4, 6, 7, 8, 10, 13, 14}) {\n",
    "    sort_tree.insert(v);\n",
    "}"
   ]
  },
  {
   "cell_type": "code",
   "execution_count": 8,
   "metadata": {
    "collapsed": false
   },
   "outputs": [
    {
     "name": "stdout",
     "output_type": "stream",
     "text": [
      "14 > 8\n",
      "14 > 10\n",
      "---------\n",
      "14 > 1\n",
      "14 > 3\n",
      "14 > 4\n",
      "14 > 6\n",
      "14 > 7\n",
      "14 > 8\n",
      "14 > 10\n",
      "14 > 13\n"
     ]
    },
    {
     "data": {
      "text/plain": [
       "(bool) true\n"
      ]
     },
     "execution_count": 8,
     "metadata": {},
     "output_type": "execute_result"
    }
   ],
   "source": [
    "tree2.contains(14);\n",
    "std::cout << \"---------\" << std::endl;\n",
    "sort_tree.contains(14);"
   ]
  },
  {
   "cell_type": "markdown",
   "metadata": {},
   "source": [
    "Нам пришлось сделать все 8 сравнений (то есть сравнения с каждым элементом множества) для того, чтобы найти нужный элемент. И это не удивительно, ведь из-за сортировки мы каждый раз вставляли элемент в правое поддерево, из-за чего у нас получился просто связанный список из элементов и высота дерева стала равна 8."
   ]
  },
  {
   "cell_type": "markdown",
   "metadata": {},
   "source": [
    "<img src=\"http://aonijospot11.appspot.com/habrastorage.org/files/5b4/657/b80/5b4657b80fbc4794a582bdb25a4873b9.png\">"
   ]
  },
  {
   "cell_type": "code",
   "execution_count": 9,
   "metadata": {
    "collapsed": false
   },
   "outputs": [
    {
     "name": "stdout",
     "output_type": "stream",
     "text": [
      "3\n",
      "8\n"
     ]
    },
    {
     "data": {
      "text/plain": [
       "(std::basic_ostream<char, std::char_traits<char> >::__ostream_type &) @0x7f5906da86e0\n"
      ]
     },
     "execution_count": 9,
     "metadata": {},
     "output_type": "execute_result"
    }
   ],
   "source": [
    "std::cout << tree2.height() << std::endl;\n",
    "std::cout << sort_tree.height() << std::endl;"
   ]
  },
  {
   "cell_type": "markdown",
   "metadata": {},
   "source": [
    "Из этого следует следующий вывод:\n",
    "\n",
    "Если стросить дерево в лоб, то в среднем будет получатся дерево с маленькой высотой, в котором операции будут проходить эффективно. Однако на это нет никаких гарантий и деревья могут получатся крайне несбалансированными, из-за чего может сильно проседать производительность."
   ]
  },
  {
   "cell_type": "markdown",
   "metadata": {},
   "source": [
    "# AVL - деревья\n",
    "\n",
    "Для решения этого недостатка были придуманы самобалансирующиеся деревья, которые гарантируют то, что дерево всегда будет оставаться в сбалансированном состоянии (то есть обладать не очень большой высотой).\n",
    "\n",
    "Одним из первых, подобную модификацию предложили  Адельсон-Вельский Георгий Максимович и Ландис Евгений Михайлович. Их идея заключается в следующем"
   ]
  },
  {
   "cell_type": "markdown",
   "metadata": {},
   "source": [
    "Дерево является AVL - деревом, если выполняются следующие свойства:\n",
    "\n",
    "* Выполняется основное свойство деревьев поиска - то есть AVL - это все еще деревья поиска\n",
    "* В любой вершине дерева, разница высоты правого поддерева и левого поддерева не превышает 2"
   ]
  },
  {
   "cell_type": "markdown",
   "metadata": {},
   "source": [
    "Второе свойство на интуитивном уровне означает то, что дерево должно расти примерно одинаково в обе стороны - и в право и в лево (с максимально возможной разницей = 1 )\n",
    "\n",
    "Несмотря на то, что дерево 2 является достаточно сбалансированным, оно все же не является AVL - деревом: \n",
    "вершина 10 имеет справа поддерево высоты 2, при этом слева у него вообще нет дерева (то есть высота 0). Получается, что разница высот равна 2, а это означает, что нарушается 2 свойство AVL - деревьев."
   ]
  },
  {
   "cell_type": "markdown",
   "metadata": {},
   "source": [
    "Как бы мы могли решить эту проблему в данном дереве, чтобы оно стало официально AVL - деревом?\n",
    "\n",
    "Для начала рассмотрим более простой случай:"
   ]
  },
  {
   "cell_type": "markdown",
   "metadata": {},
   "source": [
    "<img src=\"img/AVL1.png\">"
   ]
  },
  {
   "cell_type": "markdown",
   "metadata": {},
   "source": [
    "В данном случае в вершине 10 все еще нарушается свойство AVL. В данном случае мы можем сделать \"повотор дерева\", то есть перестроить некоторую часть - 13 вставить на место 10, а 10 добавить в качестве левого поддерева 13. "
   ]
  },
  {
   "cell_type": "markdown",
   "metadata": {},
   "source": [
    "<img src=\"img/AVL2.png\">"
   ]
  },
  {
   "cell_type": "markdown",
   "metadata": {},
   "source": [
    "Как видно, такая операция сохранила свойства бинарного дерева поиска, и более того, она привела дерево в состояние, когда выполняется свойство AVL дерева! \n",
    "\n",
    "Теперь вернемя к нашему случаю и посмотрим, что еще нам непобходимо сделать, чтобы также вернуть свойство AVL."
   ]
  },
  {
   "cell_type": "markdown",
   "metadata": {},
   "source": [
    "<img src=\"img/AVL3.png\">"
   ]
  },
  {
   "cell_type": "markdown",
   "metadata": {},
   "source": [
    "В данной ситуации, можно вначале сделать описанный поворот относительно вершины 14, чтобы получить ситуацию, с которой мы уже умеем справляться. То есть теперь заместо 14 мы ставим 13 вершину, а 14 вершину положим, как правое поддерево 13."
   ]
  },
  {
   "cell_type": "markdown",
   "metadata": {},
   "source": [
    "<img src=\"img/AVL1.png\">"
   ]
  },
  {
   "cell_type": "markdown",
   "metadata": {},
   "source": [
    "Отлично! С этим деревом мы уже работали. Сделаем еще один поворот уже вокруг 10."
   ]
  },
  {
   "cell_type": "markdown",
   "metadata": {},
   "source": [
    "<img src=\"img/AVL2.png\">"
   ]
  },
  {
   "cell_type": "markdown",
   "metadata": {},
   "source": [
    "У нас вновь получилось сбалансированное AVL - дерево!\n",
    "\n",
    "Примерно на этих идеях и построена балансировка AVL-дерева. Более формально, у нас есть 4 поворота:"
   ]
  },
  {
   "cell_type": "markdown",
   "metadata": {},
   "source": [
    "<img src=\"https://upload.wikimedia.org/wikipedia/ru/b/bc/AVL_LR.GIF\">\n",
    "Левое малое вращение\n",
    "\n",
    "<img src=\"https://upload.wikimedia.org/wikipedia/ru/1/16/AVL_BR.GIF\">\n",
    "Левое большое вращение\n",
    "\n",
    "И симметричные им\n",
    "\n",
    "<img src=\"https://upload.wikimedia.org/wikipedia/ru/e/e8/AVL_LL.GIF\">\n",
    "Правое малое вращение\n",
    "\n",
    "<img src=\"https://upload.wikimedia.org/wikipedia/ru/7/74/AVL_BL.GIF\">\n",
    "Правое большое вращение"
   ]
  },
  {
   "cell_type": "markdown",
   "metadata": {},
   "source": [
    "Малые вращения - это то, как мы перестроили дерево в первом простом случае.\n",
    "\n",
    "Большие вращение - это то, как мы перестроили дерево во втором более сложном случае. И как можно заметить, большие вращения - это комбинация двух малых."
   ]
  },
  {
   "cell_type": "markdown",
   "metadata": {},
   "source": [
    "Итого, алгоритм вставки в AVL дерева очень просто\n",
    "* Вставляем вершину как в обычное дерево поиска\n",
    "* После этого возращаемся вверх по дереву и восстанавливаем высоты, которые получились\n",
    "* Если в какой-то момент дерево разбалансировалось (разница высот стала равной 2), то балансируем эту вершину\n",
    " * Если правое дерево выше левого, то необходимо делать левый поворот\n",
    " * Однако если у правого поддерева перевешивало левое поддерево, то необходимо сначала сделать правый поворот правого поддерева\n",
    " * Симметричная ситуация с перевесом левого поддерева"
   ]
  },
  {
   "cell_type": "markdown",
   "metadata": {},
   "source": [
    "Адельсон-Вельский и Ландис доказали, что этих поворотов достаточно, чтобы поддерживать свойство AVL дерева"
   ]
  },
  {
   "cell_type": "code",
   "execution_count": 10,
   "metadata": {
    "collapsed": false
   },
   "outputs": [
    {
     "data": {
      "text/plain": []
     },
     "execution_count": 10,
     "metadata": {},
     "output_type": "execute_result"
    }
   ],
   "source": [
    "class AVLTree {\n",
    "public:\n",
    "    AVLTree() : root(nullptr) {}\n",
    "    ~AVLTree(){\n",
    "        if(root) delete root;\n",
    "    }\n",
    "\n",
    "    void insert(int value) {\n",
    "        root = insert(root, value);\n",
    "    }\n",
    "\n",
    "    bool contains(int value) {\n",
    "        return contains(root, value);\n",
    "    }\n",
    "\n",
    "    int height() {\n",
    "        return height(root);\n",
    "    }\n",
    "\n",
    "private:\n",
    "\n",
    "    int height(Node * n) {\n",
    "        if(n) return n->height;\n",
    "        return 0;\n",
    "    }\n",
    "\n",
    "    Node * insert(Node * n, int value){\n",
    "        if(!n) return new Node(value);\n",
    "        if(value < n->value) n->left = insert(n->left, value);\n",
    "        else n->right = insert(n->right, value);\n",
    "        return balance(n); // после вставки балансируем вершины\n",
    "    }\n",
    "\n",
    "    bool contains(Node * n, int value) {\n",
    "        if(!n) return false; // если долшли до пустой вершины, значит элемента нет в дереве\n",
    "        if(n->value == value) return true; // если сопал с вершиной, то значит нашли\n",
    "        if(value < n->value) {\n",
    "            std::cout << value << \" < \" << n->value << std::endl;\n",
    "            return contains(n->left, value); // если меньше - ищем в левом\n",
    "        }\n",
    "        else {\n",
    "            std::cout << value << \" > \" << n->value << std::endl;\n",
    "            return contains(n->right, value); // если больше -  в правом\n",
    "        }\n",
    "    }\n",
    "\n",
    "    int delta(Node * n) {\n",
    "        return height(n->right) - height(n->left); // считаем разницу в высотах\n",
    "    }\n",
    "\n",
    "    void restore_height(Node * n) {\n",
    "        n->height = std::max(height(n->left), height(n->right)) + 1; \n",
    "    }\n",
    "\n",
    "    Node * right_rotate(Node * a) { // малое правое вращение\n",
    "        Node* b = a->left;\n",
    "        a->left = b->right;\n",
    "        b->right = a;\n",
    "        restore_height(a);\n",
    "        restore_height(b);\n",
    "        return b;\n",
    "    }\n",
    "\n",
    "    Node * left_rotate(Node * b) { // малое левое вращение\n",
    "        Node* a = b->right;\n",
    "        b->right = a->left;\n",
    "        a->left = b;\n",
    "        restore_height(b);\n",
    "        restore_height(a);\n",
    "        return a;\n",
    "    }\n",
    "\n",
    "    Node * balance(Node * p) { // балансировка\n",
    "        restore_height(p); // восстановим высоту\n",
    "        if(delta(p) == 2) { // если перевесило правое\n",
    "            if(delta(p->right) < 0) p->right = right_rotate(p->right); // если у правого перевешивает левое - вращаем\n",
    "            return left_rotate(p); // вращаем\n",
    "        } else if(delta(p) == -2) { // симметричные операции\n",
    "            if(delta(p->left)>0) p->left = left_rotate(p->left);\n",
    "            return right_rotate(p);\n",
    "        }\n",
    "        return p; // если не потребовалась балансировка, то возвращаем эту же вершину\n",
    "    }\n",
    "\n",
    "    Node *root;\n",
    "};\n"
   ]
  },
  {
   "cell_type": "code",
   "execution_count": 11,
   "metadata": {
    "collapsed": false
   },
   "outputs": [
    {
     "data": {
      "text/plain": []
     },
     "execution_count": 11,
     "metadata": {},
     "output_type": "execute_result"
    }
   ],
   "source": [
    "AVLTree tree;\n",
    "for(auto v : std::vector<int>{1, 3, 4, 6, 7, 8, 10, 13, 14}) {\n",
    "    tree.insert(v);\n",
    "}"
   ]
  },
  {
   "cell_type": "code",
   "execution_count": 12,
   "metadata": {
    "collapsed": false
   },
   "outputs": [
    {
     "name": "stdout",
     "output_type": "stream",
     "text": [
      "14 > 1\n",
      "14 > 3\n",
      "14 > 4\n",
      "14 > 6\n",
      "14 > 7\n",
      "14 > 8\n",
      "14 > 10\n",
      "14 > 13\n",
      "=========\n",
      "14 > 6\n",
      "14 > 8\n",
      "14 > 10\n",
      "14 > 13\n"
     ]
    },
    {
     "data": {
      "text/plain": [
       "(bool) true\n"
      ]
     },
     "execution_count": 12,
     "metadata": {},
     "output_type": "execute_result"
    }
   ],
   "source": [
    "sort_tree.contains(14);\n",
    "std::cout << \"=========\" << std::endl;\n",
    "tree.contains(14);"
   ]
  },
  {
   "cell_type": "code",
   "execution_count": 13,
   "metadata": {
    "collapsed": false
   },
   "outputs": [
    {
     "name": "stdout",
     "output_type": "stream",
     "text": [
      "4\n"
     ]
    },
    {
     "data": {
      "text/plain": [
       "(std::basic_ostream<char, std::char_traits<char> >::__ostream_type &) @0x7f5906da86e0\n"
      ]
     },
     "execution_count": 13,
     "metadata": {},
     "output_type": "execute_result"
    }
   ],
   "source": [
    "std::cout << tree.height() << std::endl;"
   ]
  },
  {
   "cell_type": "markdown",
   "metadata": {},
   "source": [
    "Видно, что получающееся дерево получается с гораздо меньшей высотой и потому гораздо быстрее ищет."
   ]
  },
  {
   "cell_type": "code",
   "execution_count": 14,
   "metadata": {
    "collapsed": false
   },
   "outputs": [
    {
     "name": "stdout",
     "output_type": "stream",
     "text": [
      "16\n"
     ]
    },
    {
     "data": {
      "text/plain": [
       "(std::basic_ostream<char, std::char_traits<char> >::__ostream_type &) @0x7f5906da86e0\n"
      ]
     },
     "execution_count": 14,
     "metadata": {},
     "output_type": "execute_result"
    }
   ],
   "source": [
    "for(int i = 0; i < 65000; i++) {\n",
    "    tree.insert(i);\n",
    "}\n",
    "std::cout << tree.height() << std::endl; // вставка 65000 элементов привела к дерево с высотой всего 16"
   ]
  },
  {
   "cell_type": "code",
   "execution_count": 15,
   "metadata": {
    "collapsed": false
   },
   "outputs": [
    {
     "name": "stdout",
     "output_type": "stream",
     "text": [
      "60000 > 32765\n",
      "60000 > 49149\n",
      "60000 > 57341\n",
      "60000 < 61437\n",
      "60000 > 59389\n",
      "60000 < 60413\n",
      "60000 > 59901\n",
      "60000 < 60157\n",
      "60000 < 60029\n",
      "60000 > 59965\n",
      "60000 > 59997\n",
      "60000 < 60013\n",
      "60000 < 60005\n",
      "60000 < 60001\n",
      "60000 > 59999\n"
     ]
    },
    {
     "data": {
      "text/plain": [
       "(bool) true\n"
      ]
     },
     "execution_count": 15,
     "metadata": {},
     "output_type": "execute_result"
    }
   ],
   "source": [
    "tree.contains(60000);"
   ]
  },
  {
   "cell_type": "markdown",
   "metadata": {},
   "source": [
    "В итоге, немного модернизировав алгоритм вставки элементов в дерево, мы получаем гарантированно сбалансированное дерево, работа с которым осуществляется очень быстро."
   ]
  },
  {
   "cell_type": "code",
   "execution_count": null,
   "metadata": {
    "collapsed": true
   },
   "outputs": [],
   "source": []
  }
 ],
 "metadata": {
  "anaconda-cloud": {},
  "kernelspec": {
   "display_name": "C++",
   "language": "",
   "name": "cling"
  },
  "language_info": {
   "codemirror_mode": "text/x-c++src",
   "file_extension": ".c++",
   "mimetype": " text/x-c++src",
   "name": "c++"
  }
 },
 "nbformat": 4,
 "nbformat_minor": 1
}
