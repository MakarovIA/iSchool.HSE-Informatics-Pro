{
 "cells": [
  {
   "cell_type": "markdown",
   "metadata": {},
   "source": [
    "# Python\n",
    "\n",
    "Python — высокоуровневый язык программирования общего назначения. Он является интерпретируемым языком программирования. Это означает, что программы, написанные на этом языке программирования выполняются специальной программой - интерпретатором, что отличает его от многих других языков программирования, таких как C/C++, Pascal, Delphi, Basic, etc.\n",
    "\n",
    "У данного подхода есть существенный недостаток: производительность. Программа на Python может исполняться медленее, чем аналогичная программа на C++ в несколько раз. \n",
    "\n",
    "Однако интерпретируемость предоставляет и весьма приятные преимущества:\n",
    "* Кроссплатформенность - код вашей программы может быть запущен на любой машине, на которой установлен интерпретатор питона (а это почти все современные компьютеры)\n",
    "* Метапрограммирование - возможность программы модифицировать саму себя во время исполнения\n",
    "* Динамическая типизация позволяет писать более гибкий и понятный код\n",
    "* Python позволяет писать более компактно и лаконично, делая код более понятным и экономя время и силы разработчика\n",
    "\n",
    "Также Python снабжен богатой стандартной библиотекой, позволяющей решить большинство задач, встречающихся на пути пользователя\n"
   ]
  },
  {
   "cell_type": "code",
   "execution_count": 1,
   "metadata": {
    "collapsed": false
   },
   "outputs": [
    {
     "name": "stdout",
     "output_type": "stream",
     "text": [
      "Hello world!\n"
     ]
    }
   ],
   "source": [
    "# Поприветствуем этот мир!\n",
    "print(\"Hello world!\")"
   ]
  },
  {
   "cell_type": "markdown",
   "metadata": {
    "collapsed": true
   },
   "source": [
    "# Математические операции"
   ]
  },
  {
   "cell_type": "code",
   "execution_count": 2,
   "metadata": {
    "collapsed": false
   },
   "outputs": [
    {
     "data": {
      "text/plain": [
       "4"
      ]
     },
     "execution_count": 2,
     "metadata": {},
     "output_type": "execute_result"
    }
   ],
   "source": [
    "# Питон позволяет использовать все основные математические операции\n",
    "2 + 2"
   ]
  },
  {
   "cell_type": "code",
   "execution_count": 3,
   "metadata": {
    "collapsed": false
   },
   "outputs": [
    {
     "data": {
      "text/plain": [
       "4"
      ]
     },
     "execution_count": 3,
     "metadata": {},
     "output_type": "execute_result"
    }
   ],
   "source": [
    "7 - 3"
   ]
  },
  {
   "cell_type": "code",
   "execution_count": 4,
   "metadata": {
    "collapsed": false
   },
   "outputs": [
    {
     "data": {
      "text/plain": [
       "66"
      ]
     },
     "execution_count": 4,
     "metadata": {},
     "output_type": "execute_result"
    }
   ],
   "source": [
    "3 + 7 * 9"
   ]
  },
  {
   "cell_type": "code",
   "execution_count": 5,
   "metadata": {
    "collapsed": false
   },
   "outputs": [
    {
     "data": {
      "text/plain": [
       "90"
      ]
     },
     "execution_count": 5,
     "metadata": {},
     "output_type": "execute_result"
    }
   ],
   "source": [
    "# В арифметических выражениях также можно использовать круглые скобки. \n",
    "# Их смысл такой же как и в математике\n",
    "(3 + 7) * 9"
   ]
  },
  {
   "cell_type": "code",
   "execution_count": 6,
   "metadata": {
    "collapsed": false
   },
   "outputs": [
    {
     "data": {
      "text/plain": [
       "-44"
      ]
     },
     "execution_count": 6,
     "metadata": {},
     "output_type": "execute_result"
    }
   ],
   "source": [
    "((2 - 3) * 4) * (5 + 6)"
   ]
  },
  {
   "cell_type": "code",
   "execution_count": 11,
   "metadata": {
    "collapsed": false
   },
   "outputs": [
    {
     "data": {
      "text/plain": [
       "1.25"
      ]
     },
     "execution_count": 11,
     "metadata": {},
     "output_type": "execute_result"
    }
   ],
   "source": [
    "# Существует два вида деления в питоне\n",
    "# Классическое деление\n",
    "5 / 4"
   ]
  },
  {
   "cell_type": "code",
   "execution_count": 10,
   "metadata": {
    "collapsed": false
   },
   "outputs": [
    {
     "data": {
      "text/plain": [
       "1"
      ]
     },
     "execution_count": 10,
     "metadata": {},
     "output_type": "execute_result"
    }
   ],
   "source": [
    "# Деление нацело\n",
    "5 // 4"
   ]
  },
  {
   "cell_type": "code",
   "execution_count": 12,
   "metadata": {
    "collapsed": false
   },
   "outputs": [
    {
     "data": {
      "text/plain": [
       "0"
      ]
     },
     "execution_count": 12,
     "metadata": {},
     "output_type": "execute_result"
    }
   ],
   "source": [
    "7 // 10"
   ]
  },
  {
   "cell_type": "code",
   "execution_count": 16,
   "metadata": {
    "collapsed": false
   },
   "outputs": [
    {
     "data": {
      "text/plain": [
       "1"
      ]
     },
     "execution_count": 16,
     "metadata": {},
     "output_type": "execute_result"
    }
   ],
   "source": [
    "# Также возможно взятие отстатка от деления\n",
    "3 % 2"
   ]
  },
  {
   "cell_type": "code",
   "execution_count": 18,
   "metadata": {
    "collapsed": false
   },
   "outputs": [
    {
     "data": {
      "text/plain": [
       "2"
      ]
     },
     "execution_count": 18,
     "metadata": {},
     "output_type": "execute_result"
    }
   ],
   "source": [
    "5 % 3"
   ]
  },
  {
   "cell_type": "code",
   "execution_count": 19,
   "metadata": {
    "collapsed": false
   },
   "outputs": [
    {
     "data": {
      "text/plain": [
       "16"
      ]
     },
     "execution_count": 19,
     "metadata": {},
     "output_type": "execute_result"
    }
   ],
   "source": [
    "# В Питоне существует оператор возведения в степень\n",
    "2 ** 4"
   ]
  },
  {
   "cell_type": "code",
   "execution_count": 20,
   "metadata": {
    "collapsed": false
   },
   "outputs": [
    {
     "data": {
      "text/plain": [
       "19683"
      ]
     },
     "execution_count": 20,
     "metadata": {},
     "output_type": "execute_result"
    }
   ],
   "source": [
    "3 ** 9"
   ]
  },
  {
   "cell_type": "code",
   "execution_count": 23,
   "metadata": {
    "collapsed": false
   },
   "outputs": [
    {
     "data": {
      "text/plain": [
       "1606938044258990275541962092341162602522202993782792835301376"
      ]
     },
     "execution_count": 23,
     "metadata": {},
     "output_type": "execute_result"
    }
   ],
   "source": [
    "4 ** 100"
   ]
  },
  {
   "cell_type": "code",
   "execution_count": 24,
   "metadata": {
    "collapsed": false
   },
   "outputs": [
    {
     "data": {
      "text/plain": [
       "15.12"
      ]
     },
     "execution_count": 24,
     "metadata": {},
     "output_type": "execute_result"
    }
   ],
   "source": [
    "# Питон умеет оперировать не только целыми, но и рациональными числами\n",
    "# Рациональные числа записываются с использованием точки для разделения целой и дробной части\n",
    "2.7 * 5.6"
   ]
  },
  {
   "cell_type": "code",
   "execution_count": 26,
   "metadata": {
    "collapsed": false
   },
   "outputs": [
    {
     "data": {
      "text/plain": [
       "22.883559193263366"
      ]
     },
     "execution_count": 26,
     "metadata": {},
     "output_type": "execute_result"
    }
   ],
   "source": [
    "2.71 ** 3.14"
   ]
  },
  {
   "cell_type": "markdown",
   "metadata": {},
   "source": [
    "# Переменные"
   ]
  },
  {
   "cell_type": "code",
   "execution_count": 27,
   "metadata": {
    "collapsed": true
   },
   "outputs": [],
   "source": [
    "# Питон обладает динамической типизацией\n",
    "# Это означает, что нет необходимости указывать тип переменной. Достаточно просто присвоить ей какое-то значение\n",
    "# Питон сам создаст переменную и запишет в нее нужное значение\n",
    "a = 2.71"
   ]
  },
  {
   "cell_type": "code",
   "execution_count": 30,
   "metadata": {
    "collapsed": false
   },
   "outputs": [
    {
     "ename": "NameError",
     "evalue": "name 'b' is not defined",
     "output_type": "error",
     "traceback": [
      "\u001b[1;31m---------------------------------------------------------------------------\u001b[0m",
      "\u001b[1;31mNameError\u001b[0m                                 Traceback (most recent call last)",
      "\u001b[1;32m<ipython-input-30-22b0298bef10>\u001b[0m in \u001b[0;36m<module>\u001b[1;34m()\u001b[0m\n\u001b[0;32m      1\u001b[0m \u001b[1;31m# Создавать заранее переменные в питоне нельзя - оно всегда происходит при присваивании значения\u001b[0m\u001b[1;33m\u001b[0m\u001b[1;33m\u001b[0m\u001b[0m\n\u001b[1;32m----> 2\u001b[1;33m \u001b[0mb\u001b[0m\u001b[1;33m\u001b[0m\u001b[0m\n\u001b[0m\u001b[0;32m      3\u001b[0m \u001b[0mb\u001b[0m \u001b[1;33m=\u001b[0m \u001b[1;36m4\u001b[0m \u001b[1;31m# Неправильно\u001b[0m\u001b[1;33m\u001b[0m\u001b[0m\n\u001b[0;32m      4\u001b[0m \u001b[1;33m\u001b[0m\u001b[0m\n\u001b[0;32m      5\u001b[0m \u001b[0mc\u001b[0m \u001b[1;33m=\u001b[0m \u001b[1;36m4\u001b[0m \u001b[1;31m# Правильно\u001b[0m\u001b[1;33m\u001b[0m\u001b[0m\n",
      "\u001b[1;31mNameError\u001b[0m: name 'b' is not defined"
     ]
    }
   ],
   "source": [
    "# Создавать заранее переменные в питоне нельзя - оно всегда происходит при присваивании значения\n",
    "b\n",
    "b = 4 # Неправильно\n",
    "\n",
    "c = 4 # Правильно"
   ]
  },
  {
   "cell_type": "code",
   "execution_count": 34,
   "metadata": {
    "collapsed": false
   },
   "outputs": [],
   "source": [
    "# Числа - далеко не единственное, что можно записывать в переменные\n",
    "# К примеру, можно использовать строки, булевы переменные, комплексные числа и тд\n",
    "\n",
    "a = \"Python\" # Строка\n",
    "b = True # Булево значение \"Истина\"\n",
    "c = False # Булево значение \"Ложь\"\n",
    "d = 2 + 3j # Комплексное число"
   ]
  },
  {
   "cell_type": "code",
   "execution_count": 35,
   "metadata": {
    "collapsed": false
   },
   "outputs": [
    {
     "data": {
      "text/plain": [
       "str"
      ]
     },
     "execution_count": 35,
     "metadata": {},
     "output_type": "execute_result"
    }
   ],
   "source": [
    "# Чтобы узнать, какой тип у переменной, необходимо применить функцию type\n",
    "type(a)"
   ]
  },
  {
   "cell_type": "code",
   "execution_count": 36,
   "metadata": {
    "collapsed": false
   },
   "outputs": [
    {
     "data": {
      "text/plain": [
       "bool"
      ]
     },
     "execution_count": 36,
     "metadata": {},
     "output_type": "execute_result"
    }
   ],
   "source": [
    "type(b)"
   ]
  },
  {
   "cell_type": "code",
   "execution_count": 37,
   "metadata": {
    "collapsed": false
   },
   "outputs": [
    {
     "data": {
      "text/plain": [
       "complex"
      ]
     },
     "execution_count": 37,
     "metadata": {},
     "output_type": "execute_result"
    }
   ],
   "source": [
    "type(d)"
   ]
  },
  {
   "cell_type": "code",
   "execution_count": 40,
   "metadata": {
    "collapsed": false
   },
   "outputs": [
    {
     "data": {
      "text/plain": [
       "type"
      ]
     },
     "execution_count": 40,
     "metadata": {},
     "output_type": "execute_result"
    }
   ],
   "source": [
    "type(type(a))"
   ]
  },
  {
   "cell_type": "code",
   "execution_count": 42,
   "metadata": {
    "collapsed": true
   },
   "outputs": [],
   "source": [
    "# Для обозначения \"ничего\" существует специальное значение None\n",
    "# Его можно использовать для обозначения \"пустой переменной\" (к примеру, если все таки очень хочется создать\n",
    "# переменную заранее )\n",
    "b = None\n",
    "b = 4"
   ]
  },
  {
   "cell_type": "code",
   "execution_count": 43,
   "metadata": {
    "collapsed": false
   },
   "outputs": [
    {
     "data": {
      "text/plain": [
       "NoneType"
      ]
     },
     "execution_count": 43,
     "metadata": {},
     "output_type": "execute_result"
    }
   ],
   "source": [
    "a = None\n",
    "type(a)"
   ]
  },
  {
   "cell_type": "code",
   "execution_count": 47,
   "metadata": {
    "collapsed": false
   },
   "outputs": [
    {
     "data": {
      "text/plain": [
       "5"
      ]
     },
     "execution_count": 47,
     "metadata": {},
     "output_type": "execute_result"
    }
   ],
   "source": [
    "# Для приведения типов переменных необходимо использовать соответствующие фуникции int(), str(), float(), etc.\n",
    "a = 5.3\n",
    "b = int(a) # Приведение к целому числу\n",
    "b"
   ]
  },
  {
   "cell_type": "code",
   "execution_count": 50,
   "metadata": {
    "collapsed": false
   },
   "outputs": [
    {
     "data": {
      "text/plain": [
       "str"
      ]
     },
     "execution_count": 50,
     "metadata": {},
     "output_type": "execute_result"
    }
   ],
   "source": [
    "a = str(23) # Приведение к строке \"23\"\n",
    "type(a)"
   ]
  },
  {
   "cell_type": "code",
   "execution_count": 51,
   "metadata": {
    "collapsed": false
   },
   "outputs": [
    {
     "data": {
      "text/plain": [
       "130"
      ]
     },
     "execution_count": 51,
     "metadata": {},
     "output_type": "execute_result"
    }
   ],
   "source": [
    "a = int(\"123\") # Преобразование строки к числу\n",
    "b = a + 7\n",
    "b"
   ]
  },
  {
   "cell_type": "code",
   "execution_count": 52,
   "metadata": {
    "collapsed": false
   },
   "outputs": [
    {
     "data": {
      "text/plain": [
       "47.12"
      ]
     },
     "execution_count": 52,
     "metadata": {},
     "output_type": "execute_result"
    }
   ],
   "source": [
    "a = float(\"23.56\")\n",
    "b = a * 2\n",
    "b"
   ]
  },
  {
   "cell_type": "code",
   "execution_count": 3,
   "metadata": {
    "collapsed": false
   },
   "outputs": [
    {
     "data": {
      "text/plain": [
       "20"
      ]
     },
     "execution_count": 3,
     "metadata": {},
     "output_type": "execute_result"
    }
   ],
   "source": [
    "# Для удобства в Python есть операторы += -= *= etc\n",
    "# Они позволяют изменять значение переменной\n",
    "\n",
    "a = 10\n",
    "a += 5\n",
    "a = a + 5 # идентичные строки\n",
    "a"
   ]
  },
  {
   "cell_type": "code",
   "execution_count": 57,
   "metadata": {
    "collapsed": false
   },
   "outputs": [
    {
     "ename": "ValueError",
     "evalue": "invalid literal for int() with base 10: 'Пять'",
     "output_type": "error",
     "traceback": [
      "\u001b[1;31m---------------------------------------------------------------------------\u001b[0m",
      "\u001b[1;31mValueError\u001b[0m                                Traceback (most recent call last)",
      "\u001b[1;32m<ipython-input-57-366efd5d337a>\u001b[0m in \u001b[0;36m<module>\u001b[1;34m()\u001b[0m\n\u001b[1;32m----> 1\u001b[1;33m \u001b[0ma\u001b[0m \u001b[1;33m=\u001b[0m \u001b[0mint\u001b[0m\u001b[1;33m(\u001b[0m\u001b[1;34m\"Пять\"\u001b[0m\u001b[1;33m)\u001b[0m \u001b[1;31m# Нет, так, увы, не работает :)\u001b[0m\u001b[1;33m\u001b[0m\u001b[0m\n\u001b[0m\u001b[0;32m      2\u001b[0m \u001b[1;31m# Строки к числам приводятся, если в строке присутствуют только число в соответсвующией форме\u001b[0m\u001b[1;33m\u001b[0m\u001b[1;33m\u001b[0m\u001b[0m\n",
      "\u001b[1;31mValueError\u001b[0m: invalid literal for int() with base 10: 'Пять'"
     ]
    }
   ],
   "source": [
    "a = int(\"Пять\") # Нет, так, увы, не работает :)\n",
    "# Строки к числам приводятся, если в строке присутствуют только число в соответсвующией форме"
   ]
  },
  {
   "cell_type": "code",
   "execution_count": 59,
   "metadata": {
    "collapsed": false
   },
   "outputs": [
    {
     "data": {
      "text/plain": [
       "255"
      ]
     },
     "execution_count": 59,
     "metadata": {},
     "output_type": "execute_result"
    }
   ],
   "source": [
    "# Однако не обязательно ограничиваться только числами, записанными в десятичной системе счисления\n",
    "# Для указания системы счисления, нужно передать соответствующиее число вторым аргументом\n",
    "a = int(\"FF\", 16) # Перевод 16-ричного FF в число 255\n",
    "a"
   ]
  },
  {
   "cell_type": "code",
   "execution_count": 62,
   "metadata": {
    "collapsed": false
   },
   "outputs": [
    {
     "data": {
      "text/plain": [
       "23844"
      ]
     },
     "execution_count": 62,
     "metadata": {},
     "output_type": "execute_result"
    }
   ],
   "source": [
    "a = int(\"AB12\", 13)\n",
    "a"
   ]
  },
  {
   "cell_type": "code",
   "execution_count": 63,
   "metadata": {
    "collapsed": false
   },
   "outputs": [
    {
     "ename": "ValueError",
     "evalue": "invalid literal for int() with base 6: '9'",
     "output_type": "error",
     "traceback": [
      "\u001b[1;31m---------------------------------------------------------------------------\u001b[0m",
      "\u001b[1;31mValueError\u001b[0m                                Traceback (most recent call last)",
      "\u001b[1;32m<ipython-input-63-0f8351b93b4d>\u001b[0m in \u001b[0;36m<module>\u001b[1;34m()\u001b[0m\n\u001b[1;32m----> 1\u001b[1;33m \u001b[0ma\u001b[0m \u001b[1;33m=\u001b[0m \u001b[0mint\u001b[0m\u001b[1;33m(\u001b[0m\u001b[1;34m\"9\"\u001b[0m\u001b[1;33m,\u001b[0m \u001b[1;36m6\u001b[0m\u001b[1;33m)\u001b[0m\u001b[1;33m\u001b[0m\u001b[0m\n\u001b[0m",
      "\u001b[1;31mValueError\u001b[0m: invalid literal for int() with base 6: '9'"
     ]
    }
   ],
   "source": [
    "a = int(\"9\", 6) # 9 не является числом, записанным в 6-ричной системе счисления"
   ]
  },
  {
   "cell_type": "code",
   "execution_count": 64,
   "metadata": {
    "collapsed": false
   },
   "outputs": [
    {
     "name": "stdout",
     "output_type": "stream",
     "text": [
      "56\n",
      "Shaker shaker!\n",
      "True\n",
      "None\n"
     ]
    }
   ],
   "source": [
    "# Для вывода значеняи переменной на экран, необходимо воспользоваться функцией print\n",
    "a = 56\n",
    "print(a)\n",
    "b = \"Shaker shaker!\"\n",
    "print(b)\n",
    "c = True\n",
    "print(c)\n",
    "d = None\n",
    "print(d)"
   ]
  },
  {
   "cell_type": "code",
   "execution_count": 65,
   "metadata": {
    "collapsed": false
   },
   "outputs": [
    {
     "name": "stdout",
     "output_type": "stream",
     "text": [
      "56 Shaker shaker! True None\n"
     ]
    }
   ],
   "source": [
    "# Также в print можно передавать переменные через запятую и они все будут выведены по порядку\n",
    "print(a, b, c, d)"
   ]
  },
  {
   "cell_type": "code",
   "execution_count": 67,
   "metadata": {
    "collapsed": false
   },
   "outputs": [
    {
     "name": "stdout",
     "output_type": "stream",
     "text": [
      "56\n",
      "Shaker shaker!\n",
      "True\n",
      "None\n"
     ]
    }
   ],
   "source": [
    "# Чтобы вывести их не в одной строчке, а каждую переменную на отдельной строчке, необходимо это указать, передав\n",
    "# функции print последний аргумент sep = '\\n'\n",
    "print(a, b, c, d, sep='\\n')"
   ]
  },
  {
   "cell_type": "code",
   "execution_count": 68,
   "metadata": {
    "collapsed": false
   },
   "outputs": [
    {
     "name": "stdout",
     "output_type": "stream",
     "text": [
      "56 Yolo Shaker shaker! Yolo True Yolo None\n"
     ]
    }
   ],
   "source": [
    "# Вместо '\\n' можно передать любую строчку, которую вы хотите видеть между переменными\n",
    "print(a, b, c, d, sep=' Yolo ')"
   ]
  },
  {
   "cell_type": "code",
   "execution_count": 1,
   "metadata": {
    "collapsed": false
   },
   "outputs": [
    {
     "name": "stdout",
     "output_type": "stream",
     "text": [
      "5 + 4 = 9\n",
      "7 груш Дюшес по цене 5.6$\n"
     ]
    }
   ],
   "source": [
    "# Также можно использовать форматирование для более удобного вывода\n",
    "print(\"{0} + {1} = {2}\".format(5, 4, 9)) # Элементы в фигурных скобках заменяются на соответствующие аргументы\n",
    "print(\"{number} груш {varieties} по цене {cost}$\".format(number=7, varieties=\"Дюшес\", cost=5.6))\n",
    "# В функцию форматирования можно передавать значения любых типов"
   ]
  },
  {
   "cell_type": "markdown",
   "metadata": {},
   "source": [
    "# Условный оператор"
   ]
  },
  {
   "cell_type": "code",
   "execution_count": 71,
   "metadata": {
    "collapsed": false
   },
   "outputs": [
    {
     "name": "stdout",
     "output_type": "stream",
     "text": [
      "Два меньше, чем пять\n"
     ]
    }
   ],
   "source": [
    "# C одними переменными много не напишешь\n",
    "# Для управления поведением программы в Питоне существует условный оператор if\n",
    "\n",
    "# после if необходимо записать условие перехода\n",
    "# если условие оказывается истинным, управление переходит к коду, написанному под данными if\n",
    "# в противном случае, проверяется следующиее условие в конструкции до того момента, пока или не найдется \n",
    "# истинное условие или не достигнется оператор else. \n",
    "if 2 > 5:\n",
    "    print(\"Два больше, чем пять\")\n",
    "elif 2 < 5:\n",
    "    print(\"Два меньше, чем пять\")\n",
    "else:\n",
    "    print(\"Два равно пяти\")"
   ]
  },
  {
   "cell_type": "code",
   "execution_count": 73,
   "metadata": {
    "collapsed": false
   },
   "outputs": [
    {
     "name": "stdout",
     "output_type": "stream",
     "text": [
      "Дважды два четыре!\n"
     ]
    }
   ],
   "source": [
    "# Операторы elif и else можно не использовать\n",
    "if 2 * 2 == 4:\n",
    "    print(\"Дважды два четыре!\")"
   ]
  },
  {
   "cell_type": "code",
   "execution_count": 72,
   "metadata": {
    "collapsed": false
   },
   "outputs": [
    {
     "name": "stdout",
     "output_type": "stream",
     "text": [
      "B\n"
     ]
    }
   ],
   "source": [
    "# В условии можно применять логические операции, такие как логическое И, логическое ИЛИ и тд\n",
    "a = 5\n",
    "b = 7 \n",
    "c = \"GoGo\"\n",
    "\n",
    "if (a < b) and (c == \"Go\"):\n",
    "    print(\"A\")\n",
    "elif (a < b) and (c == \"GoGo\"):\n",
    "    print(\"B\")"
   ]
  },
  {
   "cell_type": "code",
   "execution_count": 78,
   "metadata": {
    "collapsed": false
   },
   "outputs": [
    {
     "name": "stdout",
     "output_type": "stream",
     "text": [
      "a меньше или равно b и в переменной c записана строка\n"
     ]
    }
   ],
   "source": [
    "# Условия могут быть сколь угодно сложными\n",
    "\n",
    "if ( (a == b) or (a < b) ) and (type(c) == str):\n",
    "    print(\"a меньше или равно b и в переменной c записана строка\")"
   ]
  },
  {
   "cell_type": "code",
   "execution_count": 80,
   "metadata": {
    "collapsed": false
   },
   "outputs": [
    {
     "name": "stdout",
     "output_type": "stream",
     "text": [
      "True\n"
     ]
    }
   ],
   "source": [
    "# Логические операции можно использовать и вне if\n",
    "# Каждая такое условие возвращает булеву переменную True или False в зависимости от верности условия\n",
    "d = (a == b) or (a < b)\n",
    "print(d)"
   ]
  },
  {
   "cell_type": "code",
   "execution_count": 86,
   "metadata": {
    "collapsed": true
   },
   "outputs": [],
   "source": [
    "# Для удобства в Питоне есть операции сравнения <= и >= \n",
    "d = (a == b) or (a < b)\n",
    "e = a <= b              # Записи эквиавалентны"
   ]
  },
  {
   "cell_type": "code",
   "execution_count": 81,
   "metadata": {
    "collapsed": false
   },
   "outputs": [
    {
     "name": "stdout",
     "output_type": "stream",
     "text": [
      "a меньше или равно b и в переменной c записана строка\n"
     ]
    }
   ],
   "source": [
    "# Булевы переменные сами могут выступать в качестве условия в if\n",
    "d = ( (a == b) or (a < b) ) and (type(c) == str)\n",
    "if d:\n",
    "    print(\"a меньше или равно b и в переменной c записана строка\")"
   ]
  },
  {
   "cell_type": "code",
   "execution_count": 83,
   "metadata": {
    "collapsed": false
   },
   "outputs": [
    {
     "name": "stdout",
     "output_type": "stream",
     "text": [
      "DEF\n"
     ]
    }
   ],
   "source": [
    "# Условные конструкции можно вкладывать друг в друга\n",
    "# Важно помнить о необходимости делать необходимое количество отступов\n",
    "if 3 + 2 == 5:\n",
    "    if 10 ** 2 == 5 ** 4:\n",
    "        print(\"ABC\")\n",
    "    elif 2 ** 4 == 256 ** (0.5):\n",
    "        print(\"DEF\")"
   ]
  },
  {
   "cell_type": "code",
   "execution_count": null,
   "metadata": {
    "collapsed": false
   },
   "outputs": [],
   "source": [
    "if 5 != 6:\n",
    "    print(\"Пять не равно шести\")"
   ]
  },
  {
   "cell_type": "code",
   "execution_count": 10,
   "metadata": {
    "collapsed": false
   },
   "outputs": [
    {
     "name": "stdout",
     "output_type": "stream",
     "text": [
      "6\n",
      "4\n"
     ]
    }
   ],
   "source": [
    "# В качестве замены тернарного оператора (который присутствует например в С++) в питоне есть\n",
    "# однострочный if-else\n",
    "\n",
    "a = 7\n",
    "b = 4 if a > 10 else 6 # конструкция вернет 4 если a > 10 и 6 в противном случае\n",
    "c = 4 if a < 10 else 6\n",
    "print(b)\n",
    "print(c)"
   ]
  },
  {
   "cell_type": "code",
   "execution_count": 12,
   "metadata": {
    "collapsed": false
   },
   "outputs": [
    {
     "name": "stdout",
     "output_type": "stream",
     "text": [
      "8.6\n",
      "3\n"
     ]
    }
   ],
   "source": [
    "a = -8.6\n",
    "b = 3\n",
    "\n",
    "print(a if a >= 0 else -a) # вывод модуля числа\n",
    "print(b if b >= 0 else -b)"
   ]
  },
  {
   "cell_type": "markdown",
   "metadata": {},
   "source": [
    "# Циклы"
   ]
  },
  {
   "cell_type": "code",
   "execution_count": 87,
   "metadata": {
    "collapsed": false
   },
   "outputs": [
    {
     "name": "stdout",
     "output_type": "stream",
     "text": [
      "N\n",
      "o\n",
      "t\n",
      "e\n",
      "b\n",
      "o\n",
      "o\n",
      "k\n"
     ]
    }
   ],
   "source": [
    "# Для повторения каких-то действий произвольное количество раз в Питоне существуют циклы\n",
    "\n",
    "# Цикл for в Питоне отличается от цикла for в других языках программирования (например C/C++)\n",
    "# В Питоне циклу for необходим объект, который содержит в себе множество значений\n",
    "\n",
    "s = \"Notebook\"\n",
    "\n",
    "for c in s: # строка - объект, который содержит в себе множество единичных символов\n",
    "    print(c) # for пройдет каждый символ в строке и на каждом символе запустит код, написанный ниже,\n",
    "             # записав значение соответствующего символа в переменную c\n",
    "        "
   ]
  },
  {
   "cell_type": "code",
   "execution_count": 88,
   "metadata": {
    "collapsed": false
   },
   "outputs": [
    {
     "name": "stdout",
     "output_type": "stream",
     "text": [
      "Hubba-Bubba\n",
      "Hubba-Bubba\n",
      "Hubba-Bubba\n",
      "Hubba-Bubba\n",
      "Hubba-Bubba\n"
     ]
    }
   ],
   "source": [
    "# Функция range(n) создает объект, содержащий набор из упорядоченных чисел от 0 до n (невключительно)\n",
    "# Таким образом, чтобы запустить какой-то код какое-то количество раз, можно использовать цикл for\n",
    "# передав ему объект range\n",
    "\n",
    "for i in range(5):\n",
    "    print(\"Hubba-Bubba\") # эта строка выполнится 5 раз"
   ]
  },
  {
   "cell_type": "code",
   "execution_count": 89,
   "metadata": {
    "collapsed": false
   },
   "outputs": [
    {
     "name": "stdout",
     "output_type": "stream",
     "text": [
      "0\n",
      "1\n",
      "2\n",
      "3\n",
      "4\n",
      "5\n",
      "6\n"
     ]
    }
   ],
   "source": [
    "for i in range(7):\n",
    "    print(i)"
   ]
  },
  {
   "cell_type": "code",
   "execution_count": 90,
   "metadata": {
    "collapsed": false
   },
   "outputs": [
    {
     "name": "stdout",
     "output_type": "stream",
     "text": [
      "0\n",
      "1\n",
      "4\n",
      "9\n"
     ]
    }
   ],
   "source": [
    "# В range, естественно можно передавать не толко константы, но и переменные\n",
    "\n",
    "a = 4\n",
    "for i in range(a):\n",
    "    print(i ** 2)"
   ]
  },
  {
   "cell_type": "code",
   "execution_count": 91,
   "metadata": {
    "collapsed": false
   },
   "outputs": [
    {
     "name": "stdout",
     "output_type": "stream",
     "text": [
      "0  - четное число\n",
      "1  - нечетное число\n",
      "2  - четное число\n",
      "3  - нечетное число\n",
      "4  - четное число\n"
     ]
    }
   ],
   "source": [
    "for i in range(5):\n",
    "    if i % 2 == 0:\n",
    "        print(i, \" - четное число\")\n",
    "    else:\n",
    "        print(i, \" - нечетное число\")"
   ]
  },
  {
   "cell_type": "code",
   "execution_count": 92,
   "metadata": {
    "collapsed": false
   },
   "outputs": [
    {
     "name": "stdout",
     "output_type": "stream",
     "text": [
      "5\n",
      "6\n",
      "7\n",
      "8\n",
      "9\n"
     ]
    }
   ],
   "source": [
    "# Можно указать и любой другой диапазон для range\n",
    "# Для этого нужно передать в range два аргумента - начало и конец (конец не включительно)\n",
    "\n",
    "for i in range(5, 10):\n",
    "    print(i)"
   ]
  },
  {
   "cell_type": "code",
   "execution_count": 93,
   "metadata": {
    "collapsed": false
   },
   "outputs": [
    {
     "name": "stdout",
     "output_type": "stream",
     "text": [
      "10\n",
      "15\n",
      "20\n",
      "25\n",
      "30\n",
      "35\n",
      "40\n",
      "45\n"
     ]
    }
   ],
   "source": [
    "# Также можно указать шаг (то есть расстояние между числами в range)\n",
    "\n",
    "for i in range(10, 50, 5):\n",
    "    print(i)"
   ]
  },
  {
   "cell_type": "code",
   "execution_count": 94,
   "metadata": {
    "collapsed": false
   },
   "outputs": [
    {
     "name": "stdout",
     "output_type": "stream",
     "text": [
      "10\n",
      "9\n",
      "8\n",
      "7\n",
      "6\n",
      "5\n",
      "4\n",
      "3\n",
      "2\n",
      "1\n"
     ]
    }
   ],
   "source": [
    "# Шаг можно сделать даже отрицательным\n",
    "# Важно помнить, что при отрицательном шаге, начало диапазона должно быть больше конца\n",
    "\n",
    "for i in range(10, 0, -1):\n",
    "    print(i)"
   ]
  },
  {
   "cell_type": "code",
   "execution_count": 96,
   "metadata": {
    "collapsed": false
   },
   "outputs": [
    {
     "name": "stdout",
     "output_type": "stream",
     "text": [
      "0\n",
      "1\n",
      "2\n",
      "3\n",
      "4\n",
      "5\n",
      "6\n",
      "7\n"
     ]
    }
   ],
   "source": [
    "# Если необходимо прервать цикл в какой-то момент, то для этого существует оператор break\n",
    "\n",
    "for i in range(10):\n",
    "    print(i)\n",
    "    if i > 6:\n",
    "        break"
   ]
  },
  {
   "cell_type": "code",
   "execution_count": 97,
   "metadata": {
    "collapsed": false
   },
   "outputs": [
    {
     "name": "stdout",
     "output_type": "stream",
     "text": [
      "1\n",
      "3\n",
      "5\n",
      "7\n",
      "9\n"
     ]
    }
   ],
   "source": [
    "# Также можно мгновенно перейти к следующей итерации цикла. Для этого существует оператор continue\n",
    "\n",
    "for i in range(10):\n",
    "    if i % 2 == 0: # все итерации, на которых i - четное число, сразу переходят на следующую итерацию\n",
    "        continue\n",
    "    print(i)"
   ]
  },
  {
   "cell_type": "code",
   "execution_count": 98,
   "metadata": {
    "collapsed": false
   },
   "outputs": [
    {
     "name": "stdout",
     "output_type": "stream",
     "text": [
      "0\n",
      "1\n",
      "2\n",
      "Else!\n"
     ]
    }
   ],
   "source": [
    "# После for можно использовать оператор else. \n",
    "# Код, написанный под оператором else будет запущен после успешного окончания цикла\n",
    "\n",
    "for i in range(3):\n",
    "    print(i)\n",
    "else:\n",
    "    print(\"Else!\")"
   ]
  },
  {
   "cell_type": "code",
   "execution_count": 99,
   "metadata": {
    "collapsed": false
   },
   "outputs": [
    {
     "name": "stdout",
     "output_type": "stream",
     "text": [
      "0\n",
      "1\n",
      "2\n",
      "3\n",
      "4\n"
     ]
    }
   ],
   "source": [
    "# Однако, если цикл был прерван, то переход в else не будет осуществлен\n",
    "\n",
    "for i in range(10):\n",
    "    if i > 4:\n",
    "        break\n",
    "    print(i)\n",
    "else:\n",
    "    print(\"Else!\")"
   ]
  },
  {
   "cell_type": "code",
   "execution_count": 100,
   "metadata": {
    "collapsed": false
   },
   "outputs": [
    {
     "name": "stdout",
     "output_type": "stream",
     "text": [
      "0\n",
      "1\n",
      "2\n",
      "3\n",
      "4\n"
     ]
    }
   ],
   "source": [
    "# Цикл while в Питоне устроен проще\n",
    "# Он запускает код, пока верно условие, которое ему передали\n",
    "\n",
    "a = 0\n",
    "while a < 5:\n",
    "    print(a)\n",
    "    a = a + 1"
   ]
  },
  {
   "cell_type": "code",
   "execution_count": 101,
   "metadata": {
    "collapsed": false
   },
   "outputs": [
    {
     "name": "stdout",
     "output_type": "stream",
     "text": [
      "0\n",
      "1\n",
      "2\n",
      "3\n",
      "4\n",
      "5\n",
      "6\n",
      "7\n",
      "8\n",
      "9\n",
      "10\n",
      "11\n",
      "12\n",
      "13\n",
      "14\n",
      "15\n"
     ]
    }
   ],
   "source": [
    "# Операторы break, continue и else действуют также как и в цикле for\n",
    "\n",
    "i = 0\n",
    "while True:\n",
    "    print(i)\n",
    "    i += 1\n",
    "    if i > 15:\n",
    "        break"
   ]
  },
  {
   "cell_type": "code",
   "execution_count": 102,
   "metadata": {
    "collapsed": false
   },
   "outputs": [
    {
     "name": "stdout",
     "output_type": "stream",
     "text": [
      "1\n",
      "2\n",
      "4\n",
      "5\n",
      "7\n",
      "8\n",
      "10\n",
      "11\n",
      "13\n",
      "14\n"
     ]
    }
   ],
   "source": [
    "i = 0\n",
    "while i < 15:\n",
    "    i += 1\n",
    "    if i % 3 == 0:\n",
    "        continue\n",
    "    print(i)"
   ]
  },
  {
   "cell_type": "code",
   "execution_count": 104,
   "metadata": {
    "collapsed": false
   },
   "outputs": [
    {
     "name": "stdout",
     "output_type": "stream",
     "text": [
      "1\n",
      "2\n",
      "3\n",
      "4\n",
      "5\n",
      "6\n",
      "7\n",
      "8\n",
      "9\n",
      "10\n",
      "Цикл окончен, i = 11\n"
     ]
    }
   ],
   "source": [
    "i = 1\n",
    "while i <= 10:\n",
    "    print(i)\n",
    "    i += 1\n",
    "else:\n",
    "    print('Цикл окончен, i =', i)"
   ]
  },
  {
   "cell_type": "code",
   "execution_count": 2,
   "metadata": {
    "collapsed": false
   },
   "outputs": [
    {
     "name": "stdout",
     "output_type": "stream",
     "text": [
      "2 - простое число\n",
      "3 - простое число\n",
      "5 - простое число\n",
      "7 - простое число\n"
     ]
    }
   ],
   "source": [
    "# Пример: поиск простых чисел с использованием for-else:\n",
    "for n in range(2, 10):\n",
    "    x_range = range(2, n)\n",
    "    for x in x_range:\n",
    "        if n % x == 0:\n",
    "            break\n",
    "    else:\n",
    "        # Если у n не нашлось ни одного делителя, то break не вызовется ни разу и мы попадем в эту ветку кода\n",
    "        print(\"{0} - простое число\".format(n))"
   ]
  },
  {
   "cell_type": "code",
   "execution_count": 8,
   "metadata": {
    "collapsed": false
   },
   "outputs": [
    {
     "name": "stdout",
     "output_type": "stream",
     "text": [
      "Равенство верно на первых 100 числах\n"
     ]
    }
   ],
   "source": [
    "# Пример: проверка равенства суммы нечетных чисел меньших n и квадрата n\n",
    "for n in range(1, 101):\n",
    "    summ = 0\n",
    "    for x in range(1, n + 1):\n",
    "        summ += (2*x - 1)\n",
    "    if summ != n ** 2:\n",
    "        print(\"Нарушение равенства!\")\n",
    "        break\n",
    "else:\n",
    "    print(\"Равенство верно на первых 100 числах\")\n",
    "        "
   ]
  },
  {
   "cell_type": "code",
   "execution_count": null,
   "metadata": {
    "collapsed": true
   },
   "outputs": [],
   "source": []
  }
 ],
 "metadata": {
  "kernelspec": {
   "display_name": "Python 3",
   "language": "python",
   "name": "python3"
  },
  "language_info": {
   "codemirror_mode": {
    "name": "ipython",
    "version": 3
   },
   "file_extension": ".py",
   "mimetype": "text/x-python",
   "name": "python",
   "nbconvert_exporter": "python",
   "pygments_lexer": "ipython3",
   "version": "3.5.1"
  }
 },
 "nbformat": 4,
 "nbformat_minor": 0
}
