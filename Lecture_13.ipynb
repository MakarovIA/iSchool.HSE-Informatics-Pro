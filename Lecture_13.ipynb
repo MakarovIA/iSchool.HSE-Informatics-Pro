{
 "cells": [
  {
   "cell_type": "markdown",
   "metadata": {},
   "source": [
    "# Динамическое программирование\n",
    "\n",
    "Динамическое программирование - это часто очень эффективный способ решения алгоритмических задач. Его суть заключается в том, что в процессе вычисления итогового ответа, мы активно используем данные о промежуточных результатах, которые мы уже вычислили."
   ]
  },
  {
   "cell_type": "markdown",
   "metadata": {},
   "source": [
    "Самым простым примером, показывающим идею динамического программирования - это вычисление чисел Фибоначчи. \n",
    "Наивный алгоритм вычисления i-того числа вызовет эту же функцию для вычисления i-1-го и i-2-го числа, а потом сложит эти результаты.\n",
    "\n",
    "Проанализируем сколько вычислений нам необходимо будет сделать: первый вызов функции породит еще два вызова. Эти два соответственно еще по 2, то есть 4 вызова. Далее эти функции вызовут 8 функций и так далее пока мы не дойдем до вычисления первого числа фибоначчи. \n",
    "\n",
    "Итого: 1 + 2 + 4 + 8 + ... ≈ 2^(n). (Это не точное значение операций - только его порядок). Таким образом сложность вычисления растет экспоненциально и для вычисления, скажем, 20 числа фибоначчи нам потребуется порядка 1 миллиона операций!"
   ]
  },
  {
   "cell_type": "markdown",
   "metadata": {},
   "source": [
    "Где же именно мы теряем так много времени? Рассмотрим вычисление четвертого числа фибоначчи:\n",
    "\n",
    "F4 = F3 + F2 = (F1 + F2) + F2."
   ]
  },
  {
   "cell_type": "markdown",
   "metadata": {},
   "source": [
    "<img src=\"img/DynamicProg.png\">"
   ]
  },
  {
   "cell_type": "markdown",
   "metadata": {},
   "source": [
    "Видно, что в процессе вычисление F3 мы уже вычислили значение F2. Однако наш алгоритм после вычисления F3 все равно вызовет функцию, которая вычислит F2 снова. \n",
    "И далее, количество таких бесполезных вычислений будет только расти."
   ]
  },
  {
   "cell_type": "markdown",
   "metadata": {},
   "source": [
    "Основная идея ускорения - не пересчитывать те значения, которые нам уже известны.\n",
    "\n",
    "* Для вычисления n-го числа фибоначчи заведем массив из n элементов.\n",
    "* В первые две ячейки запишем первые два числа фибоначчи. \n",
    "* Далее будем идти по массиву и в i-тую ячейку записывать значение суммы i-1 и i-2 ячейки массива. Так как мы идем слева направо, то значения этих ячеек нам будут уже известны.\n",
    "* Дойдя до конца массива мы запишем в n-ую ячейку n-ое число фибоначчи - а это и есть то, что мы искали."
   ]
  },
  {
   "cell_type": "markdown",
   "metadata": {},
   "source": [
    "Таким образом для вычисления ВСЕХ (мы ведь заполнпили весь массив, а значит знаем все числа фибоначчи до n) чисел фибоначчи от 1 до 20 нам потребуется 20 операций. Сравните с наивным алгоритмом, который вычисляет 1 число фибоначчи за около миллион операций."
   ]
  },
  {
   "cell_type": "code",
   "execution_count": 1,
   "metadata": {
    "collapsed": false
   },
   "outputs": [
    {
     "data": {
      "text/plain": []
     },
     "execution_count": 1,
     "metadata": {},
     "output_type": "execute_result"
    }
   ],
   "source": [
    "#include <iostream>\n",
    "#include <vector>\n",
    "#include <chrono>"
   ]
  },
  {
   "cell_type": "code",
   "execution_count": 2,
   "metadata": {
    "collapsed": false
   },
   "outputs": [
    {
     "data": {
      "text/plain": [
       "(unsigned long) 0\n"
      ]
     },
     "execution_count": 2,
     "metadata": {},
     "output_type": "execute_result"
    }
   ],
   "source": [
    "typedef std::chrono::milliseconds Milliseconds;\n",
    "typedef std::chrono::steady_clock Clock;\n",
    "typedef Clock::time_point Time;\n",
    "\n",
    "Time start;\n",
    "unsigned long t;"
   ]
  },
  {
   "cell_type": "code",
   "execution_count": 3,
   "metadata": {
    "collapsed": false
   },
   "outputs": [
    {
     "data": {
      "text/plain": []
     },
     "execution_count": 3,
     "metadata": {},
     "output_type": "execute_result"
    }
   ],
   "source": [
    "long fib_simple(int i) {\n",
    "    if(i <= 0) return 0;\n",
    "    if(i <= 2) return 1;\n",
    "    return fib_simple(i-1) + fib_simple(i-2);\n",
    "}"
   ]
  },
  {
   "cell_type": "code",
   "execution_count": 4,
   "metadata": {
    "collapsed": false
   },
   "outputs": [
    {
     "name": "stdout",
     "output_type": "stream",
     "text": [
      "12586269025\n",
      "63932 миллисекунд\n"
     ]
    },
    {
     "data": {
      "text/plain": [
       "(std::basic_ostream<char, std::char_traits<char> >::__ostream_type &) @0x7fa8b3d476e0\n"
      ]
     },
     "execution_count": 4,
     "metadata": {},
     "output_type": "execute_result"
    }
   ],
   "source": [
    "start = Clock::now();\n",
    "long f1 = fib_simple(50);\n",
    "std::cout << f1 << std::endl;\n",
    "t = std::chrono::duration_cast<Milliseconds>(Clock::now() - start).count();\n",
    "std::cout << t << \" миллисекунд\" << std::endl;"
   ]
  },
  {
   "cell_type": "code",
   "execution_count": 5,
   "metadata": {
    "collapsed": false
   },
   "outputs": [
    {
     "data": {
      "text/plain": []
     },
     "execution_count": 5,
     "metadata": {},
     "output_type": "execute_result"
    }
   ],
   "source": [
    "long fib_dynamic(int i) {\n",
    "    std::vector<long> fibs(i+1);\n",
    "    fibs[0] = 0;\n",
    "    fibs[1] = 1;\n",
    "    fibs[2] = 1;\n",
    "    for(int j = 3; j <= i; j++){\n",
    "        fibs[j] = fibs[j-1] + fibs[j-2];\n",
    "    }\n",
    "    return fibs[i];\n",
    "}"
   ]
  },
  {
   "cell_type": "code",
   "execution_count": 6,
   "metadata": {
    "collapsed": false
   },
   "outputs": [
    {
     "name": "stdout",
     "output_type": "stream",
     "text": [
      "12586269025\n",
      "0 миллисекунд\n"
     ]
    },
    {
     "data": {
      "text/plain": [
       "(std::basic_ostream<char, std::char_traits<char> >::__ostream_type &) @0x7fa8b3d476e0\n"
      ]
     },
     "execution_count": 6,
     "metadata": {},
     "output_type": "execute_result"
    }
   ],
   "source": [
    "start = Clock::now();\n",
    "long f2 = fib_dynamic(50);\n",
    "std::cout << f2 << std::endl;\n",
    "t = std::chrono::duration_cast<Milliseconds>(Clock::now() - start).count();\n",
    "std::cout << t << \" миллисекунд\" << std::endl;"
   ]
  },
  {
   "cell_type": "markdown",
   "metadata": {},
   "source": [
    "Вычисление числа фибоначчи отработало насколько быстро, что это не отловил системный таймер, в то время как наивный алгоритм работал около минуты."
   ]
  },
  {
   "cell_type": "markdown",
   "metadata": {},
   "source": [
    "# Расстояние Левенштейна\n",
    "\n",
    "Одним из применений динамического программиования является расчет редакционного расстрояния (оно же - расстояние Левенштейна в честь Владимира Иосифовича Левенштейна).\n",
    "\n",
    "Путь у нас есть два строки S1 и S2. Необходимо сказать, какое минимальное количество операций вставки, удаления и замены символов необходимо, чтобы сделать из строки S1 строку S2.\n",
    "\n",
    "Пример: Роса и Роза - редакционное расстроение равно 1, так как необходимо всего лишь заменить букву c на з. Лес и Лось - в данном примере расстояние будет равно 2, так как необходимо заменить е на о, а после этого еще вставить мягкий знак на конец слова."
   ]
  },
  {
   "cell_type": "markdown",
   "metadata": {},
   "source": [
    "Наиболее известный алгоритм расчета расстрояния Левенштейна является алгоритм Вагнера-Фишера. Суть его в следующем:\n",
    "\n",
    "Умея вычислять расстрояние Левенштейна для подстрок, мы можем вычислить рекуретно расстрояние для строк целиком.\n",
    "\n",
    "Путь D(i, j) - расстрояние между подстроками S1[1:i] и S2[1:j]. Тогда D(N, M), где N и M - это длины строк S1 и S2 соответственно, и есть та величина, которую мы ищем.\n",
    "\n",
    "Определим некоторые факты про функцию D:\n",
    "* D(0, 0) = 0. Расстояние между пустыми строками, очевидно, 0.\n",
    "* D(i, 0) = i, D(0, j) = j. То есть, самый быстрый способ получить из пустой строки нужное слово - вставить каждую букву этого слова. Все остальные операции, очевидно, будут только увеличивать расстрояние.\n",
    "* Если S1[i] = S2[j], то D(i, j) = D(i-1, j-1). Это логично, так как если символы совпали, то не нужно с ним производить никаких операций и в итоге расстрояние остается таким же как и без этого символа.\n",
    "* Если же S1[i] != S2[j], то тогда возможны следующие варианты:\n",
    " * Удалить этот символ. Тогда расстояние будет D(i-1, j) + 1, так как мы убрали 1 символ из первой строки и сделали одну операцию удаления.\n",
    " * Добавить символ. Тогда, аналогично, расстояние будет D(i, j-1) + 1.\n",
    " * Заменить символ. Тогда расстрояние будет D(i-1, j-1) + 1. Этот случай похож на тот, когда символы совпали, только теперь мы еще потратили 1 операцию на замену."
   ]
  },
  {
   "cell_type": "markdown",
   "metadata": {},
   "source": [
    "Этих фактов нам хватает для того, чтобы составить алгоритм, вычисляющий редакционное расстрояние.\n",
    "\n",
    "* Создадим двумерный массив M на N. В i, j -той ячейке будет хранится значение D(i, j).\n",
    "* Проинициализируем начальные данные, которые нам известны - запомним D(0, 0), D(0, j), D(i, 0);\n",
    "* Далее будем идти от 1, 1 до M, N и вычислять соответствующие значения D\n",
    " * Если S1[i]=S2[j], то запишем D(i-1, j-1)\n",
    " * Если нет, то запишем минимальное расстояние, получающееся от различных операций, то есть D(i, j) = min(D(i-1, j), D(i, j-1), D(i-1, j-1)) + 1.\n",
    "* После окончания в ячейке M, N будет лежать D(M, N), то есть искомая величина"
   ]
  },
  {
   "cell_type": "markdown",
   "metadata": {},
   "source": [
    "<img src=\"img/Lev.png\">"
   ]
  },
  {
   "cell_type": "markdown",
   "metadata": {},
   "source": [
    "В данном примере, мы сначала удалили символ Д, далее заменили букву Г на Р и в конце вставили букву Т. Таким образом из слова ДАГЕСТАН мы получили слово АРЕСТАНТ. Итого расстояние - 3, что можно видеть в правой нижней ячейке."
   ]
  },
  {
   "cell_type": "code",
   "execution_count": 7,
   "metadata": {
    "collapsed": false
   },
   "outputs": [
    {
     "data": {
      "text/plain": []
     },
     "execution_count": 7,
     "metadata": {},
     "output_type": "execute_result"
    }
   ],
   "source": [
    "int Levenstain(std::string S1, std::string S2) {\n",
    "    auto minVal = [](int a, int b, int c) {return std::min(a, std::min(b, c));}; // минимум из трех\n",
    "    int M = S1.size();\n",
    "    int N = S2.size();\n",
    "    std::vector< std::vector<int> > D(M+1, std::vector<int>(N+1)); // матрица\n",
    "    \n",
    "    D[0][0] = 0;\n",
    "    for(int i = 0; i <= M; i++) D[i][0] = i;\n",
    "    for(int j = 0; j <= N; j++) D[0][j] = j;\n",
    "    \n",
    "    for(int i = 1; i <= M; i++) {\n",
    "        for(int j = 1; j <= N; j++) {\n",
    "            if(S1[i] == S2[j]){\n",
    "                D[i][j] = D[i-1][j-1];\n",
    "            } \n",
    "            else {\n",
    "                D[i][j] = minVal(\n",
    "                    D[i-1][j],\n",
    "                    D[i][j-1],\n",
    "                    D[i-1][j-1]\n",
    "                ) + 1;\n",
    "            }\n",
    "        }\n",
    "    }\n",
    "    \n",
    "    return D[M][N];\n",
    "}"
   ]
  },
  {
   "cell_type": "code",
   "execution_count": 8,
   "metadata": {
    "collapsed": false
   },
   "outputs": [
    {
     "name": "stdout",
     "output_type": "stream",
     "text": [
      "2\n"
     ]
    },
    {
     "data": {
      "text/plain": [
       "(std::basic_ostream<char, std::char_traits<char> >::__ostream_type &) @0x7fa8b3d476e0\n"
      ]
     },
     "execution_count": 8,
     "metadata": {},
     "output_type": "execute_result"
    }
   ],
   "source": [
    "std::cout << Levenstain(\"Les\", \"Loso\") << std::endl;"
   ]
  },
  {
   "cell_type": "code",
   "execution_count": 9,
   "metadata": {
    "collapsed": false
   },
   "outputs": [
    {
     "name": "stdout",
     "output_type": "stream",
     "text": [
      "0\n"
     ]
    },
    {
     "data": {
      "text/plain": [
       "(std::basic_ostream<char, std::char_traits<char> >::__ostream_type &) @0x7fa8b3d476e0\n"
      ]
     },
     "execution_count": 9,
     "metadata": {},
     "output_type": "execute_result"
    }
   ],
   "source": [
    "std::cout << Levenstain(\"abba\", \"abba\") << std::endl;"
   ]
  },
  {
   "cell_type": "code",
   "execution_count": 10,
   "metadata": {
    "collapsed": false
   },
   "outputs": [
    {
     "name": "stdout",
     "output_type": "stream",
     "text": [
      "6\n"
     ]
    },
    {
     "data": {
      "text/plain": [
       "(std::basic_ostream<char, std::char_traits<char> >::__ostream_type &) @0x7fa8b3d476e0\n"
      ]
     },
     "execution_count": 10,
     "metadata": {},
     "output_type": "execute_result"
    }
   ],
   "source": [
    "std::cout << Levenstain(\"POLYNOMIAL\", \"EXPONENTIAL\") << std::endl;"
   ]
  },
  {
   "cell_type": "markdown",
   "metadata": {},
   "source": [
    "# Расстрояние Дамерау-Левенштейна\n",
    "\n",
    "Расстояние Левенштейна - это очень удобный способ сравнения строк на схожесть. Однако на практике часто лучше использовать модифицированную метрику - расстрояние Дамерау-Левенштейна.\n",
    "\n",
    "Это расстрояние является расширением классического расстояния Левенштейна: теперь, помимо вставки, удаления и замены, добавляется операция транспозиции - замена местами двух соседних символов. Это удобно, при решении задачи исправления текста от опечаток, так как очень большое количество опечаток - это именно транспозиция двух символов.\n",
    "\n",
    "К примеру, расстояние дамерау-левенштейна между \"привет\" и \"пирвет\" всего 1, так как необходимо всего лишь поменять местами \"р\" и \"и\". "
   ]
  },
  {
   "cell_type": "markdown",
   "metadata": {},
   "source": [
    "Алгоритм вычисления данного редакционного расстояния аналогичен обычному Левенштейну - необходимо лишь добавить обработку случая, когда выгоднее сделать транспозицию.\n",
    "\n",
    "* Если S1[i-1] = S2[j] и S1[i] = S2[j-1] (возможна транспозиция), то мы опять же можем вставить, удалить и заменить, как и в Левенштейне, однако теперь мы еще можем сделать транспозицию. В таком случае расстояние будет равно D(i-2, j-2) + 1, так как мы восстановили строку до последних двух символов и далее за одну операцию поменяли их местами.\n",
    "* Если же траспозиция невозможна, то формула превращается в ту, что была в обычном Левинштейне."
   ]
  },
  {
   "cell_type": "code",
   "execution_count": 11,
   "metadata": {
    "collapsed": false
   },
   "outputs": [
    {
     "data": {
      "text/plain": []
     },
     "execution_count": 11,
     "metadata": {},
     "output_type": "execute_result"
    }
   ],
   "source": [
    "int Damerau_Levenstain(std::string S1, std::string S2) {\n",
    "    auto minVal3 = [](int a, int b, int c) {return std::min(a, std::min(b, c));}; // минимум из трех\n",
    "    auto minVal4 = [](int a, int b, int c, int d) {return std::min(std::min(a, b), std::min(c, d));}; // из четырех\n",
    "    int M = S1.size();\n",
    "    int N = S2.size();\n",
    "    std::vector< std::vector<int> > D(M+1, std::vector<int>(N+1)); // матрица\n",
    "    \n",
    "    D[0][0] = 0;\n",
    "    for(int i = 0; i <= M; i++) D[i][0] = i;\n",
    "    for(int j = 0; j <= N; j++) D[0][j] = j;\n",
    "    \n",
    "    for(int i = 1; i <= M; i++) {\n",
    "        for(int j = 1; j <= N; j++) {\n",
    "            if(i > 1 and j > 1 and S1[i-1] == S2[j] and S1[i] == S2[j-1]) { // возможна транспозиция\n",
    "                D[i][j] = minVal4(\n",
    "                    D[i-1][j] + 1,\n",
    "                    D[i][j-1] + 1,\n",
    "                    D[i-1][j-1] + (int)(S1[i] != S2[j]), // добавим 1 операцию, если не совпали и нужно заменить\n",
    "                    D[i-2][j-2] + 1\n",
    "                );\n",
    "            } else { // классический левенштейн\n",
    "                if(S1[i] == S2[j]){\n",
    "                    D[i][j] = D[i-1][j-1];\n",
    "                } \n",
    "                else {\n",
    "                    D[i][j] = minVal3(\n",
    "                        D[i-1][j],\n",
    "                        D[i][j-1],\n",
    "                        D[i-1][j-1]\n",
    "                    ) + 1;\n",
    "                }\n",
    "            }\n",
    "            \n",
    "        }\n",
    "    }\n",
    "    \n",
    "    return D[M][N];\n",
    "}"
   ]
  },
  {
   "cell_type": "code",
   "execution_count": 12,
   "metadata": {
    "collapsed": false
   },
   "outputs": [
    {
     "name": "stdout",
     "output_type": "stream",
     "text": [
      "1\n"
     ]
    },
    {
     "data": {
      "text/plain": [
       "(std::basic_ostream<char, std::char_traits<char> >::__ostream_type &) @0x7fa8b3d476e0\n"
      ]
     },
     "execution_count": 12,
     "metadata": {},
     "output_type": "execute_result"
    }
   ],
   "source": [
    "std::cout << Damerau_Levenstain(\"Hello\", \"Hlelo\") << std::endl;"
   ]
  },
  {
   "cell_type": "code",
   "execution_count": 13,
   "metadata": {
    "collapsed": false
   },
   "outputs": [
    {
     "name": "stdout",
     "output_type": "stream",
     "text": [
      "2\n"
     ]
    },
    {
     "data": {
      "text/plain": [
       "(std::basic_ostream<char, std::char_traits<char> >::__ostream_type &) @0x7fa8b3d476e0\n"
      ]
     },
     "execution_count": 13,
     "metadata": {},
     "output_type": "execute_result"
    }
   ],
   "source": [
    "std::cout << Levenstain(\"Hello\", \"Hlelo\") << std::endl;"
   ]
  },
  {
   "cell_type": "markdown",
   "metadata": {},
   "source": [
    "Как можно заметить, расстояние Дамерау-Левенштейна будет меньше, если разница всего лишь в транспозиции."
   ]
  },
  {
   "cell_type": "code",
   "execution_count": null,
   "metadata": {
    "collapsed": true
   },
   "outputs": [],
   "source": []
  }
 ],
 "metadata": {
  "anaconda-cloud": {},
  "kernelspec": {
   "display_name": "C++",
   "language": "",
   "name": "cling"
  },
  "language_info": {
   "codemirror_mode": "text/x-c++src",
   "file_extension": ".c++",
   "mimetype": " text/x-c++src",
   "name": "c++"
  }
 },
 "nbformat": 4,
 "nbformat_minor": 1
}
