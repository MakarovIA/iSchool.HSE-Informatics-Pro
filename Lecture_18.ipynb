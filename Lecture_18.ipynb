{
 "cells": [
  {
   "cell_type": "markdown",
   "metadata": {},
   "source": [
    "# Очередь с приоритетом\n",
    "\n",
    "Очередь с приритетом - структура данных, которая позволяет определить самый приоритетный элемент в множестве (по заданному критерию), а также добавлять и удалять оттуда элементы (в особенности - приоритетный элемент). "
   ]
  },
  {
   "cell_type": "markdown",
   "metadata": {},
   "source": [
    "# Наивный подход\n",
    "\n",
    "Самым очевидным подходом к построению очередей с приоритетом является отсортированные последовательности. Действительно, элементы, отсортированные по критерию, будут представлять собой очередь с приоритетом - первым элементом будет являться самый приоритетный, а за ним все остальные по степени важности."
   ]
  },
  {
   "cell_type": "code",
   "execution_count": 1,
   "metadata": {
    "collapsed": false
   },
   "outputs": [
    {
     "data": {
      "text/plain": []
     },
     "execution_count": 1,
     "metadata": {},
     "output_type": "execute_result"
    }
   ],
   "source": [
    "#include <iostream>\n",
    "#include <vector>\n",
    "#include <algorithm>\n",
    "#include <set>\n",
    "#include <functional>"
   ]
  },
  {
   "cell_type": "code",
   "execution_count": 2,
   "metadata": {
    "collapsed": false
   },
   "outputs": [
    {
     "data": {
      "text/plain": [
       "(std::vector<int> &) { 4, 8, 1, 2, 8, 3 }\n"
      ]
     },
     "execution_count": 2,
     "metadata": {},
     "output_type": "execute_result"
    }
   ],
   "source": [
    "std::vector<int> v1({4, 8, 1, 2, 8, 3});"
   ]
  },
  {
   "cell_type": "code",
   "execution_count": 3,
   "metadata": {
    "collapsed": false
   },
   "outputs": [
    {
     "data": {
      "text/plain": [
       "(void) nullptr\n"
      ]
     },
     "execution_count": 3,
     "metadata": {},
     "output_type": "execute_result"
    }
   ],
   "source": [
    "std::sort(v1.begin(), v1.end(), [](int i, int j){ return i > j; /*критерий*/}); // построение"
   ]
  },
  {
   "cell_type": "code",
   "execution_count": 4,
   "metadata": {
    "collapsed": false
   },
   "outputs": [
    {
     "name": "stdout",
     "output_type": "stream",
     "text": [
      "Самый приоритетный: 8"
     ]
    },
    {
     "data": {
      "text/plain": [
       "(std::basic_ostream<char, std::char_traits<char> >::__ostream_type &) @0x7fa6da4bd6e0\n"
      ]
     },
     "execution_count": 4,
     "metadata": {},
     "output_type": "execute_result"
    }
   ],
   "source": [
    "std::cout << \"Самый приоритетный: \" << v1.front();"
   ]
  },
  {
   "cell_type": "markdown",
   "metadata": {},
   "source": [
    "Однако такой подход не является эффектиный по производительности:\n",
    "\n",
    "Стоимость построения очереди из набора данных составляет в лучшем случае $n \\ln n$ (лучшее время для сортировки).\n",
    "\n",
    "Стоимость добавления нового элемента будет составлять время на поиск места вставки - $n$ (линейный поиск), $\\ln n$ (бинарный поиск) + время на вставку - $n$ = $\\ln n + n$.\n",
    "\n",
    "Стоимость нахождения самого приоритетного элемента будет состовлять всего 1 - нужно просто взять первый элемент."
   ]
  },
  {
   "cell_type": "markdown",
   "metadata": {},
   "source": [
    "# Бинарные деревья поиска\n",
    "\n",
    "Более рациональным подходом будет являться использование деревьев поиска. \n",
    "\n",
    "Стоимость построения из набора данных все также будет равняться $n \\log_2 n$ ($n$ элементов вставляется за $\\log_2 n$ - по сути все таже сортировка массива)\n",
    "\n",
    "Стоимость же добавления нового элемента будет уже всего $\\log_2 n$ (если дерево сбалансировано), что весьма быстрее, чем в предыдущем способе.\n",
    "\n",
    "Стоимость же взятия наиболее приоритетного элемента будет равна $\\log_2 n$, что уже хуже, чем в предыдущем варианте"
   ]
  },
  {
   "cell_type": "code",
   "execution_count": 5,
   "metadata": {
    "collapsed": false
   },
   "outputs": [
    {
     "data": {
      "text/plain": []
     },
     "execution_count": 5,
     "metadata": {},
     "output_type": "execute_result"
    }
   ],
   "source": [
    "std::set<int, std::greater<int> > s1;\n",
    "for(int i : {5, 2, 7, 9, 3, 1, 6, 8, 11}) s1.insert(i); // построение\n",
    "/**\n",
    "* Для примера можно использовать контейнер множества из стандартной библиотеки С++\n",
    "* Оно базируется на самобалансирующемся красно-черном дереве\n",
    "**/"
   ]
  },
  {
   "cell_type": "code",
   "execution_count": 6,
   "metadata": {
    "collapsed": false
   },
   "outputs": [
    {
     "name": "stdout",
     "output_type": "stream",
     "text": [
      "Самый приоритетный: 11"
     ]
    },
    {
     "data": {
      "text/plain": [
       "(std::basic_ostream<char, std::char_traits<char> >::__ostream_type &) @0x7fa6da4bd6e0\n"
      ]
     },
     "execution_count": 6,
     "metadata": {},
     "output_type": "execute_result"
    }
   ],
   "source": [
    "std::cout << \"Самый приоритетный: \" << *s1.begin();"
   ]
  },
  {
   "cell_type": "markdown",
   "metadata": {},
   "source": [
    "# Кучи\n",
    "\n",
    "Куча - это структура данных, которая представляет собой полное бинарное дерево со следующим свойством:\n",
    "\n",
    "* Значение в родителе больше чем значение в потомках\n",
    "\n",
    "Таким образом, в корне кучи всегда будет находится самый большой элемент."
   ]
  },
  {
   "cell_type": "markdown",
   "metadata": {},
   "source": [
    "<img src='https://upload.wikimedia.org/wikipedia/commons/3/38/Max-Heap.svg'>"
   ]
  },
  {
   "cell_type": "markdown",
   "metadata": {},
   "source": [
    "Важной особенностью кучи является тот факт, что для ее хранения можно использовать обычный массив следующий образом:\n",
    "\n",
    "* Если узел имеет индекс i в массиве, то его правый потомок 2i, а левый - 2i+1.\n",
    "* Родителя также можно определить по индексу - для i-го родитель (i-1)/2."
   ]
  },
  {
   "cell_type": "code",
   "execution_count": 7,
   "metadata": {
    "collapsed": false
   },
   "outputs": [
    {
     "data": {
      "text/plain": []
     },
     "execution_count": 7,
     "metadata": {},
     "output_type": "execute_result"
    }
   ],
   "source": [
    "typedef std::vector<long>::iterator Iter;"
   ]
  },
  {
   "cell_type": "code",
   "execution_count": 8,
   "metadata": {
    "collapsed": false
   },
   "outputs": [
    {
     "data": {
      "text/plain": []
     },
     "execution_count": 8,
     "metadata": {},
     "output_type": "execute_result"
    }
   ],
   "source": [
    "Iter left(Iter i, Iter heap_begin, Iter heap_end) { // левый потомок\n",
    "    Iter l = heap_begin + (i - heap_begin) * 2 + 1;\n",
    "    return l >= heap_end ? heap_end : l;\n",
    "}"
   ]
  },
  {
   "cell_type": "code",
   "execution_count": 9,
   "metadata": {
    "collapsed": false
   },
   "outputs": [
    {
     "data": {
      "text/plain": []
     },
     "execution_count": 9,
     "metadata": {},
     "output_type": "execute_result"
    }
   ],
   "source": [
    "Iter rigth(Iter i, Iter heap_begin, Iter heap_end) { // правый потомок\n",
    "    Iter r = heap_begin + (i - heap_begin) * 2 + 2;\n",
    "    return r >= heap_end ? heap_end : r;\n",
    "}"
   ]
  },
  {
   "cell_type": "code",
   "execution_count": 10,
   "metadata": {
    "collapsed": false
   },
   "outputs": [
    {
     "data": {
      "text/plain": []
     },
     "execution_count": 10,
     "metadata": {},
     "output_type": "execute_result"
    }
   ],
   "source": [
    "Iter parent(Iter i, Iter heap_begin, Iter heap_end) { // родитель\n",
    "    return heap_begin + (i - heap_begin - 1) / 2;\n",
    "}"
   ]
  },
  {
   "cell_type": "markdown",
   "metadata": {},
   "source": [
    "Алгоритм построения кучи из набора очень прост.\n",
    "\n",
    "Наблюдение:\n",
    "Пусть у нас есть бинарное дерево, такое что целиком оно не является кучей, однако каждый из потомков корня - являются бинарной кучей. Другими словами свойство кучи нарушается только в корне.\n",
    "\n",
    "В таком случае, эту структуру можно очень просто превратить в настоящую кучу:\n",
    "\n",
    "* Выберем максимальный элемент из потомков корня\n",
    "* Если он больше, чем сам корень, то поменяем их местами\n",
    "* Теперь свойство кучи, очевидно выполняется в корне - в корне находится самый большой элемент. Однако свойство кучи могло быть нарушено в потомке, с которым мы поменяли корневой элемент. \n",
    "* Перейдем в эту вершину и мы получим аналогичную ситуацию - свойство кучи нарушается только в корне. Запустим этот алгоритм на этой вершине.\n",
    "\n",
    "Таким образом мы будем спускать вершину, пока она не займет необходимое место (возможно в листе). После этой операции полученная структура по построению будет являться бинарной кучей."
   ]
  },
  {
   "cell_type": "code",
   "execution_count": 11,
   "metadata": {
    "collapsed": false
   },
   "outputs": [
    {
     "data": {
      "text/plain": []
     },
     "execution_count": 11,
     "metadata": {},
     "output_type": "execute_result"
    }
   ],
   "source": [
    "void heapify(Iter e, Iter heap_begin, Iter heap_end) { // основная функция для восстановления кучи\n",
    "    Iter l = left(e, heap_begin, heap_end), r = rigth(e, heap_begin, heap_end); // берем потомков\n",
    "    Iter largest; \n",
    "    if(l != heap_end and *l > *e) largest = l;\n",
    "    else largest = e; // находим максимальный среди них\n",
    "\n",
    "    if(r != heap_end and *r > *largest) largest = r;\n",
    "\n",
    "    if(largest != e) { // если он больше чем тот, что в изначальной вершине\n",
    "        std::swap(*e, *largest); // меняем их местами\n",
    "        heapify(largest, heap_begin, heap_end); // выполняем восстановление для потомка\n",
    "    }\n",
    "}"
   ]
  },
  {
   "cell_type": "markdown",
   "metadata": {},
   "source": [
    "#### Построение\n",
    "\n",
    "Пусть нам дан массив данных. Вторая половина этого массива уже является бинарной кучей - так как это листовые элементы, а значит представляют собой кучи с одним единственным элементом. \n",
    "\n",
    "Посмотрим на первый элемент перед ними - на первого родителя листовых элементов. Очевидно, что для него справедлива ситуация, описанная ранее - все потомки явлюятся бинарными кучами (так как листовые элементы), но свойство кучи может наружаться в самой вершине. \n",
    "\n",
    "Тогда произведем восстановление кучи, описанное выше. Теперь посмотрим на следующий элемент. Он или опять родитель листов или родитель той вершины, которую мы только что превратили в кучу. Таким образом и для него верна описанная ситуация => восстановим свойство кучи и в этой вершине.\n",
    "\n",
    "Будет дальше идти по массиву и восстанавливать свойство кучи для элементов.\n",
    "\n",
    "В конце мы воссстановим свойство кучи для первого элемента, а значит вся структура будет являться полной бинарной кучей."
   ]
  },
  {
   "cell_type": "code",
   "execution_count": 12,
   "metadata": {
    "collapsed": false
   },
   "outputs": [
    {
     "data": {
      "text/plain": []
     },
     "execution_count": 12,
     "metadata": {},
     "output_type": "execute_result"
    }
   ],
   "source": [
    "void build_heap(Iter heap_begin, Iter heap_end) { // построение кучи\n",
    "    for(Iter i = heap_begin + (heap_end-heap_begin)/2 + 1; i != heap_begin - 1; i--) {\n",
    "        heapify(i, heap_begin, heap_end); // идем по массиву и восстанавливаем кучу\n",
    "    }\n",
    "}"
   ]
  },
  {
   "cell_type": "markdown",
   "metadata": {},
   "source": [
    "#### Взятие самого приоритетного\n",
    "\n",
    "Самый приоритетный элемент находится на первом месте по свойству бинарной кучи. Для того, чтобы его удалить, удалим вершину из массива и на его место поставим последний элемент массива. Так как последний элемент массива является листовым, то свойство кучи могло нарушится только в вершине. А мы уже хорошо умеет восстанавливать кучу из этого состояния. "
   ]
  },
  {
   "cell_type": "code",
   "execution_count": 13,
   "metadata": {
    "collapsed": false
   },
   "outputs": [
    {
     "data": {
      "text/plain": []
     },
     "execution_count": 13,
     "metadata": {},
     "output_type": "execute_result"
    }
   ],
   "source": [
    "long Top(std::vector<long> array, Iter heap_begin, Iter heap_end) { // берем самый приоритетный элемент\n",
    "    if(array.size() == 0) {\n",
    "        throw std::length_error(\"Queue is empty\");\n",
    "    }\n",
    "\n",
    "    long maximum = *heap_begin;\n",
    "    heap_end--;\n",
    "    *heap_begin = *heap_end; // берем элемент с конца\n",
    "    heapify(heap_begin, heap_begin, heap_end); // восстанавливаем кучу\n",
    "\n",
    "    array.erase(heap_end);\n",
    "\n",
    "    return maximum;\n",
    "}"
   ]
  },
  {
   "cell_type": "markdown",
   "metadata": {},
   "source": [
    "#### Стоимость\n",
    "\n",
    "С первого взгляда может показаться, что построение кучи также стоит $n \\log_2 n$ операций, так как n элементов нужно спустить по бинарному дереву (то есть за $\\log_2 n$). Однако на самом деле, эта операция происходит быстрее, так как мы каждый раз работаем не со всем деревом, а только с ее частью:\n",
    "\n",
    "Так, первый вызов восстановления кучи потребует всего одного действия, так как оно производится над деревом с высотой 1 (его потомки - листья). Далее с деревом с высотой 2 и так далее. Было доказано, что из-за этого стоимость всей операции будет составлять всего $n$ операций! Это гораздо быстрее, чем любой из рассматриваемых ранее подходов.\n",
    "\n",
    "Стомость взятия самого приоритетного элемента будет стоить $\\log_2 n$ - необходимо будет спустить вершину по всему дереву для восстановления кучи.\n",
    "\n",
    "Добавление также будет стоить $\\log_2 n$ - нужно опять спустить вершину по всему дереву.\n",
    "\n",
    "Такми образом, данная структура является наиболее оптимальный решением для построения очередей с приоритетом."
   ]
  },
  {
   "cell_type": "code",
   "execution_count": 14,
   "metadata": {
    "collapsed": false
   },
   "outputs": [
    {
     "data": {
      "text/plain": []
     },
     "execution_count": 14,
     "metadata": {},
     "output_type": "execute_result"
    }
   ],
   "source": [
    "#include <iostream>\n",
    "#include <vector>\n",
    "#include <iterator>\n",
    "#include <tuple>\n",
    "#include <stdexcept>\n",
    "#include <climits>"
   ]
  },
  {
   "cell_type": "code",
   "execution_count": 15,
   "metadata": {
    "collapsed": false
   },
   "outputs": [
    {
     "data": {
      "text/plain": []
     },
     "execution_count": 15,
     "metadata": {},
     "output_type": "execute_result"
    }
   ],
   "source": [
    "class PriorityQueue {\n",
    "public:\n",
    "    PriorityQueue(){\n",
    "        retrieve_iters();\n",
    "    }\n",
    "\n",
    "    long Max() {\n",
    "        return *heap_begin;\n",
    "    }\n",
    "\n",
    "    long Top() { // берем самый приоритетный элемент\n",
    "        if(array.size() == 0) {\n",
    "            throw std::length_error(\"Queue is empty\");\n",
    "        }\n",
    "\n",
    "        long maximum = *heap_begin;\n",
    "        heap_end--;\n",
    "        *heap_begin = *heap_end; // берем элемент с конца\n",
    "        heapify(heap_begin); // восстанавливаем кучу\n",
    "\n",
    "        array.erase(heap_end);\n",
    "        retrieve_iters();\n",
    "\n",
    "        return maximum;\n",
    "    }\n",
    "\n",
    "    void Insert(long k) { // вставляем ключ\n",
    "        array.push_back(LONG_MIN);\n",
    "        retrieve_iters();\n",
    "\n",
    "        increase_key(heap_end-1, k);\n",
    "    }\n",
    "\n",
    "    bool empty() {\n",
    "        return array.size() == 0;\n",
    "    }\n",
    "    \n",
    "    void build_heap() { // построение кучи\n",
    "        heap_end = array.end(); \n",
    "        for(Iter i = heap_begin + (heap_end-heap_begin)/2 + 1; i != heap_begin - 1; i--) {\n",
    "            heapify(i); // идем по массиву и восстанавливаем кучу\n",
    "        }\n",
    "    }\n",
    "    \n",
    "    void setData(std::vector<long> v) {\n",
    "        array = v;\n",
    "        retrieve_iters();\n",
    "    }\n",
    "    \n",
    "private:\n",
    "    void retrieve_iters() { // функция для удобства. Восстанавливает значение итераторов\n",
    "        heap_begin = array.begin();\n",
    "        heap_end = array.end();\n",
    "    }\n",
    "\n",
    "    Iter left(Iter i) { // левый потомок\n",
    "        Iter l = heap_begin + (i - heap_begin) * 2 + 1;\n",
    "        return l >= heap_end ? heap_end : l;\n",
    "    }\n",
    "\n",
    "    Iter rigth(Iter i) { // правый потомок\n",
    "        Iter r = heap_begin + (i - heap_begin) * 2 + 2;\n",
    "        return r >= heap_end ? heap_end : r;\n",
    "    }\n",
    "\n",
    "    Iter parent(Iter i) { // родитель\n",
    "        return heap_begin + (i - heap_begin - 1) / 2;\n",
    "    }\n",
    "\n",
    "    void increase_key(Iter e, long k) { // вспомагательная функция дла вставки\n",
    "        if(k < *e) {\n",
    "            throw std::invalid_argument(\"New key is lesser then current\");\n",
    "        }\n",
    "\n",
    "        *e = k;\n",
    "        while(e != heap_begin and *parent(e) < *e) {\n",
    "            std::swap(*e, *parent(e));\n",
    "            e = parent(e);\n",
    "        }\n",
    "    }\n",
    "\n",
    "    void heapify(Iter e) { // основная функция для восстановления кучи\n",
    "        Iter l = left(e), r = rigth(e); // берем потомков\n",
    "        Iter largest; \n",
    "        if(l != heap_end and *l > *e) largest = l;\n",
    "        else largest = e; // находим максимальный среди них\n",
    "\n",
    "        if(r != heap_end and *r > *largest) largest = r;\n",
    "\n",
    "        if(largest != e) { // если он больше чем тот, что в изначальной вершине\n",
    "            std::swap(*e, *largest); // меняем их местами\n",
    "            heapify(largest); // выполняем восстановление для потомка\n",
    "        }\n",
    "    }\n",
    "\n",
    "    std::vector<long> array;\n",
    "    Iter heap_begin;\n",
    "    Iter heap_end;\n",
    "};"
   ]
  },
  {
   "cell_type": "code",
   "execution_count": 16,
   "metadata": {
    "collapsed": false
   },
   "outputs": [
    {
     "name": "stdout",
     "output_type": "stream",
     "text": [
      "10\n",
      "7\n",
      "7\n",
      "----\n",
      "----\n",
      "125\n",
      "5\n",
      "3\n",
      "1\n"
     ]
    },
    {
     "data": {
      "text/plain": []
     },
     "execution_count": 16,
     "metadata": {},
     "output_type": "execute_result"
    }
   ],
   "source": [
    "PriorityQueue q;\n",
    "q.Insert(5);\n",
    "q.Insert(7);\n",
    "q.Insert(3);\n",
    "q.Insert(10);\n",
    "\n",
    "std::cout << q.Top() << std::endl;\n",
    "std::cout << q.Max() << std::endl;\n",
    "std::cout << q.Top() << std::endl;\n",
    "\n",
    "std::cout << \"----\" << std::endl;\n",
    "\n",
    "q.Insert(125);\n",
    "q.Insert(1);\n",
    "\n",
    "std::cout << \"----\" << std::endl;\n",
    "\n",
    "while(!q.empty()) {\n",
    "    std::cout << q.Top() << std::endl;\n",
    "}"
   ]
  },
  {
   "cell_type": "code",
   "execution_count": 17,
   "metadata": {
    "collapsed": false
   },
   "outputs": [
    {
     "name": "stdout",
     "output_type": "stream",
     "text": [
      "11\n",
      "9\n",
      "8\n",
      "7\n",
      "6\n",
      "5\n",
      "3\n",
      "2\n",
      "1\n"
     ]
    },
    {
     "data": {
      "text/plain": []
     },
     "execution_count": 17,
     "metadata": {},
     "output_type": "execute_result"
    }
   ],
   "source": [
    "PriorityQueue p;\n",
    "p.setData(std::vector<long>({5, 2, 7, 9, 3, 1, 6, 8, 11}));\n",
    "p.build_heap();\n",
    "\n",
    "while(!p.empty()) {\n",
    "    std::cout << p.Top() << std::endl;\n",
    "}"
   ]
  },
  {
   "cell_type": "code",
   "execution_count": null,
   "metadata": {
    "collapsed": true
   },
   "outputs": [],
   "source": []
  }
 ],
 "metadata": {
  "anaconda-cloud": {},
  "kernelspec": {
   "display_name": "C++",
   "language": "",
   "name": "cling"
  },
  "language_info": {
   "codemirror_mode": "text/x-c++src",
   "file_extension": ".c++",
   "mimetype": " text/x-c++src",
   "name": "c++"
  }
 },
 "nbformat": 4,
 "nbformat_minor": 1
}
