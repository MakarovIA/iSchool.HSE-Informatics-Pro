{
 "cells": [
  {
   "cell_type": "markdown",
   "metadata": {},
   "source": [
    "# Строки"
   ]
  },
  {
   "cell_type": "code",
   "execution_count": 2,
   "metadata": {
    "collapsed": false
   },
   "outputs": [
    {
     "data": {
      "text/plain": [
       "str"
      ]
     },
     "execution_count": 2,
     "metadata": {},
     "output_type": "execute_result"
    }
   ],
   "source": [
    "# Кроме численных типов, в питоне изначально присутствуют еще много полезных типов объектов\n",
    "# Одним из таких является строка (которая уже рассматривалась в предыдущей лекции)\n",
    "\n",
    "a = \"Hello, my friend!\" # строка записывается в кавычках\n",
    "type(a)"
   ]
  },
  {
   "cell_type": "code",
   "execution_count": 4,
   "metadata": {
    "collapsed": false
   },
   "outputs": [
    {
     "name": "stdout",
     "output_type": "stream",
     "text": [
      "\n",
      "Я волком бы\n",
      "           выгрыз\n",
      "                 бюрократизм.\n",
      "К мандатам\n",
      "           почтения нету.\n",
      "К любым\n",
      "        чертям с матерями\n",
      "                            катись\n",
      "любая бумажка.\n",
      "                 Но эту...\n",
      "\n"
     ]
    }
   ],
   "source": [
    "a = \"Text\"\n",
    "b = 'Text' # Кавычки могут быть ординырными или двойными - в питоне разницы нет\n",
    "\n",
    "c = \"\"\"\n",
    "Я волком бы\n",
    "           выгрыз\n",
    "                 бюрократизм.\n",
    "К мандатам\n",
    "           почтения нету.\n",
    "К любым\n",
    "        чертям с матерями\n",
    "                            катись\n",
    "любая бумажка.\n",
    "                 Но эту...\n",
    "\"\"\" # Для записи большого текста используется тройные кавычки(три раза двойные)\n",
    "print(c)"
   ]
  },
  {
   "cell_type": "code",
   "execution_count": 5,
   "metadata": {
    "collapsed": false
   },
   "outputs": [
    {
     "data": {
      "text/plain": [
       "7"
      ]
     },
     "execution_count": 5,
     "metadata": {},
     "output_type": "execute_result"
    }
   ],
   "source": [
    "# Для большинства объектов, содержащих в себе множетсво значений (такие объекты называются коллекциями) \n",
    "# определена функция len()\n",
    "# Она возвращает количество значений в данной объекте\n",
    "# Строки - не исключение\n",
    "\n",
    "a = \"Matilda\"\n",
    "len(a) # 7 - количество символов в строке \"Matilda\""
   ]
  },
  {
   "cell_type": "code",
   "execution_count": 7,
   "metadata": {
    "collapsed": false
   },
   "outputs": [
    {
     "name": "stdout",
     "output_type": "stream",
     "text": [
      "M\n",
      "i\n"
     ]
    }
   ],
   "source": [
    "# Питон предоставляет удобный доступ к символам в строках\n",
    "# Для доступа к единичному символу необходимо использовать квадратные скобки с индексом символа\n",
    "\n",
    "a = \"Matilda\"\n",
    "print(a[0]) # Важно, что нумерация начинается с 0!\n",
    "print(a[3])"
   ]
  },
  {
   "cell_type": "code",
   "execution_count": 8,
   "metadata": {
    "collapsed": false
   },
   "outputs": [
    {
     "name": "stdout",
     "output_type": "stream",
     "text": [
      "a\n",
      "a\n"
     ]
    }
   ],
   "source": [
    "print(a[len(a)-1]) # Обращение к последнему символу в строке\n",
    "# Питон также поддерживает отрицательные индексы, которые указывают на символы начиная с конца строки\n",
    "# Таким образом, обращение к последнему символу может быть записано в виде\n",
    "print(a[-1])"
   ]
  },
  {
   "cell_type": "code",
   "execution_count": 10,
   "metadata": {
    "collapsed": false
   },
   "outputs": [
    {
     "name": "stdout",
     "output_type": "stream",
     "text": [
      "d\n",
      "l\n"
     ]
    }
   ],
   "source": [
    "print(a[-2])\n",
    "print(a[-3])"
   ]
  },
  {
   "cell_type": "code",
   "execution_count": 15,
   "metadata": {
    "collapsed": false
   },
   "outputs": [
    {
     "ename": "IndexError",
     "evalue": "string index out of range",
     "output_type": "error",
     "traceback": [
      "\u001b[1;31m---------------------------------------------------------------------------\u001b[0m",
      "\u001b[1;31mIndexError\u001b[0m                                Traceback (most recent call last)",
      "\u001b[1;32m<ipython-input-15-e00bb3e794b6>\u001b[0m in \u001b[0;36m<module>\u001b[1;34m()\u001b[0m\n\u001b[1;32m----> 1\u001b[1;33m \u001b[0mprint\u001b[0m\u001b[1;33m(\u001b[0m\u001b[0ma\u001b[0m\u001b[1;33m[\u001b[0m\u001b[1;36m100\u001b[0m\u001b[1;33m]\u001b[0m\u001b[1;33m)\u001b[0m\u001b[1;33m\u001b[0m\u001b[0m\n\u001b[0m\u001b[0;32m      2\u001b[0m \u001b[0mprint\u001b[0m\u001b[1;33m(\u001b[0m\u001b[0ma\u001b[0m\u001b[1;33m[\u001b[0m\u001b[1;33m-\u001b[0m\u001b[1;36m50\u001b[0m\u001b[1;33m]\u001b[0m\u001b[1;33m)\u001b[0m \u001b[1;31m# выход за пределы границ строки приводит к ошибке\u001b[0m\u001b[1;33m\u001b[0m\u001b[0m\n",
      "\u001b[1;31mIndexError\u001b[0m: string index out of range"
     ]
    }
   ],
   "source": [
    "print(a[100])\n",
    "print(a[-50]) # выход за пределы границ строки приводит к ошибке"
   ]
  },
  {
   "cell_type": "code",
   "execution_count": 16,
   "metadata": {
    "collapsed": false
   },
   "outputs": [
    {
     "name": "stdout",
     "output_type": "stream",
     "text": [
      "Mati\n"
     ]
    }
   ],
   "source": [
    "# Чтобы взять не один символ, а сразу целую подстроку, необходимо в квадратных скобках указать диапазон через\n",
    "# двоеточие. Важно, что конец не включается\n",
    "\n",
    "# Такая конструкция называется срез\n",
    "print(a[0:4]) # строка с символами от 0 до 4, невключая 4-ый"
   ]
  },
  {
   "cell_type": "code",
   "execution_count": 23,
   "metadata": {
    "collapsed": false
   },
   "outputs": [
    {
     "name": "stdout",
     "output_type": "stream",
     "text": [
      "til\n",
      "atild\n",
      "Matild\n",
      "il\n"
     ]
    }
   ],
   "source": [
    "print(a[2:5])\n",
    "print(a[1:6])\n",
    "print(a[0:-1])  # В данном случае индекс -1 указывает на последний символ, поэтому будет взята вся строка\n",
    "                # кроме последнего символа\n",
    "print(a[-4:-2]) # Аналогично с пердыдущим случаем. От -4-го до -2-го символа"
   ]
  },
  {
   "cell_type": "code",
   "execution_count": 25,
   "metadata": {
    "collapsed": false
   },
   "outputs": [
    {
     "name": "stdout",
     "output_type": "stream",
     "text": [
      "Matilda\n"
     ]
    }
   ],
   "source": [
    "print(a[0:100]) # выход за пределы границ строки при срезе уже не вызывает ошибки.\n",
    "# При этом будет взята строка до границы"
   ]
  },
  {
   "cell_type": "code",
   "execution_count": 27,
   "metadata": {
    "collapsed": false
   },
   "outputs": [
    {
     "name": "stdout",
     "output_type": "stream",
     "text": [
      "tilda\n",
      "Mati\n",
      "Matilda\n"
     ]
    }
   ],
   "source": [
    "# Для того, чтобы взять строку до границы можно не указывать число\n",
    "print(a[2:]) # Строка с 2-го символа до конца\n",
    "print(a[:4]) # Строка с начала до 4-го\n",
    "print(a[:])"
   ]
  },
  {
   "cell_type": "code",
   "execution_count": 31,
   "metadata": {
    "collapsed": false
   },
   "outputs": [
    {
     "name": "stdout",
     "output_type": "stream",
     "text": [
      "aid\n",
      "adli\n",
      "\n"
     ]
    }
   ],
   "source": [
    "# Питон также позволяет указывать шаг, с которым нужно брать символы из строки\n",
    "# Для этого необходимо через второе двоеточие указать этот шаг\n",
    "print(a[1:6:2]) # с 1 по 6 с шагом 2, то есть 1, 3 и 5 символы\n",
    "print(a[6:2:-1]) # можно указывать отрицательные шаги\n",
    "                 # Важно, что при отрицательном шаге, интекс начала должен быть больше индекса конца\n",
    "print(a[2:6:-1]) # Пустая строка, так как 6 > 2"
   ]
  },
  {
   "cell_type": "code",
   "execution_count": 32,
   "metadata": {
    "collapsed": false
   },
   "outputs": [
    {
     "name": "stdout",
     "output_type": "stream",
     "text": [
      "adlitaM\n"
     ]
    }
   ],
   "source": [
    "# С использованием срезов, очень удобно сделать перевернутую строку\n",
    "print(a[::-1])"
   ]
  },
  {
   "cell_type": "code",
   "execution_count": 33,
   "metadata": {
    "collapsed": false
   },
   "outputs": [
    {
     "name": "stdout",
     "output_type": "stream",
     "text": [
      "REDIVIDER  - слово полиндром\n"
     ]
    }
   ],
   "source": [
    "b = \"REDIVIDER\"\n",
    "if(b == b[::-1]):\n",
    "    print(b, \" - слово полиндром\")\n",
    "else:\n",
    "    print(b, \" - обычное слово\")"
   ]
  },
  {
   "cell_type": "code",
   "execution_count": 34,
   "metadata": {
    "collapsed": false
   },
   "outputs": [
    {
     "name": "stdout",
     "output_type": "stream",
     "text": [
      "abcdefg\n",
      "ABCDEFG\n"
     ]
    }
   ],
   "source": [
    "# У самих строк есть встроенные функции lower и upper, которые приводят всю строку\n",
    "# или к верхнему или к нижнему регистру\n",
    "\n",
    "a = \"AbCdEfG\"\n",
    "print(a.lower()) # Нижний регистр\n",
    "print(a.upper()) # Верхний регистр"
   ]
  },
  {
   "cell_type": "code",
   "execution_count": 35,
   "metadata": {
    "collapsed": false
   },
   "outputs": [
    {
     "name": "stdout",
     "output_type": "stream",
     "text": [
      "HelloWorld\n"
     ]
    }
   ],
   "source": [
    "# Для строк определены некоторые арифметические операции\n",
    "a = \"Hello\"\n",
    "b = \"World\"\n",
    "print(a + b) # Конкатенация или \"склеивание\" строк"
   ]
  },
  {
   "cell_type": "code",
   "execution_count": 37,
   "metadata": {
    "collapsed": false
   },
   "outputs": [
    {
     "ename": "TypeError",
     "evalue": "unsupported operand type(s) for -: 'str' and 'str'",
     "output_type": "error",
     "traceback": [
      "\u001b[1;31m---------------------------------------------------------------------------\u001b[0m",
      "\u001b[1;31mTypeError\u001b[0m                                 Traceback (most recent call last)",
      "\u001b[1;32m<ipython-input-37-29e597564ef5>\u001b[0m in \u001b[0;36m<module>\u001b[1;34m()\u001b[0m\n\u001b[0;32m      1\u001b[0m \u001b[0ma\u001b[0m \u001b[1;33m=\u001b[0m \u001b[1;34m\"Hello, world\"\u001b[0m\u001b[1;33m\u001b[0m\u001b[0m\n\u001b[0;32m      2\u001b[0m \u001b[0mb\u001b[0m \u001b[1;33m=\u001b[0m \u001b[1;34m\"world\"\u001b[0m\u001b[1;33m\u001b[0m\u001b[0m\n\u001b[1;32m----> 3\u001b[1;33m \u001b[0mprint\u001b[0m\u001b[1;33m(\u001b[0m\u001b[0ma\u001b[0m \u001b[1;33m-\u001b[0m \u001b[0mb\u001b[0m\u001b[1;33m)\u001b[0m \u001b[1;31m# Операция вычитания для строк не определена\u001b[0m\u001b[1;33m\u001b[0m\u001b[0m\n\u001b[0m",
      "\u001b[1;31mTypeError\u001b[0m: unsupported operand type(s) for -: 'str' and 'str'"
     ]
    }
   ],
   "source": [
    "a = \"Hello, world\"\n",
    "b = \"world\"\n",
    "print(a - b) # Операция вычитания для строк не определена"
   ]
  },
  {
   "cell_type": "code",
   "execution_count": 38,
   "metadata": {
    "collapsed": false
   },
   "outputs": [
    {
     "name": "stdout",
     "output_type": "stream",
     "text": [
      "HelloHelloHello\n"
     ]
    }
   ],
   "source": [
    "a = \"Hello\"\n",
    "b = \"World\"\n",
    "print(a * 3) # Умножение повторяет строку указанное количесвто раз"
   ]
  },
  {
   "cell_type": "code",
   "execution_count": 39,
   "metadata": {
    "collapsed": false
   },
   "outputs": [
    {
     "name": "stdout",
     "output_type": "stream",
     "text": [
      "Hello World Hello World Hello World Hello World \n"
     ]
    }
   ],
   "source": [
    "print( (a + \" \" + b + \" \") * 4 )"
   ]
  },
  {
   "cell_type": "code",
   "execution_count": 40,
   "metadata": {
    "collapsed": false
   },
   "outputs": [
    {
     "name": "stdout",
     "output_type": "stream",
     "text": [
      "\n",
      "\n"
     ]
    }
   ],
   "source": [
    "print(a * 0) # Домножение на ноль вернет пустую строку\n",
    "print(a * -2) # как и домножение на отрицательные числа"
   ]
  },
  {
   "cell_type": "code",
   "execution_count": 44,
   "metadata": {
    "collapsed": false
   },
   "outputs": [
    {
     "name": "stdout",
     "output_type": "stream",
     "text": [
      "5\n",
      "5\n"
     ]
    }
   ],
   "source": [
    "# Для считывания строки, введеной пользователем из терминала используется функция input()\n",
    "a = input()\n",
    "print(a)"
   ]
  },
  {
   "cell_type": "code",
   "execution_count": 45,
   "metadata": {
    "collapsed": false
   },
   "outputs": [
    {
     "name": "stdout",
     "output_type": "stream",
     "text": [
      "panda\n",
      "panda  - обычное слово\n"
     ]
    }
   ],
   "source": [
    "# Проврка на полиндром слова, которое ввел пользователь\n",
    "a = input()\n",
    "if(a == a[::-1]):\n",
    "    print(a, \" - слово полиндром\")\n",
    "else:\n",
    "    print(a, \" - обычное слово\")"
   ]
  },
  {
   "cell_type": "code",
   "execution_count": 46,
   "metadata": {
    "collapsed": false
   },
   "outputs": [
    {
     "name": "stdout",
     "output_type": "stream",
     "text": [
      "panda\n",
      "adnap\n",
      "catdog\n",
      "catdog  - слово полиндром\n"
     ]
    }
   ],
   "source": [
    "# Важно использовать input только один раз для одной переменной, так как новые вызовы input()\n",
    "# вызовут новые считывания других строк\n",
    "if(input() == input()[::-1]): # неверная реализация - везде разные строки, которые ввел пользоватлеь\n",
    "    print(input(), \" - слово полиндром\")\n",
    "else:\n",
    "    print(input(), \" - обычное слово\")"
   ]
  },
  {
   "cell_type": "code",
   "execution_count": 75,
   "metadata": {
    "collapsed": false
   },
   "outputs": [
    {
     "name": "stdout",
     "output_type": "stream",
     "text": [
      "Введите число: 5\n",
      "25\n"
     ]
    }
   ],
   "source": [
    "# для считывания числа, необходимо просто привести строку к числу\n",
    "n = int(input(\"Введите число: \")) # переданная строка в input() будет показана пользователю перед тем\n",
    "                                  # как он введет значение\n",
    "print(n**2)"
   ]
  },
  {
   "cell_type": "code",
   "execution_count": 68,
   "metadata": {
    "collapsed": false
   },
   "outputs": [
    {
     "data": {
      "text/plain": [
       "'    Hello'"
      ]
     },
     "execution_count": 68,
     "metadata": {},
     "output_type": "execute_result"
    }
   ],
   "source": [
    "# Для удаления лишних пробелов можно использовать функции rstrip, lstrip, strip\n",
    "s = \"    Hello                \"\n",
    "s.rstrip() # обрезано справа"
   ]
  },
  {
   "cell_type": "code",
   "execution_count": 69,
   "metadata": {
    "collapsed": false
   },
   "outputs": [
    {
     "data": {
      "text/plain": [
       "'Hello                '"
      ]
     },
     "execution_count": 69,
     "metadata": {},
     "output_type": "execute_result"
    }
   ],
   "source": [
    "s.lstrip() # обрезано слева"
   ]
  },
  {
   "cell_type": "code",
   "execution_count": 71,
   "metadata": {
    "collapsed": false
   },
   "outputs": [
    {
     "data": {
      "text/plain": [
       "'Hello'"
      ]
     },
     "execution_count": 71,
     "metadata": {},
     "output_type": "execute_result"
    }
   ],
   "source": [
    "s.strip() # обрезано с обоих сторон"
   ]
  },
  {
   "cell_type": "code",
   "execution_count": 72,
   "metadata": {
    "collapsed": false
   },
   "outputs": [
    {
     "name": "stdout",
     "output_type": "stream",
     "text": [
      "     abba         \n"
     ]
    },
    {
     "data": {
      "text/plain": [
       "'abba'"
      ]
     },
     "execution_count": 72,
     "metadata": {},
     "output_type": "execute_result"
    }
   ],
   "source": [
    "# strip очень удобно использовать при считывании пользовательского ввода\n",
    "input().strip()"
   ]
  },
  {
   "cell_type": "markdown",
   "metadata": {},
   "source": [
    "# Списки"
   ]
  },
  {
   "cell_type": "code",
   "execution_count": 58,
   "metadata": {
    "collapsed": false
   },
   "outputs": [
    {
     "name": "stdout",
     "output_type": "stream",
     "text": [
      "[1, 2, 3, 4]\n",
      "<class 'list'>\n"
     ]
    }
   ],
   "source": [
    "# Для хранения множества значений любых типов в одном объекте используются списки\n",
    "# В питоне списки записываются в виде объектов, перечисленных через запятую, обрамленные квадратными скобками\n",
    "a = [1, 2, 3, 4] # Список, содержащий 4 числа: 1, 2, 3 и 4\n",
    "print(a)\n",
    "print(type(a))"
   ]
  },
  {
   "cell_type": "code",
   "execution_count": 61,
   "metadata": {
    "collapsed": false
   },
   "outputs": [
    {
     "name": "stdout",
     "output_type": "stream",
     "text": [
      "[1, 2.3, False, 'Yo', [5, 4, 3]]\n"
     ]
    }
   ],
   "source": [
    "a = [1, 2.3, False, \"Yo\", [5, 4, 3]] # в одном списке может содержаться объекты разным типов\n",
    "print(a)"
   ]
  },
  {
   "cell_type": "code",
   "execution_count": 52,
   "metadata": {
    "collapsed": false
   },
   "outputs": [
    {
     "name": "stdout",
     "output_type": "stream",
     "text": [
      "1\n",
      "2.3\n",
      "False\n",
      "Yo\n",
      "[5, 4, 3]\n"
     ]
    }
   ],
   "source": [
    "# Списки, очевидно, являются коллекциями\n",
    "# Таким образом, список можно использовать как итерируемый объект в цикле for\n",
    "for i in a:\n",
    "    print(i)"
   ]
  },
  {
   "cell_type": "code",
   "execution_count": 53,
   "metadata": {
    "collapsed": false
   },
   "outputs": [
    {
     "name": "stdout",
     "output_type": "stream",
     "text": [
      "5\n"
     ]
    }
   ],
   "source": [
    "# Для списков также определена функция len()\n",
    "print(len(a))"
   ]
  },
  {
   "cell_type": "code",
   "execution_count": 54,
   "metadata": {
    "collapsed": false
   },
   "outputs": [
    {
     "name": "stdout",
     "output_type": "stream",
     "text": [
      "1\n",
      "Yo\n"
     ]
    }
   ],
   "source": [
    "# Списки очень похожи на строки\n",
    "# Так доступ к элементам у них такой же, как и у строк\n",
    "print(a[0])\n",
    "print(a[3])"
   ]
  },
  {
   "cell_type": "code",
   "execution_count": 62,
   "metadata": {
    "collapsed": false
   },
   "outputs": [
    {
     "name": "stdout",
     "output_type": "stream",
     "text": [
      "[2.3, False, 'Yo']\n",
      "[[5, 4, 3], 'Yo', False, 2.3, 1]\n"
     ]
    }
   ],
   "source": [
    "print(a[1:4]) # Срезы также доступны для списков\n",
    "print(a[::-1])"
   ]
  },
  {
   "cell_type": "code",
   "execution_count": 63,
   "metadata": {
    "collapsed": false
   },
   "outputs": [
    {
     "name": "stdout",
     "output_type": "stream",
     "text": [
      "[2.3, False, 'Yo', [5, 4, 3]]\n"
     ]
    }
   ],
   "source": [
    "del a[0] # удаление элемента из списка\n",
    "print(a)"
   ]
  },
  {
   "cell_type": "code",
   "execution_count": 64,
   "metadata": {
    "collapsed": false
   },
   "outputs": [
    {
     "name": "stdout",
     "output_type": "stream",
     "text": [
      "[1, 5, 6]\n"
     ]
    }
   ],
   "source": [
    "a = [1, 2, 3, 4, 5, 6]\n",
    "del a[1:4] # удалять можно целыми срезами\n",
    "print(a) "
   ]
  },
  {
   "cell_type": "code",
   "execution_count": 65,
   "metadata": {
    "collapsed": false
   },
   "outputs": [
    {
     "name": "stdout",
     "output_type": "stream",
     "text": [
      "[1, 2, 3, 'Hoo']\n"
     ]
    }
   ],
   "source": [
    "# Для добавления элемента в конец списка у самого списка есть функция append\n",
    "a = [1, 2, 3]\n",
    "a.append(\"Hoo\")\n",
    "print(a)"
   ]
  },
  {
   "cell_type": "code",
   "execution_count": 66,
   "metadata": {
    "collapsed": false
   },
   "outputs": [
    {
     "name": "stdout",
     "output_type": "stream",
     "text": [
      "[1, True, 2, 3, 'Hoo']\n"
     ]
    }
   ],
   "source": [
    "# Добавлять элементы можно и в произвольное место в списке\n",
    "a.insert(1, True)\n",
    "print(a)"
   ]
  },
  {
   "cell_type": "code",
   "execution_count": 2,
   "metadata": {
    "collapsed": false
   },
   "outputs": [
    {
     "name": "stdout",
     "output_type": "stream",
     "text": [
      "Yo\n",
      "[2, 3.4, False]\n"
     ]
    }
   ],
   "source": [
    "# Чтобы \"вырезать\" последний объект из списка, можно применить функцию pop()\n",
    "a = [2, 3.4, False, \"Yo\"]\n",
    "b = a.pop()\n",
    "print(b)\n",
    "print(a) # после pop в списке последнего объекта уже нет"
   ]
  },
  {
   "cell_type": "code",
   "execution_count": 68,
   "metadata": {
    "collapsed": false
   },
   "outputs": [
    {
     "name": "stdout",
     "output_type": "stream",
     "text": [
      "[0, 2, 3, 5, 5, 7, 8, 9]\n",
      "[9, 8, 7, 5, 5, 3, 2, 0]\n"
     ]
    }
   ],
   "source": [
    "# У списков также присутствует встроенная функция сортировки всего списка\n",
    "a = [5, 3, 7, 9, 2, 5, 8, 0]\n",
    "a.sort()\n",
    "print(a)\n",
    "print(a[::-1]) # отсортирован в образном порядке"
   ]
  },
  {
   "cell_type": "code",
   "execution_count": 70,
   "metadata": {
    "collapsed": false
   },
   "outputs": [
    {
     "name": "stdout",
     "output_type": "stream",
     "text": [
      "['R', 'a', 'n', 'g', 'u', 'v', 'a', 'r']\n",
      "[2, 4, 6, 8, 10, 12, 14]\n"
     ]
    }
   ],
   "source": [
    "# Некоторые коллекции можно приводить к спискам\n",
    "# Для этого нужно применить list()\n",
    "a = \"Ranguvar\"\n",
    "b = range(2, 15, 2)\n",
    "print(list(a)) # строка к списку\n",
    "print(list(b)) # range к списку"
   ]
  },
  {
   "cell_type": "code",
   "execution_count": 71,
   "metadata": {
    "collapsed": false
   },
   "outputs": [
    {
     "name": "stdout",
     "output_type": "stream",
     "text": [
      "a b c\n"
     ]
    }
   ],
   "source": [
    "# у строк есть полезная функция join, позволяющая соединить елементы списка в одну строку\n",
    "print(\" \".join([\"a\", \"b\", \"c\"]))"
   ]
  },
  {
   "cell_type": "code",
   "execution_count": 73,
   "metadata": {
    "collapsed": false
   },
   "outputs": [
    {
     "name": "stdout",
     "output_type": "stream",
     "text": [
      "Yo -=- Cle -=- Erv -=- Bond\n"
     ]
    }
   ],
   "source": [
    "print(\" -=- \".join(['Yo', 'Cle', 'Erv', 'Bond'])) # строку можно использовать любую"
   ]
  },
  {
   "cell_type": "code",
   "execution_count": 74,
   "metadata": {
    "collapsed": false
   },
   "outputs": [
    {
     "ename": "TypeError",
     "evalue": "'builtin_function_or_method' object is not subscriptable",
     "output_type": "error",
     "traceback": [
      "\u001b[1;31m---------------------------------------------------------------------------\u001b[0m",
      "\u001b[1;31mTypeError\u001b[0m                                 Traceback (most recent call last)",
      "\u001b[1;32m<ipython-input-74-18fee9e0f0d7>\u001b[0m in \u001b[0;36m<module>\u001b[1;34m()\u001b[0m\n\u001b[1;32m----> 1\u001b[1;33m \u001b[0mprint\u001b[0m\u001b[1;33m(\u001b[0m\u001b[1;34m\" - \"\u001b[0m\u001b[1;33m.\u001b[0m\u001b[0mjoin\u001b[0m\u001b[1;33m[\u001b[0m\u001b[1;36m12\u001b[0m\u001b[1;33m,\u001b[0m \u001b[1;36m25\u001b[0m\u001b[1;33m]\u001b[0m\u001b[1;33m)\u001b[0m \u001b[1;31m# однако в списке могут находиться только строки\u001b[0m\u001b[1;33m\u001b[0m\u001b[0m\n\u001b[0m",
      "\u001b[1;31mTypeError\u001b[0m: 'builtin_function_or_method' object is not subscriptable"
     ]
    }
   ],
   "source": [
    "print(\" - \".join[12, 25]) # однако в списке могут находиться только строки"
   ]
  },
  {
   "cell_type": "code",
   "execution_count": 76,
   "metadata": {
    "collapsed": false
   },
   "outputs": [
    {
     "name": "stdout",
     "output_type": "stream",
     "text": [
      "['По', 'длинному', 'фронту', 'купе', 'и', 'кают', 'чиновник', 'учтивый', 'движется.']\n"
     ]
    }
   ],
   "source": [
    "# функция строк split позволяет разбить строку на отдельные подстроки\n",
    "a = \"По длинному фронту купе и кают чиновник учтивый движется.\"\n",
    "print(a.split()) # результатом является список со строками"
   ]
  },
  {
   "cell_type": "code",
   "execution_count": 77,
   "metadata": {
    "collapsed": false
   },
   "outputs": [
    {
     "name": "stdout",
     "output_type": "stream",
     "text": [
      "['super', 'puper', 'rington', 'skachat', 'besplatno', 'bez', 'sms', 'i', 'registrazii', 'mp3']\n"
     ]
    }
   ],
   "source": [
    "a = \"super_puper_rington_skachat_besplatno_bez_sms_i_registrazii_mp3\"\n",
    "print(a.split(\"_\")) # можно указать, по какому символу нужно разбивать строку"
   ]
  },
  {
   "cell_type": "code",
   "execution_count": 3,
   "metadata": {
    "collapsed": false
   },
   "outputs": [
    {
     "name": "stdout",
     "output_type": "stream",
     "text": [
      "[1, 2, 3, 4, 'yo', 'man', 'bob']\n"
     ]
    }
   ],
   "source": [
    "a = [1, 2, 3, 4]\n",
    "a += [\"yo\", \"man\", \"bob\"]\n",
    "print(a) # для списков определена операция сложения, которая объединяет два списка в один"
   ]
  },
  {
   "cell_type": "code",
   "execution_count": 4,
   "metadata": {
    "collapsed": false
   },
   "outputs": [
    {
     "name": "stdout",
     "output_type": "stream",
     "text": [
      "[1, 3, 1, 3, 1, 3, 1, 3]\n"
     ]
    }
   ],
   "source": [
    "a = [1, 3] * 4\n",
    "print(a) # как и для строк, для списков определена операция умножения, которая возвращает \n",
    "         # список из повторенного изначального указанное количество раз"
   ]
  },
  {
   "cell_type": "code",
   "execution_count": 8,
   "metadata": {
    "collapsed": false
   },
   "outputs": [
    {
     "name": "stdout",
     "output_type": "stream",
     "text": [
      "[1, 2, 3]\n",
      "['YO', 2, 3]\n",
      "[True, 2, 3]\n",
      "[True, 2, 3]\n"
     ]
    }
   ],
   "source": [
    "# Важно, что если переменные ссылаются на один и тот жже список, то изменение одной переменной изменит и остальные\n",
    "a = [1, 2, 3]\n",
    "b = [1, 2, 3]\n",
    "b[0] = \"YO\"\n",
    "print(a)\n",
    "print(b) # разные списки - поменялся только один\n",
    "\n",
    "a = [1, 2, 3]\n",
    "b = a\n",
    "b[0] = True\n",
    "print(a)\n",
    "print(b) # один и тот же список - поменялить обе переменные"
   ]
  },
  {
   "cell_type": "code",
   "execution_count": 53,
   "metadata": {
    "collapsed": false
   },
   "outputs": [
    {
     "name": "stdout",
     "output_type": "stream",
     "text": [
      "True\n",
      "False\n",
      "True\n",
      "False\n",
      "True\n"
     ]
    }
   ],
   "source": [
    "# К спискам (как и к большинству коллекций) применим оператор in который проверяет наличие указанного елемента в \n",
    "# коллекции\n",
    "a = [1, 2, 3, True, \"Gaf\"]\n",
    "print(3 in a)\n",
    "print(5.4 in a)\n",
    "print(True in a)\n",
    "print(\"Hello\" in a)\n",
    "print(\"Gaf\" in a)"
   ]
  },
  {
   "cell_type": "markdown",
   "metadata": {},
   "source": [
    "# Кортеж"
   ]
  },
  {
   "cell_type": "code",
   "execution_count": 10,
   "metadata": {
    "collapsed": false
   },
   "outputs": [
    {
     "name": "stdout",
     "output_type": "stream",
     "text": [
      "(1, 2, 3)\n"
     ]
    }
   ],
   "source": [
    "# Кортежи - объекты, которые очень похожи на списки\n",
    "# Их главное отличие - они не изменяемы\n",
    "# В питоне они обозначаются также, как и списки, только скобки нужно использовать круглые\n",
    "a = (1, 2, 3) # кортеж из чисел 1, 2, 3\n",
    "print(a)"
   ]
  },
  {
   "cell_type": "code",
   "execution_count": 13,
   "metadata": {
    "collapsed": false
   },
   "outputs": [
    {
     "ename": "TypeError",
     "evalue": "'tuple' object does not support item assignment",
     "output_type": "error",
     "traceback": [
      "\u001b[1;31m---------------------------------------------------------------------------\u001b[0m",
      "\u001b[1;31mTypeError\u001b[0m                                 Traceback (most recent call last)",
      "\u001b[1;32m<ipython-input-13-0cab584e3da2>\u001b[0m in \u001b[0;36m<module>\u001b[1;34m()\u001b[0m\n\u001b[0;32m      1\u001b[0m \u001b[0ma\u001b[0m \u001b[1;33m=\u001b[0m \u001b[1;33m(\u001b[0m\u001b[1;36m1\u001b[0m\u001b[1;33m,\u001b[0m \u001b[1;36m2\u001b[0m\u001b[1;33m,\u001b[0m \u001b[1;34m\"Hello\"\u001b[0m\u001b[1;33m,\u001b[0m \u001b[1;32mNone\u001b[0m\u001b[1;33m)\u001b[0m\u001b[1;33m\u001b[0m\u001b[0m\n\u001b[1;32m----> 2\u001b[1;33m \u001b[0ma\u001b[0m\u001b[1;33m[\u001b[0m\u001b[1;36m0\u001b[0m\u001b[1;33m]\u001b[0m \u001b[1;33m=\u001b[0m \u001b[1;36m5\u001b[0m \u001b[1;31m# не получается изменить\u001b[0m\u001b[1;33m\u001b[0m\u001b[0m\n\u001b[0m",
      "\u001b[1;31mTypeError\u001b[0m: 'tuple' object does not support item assignment"
     ]
    }
   ],
   "source": [
    "a = (1, 2, \"Hello\", None)\n",
    "a[0] = 5 # не получается изменить"
   ]
  },
  {
   "cell_type": "code",
   "execution_count": 14,
   "metadata": {
    "collapsed": false
   },
   "outputs": [
    {
     "data": {
      "text/plain": [
       "tuple"
      ]
     },
     "execution_count": 14,
     "metadata": {},
     "output_type": "execute_result"
    }
   ],
   "source": [
    "type(a)"
   ]
  },
  {
   "cell_type": "code",
   "execution_count": 15,
   "metadata": {
    "collapsed": false
   },
   "outputs": [
    {
     "data": {
      "text/plain": [
       "4"
      ]
     },
     "execution_count": 15,
     "metadata": {},
     "output_type": "execute_result"
    }
   ],
   "source": [
    "len(a)"
   ]
  },
  {
   "cell_type": "code",
   "execution_count": 17,
   "metadata": {
    "collapsed": false
   },
   "outputs": [
    {
     "data": {
      "text/plain": [
       "'Hello'"
      ]
     },
     "execution_count": 17,
     "metadata": {},
     "output_type": "execute_result"
    }
   ],
   "source": [
    "a[2]"
   ]
  },
  {
   "cell_type": "code",
   "execution_count": 18,
   "metadata": {
    "collapsed": false
   },
   "outputs": [
    {
     "name": "stdout",
     "output_type": "stream",
     "text": [
      "1\n",
      "2\n",
      "Hello\n",
      "None\n"
     ]
    }
   ],
   "source": [
    "for i in a:\n",
    "    print(i)"
   ]
  },
  {
   "cell_type": "code",
   "execution_count": 19,
   "metadata": {
    "collapsed": false
   },
   "outputs": [
    {
     "name": "stdout",
     "output_type": "stream",
     "text": [
      "5\n",
      "10\n"
     ]
    }
   ],
   "source": [
    "# одна из приятных особенностей - кортежи можно присваивать друг другу\n",
    "(a, b) = (5, 10)\n",
    "print(a)\n",
    "print(b)"
   ]
  },
  {
   "cell_type": "code",
   "execution_count": 20,
   "metadata": {
    "collapsed": false
   },
   "outputs": [
    {
     "name": "stdout",
     "output_type": "stream",
     "text": [
      "5\n",
      "10\n"
     ]
    }
   ],
   "source": [
    "# при наличии запятой, скобки можно опустить\n",
    "a, b = 5, 10\n",
    "print(a)\n",
    "print(b)"
   ]
  },
  {
   "cell_type": "code",
   "execution_count": 21,
   "metadata": {
    "collapsed": false
   },
   "outputs": [
    {
     "name": "stdout",
     "output_type": "stream",
     "text": [
      "3\n",
      "7\n"
     ]
    }
   ],
   "source": [
    "a = 7\n",
    "b = 3\n",
    "a, b = b, a # таким образом, можно поменять значения двух переменных одной строчкой\n",
    "print(a)\n",
    "print(b)\n"
   ]
  },
  {
   "cell_type": "markdown",
   "metadata": {},
   "source": [
    "# Словарь"
   ]
  },
  {
   "cell_type": "code",
   "execution_count": 48,
   "metadata": {
    "collapsed": false
   },
   "outputs": [
    {
     "name": "stdout",
     "output_type": "stream",
     "text": [
      "{'C': 3, 'A': 1, 'B': 2}\n",
      "<class 'dict'>\n"
     ]
    }
   ],
   "source": [
    "# Словарь - это еще одна коллекция. Она отличается тем, что она предоставляет доступ не по числовому индексу\n",
    "# а по любому объекту - по строке, кортежу, радиональному числу и тд\n",
    "# В питоне обозначается фигурными скобками c указанием ключа и значения через двоеточие\n",
    "a = {\"A\": 1, \"B\":2, \"C\":3}\n",
    "print(a) # елементы более не упорядочены\n",
    "print(type(a))"
   ]
  },
  {
   "cell_type": "code",
   "execution_count": 25,
   "metadata": {
    "collapsed": false
   },
   "outputs": [
    {
     "name": "stdout",
     "output_type": "stream",
     "text": [
      "1\n",
      "3\n"
     ]
    }
   ],
   "source": [
    "print(a[\"A\"]) # досуп аналогичен списку, только в качестве ключа может выступать что-угодно\n",
    "print(a[\"C\"])"
   ]
  },
  {
   "cell_type": "code",
   "execution_count": 27,
   "metadata": {
    "collapsed": false
   },
   "outputs": [
    {
     "ename": "KeyError",
     "evalue": "'D'",
     "output_type": "error",
     "traceback": [
      "\u001b[1;31m---------------------------------------------------------------------------\u001b[0m",
      "\u001b[1;31mKeyError\u001b[0m                                  Traceback (most recent call last)",
      "\u001b[1;32m<ipython-input-27-58743736a805>\u001b[0m in \u001b[0;36m<module>\u001b[1;34m()\u001b[0m\n\u001b[1;32m----> 1\u001b[1;33m \u001b[0mprint\u001b[0m\u001b[1;33m(\u001b[0m\u001b[0ma\u001b[0m\u001b[1;33m[\u001b[0m\u001b[1;34m\"D\"\u001b[0m\u001b[1;33m]\u001b[0m\u001b[1;33m)\u001b[0m \u001b[1;31m# обращение по несуществующему ключу вызывает ошибку\u001b[0m\u001b[1;33m\u001b[0m\u001b[0m\n\u001b[0m",
      "\u001b[1;31mKeyError\u001b[0m: 'D'"
     ]
    }
   ],
   "source": [
    "print(a[\"D\"]) # обращение по несуществующему ключу вызывает ошибку"
   ]
  },
  {
   "cell_type": "code",
   "execution_count": 29,
   "metadata": {
    "collapsed": false
   },
   "outputs": [
    {
     "name": "stdout",
     "output_type": "stream",
     "text": [
      "3\n",
      "15\n"
     ]
    }
   ],
   "source": [
    "a = {(1, 2): 3, (4, 5): 15}\n",
    "print(a[(1, 2)])\n",
    "print(a[(4, 5)]) # кортежи в качестве ключа"
   ]
  },
  {
   "cell_type": "code",
   "execution_count": 32,
   "metadata": {
    "collapsed": false
   },
   "outputs": [
    {
     "name": "stdout",
     "output_type": "stream",
     "text": [
      "{0.5: 'Yolo', 1.5: 6}\n"
     ]
    }
   ],
   "source": [
    "a = {0.5: 5, 1.5:6}\n",
    "a[0.5] = \"Yolo\" # значения по ключу можно изменять\n",
    "print(a)"
   ]
  },
  {
   "cell_type": "code",
   "execution_count": 33,
   "metadata": {
    "collapsed": false
   },
   "outputs": [
    {
     "name": "stdout",
     "output_type": "stream",
     "text": [
      "{0.5: 'Yolo'}\n"
     ]
    }
   ],
   "source": [
    "del a[1.5] # Удаление из словаря\n",
    "print(a)"
   ]
  },
  {
   "cell_type": "code",
   "execution_count": 36,
   "metadata": {
    "collapsed": false
   },
   "outputs": [
    {
     "name": "stdout",
     "output_type": "stream",
     "text": [
      "dict_keys(['C', 'A', 'B'])\n"
     ]
    }
   ],
   "source": [
    "a = {\"A\": 1, \"B\":2, \"C\":3}\n",
    "print(a.keys()) # keys() возвращает список всех ключей словаря"
   ]
  },
  {
   "cell_type": "code",
   "execution_count": 38,
   "metadata": {
    "collapsed": false
   },
   "outputs": [
    {
     "name": "stdout",
     "output_type": "stream",
     "text": [
      "C -> 3\n",
      "A -> 1\n",
      "B -> 2\n",
      "C -> 3\n",
      "A -> 1\n",
      "B -> 2\n"
     ]
    }
   ],
   "source": [
    "# итерирование по словарю в цикле for - это тоже самое, что итерирование по ключам словаря\n",
    "for key in a:\n",
    "    print(\"{0} -> {1}\".format(key, a[key]))\n",
    "    \n",
    "for key in a.keys(): # эти два цикла аналогичны\n",
    "    print(\"{0} -> {1}\".format(key, a[key]))  "
   ]
  },
  {
   "cell_type": "code",
   "execution_count": 39,
   "metadata": {
    "collapsed": false
   },
   "outputs": [
    {
     "name": "stdout",
     "output_type": "stream",
     "text": [
      "A -> 1\n",
      "B -> 2\n",
      "C -> 3\n"
     ]
    }
   ],
   "source": [
    "for key in sorted(a.keys()):\n",
    "    print(\"{0} -> {1}\".format(key, a[key]))"
   ]
  },
  {
   "cell_type": "code",
   "execution_count": 40,
   "metadata": {
    "collapsed": false
   },
   "outputs": [
    {
     "name": "stdout",
     "output_type": "stream",
     "text": [
      "{'D': 4, 'C': 3, 'A': 1, 'B': 2, 'E': 5}\n"
     ]
    }
   ],
   "source": [
    "# Можно динамически добавлять значения словарь\n",
    "# Для этого нужно просто записать новое значение по новому ключу\n",
    "a[\"D\"] = 4\n",
    "a[\"E\"] = 5\n",
    "print(a)"
   ]
  },
  {
   "cell_type": "code",
   "execution_count": 45,
   "metadata": {
    "collapsed": false
   },
   "outputs": [
    {
     "name": "stdout",
     "output_type": "stream",
     "text": [
      "<class 'dict_items'>\n",
      "{'D': 4, 'C': 3, 'A': 1, 'B': 2, 'E': 5}\n",
      "123\n",
      "1\n"
     ]
    }
   ],
   "source": [
    "# Словари обладают функцией items(), которая возвращает специальный объект, в котором хранятся все данные из \n",
    "# изначального словаря\n",
    "data = a.items() \n",
    "print(type(data))\n",
    "b = dict(data) # восстановление нового словаря из данных\n",
    "print(b)\n",
    "b[\"A\"] = 123\n",
    "print(b[\"A\"])\n",
    "print(a[\"A\"]) # разные значения, так как это разные объекты"
   ]
  },
  {
   "cell_type": "code",
   "execution_count": 47,
   "metadata": {
    "collapsed": false
   },
   "outputs": [
    {
     "name": "stdout",
     "output_type": "stream",
     "text": [
      "[('D', 4), ('C', 3), ('A', 1), ('B', 2), ('E', 5)]\n"
     ]
    }
   ],
   "source": [
    "# также из хранимых данных можно сделать список\n",
    "l = list(data)\n",
    "print(l) # список из пар ключ-значение"
   ]
  },
  {
   "cell_type": "code",
   "execution_count": 51,
   "metadata": {
    "collapsed": false
   },
   "outputs": [
    {
     "name": "stdout",
     "output_type": "stream",
     "text": [
      "{1: 'E', 3: 'Chu', 7: 32}\n",
      "Chu\n"
     ]
    }
   ],
   "source": [
    "# и наоборот, список подобного вида можно обратно конвертировать в словарь\n",
    "a = [(1, \"E\"), (3, \"Chu\"), (7, 32)]\n",
    "b = dict(a)\n",
    "print(b)\n",
    "print(b[3])"
   ]
  },
  {
   "cell_type": "code",
   "execution_count": 54,
   "metadata": {
    "collapsed": false
   },
   "outputs": [
    {
     "name": "stdout",
     "output_type": "stream",
     "text": [
      "True\n",
      "False\n"
     ]
    }
   ],
   "source": [
    "# К словарю также применим оператор in. Он проверяет наличие указанного ключа в словаре\n",
    "a = {\"a\": 3, \"b\": 7}\n",
    "print(\"a\" in a)\n",
    "print(\"c\" in a)"
   ]
  },
  {
   "cell_type": "code",
   "execution_count": 57,
   "metadata": {
    "collapsed": false
   },
   "outputs": [
    {
     "name": "stdout",
     "output_type": "stream",
     "text": [
      "ц -> 1\n",
      "о -> 2\n",
      "я -> 1\n",
      "р -> 3\n",
      "м -> 1\n",
      "С -> 1\n",
      "д -> 2\n",
      "т -> 2\n",
      "ю -> 4\n",
      "ж -> 1\n",
      ". -> 1\n",
      "  -> 7\n",
      ", -> 1\n",
      "с -> 2\n",
      "и -> 3\n",
      "а -> 4\n",
      "п -> 4\n",
      "к -> 1\n",
      "н -> 2\n",
      "у -> 4\n"
     ]
    }
   ],
   "source": [
    "# Пример: сколько повторяется символ в строке\n",
    "s = \"Сдают паспорта, и я сдаю мою пурпурную книжицу.\"\n",
    "letters = {}\n",
    "for c in s:\n",
    "    if c not in letters:\n",
    "        letters[c] = 1\n",
    "    else:\n",
    "        letters[c] += 1\n",
    "for key in letters:\n",
    "    print(\"{0} -> {1}\".format(key, letters[key]))"
   ]
  },
  {
   "cell_type": "code",
   "execution_count": 58,
   "metadata": {
    "collapsed": false
   },
   "outputs": [
    {
     "name": "stdout",
     "output_type": "stream",
     "text": [
      "1\n",
      "Нет такого значения\n"
     ]
    }
   ],
   "source": [
    "# Чтобы удобно было работать с несуществующими ключами, словари обладают фукнцией get\n",
    "# Первым аргументом указывается ключ, по которому запрашивается значение\n",
    "# Вторым аргументом указывается значение, которое будет возвращено в случае отсутствия этого ключа\n",
    "a = {\"a\": 1, \"b\": 2}\n",
    "print(a.get(\"a\", \"Нет такого значения\"))\n",
    "print(a.get(\"c\", \"Нет такого значения\"))"
   ]
  },
  {
   "cell_type": "code",
   "execution_count": 59,
   "metadata": {
    "collapsed": false
   },
   "outputs": [
    {
     "name": "stdout",
     "output_type": "stream",
     "text": [
      "ц -> 1\n",
      "о -> 2\n",
      "я -> 1\n",
      "р -> 3\n",
      "м -> 1\n",
      "С -> 1\n",
      "д -> 2\n",
      "т -> 2\n",
      "ю -> 4\n",
      "ж -> 1\n",
      ". -> 1\n",
      "  -> 7\n",
      ", -> 1\n",
      "с -> 2\n",
      "и -> 3\n",
      "а -> 4\n",
      "п -> 4\n",
      "к -> 1\n",
      "н -> 2\n",
      "у -> 4\n"
     ]
    }
   ],
   "source": [
    "# С функцией get предыдущий пример можно переписать более кратко\n",
    "s = \"Сдают паспорта, и я сдаю мою пурпурную книжицу.\"\n",
    "letters = {}\n",
    "for c in s:\n",
    "    letters[c] = letters.get(c, 0) + 1\n",
    "for key in letters:\n",
    "    print(\"{0} -> {1}\".format(key, letters[key]))"
   ]
  },
  {
   "cell_type": "code",
   "execution_count": 60,
   "metadata": {
    "collapsed": false
   },
   "outputs": [
    {
     "name": "stdout",
     "output_type": "stream",
     "text": [
      "Столица страны Russia: Moscow\n",
      "В базе нет страны c названием France\n",
      "Столица страны USA: Washington\n",
      "Столица страны Russia: Moscow\n"
     ]
    }
   ],
   "source": [
    "# Пример работы со словарем\n",
    "# Создадим пустой словать Capitals\n",
    "Capitals = dict()\n",
    "\n",
    "# Заполним его несколькими значениями\n",
    "Capitals['Russia'] = 'Moscow'\n",
    "Capitals['Ukraine'] = 'Kiev'\n",
    "Capitals['USA'] = 'Washington'\n",
    "\n",
    "Countries = ['Russia', 'France', 'USA', 'Russia']\n",
    "\n",
    "for country in Countries:\n",
    "    # Для каждой страны из списка проверим, есть ли она в словаре Capitals\n",
    "    if country in Capitals:\n",
    "        print('Столица страны ' + country + ': ' + Capitals[country])\n",
    "    else:\n",
    "        print('В базе нет страны c названием ' + country)"
   ]
  },
  {
   "cell_type": "code",
   "execution_count": 63,
   "metadata": {
    "collapsed": false
   },
   "outputs": [
    {
     "name": "stdout",
     "output_type": "stream",
     "text": [
      "5\n",
      "8\n",
      "4\n",
      "2\n",
      "3\n",
      "5\n",
      "[8, 4, 2, 3, 5]\n"
     ]
    }
   ],
   "source": [
    "# Пример считывания списка\n",
    "a = []  # заводим пустой список\n",
    "n = int(input())  # считываем количество элемент в списке\n",
    "for i in range(n):  \n",
    "    new_element = int(input())  # считываем очередной элемент\n",
    "    a.append(new_element)  # добавляем его в список\n",
    "    # последние две строки можно было заменить одной:\n",
    "    # a.append(int(input()))\n",
    "print(a)"
   ]
  },
  {
   "cell_type": "code",
   "execution_count": 65,
   "metadata": {
    "collapsed": false
   },
   "outputs": [
    {
     "name": "stdout",
     "output_type": "stream",
     "text": [
      "{'D': 4, 'C': 3, 'A': 1, 'B': 2, 'E': 5}\n",
      "{1: 'A', 2: 'B', 3: 'C', 4: 'D', 5: 'E'}\n",
      "4\n",
      "D\n"
     ]
    }
   ],
   "source": [
    "# Пример: замена ключа на значение и наоборот\n",
    "a = {'D': 4, 'C': 3, 'A': 1, 'B': 2, 'E': 5}\n",
    "b = []\n",
    "\n",
    "for key in a:\n",
    "    b.append((a[key], key))\n",
    "c = dict(b)\n",
    "\n",
    "print(a)\n",
    "print(c)\n",
    "print(a['D'])\n",
    "print(c[4])"
   ]
  },
  {
   "cell_type": "code",
   "execution_count": null,
   "metadata": {
    "collapsed": true
   },
   "outputs": [],
   "source": []
  }
 ],
 "metadata": {
  "kernelspec": {
   "display_name": "Python 3",
   "language": "python",
   "name": "python3"
  },
  "language_info": {
   "codemirror_mode": {
    "name": "ipython",
    "version": 3
   },
   "file_extension": ".py",
   "mimetype": "text/x-python",
   "name": "python",
   "nbconvert_exporter": "python",
   "pygments_lexer": "ipython3",
   "version": "3.5.1"
  }
 },
 "nbformat": 4,
 "nbformat_minor": 0
}
