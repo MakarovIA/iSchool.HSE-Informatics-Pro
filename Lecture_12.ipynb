{
 "cells": [
  {
   "cell_type": "markdown",
   "metadata": {},
   "source": [
    "# Списки\n",
    "\n",
    "Списки являются простыми структурами данных, которые удобны для некоторых задач. По сути своей они представляют просто набор элемнтов, где каждый хранит значение и указатель на следующий элемент. Последний элемент хранит указатель на несуществующий элемент (NULL)."
   ]
  },
  {
   "cell_type": "code",
   "execution_count": 1,
   "metadata": {
    "collapsed": false
   },
   "outputs": [
    {
     "data": {
      "text/plain": []
     },
     "execution_count": 1,
     "metadata": {},
     "output_type": "execute_result"
    }
   ],
   "source": [
    "#include<vector>\n",
    "#include<iostream>\n",
    "#include <functional>"
   ]
  },
  {
   "cell_type": "code",
   "execution_count": 2,
   "metadata": {
    "collapsed": false
   },
   "outputs": [
    {
     "data": {
      "text/plain": []
     },
     "execution_count": 2,
     "metadata": {},
     "output_type": "execute_result"
    }
   ],
   "source": [
    "class Node { // объект связанного списка\n",
    "public:\n",
    "    Node() : next(nullptr) {} \n",
    "    Node(int v) : value(v), next(nullptr) {}\n",
    "    ~Node() {}\n",
    "    \n",
    "    Node * next; // Указатель на следующий \n",
    "    int value; // значение\n",
    "};"
   ]
  },
  {
   "cell_type": "code",
   "execution_count": 3,
   "metadata": {
    "collapsed": false
   },
   "outputs": [
    {
     "data": {
      "text/plain": []
     },
     "execution_count": 3,
     "metadata": {},
     "output_type": "execute_result"
    }
   ],
   "source": [
    "class List{\n",
    "public:\n",
    "    List() : begin(nullptr) {}\n",
    "    ~List() {\n",
    "        Node* current = begin;\n",
    "        Node* toDel;\n",
    "        while(current != nullptr) { // удаляем все элементы\n",
    "            toDel = current;\n",
    "            current = current->next;\n",
    "            delete toDel;\n",
    "        }\n",
    "    }\n",
    "    \n",
    "    void Insert(int value) { // вставка в список\n",
    "        Node * newNode = new Node(value); // создаем новый элемент\n",
    "        newNode->next = begin; // вставляем его в самое начало\n",
    "        begin = newNode; // заменяя begin на него\n",
    "    }\n",
    "    \n",
    "    void for_each(std::function<void(int)> f) { // конструкция для удобного итерирования по коллекции\n",
    "        Node* current = begin;\n",
    "        while(current != nullptr) {\n",
    "            f(current->value);\n",
    "            current = current->next;\n",
    "        }\n",
    "    }\n",
    "    \n",
    "    Node * begin;\n",
    "};"
   ]
  },
  {
   "cell_type": "code",
   "execution_count": 4,
   "metadata": {
    "collapsed": false
   },
   "outputs": [
    {
     "name": "stdout",
     "output_type": "stream",
     "text": [
      "81 64 49 36 25 16 9 4 1 0 \n"
     ]
    },
    {
     "data": {
      "text/plain": [
       "(std::basic_ostream<char, std::char_traits<char> >::__ostream_type &) @0x7f778d3256e0\n"
      ]
     },
     "execution_count": 4,
     "metadata": {},
     "output_type": "execute_result"
    }
   ],
   "source": [
    "List l1;\n",
    "for(int i = 0; i < 10; i++) { // заполняем \n",
    "    l1.Insert(i*i);\n",
    "}\n",
    "l1.for_each([](int e){ // выводим\n",
    "    std::cout << e << ' ';\n",
    "});\n",
    "std::cout << std::endl;"
   ]
  },
  {
   "cell_type": "markdown",
   "metadata": {},
   "source": [
    "Как можно видеть, все числа были выведены в обратном порядке, так как мы всегда вставляли число в начало.\n",
    "\n",
    "# Обращение списка\n",
    "\n",
    "Предположим, что теперь мы хотим иметь прямой порядок, а не обратный после вставки элементов. Для этого требуется развернуть список. Данный алгоритм крайне прост - мы идем по списку и меняет значения next у элементов на предыдущий."
   ]
  },
  {
   "cell_type": "code",
   "execution_count": 5,
   "metadata": {
    "collapsed": false
   },
   "outputs": [
    {
     "data": {
      "text/plain": []
     },
     "execution_count": 5,
     "metadata": {},
     "output_type": "execute_result"
    }
   ],
   "source": [
    "void reverse_list(List &l) {\n",
    "    Node* prev = nullptr; // предыдущий элемент. Изначально пустой\n",
    "    Node* current = l.begin; // текущий\n",
    "    while(current != nullptr) {\n",
    "        Node * next = current->next;\n",
    "        current->next = prev; // меняем на предыдущий элемент\n",
    "        prev = current; // сдвигаемся по списку\n",
    "        current = next;\n",
    "    }\n",
    "    l.begin = prev;\n",
    "}"
   ]
  },
  {
   "cell_type": "code",
   "execution_count": 6,
   "metadata": {
    "collapsed": false
   },
   "outputs": [
    {
     "name": "stdout",
     "output_type": "stream",
     "text": [
      "0 1 4 9 16 25 36 49 64 81 \n"
     ]
    },
    {
     "data": {
      "text/plain": [
       "(std::basic_ostream<char, std::char_traits<char> >::__ostream_type &) @0x7f778d3256e0\n"
      ]
     },
     "execution_count": 6,
     "metadata": {},
     "output_type": "execute_result"
    }
   ],
   "source": [
    "reverse_list(l1);\n",
    "l1.for_each([](int a) {\n",
    "    std::cout << a << ' ';\n",
    "});\n",
    "std::cout << std::endl;"
   ]
  },
  {
   "cell_type": "markdown",
   "metadata": {},
   "source": [
    "Однако данный подход в лоб не является оптимальным, так как для обращения списка из n элементом, нам необходимо будет сделать n действий.\n",
    "\n",
    "Для того, чтобы решить данную проблему, можно использовать двусвязный список - это такой же список из элементов, однако теперь каждый элемент помимо предыдущего содержит указатель на предыдущий элемент. Также в списке теперь храниться указатель на последний элемент. "
   ]
  },
  {
   "cell_type": "code",
   "execution_count": 7,
   "metadata": {
    "collapsed": false
   },
   "outputs": [
    {
     "data": {
      "text/plain": []
     },
     "execution_count": 7,
     "metadata": {},
     "output_type": "execute_result"
    }
   ],
   "source": [
    "class DoubleNode {\n",
    "public:\n",
    "    DoubleNode() : right(nullptr), left(nullptr) {}\n",
    "    DoubleNode(int v) : value(v), right(nullptr), left(nullptr) {}\n",
    "    ~DoubleNode(){}\n",
    "    \n",
    "    int value;\n",
    "    DoubleNode* right;\n",
    "    DoubleNode* left;\n",
    "};"
   ]
  },
  {
   "cell_type": "code",
   "execution_count": 8,
   "metadata": {
    "collapsed": false
   },
   "outputs": [
    {
     "data": {
      "text/plain": []
     },
     "execution_count": 8,
     "metadata": {},
     "output_type": "execute_result"
    }
   ],
   "source": [
    "class DoubleList {\n",
    "public:\n",
    "    DoubleList() : begin(nullptr), end(nullptr), right(true) {}\n",
    "    ~DoubleList() {\n",
    "        DoubleNode* current = begin;\n",
    "        DoubleNode* toDel;\n",
    "        while(current != nullptr) { // удаляем все элементы\n",
    "            toDel = current;\n",
    "            current = right ? current->right : current->left;\n",
    "            delete toDel;\n",
    "        }\n",
    "    }\n",
    "    \n",
    "    void Insert(int value) {\n",
    "        DoubleNode* e = new DoubleNode(value);\n",
    "        \n",
    "        if(begin == nullptr) end = e;\n",
    "        \n",
    "        if(right) e->right = begin;\n",
    "        else e->left = begin;\n",
    "        \n",
    "        if(begin != nullptr) {\n",
    "            if(right) begin->left = e;\n",
    "            else begin->right = e;\n",
    "        }\n",
    "        \n",
    "        begin = e;\n",
    "    }\n",
    "    \n",
    "    void for_each(std::function<void(int)> f) { // конструкция для удобного итерирования по коллекции\n",
    "        DoubleNode* current = begin;\n",
    "        while(current != nullptr) {\n",
    "            f(current->value);\n",
    "            if(right) current = current->right;\n",
    "            else current = current->left;\n",
    "        }\n",
    "    }\n",
    "    \n",
    "    DoubleNode * begin;\n",
    "    DoubleNode * end;\n",
    "    bool right; // указатель на то, в какую сторону двигаться\n",
    "};"
   ]
  },
  {
   "cell_type": "code",
   "execution_count": 9,
   "metadata": {
    "collapsed": false
   },
   "outputs": [
    {
     "name": "stdout",
     "output_type": "stream",
     "text": [
      "2744 2197 1728 1331 1000 729 512 343 216 125 64 27 8 1 0 \n"
     ]
    },
    {
     "data": {
      "text/plain": [
       "(std::basic_ostream<char, std::char_traits<char> >::__ostream_type &) @0x7f778d3256e0\n"
      ]
     },
     "execution_count": 9,
     "metadata": {},
     "output_type": "execute_result"
    }
   ],
   "source": [
    "DoubleList l2;\n",
    "for(int i = 0; i < 15; i++) {\n",
    "    l2.Insert(i*i*i);\n",
    "}\n",
    "l2.for_each([](int i) {\n",
    "    std::cout << i << ' ';\n",
    "});\n",
    "std::cout << std::endl;"
   ]
  },
  {
   "cell_type": "markdown",
   "metadata": {},
   "source": [
    "Теперь для обращения списка необходимо лишь поменять местами начало и конец, а также сделать пометку, что движение по списку теперь ведется в другом направлении."
   ]
  },
  {
   "cell_type": "code",
   "execution_count": 10,
   "metadata": {
    "collapsed": false
   },
   "outputs": [
    {
     "data": {
      "text/plain": []
     },
     "execution_count": 10,
     "metadata": {},
     "output_type": "execute_result"
    }
   ],
   "source": [
    "void reverse_double_list(DoubleList &l) {\n",
    "    std::swap(l.begin, l.end); // меняем начало и конец\n",
    "    l.right = !l.right; // меняем направление движения\n",
    "}"
   ]
  },
  {
   "cell_type": "code",
   "execution_count": 11,
   "metadata": {
    "collapsed": false
   },
   "outputs": [
    {
     "name": "stdout",
     "output_type": "stream",
     "text": [
      "0 1 8 27 64 125 216 343 512 729 1000 1331 1728 2197 2744 \n"
     ]
    },
    {
     "data": {
      "text/plain": [
       "(std::basic_ostream<char, std::char_traits<char> >::__ostream_type &) @0x7f778d3256e0\n"
      ]
     },
     "execution_count": 11,
     "metadata": {},
     "output_type": "execute_result"
    }
   ],
   "source": [
    "reverse_double_list(l2);\n",
    "l2.for_each([](int i) {\n",
    "    std::cout << i << ' ';\n",
    "});\n",
    "std::cout << std::endl;"
   ]
  },
  {
   "cell_type": "markdown",
   "metadata": {},
   "source": [
    "Теперь мы можем очень быстро обращать списки, а также очень удобно перемещаться по ним в обе стороны."
   ]
  },
  {
   "cell_type": "markdown",
   "metadata": {},
   "source": [
    "# Обнаружение циклов\n",
    "\n",
    "Часто бывает, что подобные списковые структуры имею внутри себя цикл - то есть последний элемент ссылается на какой-то предыдущий. Иногда это бывает полезно, однако это может вызвать определенные проблемы с обработкой подобных структур, поэтому полезно уметь определять циклы в списках.\n",
    "\n",
    "Простой алгоритм обнаружения циклов базируется на алгоритме обращения списка, который мы описали в начале лекции: если мы начнем разворачивать такой список, то мы сначала дойдем до конца списка, вклинимся в середину списка и так как все эти элементы мы уже развернули, то мы пойдем обратно к началу.\n",
    "Таким образом в конце мы дойдем до начала списка и вновь обернем первый элемент.\n",
    "\n",
    "В итоге, для того чтобы определить наличие цикла в списке, необходимо разрернуть его и потом посмотреть на первый элемент. Если он ссылается на пустой элемент, то значит обращение произошло корректно и цикла в списке нет, однако если он указывает на какой-то реальный элемент, это означает, что мы развернули его дважды и в списке присутствует цикл."
   ]
  },
  {
   "cell_type": "code",
   "execution_count": 12,
   "metadata": {
    "collapsed": false
   },
   "outputs": [
    {
     "data": {
      "text/plain": [
       "(Node *) 0x3a0f1f0\n"
      ]
     },
     "execution_count": 12,
     "metadata": {},
     "output_type": "execute_result"
    }
   ],
   "source": [
    "List l3;\n",
    "Node* middle;\n",
    "Node* end;\n",
    "for(int i = 0; i < 10; i++) { // создаем ситуацию цикла\n",
    "    l3.Insert(i);\n",
    "    if(i == 0) end = l3.begin;\n",
    "    if(i == 5) middle = l3.begin;\n",
    "}\n",
    "\n",
    "end->next = middle; // замыкаем список"
   ]
  },
  {
   "cell_type": "code",
   "execution_count": 13,
   "metadata": {
    "collapsed": false
   },
   "outputs": [
    {
     "name": "stdout",
     "output_type": "stream",
     "text": [
      "9 8 7 6 5 4 3 2 1 0 5 4 3 2 1 0 5 4 3 2 1 0 5 4 3 2 1 0 5 4 3 2 1 0 5 4 3 2 1 0 5 4 3 2 1 0 5 4 3 2 "
     ]
    },
    {
     "data": {
      "text/plain": []
     },
     "execution_count": 13,
     "metadata": {},
     "output_type": "execute_result"
    }
   ],
   "source": [
    "Node * cur = l3.begin;\n",
    "int count = 0;\n",
    "while(cur != nullptr and count < 50) { // что плохого может произойти - при последовательной обработке мы можем\n",
    "    std::cout << cur->value << ' '; // началь бесконено долго\n",
    "    cur = cur->next;\n",
    "    count++;\n",
    "}"
   ]
  },
  {
   "cell_type": "code",
   "execution_count": 14,
   "metadata": {
    "collapsed": false
   },
   "outputs": [
    {
     "data": {
      "text/plain": []
     },
     "execution_count": 14,
     "metadata": {},
     "output_type": "execute_result"
    }
   ],
   "source": [
    "bool find_cycle(List &l) {\n",
    "    Node* prev = nullptr; // предыдущий элемент. Изначально пустой\n",
    "    Node* current = l.begin; // текущий\n",
    "    while(current != nullptr) {\n",
    "        Node * next = current->next;\n",
    "        current->next = prev; // меняем на предыдущий элемент\n",
    "        prev = current; // сдвигаемся по списку\n",
    "        current = next;\n",
    "    }\n",
    "    if(l.begin->next == nullptr) return false; // если развернули только один раз\n",
    "    else return true; // если несколько\n",
    "}"
   ]
  },
  {
   "cell_type": "code",
   "execution_count": 15,
   "metadata": {
    "collapsed": false
   },
   "outputs": [
    {
     "name": "stdout",
     "output_type": "stream",
     "text": [
      "0\n"
     ]
    },
    {
     "data": {
      "text/plain": [
       "(std::basic_ostream<char, std::char_traits<char> >::__ostream_type &) @0x7f778d3256e0\n"
      ]
     },
     "execution_count": 15,
     "metadata": {},
     "output_type": "execute_result"
    }
   ],
   "source": [
    "std::cout << find_cycle(l1) << std::endl;"
   ]
  },
  {
   "cell_type": "code",
   "execution_count": 16,
   "metadata": {
    "collapsed": false
   },
   "outputs": [
    {
     "name": "stdout",
     "output_type": "stream",
     "text": [
      "1\n"
     ]
    },
    {
     "data": {
      "text/plain": [
       "(std::basic_ostream<char, std::char_traits<char> >::__ostream_type &) @0x7f778d3256e0\n"
      ]
     },
     "execution_count": 16,
     "metadata": {},
     "output_type": "execute_result"
    }
   ],
   "source": [
    "std::cout << find_cycle(l3) << std::endl;"
   ]
  },
  {
   "cell_type": "markdown",
   "metadata": {},
   "source": [
    "# Обнаружение методом двух указателей\n",
    "\n",
    "Существенный минус рассмотренного метода - исходный список становится измененым и более непригодным к использованию.\n",
    "\n",
    "Для разрешения этой проблемы можно использовать следующий алгоритм:\n",
    "* Создаем два указателя на начало\n",
    "* Далее двигаемся ими по списку, однако с разной скоростью - первый за одну итерацию проходит один элемент, а второй два элемента\n",
    "* Если оба указателя в итоге дойдут до конца - значит, что список корректный и цикла нет\n",
    "* Если эти два указателя встретятся, то есть будут указывать на один и тот же элемент, то это будет означать, что они оба попали в цикл и более быстрый догнал более медленный"
   ]
  },
  {
   "cell_type": "code",
   "execution_count": 17,
   "metadata": {
    "collapsed": false
   },
   "outputs": [
    {
     "data": {
      "text/plain": []
     },
     "execution_count": 17,
     "metadata": {},
     "output_type": "execute_result"
    }
   ],
   "source": [
    "bool find_cycle2(List &l) {\n",
    "    Node* a = l.begin; // два указателя\n",
    "    Node* b = l.begin;\n",
    "    for(;;) {\n",
    "        a = a->next; // двигаемся первым \n",
    "        if(a == b) return true;\n",
    "        if(a == nullptr) return false;\n",
    "        a = a->next; // два раза\n",
    "        if(a == b) return true;\n",
    "        if(a == nullptr) return false;\n",
    "        b = b->next; // и один раз вторым\n",
    "        if(a == b) return true; // проверяем условия после каждого движения\n",
    "        if(b == nullptr) return false;\n",
    "    }\n",
    "}"
   ]
  },
  {
   "cell_type": "code",
   "execution_count": 18,
   "metadata": {
    "collapsed": false
   },
   "outputs": [
    {
     "data": {
      "text/plain": [
       "(Node *) 0x3a87460\n"
      ]
     },
     "execution_count": 18,
     "metadata": {},
     "output_type": "execute_result"
    }
   ],
   "source": [
    "List a1, a2;\n",
    "for(int i = 0; i < 10; i++) {\n",
    "    a1.Insert(i);\n",
    "    a2.Insert(i);\n",
    "    if(i == 0) end = a2.begin;\n",
    "    if(i == 5) middle = a2.begin;\n",
    "}\n",
    "end->next = middle;"
   ]
  },
  {
   "cell_type": "code",
   "execution_count": 19,
   "metadata": {
    "collapsed": false
   },
   "outputs": [
    {
     "name": "stdout",
     "output_type": "stream",
     "text": [
      "0\n"
     ]
    },
    {
     "data": {
      "text/plain": [
       "(std::basic_ostream<char, std::char_traits<char> >::__ostream_type &) @0x7f778d3256e0\n"
      ]
     },
     "execution_count": 19,
     "metadata": {},
     "output_type": "execute_result"
    }
   ],
   "source": [
    "std::cout << find_cycle2(a1) << std::endl;"
   ]
  },
  {
   "cell_type": "code",
   "execution_count": 20,
   "metadata": {
    "collapsed": false
   },
   "outputs": [
    {
     "name": "stdout",
     "output_type": "stream",
     "text": [
      "1\n"
     ]
    },
    {
     "data": {
      "text/plain": [
       "(std::basic_ostream<char, std::char_traits<char> >::__ostream_type &) @0x7f778d3256e0\n"
      ]
     },
     "execution_count": 20,
     "metadata": {},
     "output_type": "execute_result"
    }
   ],
   "source": [
    "std::cout << find_cycle2(a2) << std::endl;"
   ]
  }
 ],
 "metadata": {
  "anaconda-cloud": {},
  "kernelspec": {
   "display_name": "C++",
   "language": "",
   "name": "cling"
  },
  "language_info": {
   "codemirror_mode": "text/x-c++src",
   "file_extension": ".c++",
   "mimetype": " text/x-c++src",
   "name": "c++"
  }
 },
 "nbformat": 4,
 "nbformat_minor": 1
}
