{
 "cells": [
  {
   "cell_type": "markdown",
   "metadata": {},
   "source": [
    "# Обход графа\n",
    "\n",
    "Граф - это структура, состоящая из вершин (узлов), некоторые из которых соеденены между собой ребрами. С помощью графов можно удобно представлять очень много вещей из реального мира: различные процессы, дороги, социальные взаимосвязи и многое другое. \n",
    "\n",
    "По этой причине было бы очень неплохо уметь работать с графами, проводить анализ его структуры, находить необходимую информацию."
   ]
  },
  {
   "cell_type": "markdown",
   "metadata": {},
   "source": [
    "<img src=\"img/graph.png\" style=\"height: 300px;\">"
   ]
  },
  {
   "cell_type": "markdown",
   "metadata": {},
   "source": [
    "Автор: <a href=\"//commons.wikimedia.org/wiki/User:AzaToth\" title=\"User:AzaToth\">User:AzaToth</a> - <a href=\"//commons.wikimedia.org/wiki/File:6n-graf.png\" title=\"File:6n-graf.png\">Image:6n-graf.png</a> simlar input data, Общественное достояние, <a href=\"https://commons.wikimedia.org/w/index.php?curid=820489\">Ссылка</a>"
   ]
  },
  {
   "cell_type": "markdown",
   "metadata": {},
   "source": [
    "Существует два классических способа хранения графа\n",
    "* Множество вершин, каждая из которых хранит список вершин, с которыми она соединена\n",
    "* Матрица (таблица) с 0 и 1, которая представляется следующим образом: если в i, j клетке стоит 1, то значит, i-тая вершина соединена с j-той, если же 0 - не соеденина\n",
    "\n",
    "Различные способы представления графов полезны в различных ситуациях и выбирать какой-то конкретный необходимо исходя их задачи, которую необходимо решить."
   ]
  },
  {
   "cell_type": "markdown",
   "metadata": {},
   "source": [
    "Для наших целей сегодня больше отлично подойдет первый вариант. Реализуем вершину с соседями, а после соберем их в один граф."
   ]
  },
  {
   "cell_type": "code",
   "execution_count": 1,
   "metadata": {
    "collapsed": false
   },
   "outputs": [
    {
     "data": {
      "text/plain": []
     },
     "execution_count": 1,
     "metadata": {},
     "output_type": "execute_result"
    }
   ],
   "source": [
    "#include <fstream>\n",
    "#include <vector>\n",
    "#include <iostream>\n",
    "#include <algorithm>\n",
    "#include <queue> "
   ]
  },
  {
   "cell_type": "code",
   "execution_count": 2,
   "metadata": {
    "collapsed": false
   },
   "outputs": [
    {
     "data": {
      "text/plain": []
     },
     "execution_count": 2,
     "metadata": {},
     "output_type": "execute_result"
    }
   ],
   "source": [
    "void print_file(std::string f) { // печать файла для наглядности\n",
    "    std::ifstream file(f);\n",
    "    std::string s;\n",
    "    while(std::getline(file, s)) {\n",
    "        std::cout << s << std::endl;\n",
    "    }\n",
    "}"
   ]
  },
  {
   "cell_type": "code",
   "execution_count": 3,
   "metadata": {
    "collapsed": false
   },
   "outputs": [
    {
     "data": {
      "text/plain": []
     },
     "execution_count": 3,
     "metadata": {},
     "output_type": "execute_result"
    }
   ],
   "source": [
    "class Vertex { // класс вершины\n",
    "public:\n",
    "    Vertex(int i) : id(i), value(0) {}\n",
    "    ~Vertex(){}\n",
    "\n",
    "    void connectOneside(Vertex * vertex) {\n",
    "        neighbours.push_back(vertex);\n",
    "    }\n",
    "\n",
    "    void connectTwoside(Vertex * vertex) {\n",
    "        neighbours.push_back(vertex);\n",
    "        vertex->connectOneside(this);\n",
    "    }\n",
    "\n",
    "    int id;\n",
    "    int value; // ячейка для хранения какого-то значения в вершине\n",
    "    std::vector<Vertex*> neighbours; // вершины, с которыми связана эта вершина\n",
    "};\n",
    "\n",
    "class Graph { // класс графа\n",
    "public:\n",
    "    Graph() {}\n",
    "    Graph(int size) { // создать граф размена size\n",
    "        vertexes.reserve(size);\n",
    "        for(int i = 0; i < size; i++) {\n",
    "            vertexes.push_back(new Vertex(i));\n",
    "        }\n",
    "    }\n",
    "    \n",
    "    Graph(std::string path) {\n",
    "        readFromFile(path);\n",
    "    }\n",
    "    ~Graph(){\n",
    "        for(Vertex * v : vertexes) delete v;\n",
    "    }\n",
    "\n",
    "    Vertex * at(int index) { // получить вершину по id\n",
    "        return vertexes.at(index);\n",
    "    }\n",
    "\n",
    "    void readFromFile(std::string path) { // Формат: 2 -> 3 или 2 <-> 3. Это означает, что 2 вершина соединена с 3\n",
    "        std::ifstream file(path);\n",
    "        \n",
    "        int size;\n",
    "        file >> size;\n",
    "        \n",
    "        vertexes.reserve(size);\n",
    "        for(int i = 0; i < size; i++) {\n",
    "            vertexes.push_back(new Vertex(i+1));\n",
    "        }\n",
    "\n",
    "        int id1, id2;\n",
    "        std::string type;\n",
    "        while(file >> id1 >> type >> id2) {\n",
    "            if(type == \"->\") vertexes[id1-1]->connectOneside(vertexes[id2-1]);\n",
    "            else if(type == \"<->\") vertexes[id1-1]->connectTwoside(vertexes[id2-1]);\n",
    "        }\n",
    "    }\n",
    "\n",
    "    std::vector<Vertex*> vertexes; // вершины графа\n",
    "};"
   ]
  },
  {
   "cell_type": "code",
   "execution_count": 4,
   "metadata": {
    "collapsed": false
   },
   "outputs": [
    {
     "name": "stdout",
     "output_type": "stream",
     "text": [
      "6\n",
      "1 <-> 2\n",
      "1 <-> 5\n",
      "2 <-> 5\n",
      "2 <-> 3\n",
      "4 <-> 5\n",
      "4 <-> 3\n",
      "4 <-> 6\n",
      "-------\n"
     ]
    },
    {
     "data": {
      "text/plain": [
       "(Graph &) @0x7f80f86b4010\n"
      ]
     },
     "execution_count": 4,
     "metadata": {},
     "output_type": "execute_result"
    }
   ],
   "source": [
    "print_file(\"files/1.graph\");\n",
    "std::cout << \"-------\" << std::endl;\n",
    "\n",
    "Graph g1(\"files/1.graph\");"
   ]
  },
  {
   "cell_type": "code",
   "execution_count": 5,
   "metadata": {
    "collapsed": false
   },
   "outputs": [
    {
     "name": "stdout",
     "output_type": "stream",
     "text": [
      "1 -> 2 5 \n",
      "2 -> 1 5 3 \n",
      "3 -> 2 4 \n",
      "4 -> 5 3 6 \n",
      "5 -> 1 2 4 \n",
      "6 -> 4 \n"
     ]
    },
    {
     "data": {
      "text/plain": []
     },
     "execution_count": 5,
     "metadata": {},
     "output_type": "execute_result"
    }
   ],
   "source": [
    "for(auto v : g1.vertexes) {\n",
    "    std::cout << v->id << \" -> \";\n",
    "    for(auto w : v->neighbours) {\n",
    "        std::cout << w->id << \" \";\n",
    "    }\n",
    "    std::cout << std::endl;\n",
    "}"
   ]
  },
  {
   "cell_type": "markdown",
   "metadata": {},
   "source": [
    "Как можно видеть, данный граф описывает тот же граф, что изображен на картинке в начале лекции. "
   ]
  },
  {
   "cell_type": "markdown",
   "metadata": {},
   "source": [
    "# Поиск в глубину\n",
    "\n",
    "Для анализа графа чаще всего необходимо пройтись по каждой вершине этого графа и после этого на основе полученной информации сделать какой-то вывод или посчитать какую-то величену. Самым простых алгоритмом обхода графа является поиск в глубину. Его суть заключается в следующем:\n",
    "\n",
    "* Начинаем с какой-то вершины\n",
    "* Идем сначала в первого соседа этой вершины\n",
    "* Повтораяем это действие пока не упремся в вершину, у которой нет еще не просмотренных соседей.\n",
    "* Возвращемся на одну вершину выше и пытаемся пойти во вторую соседскую вершину таким же способом\n",
    "* Когда закончатся и эти соседы, то вернемся к вершине выше\n",
    "* Будем так делать пока не вернемся в исходную вершину и не пройдем всех ее соседей"
   ]
  },
  {
   "cell_type": "markdown",
   "metadata": {},
   "source": [
    "По сути мы пытаемся уйти сразу на максимальное расстояние от исходной вершины"
   ]
  },
  {
   "cell_type": "markdown",
   "metadata": {},
   "source": [
    "<img src=\"img/depth-tree.png\">"
   ]
  },
  {
   "cell_type": "markdown",
   "metadata": {},
   "source": [
    "Автор: <a href=\"//commons.wikimedia.org/wiki/User:Alexander_Drichel\" title=\"User:Alexander Drichel\">Alexander Drichel</a> - <span class=\"int-own-work\" lang=\"ru\">собственная работа</span>, <a href=\"http://creativecommons.org/licenses/by-sa/3.0\" title=\"Creative Commons Attribution-Share Alike 3.0\">CC BY-SA 3.0</a>, <a href=\"https://commons.wikimedia.org/w/index.php?curid=3791979\">Ссылка</a>"
   ]
  },
  {
   "cell_type": "markdown",
   "metadata": {},
   "source": [
    "На данной картике изображена последовательность вершин, которую мы пройдем, начиная поиск в грубину из вершины 1."
   ]
  },
  {
   "cell_type": "markdown",
   "metadata": {},
   "source": [
    "## Поиск компонент связности графа\n",
    "\n",
    "Одно из свойств графа - связность. Оно означает, что из любой вершины, графа можно попасть в любую другую вершину графа, если двигаться по ребрам. Если граф не связен, то это означает, что он разбивается на несколько компонент связности - подграфы, которые в совокупности являются исходным графом и при этом каждый из них является связным графом.\n",
    "\n",
    "Например, граф на рисунке выше - связный, а граф на рисунке ниже - нет и имеет три компоненты связности."
   ]
  },
  {
   "cell_type": "markdown",
   "metadata": {},
   "source": [
    "<img src=\"img/unconn.png\">"
   ]
  },
  {
   "cell_type": "markdown",
   "metadata": {},
   "source": [
    "Автор: Dmitry Dzhus - <span class=\"int-own-work\" lang=\"ru\">собственная работа</span>, Общественное достояние, <a href=\"https://commons.wikimedia.org/w/index.php?curid=2532274\">Ссылка</a>"
   ]
  },
  {
   "cell_type": "markdown",
   "metadata": {},
   "source": [
    "Для того, чтобы найти все компоненты связности, можно воспользоваться поиском в глубину. Суть алгоритма в следующем:\n",
    "\n",
    "* Запускаем поиск в глубину у какой-то вершины, помечая каждую вершину, которую найдем, номером компоненты связности (изначально - 1)\n",
    "* После этого будем искать вершину в графе, которая не помечена никакой компонентой и запустим от нее такой же поиск в грубину, однако теперь будем помечать все вершину уже номером следующей компоненты\n",
    "* Повторяем этот процесс до тех пор, пока не останется вершин, которые мы бы не пометили\n",
    "* После этого номер последней компоненты связности - это и есть количество компонент связности в графе, а также каждая вершина будет помечена номером своей компоненты\n",
    "\n",
    "Обоснование корректности данного алгоритма тривиально."
   ]
  },
  {
   "cell_type": "code",
   "execution_count": 6,
   "metadata": {
    "collapsed": false
   },
   "outputs": [
    {
     "data": {
      "text/plain": []
     },
     "execution_count": 6,
     "metadata": {},
     "output_type": "execute_result"
    }
   ],
   "source": [
    "void dfs_connected(Vertex * v, int index) {\n",
    "    if(v->value > 0) return; // если уже помечена\n",
    "    v->value = index; // помечаем\n",
    "    for(Vertex * w : v->neighbours) dfs_connected(w, index); // проходим по соседям\n",
    "}"
   ]
  },
  {
   "cell_type": "code",
   "execution_count": 7,
   "metadata": {
    "collapsed": false
   },
   "outputs": [
    {
     "data": {
      "text/plain": []
     },
     "execution_count": 7,
     "metadata": {},
     "output_type": "execute_result"
    }
   ],
   "source": [
    "int connected_components(Graph &g) {\n",
    "    int index = 1; // номер первой компоненты связности\n",
    "    for(Vertex * v : g.vertexes) {\n",
    "        if(v->value > 0) continue; // не трогаем вершины, которые уже помечены\n",
    "        dfs_connected(v, index); // ищем из той вершины, которая еще не помечена\n",
    "        index++; // выставляем номер следующей компоненты\n",
    "    }\n",
    "    return index - 1;\n",
    "}"
   ]
  },
  {
   "cell_type": "code",
   "execution_count": 8,
   "metadata": {
    "collapsed": false
   },
   "outputs": [
    {
     "name": "stdout",
     "output_type": "stream",
     "text": [
      "12\n",
      "1 <-> 2\n",
      "1 <-> 7\n",
      "1 <-> 8\n",
      "2 <-> 3\n",
      "2 <-> 6\n",
      "8 <-> 9\n",
      "8 <-> 12\n",
      "3 <-> 4\n",
      "3 <-> 5\n",
      "9 <-> 10\n",
      "9 <-> 11\n",
      "--------\n",
      "7\n",
      "1 <-> 2\n",
      "2 <-> 3\n",
      "3 <-> 4\n",
      "6 <-> 7\n",
      "--------\n"
     ]
    },
    {
     "data": {
      "text/plain": [
       "(Graph &) @0x7f80f86b4060\n"
      ]
     },
     "execution_count": 8,
     "metadata": {},
     "output_type": "execute_result"
    }
   ],
   "source": [
    "print_file(\"files/2.graph\");\n",
    "std::cout << \"--------\" << std::endl;\n",
    "\n",
    "Graph g2(\"files/2.graph\");\n",
    "\n",
    "print_file(\"files/3.graph\");\n",
    "std::cout << \"--------\" << std::endl;\n",
    "\n",
    "Graph g3(\"files/3.graph\");"
   ]
  },
  {
   "cell_type": "markdown",
   "metadata": {},
   "source": [
    "Как можно видеть, граф g2 - это граф на второй картинке, а граф g3 - граф на третьей картинке."
   ]
  },
  {
   "cell_type": "code",
   "execution_count": 9,
   "metadata": {
    "collapsed": false
   },
   "outputs": [
    {
     "name": "stdout",
     "output_type": "stream",
     "text": [
      "1\n"
     ]
    },
    {
     "data": {
      "text/plain": [
       "(std::basic_ostream<char, std::char_traits<char> >::__ostream_type &) @0x7f80f410e6e0\n"
      ]
     },
     "execution_count": 9,
     "metadata": {},
     "output_type": "execute_result"
    }
   ],
   "source": [
    "std::cout << connected_components(g2) << std::endl;"
   ]
  },
  {
   "cell_type": "code",
   "execution_count": 10,
   "metadata": {
    "collapsed": false
   },
   "outputs": [
    {
     "name": "stdout",
     "output_type": "stream",
     "text": [
      "3\n"
     ]
    },
    {
     "data": {
      "text/plain": [
       "(std::basic_ostream<char, std::char_traits<char> >::__ostream_type &) @0x7f80f410e6e0\n"
      ]
     },
     "execution_count": 10,
     "metadata": {},
     "output_type": "execute_result"
    }
   ],
   "source": [
    "std::cout << connected_components(g3) << std::endl;"
   ]
  },
  {
   "cell_type": "markdown",
   "metadata": {},
   "source": [
    "Результаты совпали с ожидаемыми."
   ]
  },
  {
   "cell_type": "markdown",
   "metadata": {},
   "source": [
    "# Поиск в ширину\n",
    "\n",
    "Вторым стандартным способом является поиск в ширину. В отличии от поиска в грубину, теперь мы не \"Убегаем\" от начальной вершины, а двигаемся равномерно во все стороны от начальной вершины.\n",
    "\n",
    "Более формально:\n",
    "* Вначале мы проходим всех соседей начальной вершины\n",
    "* Потом проходим всех соседей, которые есть у тех, что мы только что прошли\n",
    "* Продолжаем этот процесс, пока не пройдем все вершины\n",
    "\n",
    "Картинка ниже иллюстрирует порядок прохода вершин при поиске в ширину"
   ]
  },
  {
   "cell_type": "markdown",
   "metadata": {},
   "source": [
    "<img src=\"img/bfsa.gif\">"
   ]
  },
  {
   "cell_type": "markdown",
   "metadata": {},
   "source": [
    "Автор: <a href=\"//commons.wikimedia.org/w/index.php?title=User:Mre&amp;action=edit&amp;redlink=1\" class=\"new\" title=\"User:Mre (page does not exist)\">Mre</a> - <span class=\"int-own-work\" lang=\"ru\">собственная работа</span>, <a href=\"http://creativecommons.org/licenses/by-sa/3.0\" title=\"Creative Commons Attribution-Share Alike 3.0\">CC BY-SA 3.0</a>, <a href=\"https://commons.wikimedia.org/w/index.php?curid=6342695\">Ссылка</a>"
   ]
  },
  {
   "cell_type": "markdown",
   "metadata": {},
   "source": [
    "## Проверка графа на двудольность \n",
    "\n",
    "Еще одно свойство графа - двудольность. Оно означает, что все вершины графа можно разделить на два множества (две доли) таки образом, чтобы любая вершина из одной доли была связана только с вершинами из другой доли. \n",
    "\n"
   ]
  },
  {
   "cell_type": "markdown",
   "metadata": {},
   "source": [
    "<img src=\"img/sbg.png\">"
   ]
  },
  {
   "cell_type": "markdown",
   "metadata": {},
   "source": [
    "Автор: MistWiz - <span class=\"int-own-work\" lang=\"ru\">собственная работа</span>, Общественное достояние, <a href=\"https://commons.wikimedia.org/w/index.php?curid=1814874\">Ссылка</a>"
   ]
  },
  {
   "cell_type": "markdown",
   "metadata": {},
   "source": [
    "На рисунке выше изображен двудольный граф с долями U и V.\n",
    "\n",
    "Четвертый граф (который изображен выше этого графа), кстати, тоже двудольный с долями { 1, 5, 6, 7, 8 } и { 2, 3, 4, 9, 10}"
   ]
  },
  {
   "cell_type": "markdown",
   "metadata": {},
   "source": [
    "Для проверки графа на двудольность можно использовать обход в ширину:\n",
    "\n",
    "* Начинаем с любой вершины. Обозначим, что она в доле +1.\n",
    "* Пойдем по всем ее соседям\n",
    " * Если текущий сосед еще не помечен, то помечаем его другой долей и добавляем в очередь к просмотру\n",
    " * Если он помечен этой же долей, то это означает, что есть связь, когда связаны две вершины из одной доли -> граф не двудольный\n",
    " * Если он помечен другой долей, то значит мы уже проверели эту вершину и просто пропускаем ее\n",
    " \n",
    "Из посмотрения алгоритма видно, что при проходе в ширину двудольного графа, из одной вершины мы всегда доджны попадать только в вершины из другой доли. Если это в какой-то момент нарушилось, значит граф не двудольный, если же нет - то двудольный."
   ]
  },
  {
   "cell_type": "code",
   "execution_count": 11,
   "metadata": {
    "collapsed": false
   },
   "outputs": [
    {
     "data": {
      "text/plain": []
     },
     "execution_count": 11,
     "metadata": {},
     "output_type": "execute_result"
    }
   ],
   "source": [
    "bool bipartite_graph(Graph &g) {\n",
    "    std::queue<Vertex *> q; // очередь вершин, которые нужно пройти\n",
    "    q.push(g.at(0));\n",
    "    q.front()->value = 1; // начальная вершина\n",
    "    while(!q.empty()) {\n",
    "        Vertex * v = q.front(); // берем следующую вершину\n",
    "        q.pop();\n",
    "        \n",
    "        for(Vertex * w : v->neighbours) {\n",
    "            if(w->value == 0) {\n",
    "                w->value = v->value * (-1); // помечаем вершину\n",
    "                q.push(w); // добавляем в очередь к просмотру\n",
    "            } else if(w->value == v->value) return false; // нашли связь из одной доли\n",
    "            // иначе ничего не делаем с вершиной\n",
    "        }\n",
    "    }\n",
    "    return true;\n",
    "}"
   ]
  },
  {
   "cell_type": "code",
   "execution_count": 12,
   "metadata": {
    "collapsed": false
   },
   "outputs": [
    {
     "name": "stdout",
     "output_type": "stream",
     "text": [
      "12\n",
      "1 <-> 2\n",
      "1 <-> 7\n",
      "1 <-> 8\n",
      "2 <-> 3\n",
      "2 <-> 6\n",
      "8 <-> 9\n",
      "8 <-> 12\n",
      "3 <-> 4\n",
      "3 <-> 5\n",
      "9 <-> 10\n",
      "9 <-> 11\n",
      "--------\n",
      "9\n",
      "1 <-> 6\n",
      "2 <-> 6\n",
      "2 <-> 7\n",
      "3 <-> 8\n",
      "3 <-> 9\n",
      "4 <-> 7\n",
      "5 <-> 6\n",
      "5 <-> 9\n",
      "--------\n",
      "4\n",
      "1 <-> 2\n",
      "2 <-> 3\n",
      "3 <-> 4\n",
      "4 <-> 1\n",
      "1 <-> 3\n",
      "2 <-> 4\n",
      "--------\n"
     ]
    },
    {
     "data": {
      "text/plain": [
       "(Graph &) @0x7f80f86b40c0\n"
      ]
     },
     "execution_count": 12,
     "metadata": {},
     "output_type": "execute_result"
    }
   ],
   "source": [
    "print_file(\"files/2.graph\");\n",
    "std::cout << \"--------\" << std::endl;\n",
    "\n",
    "Graph g2_3(\"files/2.graph\");\n",
    "\n",
    "print_file(\"files/4.graph\");\n",
    "std::cout << \"--------\" << std::endl;\n",
    "\n",
    "Graph g4(\"files/4.graph\");\n",
    "\n",
    "print_file(\"files/5.graph\");\n",
    "std::cout << \"--------\" << std::endl;\n",
    "\n",
    "Graph g5(\"files/5.graph\");"
   ]
  },
  {
   "cell_type": "code",
   "execution_count": 13,
   "metadata": {
    "collapsed": false
   },
   "outputs": [
    {
     "name": "stdout",
     "output_type": "stream",
     "text": [
      "Yes\n"
     ]
    },
    {
     "data": {
      "text/plain": [
       "(std::basic_ostream<char, std::char_traits<char> >::__ostream_type &) @0x7f80f410e6e0\n"
      ]
     },
     "execution_count": 13,
     "metadata": {},
     "output_type": "execute_result"
    }
   ],
   "source": [
    "std::cout << (bipartite_graph(g2_3) ? \"Yes\" : \"No\") << std::endl;"
   ]
  },
  {
   "cell_type": "code",
   "execution_count": 14,
   "metadata": {
    "collapsed": false
   },
   "outputs": [
    {
     "name": "stdout",
     "output_type": "stream",
     "text": [
      "Yes\n"
     ]
    },
    {
     "data": {
      "text/plain": [
       "(std::basic_ostream<char, std::char_traits<char> >::__ostream_type &) @0x7f80f410e6e0\n"
      ]
     },
     "execution_count": 14,
     "metadata": {},
     "output_type": "execute_result"
    }
   ],
   "source": [
    "std::cout << (bipartite_graph(g4) ? \"Yes\" : \"No\") << std::endl;"
   ]
  },
  {
   "cell_type": "code",
   "execution_count": 15,
   "metadata": {
    "collapsed": false
   },
   "outputs": [
    {
     "name": "stdout",
     "output_type": "stream",
     "text": [
      "No\n"
     ]
    },
    {
     "data": {
      "text/plain": [
       "(std::basic_ostream<char, std::char_traits<char> >::__ostream_type &) @0x7f80f410e6e0\n"
      ]
     },
     "execution_count": 15,
     "metadata": {},
     "output_type": "execute_result"
    }
   ],
   "source": [
    "std::cout << (bipartite_graph(g5) ? \"Yes\" : \"No\") << std::endl;"
   ]
  },
  {
   "cell_type": "markdown",
   "metadata": {},
   "source": [
    "g2_3 - Граф, изображенный вторым в этой лекции.\n",
    "\n",
    "g4 - последний изображенный граф\n",
    "\n",
    "g5 - полный граф на 4 вершинах (изображение ниже)"
   ]
  },
  {
   "cell_type": "markdown",
   "metadata": {},
   "source": [
    "<img src=\"img/sg.png\">"
   ]
  },
  {
   "cell_type": "markdown",
   "metadata": {},
   "source": [
    "Автор: <a href=\"//commons.wikimedia.org/wiki/User:Koko90\" title=\"User:Koko90\">Koko90</a> - <span class=\"int-own-work\" lang=\"ru\" xml:lang=\"ru\">собственная работа</span>, <a href=\"http://creativecommons.org/licenses/by-sa/3.0\" title=\"Creative Commons Attribution-Share Alike 3.0\">CC BY-SA 3.0</a>, <a href=\"https://commons.wikimedia.org/w/index.php?curid=10947368\">Ссылка</a>"
   ]
  },
  {
   "cell_type": "markdown",
   "metadata": {},
   "source": [
    "Как можно видеть, все результаты совпали с ожидаемыми."
   ]
  },
  {
   "cell_type": "code",
   "execution_count": null,
   "metadata": {
    "collapsed": true
   },
   "outputs": [],
   "source": []
  }
 ],
 "metadata": {
  "anaconda-cloud": {},
  "kernelspec": {
   "display_name": "C++",
   "language": "",
   "name": "cling"
  },
  "language_info": {
   "codemirror_mode": "text/x-c++src",
   "file_extension": ".c++",
   "mimetype": " text/x-c++src",
   "name": "c++"
  }
 },
 "nbformat": 4,
 "nbformat_minor": 1
}
