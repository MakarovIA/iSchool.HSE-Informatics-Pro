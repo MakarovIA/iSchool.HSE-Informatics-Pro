{
 "cells": [
  {
   "cell_type": "markdown",
   "metadata": {},
   "source": [
    "# Быстрое перемножение чисел\n",
    "\n",
    "Умножение - с одной стороны это очень простая операция, которой люди овладели давным давно. Казалось бы, что ничего умнее, чем классический алгоритм перемножения столбиком не существует. Однако в 1960 Анатолий Карацуба изобрел алгоритм перемножения чисел быстрее, чем класический алгоритм."
   ]
  },
  {
   "cell_type": "markdown",
   "metadata": {},
   "source": [
    "# Классический алгоритм\n",
    "\n",
    "Для понимания проблематики, сначала рассмотрим классический подход.\n",
    "\n",
    "Во первых, для работы с большими числами нам потребуется другой способ хранить числа, так как классических типов данных нам, увы, не хватит. Для этого создадим класс, который будет представлять большие числа. Не будем сейчас задумываться об эффективность хранения данных, а также об излишних копированиях - это позволит сконцентрироваться на самом алгоритме.\n",
    "\n",
    "Числа будем хранить как последовательность цифр в обратном порядке(так удобнее). Таким образом, например, сумма двух таких чисел - это просто поэлементная сумма двух массивов с последующей нормировкой и переносом цифр, которые были \"в уме\".\n",
    "\n",
    "Классический алгоритм заключается в следующем:\n",
    "\n",
    "* Перемножаем первое число на последнюю цифру второго (с нормировкой)\n",
    "* Потом на вторую, но со двигом на 1\n",
    "* Делаем так для каждой цифры второго числа\n",
    "* Складываем полученные результаты\n",
    "\n",
    "Таким образом, перемножение двух чисел длинной n цифр займет у нас n \\* n операций."
   ]
  },
  {
   "cell_type": "code",
   "execution_count": 1,
   "metadata": {
    "collapsed": false
   },
   "outputs": [
    {
     "data": {
      "text/plain": []
     },
     "execution_count": 1,
     "metadata": {},
     "output_type": "execute_result"
    }
   ],
   "source": [
    "#include <iostream>\n",
    "#include <vector>\n",
    "#include <iterator>\n",
    "#include <tuple>"
   ]
  },
  {
   "cell_type": "code",
   "execution_count": 2,
   "metadata": {
    "collapsed": false
   },
   "outputs": [
    {
     "data": {
      "text/plain": []
     },
     "execution_count": 2,
     "metadata": {},
     "output_type": "execute_result"
    }
   ],
   "source": [
    "class Num {\n",
    "public:\n",
    "    Num() {}\n",
    "    Num(const Num& other) : digits(other.digits) {} // конструктор копирования\n",
    "    Num(std::string s){ // создание из строки\n",
    "        digits.reserve(s.size());\n",
    "        for(auto it = s.rbegin(); it!=s.rend(); it++) {\n",
    "            digits.push_back( *it - '0' );\n",
    "        }\n",
    "    }\n",
    "    Num(std::vector<int> v) : digits(v) {}\n",
    "    ~Num(){}\n",
    "\n",
    "    std::string to_s() { // превращениечисла в строку\n",
    "        std::string res;\n",
    "        res.reserve(digits.size());\n",
    "        for(auto it = digits.rbegin(); it!=digits.rend(); it++) {\n",
    "            res.push_back(static_cast<char>(*it + '0'));\n",
    "        }\n",
    "        return res;\n",
    "    }\n",
    "    \n",
    "    static Num mul(Num a, Num b) { // перемножение столбиком\n",
    "        std::vector<int> r(a.digits.size()+b.digits.size(), 0); // куда положим результат\n",
    "        for(int i = 0; i < a.digits.size(); i++) { \n",
    "            for(int j = 0; j < b.digits.size(); j++){ // запускаем двойной цикл\n",
    "                r[i+j] += a.digits[i] * b.digits[j]; // перемножение со двигом\n",
    "                r[i+j+1] += r[i+j] / 10; // нормируем - переносим больше 10 в следующий разряд\n",
    "                r[i+j] = r[i+j] % 10; // и оставляем только цифру\n",
    "            }\n",
    "        }\n",
    "        if(r[r.size()-1] == 0) r.erase(r.end()-1); // убираем лишний 0\n",
    "        return Num(r);\n",
    "    }\n",
    "    \n",
    "private:\n",
    "    std::vector<int> digits;\n",
    "};"
   ]
  },
  {
   "cell_type": "code",
   "execution_count": 3,
   "metadata": {
    "collapsed": false
   },
   "outputs": [
    {
     "name": "stdout",
     "output_type": "stream",
     "text": [
      "56088\n"
     ]
    },
    {
     "data": {
      "text/plain": [
       "(std::basic_ostream<char, std::char_traits<char> >::__ostream_type &) @0x7f7f2ceef6e0\n"
      ]
     },
     "execution_count": 3,
     "metadata": {},
     "output_type": "execute_result"
    }
   ],
   "source": [
    "std::cout << Num::mul(Num(\"123\"), Num(\"456\")).to_s() << std::endl;"
   ]
  },
  {
   "cell_type": "code",
   "execution_count": 4,
   "metadata": {
    "collapsed": false
   },
   "outputs": [
    {
     "name": "stdout",
     "output_type": "stream",
     "text": [
      "97419253056\n"
     ]
    },
    {
     "data": {
      "text/plain": [
       "(std::basic_ostream<char, std::char_traits<char> >::__ostream_type &) @0x7f7f2ceef6e0\n"
      ]
     },
     "execution_count": 4,
     "metadata": {},
     "output_type": "execute_result"
    }
   ],
   "source": [
    "std::cout << Num::mul(Num(\"123456\"), Num(\"789101\")).to_s() << std::endl;"
   ]
  },
  {
   "cell_type": "markdown",
   "metadata": {},
   "source": [
    "# Умножение Карацубы\n",
    "\n",
    "Для того, чтобы добиться результата лучше чем $n^2$, воспользуемся стратегией \"Раздлеляй и властвуй\".\n",
    "\n",
    "Пусть мы хотим перемножить X и Y. Тогда разделим оба числа на две части по половине (то есть например 123456 поделится на 123 И 456) - $X_1, X_2, Y_1, Y_2$. Заметим, что если во второй части n цифр, то тогда начальные числа выразятся следующим образом:\n",
    "\n",
    "$ X = X_1 \\cdot 10^n + X_2, \\:\\: Y = Y_1 \\cdot 10^n + Y_2$\n",
    "\n",
    "Рассмотрим их произведение\n",
    "\n",
    "$X \\cdot Y = (X_1 \\cdot 10^n + X_2) \\cdot (Y_1 \\cdot 10^n + Y_2) = X_2 \\cdot Y_2 + X_1 \\cdot Y_1 \\cdot 10^{2n} + (X_1 \\cdot Y_2 + Y_1 \\cdot X_2) \\cdot 10^n$\n",
    "\n",
    "Теперь небольшой математический трюк:\n",
    "\n",
    "$ (X_1 + X_2) \\cdot (Y_1 + Y_2) = X_2 \\cdot Y_2 + X_1 \\cdot Y_1 + (X_1 \\cdot Y_2 + Y_1 \\cdot X_2) $\n",
    "\n",
    "А это значит, что \n",
    "\n",
    "$ X_1 \\cdot Y_2 + Y_1 \\cdot X_2 = (X_1 + X_2) \\cdot (Y_1 + Y_2) - X_2 \\cdot Y_2 - X_1 \\cdot Y_1 $\n",
    "\n",
    "А это ведь третье слагаемое в изначальной сумме.\n",
    "\n",
    "Таким образом, если мы вычислим сделующие произведения: $ X_2 \\cdot Y_2 , X_1 \\cdot Y_1 , (X_1 + X_2) \\cdot (Y_1 + Y_2)$, то мы сможем за линейное время восстановить искомое число - сложение производится за n операций, а домножение на $10^n$ - это всего лишь дописывание n нулей в конец числа.\n",
    "\n",
    "Обратите внимание, что нам требуется всего 3 перемножения, вместо 4, которые были изначально. \n",
    "\n",
    "Остается вопрос - как нам вычислить эти три перемножения. Ответ - рекурсивно алгоритмом Карацубы, пока большие числа и классическим алгоритмом, как только числа станут маленькие (например, состоящие всего из 2 цифр).\n",
    "\n",
    "Карацуба доказал, что данный метод, требующий всего 3 умножений вместо 4 на каждом уровне рекурсии требует всего $ \\alpha \\cdot n^{\\log_2{3}} = \\alpha \\cdot n^{1.5849} $, что, как можно видеть, быстрее чем $\\alpha \\cdot n^2$ у классического алгоритма (альфа - какая-то константа)."
   ]
  },
  {
   "cell_type": "code",
   "execution_count": 5,
   "metadata": {
    "collapsed": false
   },
   "outputs": [
    {
     "data": {
      "text/plain": []
     },
     "execution_count": 5,
     "metadata": {},
     "output_type": "execute_result"
    }
   ],
   "source": [
    "class Num2 {\n",
    "public:\n",
    "    Num2() {}\n",
    "    Num2(const Num2& other) : digits(other.digits) {}\n",
    "    Num2(std::string s){\n",
    "        digits.reserve(s.size());\n",
    "        for(auto it = s.rbegin(); it!=s.rend(); it++) {\n",
    "            digits.push_back( *it - '0' );\n",
    "        }\n",
    "    }\n",
    "    Num2(std::vector<int> v) : digits(v) {}\n",
    "    ~Num2(){}\n",
    "\n",
    "    std::string to_s() {\n",
    "        std::string res;\n",
    "        res.reserve(digits.size());\n",
    "        for(auto it = digits.rbegin(); it!=digits.rend(); it++) {\n",
    "            res.push_back(static_cast<char>(*it + '0'));\n",
    "        }\n",
    "        return res;\n",
    "    }\n",
    "\n",
    "    Num2 cleared() { // для очистки от лишних нулей в начале числа\n",
    "        auto it = digits.end()-1;\n",
    "        for(; *it == 0;) it--;\n",
    "        digits.erase(it+1, digits.end());\n",
    "        return Num2(digits);\n",
    "\n",
    "    }\n",
    "\n",
    "    std::tuple<Num2, Num2> partition(int n) { // разобьем число на две части\n",
    "        return std::make_tuple(\n",
    "                Num2(std::vector<int>(digits.end() - n, digits.end())),\n",
    "                Num2(std::vector<int>(digits.begin(), digits.end() - n))\n",
    "        );\n",
    "    }\n",
    "\n",
    "    Num2 pow10(int n) { // домножение на 10^n\n",
    "        std::vector<int> r(n, 0);\n",
    "        std::copy(digits.begin(), digits.end(), std::back_inserter(r));\n",
    "        return Num2(r);\n",
    "    }\n",
    "\n",
    "\n",
    "    static Num2 mul(Num2 a, Num2 b) { // классический алгоритм. Он нам еще пригодится\n",
    "        std::vector<int> r(a.digits.size()+b.digits.size(), 0);\n",
    "        for(int i = 0; i < a.digits.size(); i++) {\n",
    "            for(int j = 0; j < b.digits.size(); j++) {\n",
    "                r[i+j] += a.digits[i] * b.digits[j];\n",
    "                r[i+j+1] += r[i+j] / 10;\n",
    "                r[i+j] = r[i+j] % 10;\n",
    "            }\n",
    "        }\n",
    "        if(r[r.size()-1] == 0) r.erase(r.end()-1);\n",
    "        return Num2(r);\n",
    "    }\n",
    "\n",
    "    static Num2 sum(Num2 a, Num2 b) { // сумма двух чисел\n",
    "        int m = std::max(a.digits.size(), b.digits.size());\n",
    "        std::vector<int> r(m+1, 0);\n",
    "        a.digits.resize(m); b.digits.resize(m);\n",
    "        for(int i = 0; i < m; i++) {\n",
    "            r[i] += a.digits[i]+b.digits[i];\n",
    "            r[i+1] += r[i] / 10;\n",
    "            r[i] = r[i] % 10;\n",
    "        }\n",
    "        if(r[r.size()-1] == 0) r.erase(r.end()-1);\n",
    "        return Num2(r);\n",
    "    }\n",
    "\n",
    "    static Num2 sub(Num2 a, Num2 b) { // a - b\n",
    "        int m = std::max(a.digits.size(), b.digits.size());\n",
    "        std::vector<int> r(m+1, 0);\n",
    "        a.digits.resize(m); b.digits.resize(m);\n",
    "        for(int i = 0; i < m; i++) {\n",
    "            r[i] += a.digits[i]-b.digits[i];\n",
    "            r[i+1] -= r[i] < 0 ? 1 : 0;\n",
    "            r[i] = r[i] < 0 ? 10 + r[i] : r[i];\n",
    "        }\n",
    "        if(r[r.size()-1] == 0) r.erase(r.end()-1);\n",
    "        return Num2(r);\n",
    "    }\n",
    "\n",
    "    static Num2 karazuba(Num2 a, Num2 b) { // перемножение карацубы\n",
    "        if(a.digits.size() < 3 or b.digits.size() < 3) {\n",
    "            return Num2::mul(a, b); // если числа маленькие, что можно воспользоваться классическим алгоритмом\n",
    "        }\n",
    "        int m = std::max(a.digits.size(), b.digits.size());\n",
    "        a.digits.resize(m); b.digits.resize(m); // допишем незначащие нули в начало каждого числа для удобства\n",
    "        // теперь оба числа имеют формально размер m цифр\n",
    "\n",
    "        Num2 x1, x2, y1, y2; \n",
    "        std::tie(x1, x2) = a.partition(m/2); // разобьем наши числа по половине\n",
    "        std::tie(y1, y2) = b.partition(m/2);\n",
    "\n",
    "\n",
    "        Num2 x1y1 = Num2::karazuba(x1, y1); // вычислим рекурсивно все три необходимые произведения\n",
    "        Num2 x2y2 = Num2::karazuba(x2, y2);\n",
    "        Num2 x1y2_y1x2 = Num2::karazuba(Num2::sum(x1, x2), Num2::sum(y1, y2));\n",
    "        x1y2_y1x2 = Num2::sub(x1y2_y1x2, Num2::sum(x1y1, x2y2)); // восстановим третье слагаемое в основной сумме\n",
    "\n",
    "        return Num2::sum(x2y2, Num2::sum(x1y1.pow10( 2*(m-m/2) ), x1y2_y1x2.pow10((m-m/2)))).cleared();\n",
    "        // вернем нужную сумму\n",
    "    }\n",
    "\n",
    "private:\n",
    "    std::vector<int> digits;\n",
    "};\n"
   ]
  },
  {
   "cell_type": "code",
   "execution_count": 7,
   "metadata": {
    "collapsed": false
   },
   "outputs": [
    {
     "name": "stdout",
     "output_type": "stream",
     "text": [
      "97419253056\n"
     ]
    },
    {
     "data": {
      "text/plain": [
       "(std::basic_ostream<char, std::char_traits<char> >::__ostream_type &) @0x7f7f2ceef6e0\n"
      ]
     },
     "execution_count": 7,
     "metadata": {},
     "output_type": "execute_result"
    }
   ],
   "source": [
    "std::cout << Num2::karazuba(Num2(\"123456\"), Num2(\"789101\")).to_s() << std::endl;"
   ]
  },
  {
   "cell_type": "code",
   "execution_count": 8,
   "metadata": {
    "collapsed": false
   },
   "outputs": [
    {
     "name": "stdout",
     "output_type": "stream",
     "text": [
      "974198894961950469\n"
     ]
    },
    {
     "data": {
      "text/plain": [
       "(std::basic_ostream<char, std::char_traits<char> >::__ostream_type &) @0x7f7f2ceef6e0\n"
      ]
     },
     "execution_count": 8,
     "metadata": {},
     "output_type": "execute_result"
    }
   ],
   "source": [
    "std::cout << Num2::karazuba(Num2(\"123456789\"), Num2(\"7891011121\")).to_s() << std::endl;"
   ]
  },
  {
   "cell_type": "markdown",
   "metadata": {},
   "source": [
    "Можете проверить вычисления на кальтуляторе - они все корректные."
   ]
  },
  {
   "cell_type": "code",
   "execution_count": null,
   "metadata": {
    "collapsed": true
   },
   "outputs": [],
   "source": []
  }
 ],
 "metadata": {
  "anaconda-cloud": {},
  "kernelspec": {
   "display_name": "C++",
   "language": "",
   "name": "cling"
  },
  "language_info": {
   "codemirror_mode": "text/x-c++src",
   "file_extension": ".c++",
   "mimetype": " text/x-c++src",
   "name": "c++"
  }
 },
 "nbformat": 4,
 "nbformat_minor": 1
}
