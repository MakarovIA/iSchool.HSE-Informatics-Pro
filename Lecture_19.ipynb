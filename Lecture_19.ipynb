{
 "cells": [
  {
   "cell_type": "markdown",
   "metadata": {},
   "source": [
    "# Кратчайшее растояние на графе\n",
    "\n",
    "Задача поиска самого короткого расстояния на графе встречается очень часто и сама по себе очень естественна - дорожная сеть может быть представлена в виде графа, узлы в интернет сети также представляются некоторым графом и для их анализа часто требуется найти наименьшее растояние от одного узла до другого."
   ]
  },
  {
   "cell_type": "code",
   "execution_count": 1,
   "metadata": {
    "collapsed": false
   },
   "outputs": [
    {
     "data": {
      "text/plain": []
     },
     "execution_count": 1,
     "metadata": {},
     "output_type": "execute_result"
    }
   ],
   "source": [
    "#include <fstream>\n",
    "#include <vector>\n",
    "#include <iostream>\n",
    "#include <algorithm>\n",
    "#include <queue> \n",
    "#include <climits>\n",
    "#include <set>"
   ]
  },
  {
   "cell_type": "code",
   "execution_count": 2,
   "metadata": {
    "collapsed": false
   },
   "outputs": [
    {
     "data": {
      "text/plain": []
     },
     "execution_count": 2,
     "metadata": {},
     "output_type": "execute_result"
    }
   ],
   "source": [
    "void print_file(std::string f) { // печать файла для наглядности\n",
    "    std::ifstream file(f);\n",
    "    std::string s;\n",
    "    while(std::getline(file, s)) {\n",
    "        std::cout << s << std::endl;\n",
    "    }\n",
    "}"
   ]
  },
  {
   "cell_type": "code",
   "execution_count": 3,
   "metadata": {
    "collapsed": false
   },
   "outputs": [
    {
     "data": {
      "text/plain": []
     },
     "execution_count": 3,
     "metadata": {},
     "output_type": "execute_result"
    }
   ],
   "source": [
    "class Vertex;\n",
    "\n",
    "class Edge { // класс ребра\n",
    "public:\n",
    "    Edge(Vertex* vert) : vertex(vert), lenght(1) {}\n",
    "    Edge(Vertex* vert, int len) : vertex(vert), lenght(len) {}\n",
    "    ~Edge() {}\n",
    "    \n",
    "    Vertex* vertex;\n",
    "    int lenght;\n",
    "};\n",
    "\n",
    "class Vertex { // класс вершины\n",
    "public:\n",
    "    Vertex(int i) : id(i), value(0) {}\n",
    "    ~Vertex(){\n",
    "        for(Edge* e : neighbours) delete e;\n",
    "    }\n",
    "\n",
    "    void connectOneside(Vertex * vertex, int len) {\n",
    "        neighbours.push_back(new Edge(vertex, len));\n",
    "    }\n",
    "\n",
    "    void connectTwoside(Vertex * vertex, int len) {\n",
    "        neighbours.push_back(new Edge(vertex, len));\n",
    "        vertex->connectOneside(this, len);\n",
    "    }\n",
    "\n",
    "    int id;\n",
    "    int value; // ячейка для хранения какого-то значения в вершине\n",
    "    std::vector<Edge*> neighbours; // вершины, с которыми связана эта вершина\n",
    "};\n",
    "\n",
    "class Graph { // класс графа\n",
    "public:\n",
    "    Graph() {}\n",
    "    Graph(int size) { // создать граф размена size\n",
    "        vertexes.reserve(size);\n",
    "        for(int i = 0; i < size; i++) {\n",
    "            vertexes.push_back(new Vertex(i));\n",
    "        }\n",
    "    }\n",
    "    \n",
    "    Graph(std::string path) {\n",
    "        readFromFile(path);\n",
    "    }\n",
    "    ~Graph(){\n",
    "        for(Vertex * v : vertexes) delete v;\n",
    "    }\n",
    "\n",
    "    Vertex * at(int index) { // получить вершину по id\n",
    "        return vertexes.at(index);\n",
    "    }\n",
    "\n",
    "    void readFromFile(std::string path) { // Формат: 2 -> 3 или 2 <-> 3. Это означает, что 2 вершина соединена с 3\n",
    "        std::ifstream file(path);\n",
    "        \n",
    "        int size;\n",
    "        file >> size;\n",
    "        \n",
    "        vertexes.reserve(size);\n",
    "        for(int i = 0; i < size; i++) {\n",
    "            vertexes.push_back(new Vertex(i+1));\n",
    "        }\n",
    "\n",
    "        int id1, id2, len;\n",
    "        std::string type;\n",
    "        while(file >> id1 >> type >> id2 >> len) {\n",
    "            if(type == \"->\") vertexes[id1-1]->connectOneside(vertexes[id2-1], len);\n",
    "            else if(type == \"<->\") vertexes[id1-1]->connectTwoside(vertexes[id2-1], len);\n",
    "        }\n",
    "    }\n",
    "\n",
    "    std::vector<Vertex*> vertexes; // вершины графа\n",
    "};"
   ]
  },
  {
   "cell_type": "markdown",
   "metadata": {},
   "source": [
    "# Волновой алгоритм\n",
    "\n",
    "Самым простым и понятным алгоритмом является волновой алгоритм. Для его работы растояния между соседними вершинами должно равнятся 1 - то есть под расстоянием между двумя вершинами мы понимаем количество переходов по вершинам графа. \n",
    "\n",
    "Идея данного алгоритма следующая - \n",
    "* Из начальной точки мы запускаем \"волну\". То есть как в поиске в ширину мы сделаем шаг во все соседние вершины. \n",
    "* Пометим, что расстояние до них равняется 1. \n",
    "* Далее из этих вершин сделаем еще один шаг в те вершины, до которых мы еще не доходили - расстояние до них будет равнятся 2. \n",
    "* И будем распространять эту \"волну\" до тех пор, пока не обойдем весь граф."
   ]
  },
  {
   "cell_type": "markdown",
   "metadata": {},
   "source": [
    "Иллюстрация работы алгоритма:\n",
    "<img src=\"https://pp.userapi.com/c626120/v626120858/52390/zwzvC9rp94E.jpg\">"
   ]
  },
  {
   "cell_type": "code",
   "execution_count": 4,
   "metadata": {
    "collapsed": false
   },
   "outputs": [
    {
     "data": {
      "text/plain": []
     },
     "execution_count": 4,
     "metadata": {},
     "output_type": "execute_result"
    }
   ],
   "source": [
    "void wave_search(Graph& g, Vertex* start) {\n",
    "    for(Vertex * s : g.vertexes) s->value = -1; // вершины, которые мы еще не посетили\n",
    "    std::queue<Vertex *> q; // очередь вершин, которые нужно пройти\n",
    "    q.push(start);\n",
    "    q.front()->value = 0; // начальная вершина\n",
    "    while(!q.empty()) {\n",
    "        Vertex * v = q.front(); // берем следующую вершину\n",
    "        q.pop();\n",
    "        \n",
    "        for(Edge * w : v->neighbours) {\n",
    "            if(w->vertex->value == -1) {\n",
    "                w->vertex->value = v->value + 1; // помечаем вершину\n",
    "                q.push(w->vertex); // добавляем в очередь к просмотру\n",
    "            }\n",
    "            // иначе ничего не делаем с вершиной\n",
    "        }\n",
    "    }\n",
    "}"
   ]
  },
  {
   "cell_type": "markdown",
   "metadata": {},
   "source": [
    "<img src=\"https://upload.wikimedia.org/wikipedia/commons/5/5b/6n-graf.svg\">\n",
    "\n",
    "Автор: <a href=\"//commons.wikimedia.org/wiki/User:AzaToth\" title=\"User:AzaToth\">User:AzaToth</a> - <a href=\"//commons.wikimedia.org/wiki/File:6n-graf.png\" title=\"File:6n-graf.png\">Image:6n-graf.png</a> simlar input data, Общественное достояние, <a href=\"https://commons.wikimedia.org/w/index.php?curid=820489\">Ссылка</a>\n",
    "\n",
    "Граф 1"
   ]
  },
  {
   "cell_type": "code",
   "execution_count": 5,
   "metadata": {
    "collapsed": false
   },
   "outputs": [
    {
     "name": "stdout",
     "output_type": "stream",
     "text": [
      "6\n",
      "1 <-> 2 1\n",
      "1 <-> 5 1\n",
      "2 <-> 5 1\n",
      "2 <-> 3 1\n",
      "4 <-> 5 1\n",
      "4 <-> 3 1\n",
      "4 <-> 6 1\n"
     ]
    },
    {
     "data": {
      "text/plain": [
       "(Graph &) @0x7f2c1da29010\n"
      ]
     },
     "execution_count": 5,
     "metadata": {},
     "output_type": "execute_result"
    }
   ],
   "source": [
    "print_file(\"files/6.graph\"); // граф 1 (рисунок выше)\n",
    "\n",
    "Graph g6(\"files/6.graph\");"
   ]
  },
  {
   "cell_type": "code",
   "execution_count": 6,
   "metadata": {
    "collapsed": false
   },
   "outputs": [
    {
     "data": {
      "text/plain": [
       "(void) nullptr\n"
      ]
     },
     "execution_count": 6,
     "metadata": {},
     "output_type": "execute_result"
    }
   ],
   "source": [
    "wave_search(g6, g6.vertexes[0]); // найдем пути из первой вершины"
   ]
  },
  {
   "cell_type": "code",
   "execution_count": 7,
   "metadata": {
    "collapsed": false
   },
   "outputs": [
    {
     "name": "stdout",
     "output_type": "stream",
     "text": [
      "From vertex 1 to 1 0 steps\n",
      "From vertex 1 to 2 1 steps\n",
      "From vertex 1 to 3 2 steps\n",
      "From vertex 1 to 4 2 steps\n",
      "From vertex 1 to 5 1 steps\n",
      "From vertex 1 to 6 3 steps\n"
     ]
    },
    {
     "data": {
      "text/plain": []
     },
     "execution_count": 7,
     "metadata": {},
     "output_type": "execute_result"
    }
   ],
   "source": [
    "for(Vertex * v : g6.vertexes) {\n",
    "    std::cout << \"From vertex 1 to \" << v->id << \" \" << v->value << \" steps\" << std::endl;\n",
    "}"
   ]
  },
  {
   "cell_type": "markdown",
   "metadata": {},
   "source": [
    "Данный алгоритм является одним из самый простых в реализации и одним из самых быстрых, если требуется найти кратчайшее расстояние от одной вершины до всех остальных. Однако он накладывает определеные ограничения на граф. Для решения этой же задачи на более сложных графах используют более продвинутые алгоритмы."
   ]
  },
  {
   "cell_type": "markdown",
   "metadata": {},
   "source": [
    "# Алгоритм Дейкстры\n",
    "\n",
    "Данный алгоритм способен найти кратчайший путь из одной вершины до всех остальных, однако теперь растояние между двумя соседними вершиными может быть произвольным (но больше 0). \n",
    "\n",
    "Идея данного алгоритма очень похожа на волновой алгоритм - мы также идем из вершины в соседние и выставляем им расстояние до них. Однако теперь меняется подход того, как именно мы выбираем следующую вершину:\n",
    "\n",
    "* Изначально выставим бесконечно большое расстояние до всех вершин, кроме начальной - ей выставим 0\n",
    "* Далее возьмем вершину с минимальным расстоянием до нее (на первой итерации это и будет начальная)\n",
    "* Пометим ее, как пройденную и далее будем пересчитывать расстояние для всех ее соседей, в которые мы еще не приходили\n",
    "* Если вычисленное до этого расстояние до соседа меньше, чем расстояние до текущей + длина самого ребра, то это значит, что мы нашли более короткий путь до этого соседа => обновим расстояние до него.\n",
    "* Будем продолжать это делать до тех пор, пока еще есть не пройденные вершины"
   ]
  },
  {
   "cell_type": "code",
   "execution_count": 8,
   "metadata": {
    "collapsed": false
   },
   "outputs": [
    {
     "data": {
      "text/plain": []
     },
     "execution_count": 8,
     "metadata": {},
     "output_type": "execute_result"
    }
   ],
   "source": [
    "class vertex_comparator {\n",
    "public:\n",
    "    bool operator() (const Vertex* a, const Vertex* b) const {\n",
    "        if(a->value == b->value) return a < b;\n",
    "        return a->value < b->value;\n",
    "    }\n",
    "};"
   ]
  },
  {
   "cell_type": "code",
   "execution_count": 9,
   "metadata": {
    "collapsed": false
   },
   "outputs": [
    {
     "data": {
      "text/plain": []
     },
     "execution_count": 9,
     "metadata": {},
     "output_type": "execute_result"
    }
   ],
   "source": [
    "void dijkstra_search(Graph& g, Vertex* start) {\n",
    "    for(Vertex * s : g.vertexes) s->value = INT_MAX;\n",
    "    start->value = 0;\n",
    "    std::set<Vertex*, vertex_comparator> priority_set(g.vertexes.begin(), g.vertexes.end()); // множество позволит\n",
    "    // быстро получать минимальный элемент \n",
    "    // вместо него также можно было использовать очередь с приоритетом\n",
    "    while(priority_set.size() > 0) { \n",
    "        Vertex* v = *priority_set.begin();\n",
    "        priority_set.erase(priority_set.begin());\n",
    "        \n",
    "        for(Edge * w : v->neighbours) { \n",
    "            if(priority_set.count(w->vertex) > 0) { // если эта вершина еще не просмотрена\n",
    "                if(w->vertex->value > v->value + w->lenght) { // если шали путь быстрее\n",
    "                    priority_set.erase(w->vertex); // обновляем значение \n",
    "                    w->vertex->value = v->value + w->lenght;\n",
    "                    priority_set.insert(w->vertex);\n",
    "                }\n",
    "            }\n",
    "            // иначе ничего не делаем с вершиной\n",
    "        }\n",
    "    }\n",
    "}"
   ]
  },
  {
   "cell_type": "markdown",
   "metadata": {},
   "source": [
    "<img src=\"https://upload.wikimedia.org/wikipedia/commons/d/de/Dijkstra_graph0.PNG\">\n",
    "Автор: Anatoly Gorbunov - <span class=\"int-own-work\" lang=\"ru\">собственная работа</span>, <a href=\"http://creativecommons.org/licenses/by-sa/3.0/\" title=\"Creative Commons Attribution-Share Alike 3.0\">CC BY-SA 3.0</a>, <a href=\"https://commons.wikimedia.org/w/index.php?curid=751862\">Ссылка</a>\n",
    "\n",
    "Граф 2"
   ]
  },
  {
   "cell_type": "code",
   "execution_count": 10,
   "metadata": {
    "collapsed": false
   },
   "outputs": [
    {
     "name": "stdout",
     "output_type": "stream",
     "text": [
      "6\n",
      "1 <-> 2 7\n",
      "1 <-> 3 9\n",
      "1 <-> 6 14\n",
      "2 <-> 3 10\n",
      "2 <-> 4 15\n",
      "3 <-> 4 11\n",
      "3 <-> 6 2\n",
      "4 <-> 5 6\n",
      "5 <-> 6 9\n"
     ]
    },
    {
     "data": {
      "text/plain": [
       "(Graph &) @0x7f2c1da29040\n"
      ]
     },
     "execution_count": 10,
     "metadata": {},
     "output_type": "execute_result"
    }
   ],
   "source": [
    "print_file(\"files/7.graph\"); // граф 2 (рисунок выше)\n",
    "\n",
    "Graph g7(\"files/7.graph\");"
   ]
  },
  {
   "cell_type": "code",
   "execution_count": 11,
   "metadata": {
    "collapsed": false
   },
   "outputs": [
    {
     "data": {
      "text/plain": [
       "(void) nullptr\n"
      ]
     },
     "execution_count": 11,
     "metadata": {},
     "output_type": "execute_result"
    }
   ],
   "source": [
    "dijkstra_search(g7, g7.vertexes[0]); // найдем пути из первой вершины"
   ]
  },
  {
   "cell_type": "markdown",
   "metadata": {},
   "source": [
    "Демонстрация работы данного алгоритма на графе 2\n",
    "<img src=\"https://upload.wikimedia.org/wikipedia/commons/5/57/Dijkstra_Animation.gif\">\n",
    "Автор: <a href=\"//commons.wikimedia.org/w/index.php?title=User:Ibmua&amp;action=edit&amp;redlink=1\" class=\"new\" title=\"User:Ibmua (page does not exist)\">Ibmua</a> - Work by uploader., Общественное достояние, <a href=\"https://commons.wikimedia.org/w/index.php?curid=6282617\">Ссылка</a>"
   ]
  },
  {
   "cell_type": "code",
   "execution_count": 12,
   "metadata": {
    "collapsed": false
   },
   "outputs": [
    {
     "name": "stdout",
     "output_type": "stream",
     "text": [
      "From vertex 1 to 1 0 steps\n",
      "From vertex 1 to 2 7 steps\n",
      "From vertex 1 to 3 9 steps\n",
      "From vertex 1 to 4 20 steps\n",
      "From vertex 1 to 5 20 steps\n",
      "From vertex 1 to 6 11 steps\n"
     ]
    },
    {
     "data": {
      "text/plain": []
     },
     "execution_count": 12,
     "metadata": {},
     "output_type": "execute_result"
    }
   ],
   "source": [
    "for(Vertex * v : g7.vertexes) {\n",
    "    std::cout << \"From vertex 1 to \" << v->id << \" \" << v->value << \" steps\" << std::endl;\n",
    "}"
   ]
  },
  {
   "cell_type": "markdown",
   "metadata": {},
   "source": [
    "# Алгоритм Флойда-Уоршелла\n",
    "\n",
    "Предыдущие алгориты решали задачу нахождения наикротчайшего пути из одной точки во все остальные. Однако иногда требуется знать кратчайший путь из каждой вершины в каждую. Данную задачу можно решить используя тот же алгоритм дейкстры для каждой вершины, однако данный алгоритм позволяет решить данную задачу эффективнее.\n",
    "\n",
    "Идея алгоритма в следующем - он строит специальную матрицу, в которой на i, j месте будет стоять минимальное расстояние от i-той вершины до j-той.\n",
    "\n",
    "* Изначально берется изначальная смежная матрица\n",
    "* Далее она модифицируется следующим образом \n",
    " * Производится n итераций.\n",
    " * На каждой итерации пересчитывается каждая клетка этой матрицы следующим образом: <img src=\"https://wikimedia.org/api/rest_v1/media/math/render/svg/676d21e5f1ba61d05ac7ad931c84d15cd3e95735\">\n",
    "* По завершении итераций мы получим матрицу с минимальными расстояниями"
   ]
  },
  {
   "cell_type": "code",
   "execution_count": 13,
   "metadata": {
    "collapsed": false
   },
   "outputs": [
    {
     "data": {
      "text/plain": []
     },
     "execution_count": 13,
     "metadata": {},
     "output_type": "execute_result"
    }
   ],
   "source": [
    "class DenceGraph {\n",
    "public:\n",
    "    DenceGraph(std::string path) {\n",
    "        readFromFile(path);\n",
    "    }\n",
    "    ~DenceGraph(){}\n",
    "    \n",
    "    void readFromFile(std::string path) { // Формат: 2 -> 3 или 2 <-> 3. Это означает, что 2 вершина соединена с 3\n",
    "        std::ifstream file(path);\n",
    "        \n",
    "        int size;\n",
    "        file >> size;\n",
    "        \n",
    "        vertexes = std::vector< std::vector<int> > (size, std::vector<int>(size, INT_MAX/3));\n",
    "        for(int i = 0; i < size; i++) vertexes[i][i] = 0;\n",
    "\n",
    "        int id1, id2, len;\n",
    "        std::string type;\n",
    "        while(file >> id1 >> type >> id2 >> len) {\n",
    "            vertexes[id1-1][id2-1] = len;\n",
    "            vertexes[id2-1][id1-1] = len;\n",
    "        }\n",
    "    }\n",
    "    \n",
    "    std::vector<std::vector<int>> vertexes;\n",
    "};"
   ]
  },
  {
   "cell_type": "code",
   "execution_count": 14,
   "metadata": {
    "collapsed": false
   },
   "outputs": [
    {
     "data": {
      "text/plain": []
     },
     "execution_count": 14,
     "metadata": {},
     "output_type": "execute_result"
    }
   ],
   "source": [
    "void floyd_warshall_search(DenceGraph &g) {\n",
    "    int n = g.vertexes.size();\n",
    "    for(int k = 0; k < n; k++) {\n",
    "        for(int i = 0; i < n; i++) {\n",
    "            for(int j = 0; j < n; j++) {\n",
    "                g.vertexes[i][j] = std::min(g.vertexes[i][j], g.vertexes[i][k]+g.vertexes[k][j]);\n",
    "            }\n",
    "        }\n",
    "    }\n",
    "}"
   ]
  },
  {
   "cell_type": "code",
   "execution_count": 15,
   "metadata": {
    "collapsed": false
   },
   "outputs": [
    {
     "name": "stdout",
     "output_type": "stream",
     "text": [
      "6\n",
      "1 <-> 2 7\n",
      "1 <-> 3 9\n",
      "1 <-> 6 14\n",
      "2 <-> 3 10\n",
      "2 <-> 4 15\n",
      "3 <-> 4 11\n",
      "3 <-> 6 2\n",
      "4 <-> 5 6\n",
      "5 <-> 6 9\n"
     ]
    },
    {
     "data": {
      "text/plain": [
       "(DenceGraph &) @0x7f2c1da29060\n"
      ]
     },
     "execution_count": 15,
     "metadata": {},
     "output_type": "execute_result"
    }
   ],
   "source": [
    "print_file(\"files/7.graph\"); // будет использовать тот же граф 2 (рисунок выше)\n",
    "\n",
    "DenceGraph g8(\"files/7.graph\");"
   ]
  },
  {
   "cell_type": "code",
   "execution_count": 16,
   "metadata": {
    "collapsed": false
   },
   "outputs": [
    {
     "data": {
      "text/plain": [
       "(void) @0x7ffdfebda380\n"
      ]
     },
     "execution_count": 16,
     "metadata": {},
     "output_type": "execute_result"
    }
   ],
   "source": [
    "floyd_warshall_search(g8);"
   ]
  },
  {
   "cell_type": "code",
   "execution_count": 17,
   "metadata": {
    "collapsed": false
   },
   "outputs": [
    {
     "name": "stdout",
     "output_type": "stream",
     "text": [
      "From vertex 1 to 1 0 steps\n",
      "From vertex 1 to 2 7 steps\n",
      "From vertex 1 to 3 9 steps\n",
      "From vertex 1 to 4 20 steps\n",
      "From vertex 1 to 5 20 steps\n",
      "From vertex 1 to 6 11 steps\n",
      "From vertex 2 to 1 7 steps\n",
      "From vertex 2 to 2 0 steps\n",
      "From vertex 2 to 3 10 steps\n",
      "From vertex 2 to 4 15 steps\n",
      "From vertex 2 to 5 21 steps\n",
      "From vertex 2 to 6 12 steps\n",
      "From vertex 3 to 1 9 steps\n",
      "From vertex 3 to 2 10 steps\n",
      "From vertex 3 to 3 0 steps\n",
      "From vertex 3 to 4 11 steps\n",
      "From vertex 3 to 5 11 steps\n",
      "From vertex 3 to 6 2 steps\n",
      "From vertex 4 to 1 20 steps\n",
      "From vertex 4 to 2 15 steps\n",
      "From vertex 4 to 3 11 steps\n",
      "From vertex 4 to 4 0 steps\n",
      "From vertex 4 to 5 6 steps\n",
      "From vertex 4 to 6 13 steps\n",
      "From vertex 5 to 1 20 steps\n",
      "From vertex 5 to 2 21 steps\n",
      "From vertex 5 to 3 11 steps\n",
      "From vertex 5 to 4 6 steps\n",
      "From vertex 5 to 5 0 steps\n",
      "From vertex 5 to 6 9 steps\n",
      "From vertex 6 to 1 11 steps\n",
      "From vertex 6 to 2 12 steps\n",
      "From vertex 6 to 3 2 steps\n",
      "From vertex 6 to 4 13 steps\n",
      "From vertex 6 to 5 9 steps\n",
      "From vertex 6 to 6 0 steps\n"
     ]
    },
    {
     "data": {
      "text/plain": []
     },
     "execution_count": 17,
     "metadata": {},
     "output_type": "execute_result"
    }
   ],
   "source": [
    "for(int i = 0; i < g8.vertexes.size(); i++) {\n",
    "    for(int j = 0; j < g8.vertexes.size(); j++) {\n",
    "        std::cout << \"From vertex \" << i + 1 << \" to \" << j + 1 << \" \" << g8.vertexes[i][j] << \" steps\" << std::endl;\n",
    "    }\n",
    "}"
   ]
  },
  {
   "cell_type": "markdown",
   "metadata": {},
   "source": [
    "Как можно заметить, пути из первой вершины полностью совпали с результатом работы алгоритма дейкстры. Однако теперь мы получили гораздо больше информации о графе."
   ]
  },
  {
   "cell_type": "code",
   "execution_count": null,
   "metadata": {
    "collapsed": true
   },
   "outputs": [],
   "source": []
  }
 ],
 "metadata": {
  "anaconda-cloud": {},
  "kernelspec": {
   "display_name": "C++",
   "language": "",
   "name": "cling"
  },
  "language_info": {
   "codemirror_mode": "text/x-c++src",
   "file_extension": ".c++",
   "mimetype": " text/x-c++src",
   "name": "c++"
  }
 },
 "nbformat": 4,
 "nbformat_minor": 1
}
